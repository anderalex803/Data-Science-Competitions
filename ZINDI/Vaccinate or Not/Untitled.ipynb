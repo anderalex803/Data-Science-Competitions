{
 "cells": [
  {
   "cell_type": "code",
   "execution_count": 227,
   "metadata": {},
   "outputs": [],
   "source": [
    "import numpy as np\n",
    "import pandas as pd\n",
    "import matplotlib.pyplot as plt\n",
    "import seaborn as sns\n",
    "import sklearn.metrics as sklm\n",
    "import xgboost as xgb\n",
    "import matplotlib\n",
    "import lightgbm as lgb\n",
    "from tqdm import tqdm\n",
    "from sklearn.svm import SVC\n",
    "from sklearn import preprocessing, decomposition, model_selection, metrics, pipeline\n",
    "from sklearn.model_selection import GridSearchCV\n",
    "from sklearn.feature_extraction.text import TfidfVectorizer, CountVectorizer\n",
    "from sklearn.decomposition import TruncatedSVD\n",
    "from sklearn.linear_model import LogisticRegression\n",
    "from sklearn.model_selection import train_test_split\n",
    "from sklearn.model_selection import StratifiedKFold\n",
    "from sklearn.naive_bayes import MultinomialNB\n",
    "from nltk import word_tokenize\n",
    "from nltk.corpus import stopwords\n",
    "stop_words = stopwords.words('english')"
   ]
  },
  {
   "cell_type": "code",
   "execution_count": 138,
   "metadata": {},
   "outputs": [],
   "source": [
    "train = pd.read_csv('Train.csv')\n",
    "test = pd.read_csv('Test.csv')\n",
    "submissions = pd.read_csv('SampleSubmission.csv')"
   ]
  },
  {
   "cell_type": "code",
   "execution_count": 139,
   "metadata": {},
   "outputs": [
    {
     "name": "stdout",
     "output_type": "stream",
     "text": [
      "(10001, 4)\n",
      "(5177, 2)\n"
     ]
    }
   ],
   "source": [
    "print(train.shape)\n",
    "print(test.shape)"
   ]
  },
  {
   "cell_type": "code",
   "execution_count": 84,
   "metadata": {},
   "outputs": [],
   "source": [
    "traincols = list(train.columns)\n",
    "testcols = list(test.columns)\n",
    "#print(traincols)\n",
    "#print(testcols)"
   ]
  },
  {
   "cell_type": "code",
   "execution_count": 6,
   "metadata": {},
   "outputs": [
    {
     "data": {
      "text/html": [
       "<div>\n",
       "<style scoped>\n",
       "    .dataframe tbody tr th:only-of-type {\n",
       "        vertical-align: middle;\n",
       "    }\n",
       "\n",
       "    .dataframe tbody tr th {\n",
       "        vertical-align: top;\n",
       "    }\n",
       "\n",
       "    .dataframe thead th {\n",
       "        text-align: right;\n",
       "    }\n",
       "</style>\n",
       "<table border=\"1\" class=\"dataframe\">\n",
       "  <thead>\n",
       "    <tr style=\"text-align: right;\">\n",
       "      <th></th>\n",
       "      <th>tweet_id</th>\n",
       "      <th>safe_text</th>\n",
       "      <th>label</th>\n",
       "      <th>agreement</th>\n",
       "    </tr>\n",
       "  </thead>\n",
       "  <tbody>\n",
       "    <tr>\n",
       "      <th>0</th>\n",
       "      <td>CL1KWCMY</td>\n",
       "      <td>Me &amp;amp; The Big Homie meanboy3000 #MEANBOY #M...</td>\n",
       "      <td>0.0</td>\n",
       "      <td>1.0</td>\n",
       "    </tr>\n",
       "    <tr>\n",
       "      <th>1</th>\n",
       "      <td>E3303EME</td>\n",
       "      <td>I'm 100% thinking of devoting my career to pro...</td>\n",
       "      <td>1.0</td>\n",
       "      <td>1.0</td>\n",
       "    </tr>\n",
       "    <tr>\n",
       "      <th>2</th>\n",
       "      <td>M4IVFSMS</td>\n",
       "      <td>#whatcausesautism VACCINES, DO NOT VACCINATE Y...</td>\n",
       "      <td>-1.0</td>\n",
       "      <td>1.0</td>\n",
       "    </tr>\n",
       "    <tr>\n",
       "      <th>3</th>\n",
       "      <td>1DR6ROZ4</td>\n",
       "      <td>I mean if they immunize my kid with something ...</td>\n",
       "      <td>-1.0</td>\n",
       "      <td>1.0</td>\n",
       "    </tr>\n",
       "    <tr>\n",
       "      <th>4</th>\n",
       "      <td>J77ENIIE</td>\n",
       "      <td>Thanks to &lt;user&gt; Catch me performing at La Nui...</td>\n",
       "      <td>0.0</td>\n",
       "      <td>1.0</td>\n",
       "    </tr>\n",
       "  </tbody>\n",
       "</table>\n",
       "</div>"
      ],
      "text/plain": [
       "   tweet_id                                          safe_text  label  \\\n",
       "0  CL1KWCMY  Me &amp; The Big Homie meanboy3000 #MEANBOY #M...    0.0   \n",
       "1  E3303EME  I'm 100% thinking of devoting my career to pro...    1.0   \n",
       "2  M4IVFSMS  #whatcausesautism VACCINES, DO NOT VACCINATE Y...   -1.0   \n",
       "3  1DR6ROZ4  I mean if they immunize my kid with something ...   -1.0   \n",
       "4  J77ENIIE  Thanks to <user> Catch me performing at La Nui...    0.0   \n",
       "\n",
       "   agreement  \n",
       "0        1.0  \n",
       "1        1.0  \n",
       "2        1.0  \n",
       "3        1.0  \n",
       "4        1.0  "
      ]
     },
     "execution_count": 6,
     "metadata": {},
     "output_type": "execute_result"
    }
   ],
   "source": [
    "train.head()"
   ]
  },
  {
   "cell_type": "code",
   "execution_count": 141,
   "metadata": {},
   "outputs": [
    {
     "data": {
      "text/plain": [
       "tweet_id     0\n",
       "safe_text    0\n",
       "dtype: int64"
      ]
     },
     "execution_count": 141,
     "metadata": {},
     "output_type": "execute_result"
    }
   ],
   "source": [
    "test = test.fillna('It was a good movie')\n",
    "test.isna().sum()"
   ]
  },
  {
   "cell_type": "code",
   "execution_count": 86,
   "metadata": {},
   "outputs": [],
   "source": [
    "y = np.array(train['label'])"
   ]
  },
  {
   "cell_type": "code",
   "execution_count": 124,
   "metadata": {},
   "outputs": [],
   "source": [
    "def multiclass_logloss(actual, predicted, eps=1e-15):\n",
    "    \"\"\"Multi class version of Logarithmic Loss metric.\n",
    "    :param actual: Array containing the actual target classes\n",
    "    :param predicted: Matrix with class predictions, one probability per class\n",
    "    \"\"\"\n",
    "    # Convert 'actual' to a binary array if it's not already:\n",
    "    if len(actual.shape) == 1:\n",
    "        actual2 = np.zeros((actual.shape[0], predicted.shape[1]))\n",
    "        for i, val in enumerate(actual):\n",
    "            actual2[i, val] = 1\n",
    "        actual = actual2\n",
    "\n",
    "    clip = np.clip(predicted, eps, 1 - eps)\n",
    "    rows = actual.shape[0]\n",
    "    vsota = np.sum(actual * np.log(clip))\n",
    "    return -1.0 / rows * vsota"
   ]
  },
  {
   "cell_type": "code",
   "execution_count": 87,
   "metadata": {},
   "outputs": [],
   "source": [
    "from sklearn.model_selection import train_test_split\n",
    "xtrain, xvalid, ytrain, yvalid = train_test_split(train.safe_text.values, y, \n",
    "                                                  stratify=y, \n",
    "                                                  random_state=42, test_size=0.2, shuffle=True)"
   ]
  },
  {
   "cell_type": "code",
   "execution_count": 118,
   "metadata": {},
   "outputs": [],
   "source": [
    "tfv = TfidfVectorizer(min_df=3,  max_features=None, \n",
    "            strip_accents='unicode', analyzer='word',token_pattern=r'\\w{1,}',\n",
    "            ngram_range=(1,1), use_idf=1,smooth_idf=1,sublinear_tf=1,\n",
    "            stop_words = 'english')"
   ]
  },
  {
   "cell_type": "code",
   "execution_count": 180,
   "metadata": {},
   "outputs": [],
   "source": [
    "tfv.fit(x_train)\n",
    "x_train_tfv =  tfv.transform(x_train1)\n",
    "x_test_tfv = tfv.transform(x_test1)\n",
    "\n",
    "#tfv.fit(list(test.safe_text.values))\n",
    "#test_enc = tfv.transform(test.safe_text.values)"
   ]
  },
  {
   "cell_type": "code",
   "execution_count": 156,
   "metadata": {},
   "outputs": [
    {
     "ename": "ValueError",
     "evalue": "X has 4047 features per sample; expecting 144730",
     "output_type": "error",
     "traceback": [
      "\u001b[1;31m---------------------------------------------------------------------------\u001b[0m",
      "\u001b[1;31mValueError\u001b[0m                                Traceback (most recent call last)",
      "\u001b[1;32m<ipython-input-156-165aad9ca92f>\u001b[0m in \u001b[0;36m<module>\u001b[1;34m()\u001b[0m\n\u001b[0;32m      1\u001b[0m \u001b[1;31m#test_enc = tfv.transform(test.safe_text.values)\u001b[0m\u001b[1;33m\u001b[0m\u001b[1;33m\u001b[0m\u001b[0m\n\u001b[1;32m----> 2\u001b[1;33m \u001b[0mpred\u001b[0m \u001b[1;33m=\u001b[0m \u001b[0mclf\u001b[0m\u001b[1;33m.\u001b[0m\u001b[0mpredict\u001b[0m\u001b[1;33m(\u001b[0m\u001b[0mx_test_tfv\u001b[0m\u001b[1;33m)\u001b[0m\u001b[1;33m\u001b[0m\u001b[0m\n\u001b[0m\u001b[0;32m      3\u001b[0m \u001b[1;33m\u001b[0m\u001b[0m\n\u001b[0;32m      4\u001b[0m \u001b[0mprint\u001b[0m\u001b[1;33m(\u001b[0m\u001b[0mxtrain_tfv\u001b[0m\u001b[1;33m.\u001b[0m\u001b[0mshape\u001b[0m\u001b[1;33m)\u001b[0m\u001b[1;33m\u001b[0m\u001b[0m\n\u001b[0;32m      5\u001b[0m \u001b[0mprint\u001b[0m\u001b[1;33m(\u001b[0m\u001b[0myvalid\u001b[0m\u001b[1;33m.\u001b[0m\u001b[0mshape\u001b[0m\u001b[1;33m)\u001b[0m\u001b[1;33m\u001b[0m\u001b[0m\n",
      "\u001b[1;32m~\\Anaconda3\\lib\\site-packages\\sklearn\\linear_model\\base.py\u001b[0m in \u001b[0;36mpredict\u001b[1;34m(self, X)\u001b[0m\n\u001b[0;32m    322\u001b[0m             \u001b[0mPredicted\u001b[0m \u001b[1;32mclass\u001b[0m \u001b[0mlabel\u001b[0m \u001b[0mper\u001b[0m \u001b[0msample\u001b[0m\u001b[1;33m.\u001b[0m\u001b[1;33m\u001b[0m\u001b[0m\n\u001b[0;32m    323\u001b[0m         \"\"\"\n\u001b[1;32m--> 324\u001b[1;33m         \u001b[0mscores\u001b[0m \u001b[1;33m=\u001b[0m \u001b[0mself\u001b[0m\u001b[1;33m.\u001b[0m\u001b[0mdecision_function\u001b[0m\u001b[1;33m(\u001b[0m\u001b[0mX\u001b[0m\u001b[1;33m)\u001b[0m\u001b[1;33m\u001b[0m\u001b[0m\n\u001b[0m\u001b[0;32m    325\u001b[0m         \u001b[1;32mif\u001b[0m \u001b[0mlen\u001b[0m\u001b[1;33m(\u001b[0m\u001b[0mscores\u001b[0m\u001b[1;33m.\u001b[0m\u001b[0mshape\u001b[0m\u001b[1;33m)\u001b[0m \u001b[1;33m==\u001b[0m \u001b[1;36m1\u001b[0m\u001b[1;33m:\u001b[0m\u001b[1;33m\u001b[0m\u001b[0m\n\u001b[0;32m    326\u001b[0m             \u001b[0mindices\u001b[0m \u001b[1;33m=\u001b[0m \u001b[1;33m(\u001b[0m\u001b[0mscores\u001b[0m \u001b[1;33m>\u001b[0m \u001b[1;36m0\u001b[0m\u001b[1;33m)\u001b[0m\u001b[1;33m.\u001b[0m\u001b[0mastype\u001b[0m\u001b[1;33m(\u001b[0m\u001b[0mnp\u001b[0m\u001b[1;33m.\u001b[0m\u001b[0mint\u001b[0m\u001b[1;33m)\u001b[0m\u001b[1;33m\u001b[0m\u001b[0m\n",
      "\u001b[1;32m~\\Anaconda3\\lib\\site-packages\\sklearn\\linear_model\\base.py\u001b[0m in \u001b[0;36mdecision_function\u001b[1;34m(self, X)\u001b[0m\n\u001b[0;32m    303\u001b[0m         \u001b[1;32mif\u001b[0m \u001b[0mX\u001b[0m\u001b[1;33m.\u001b[0m\u001b[0mshape\u001b[0m\u001b[1;33m[\u001b[0m\u001b[1;36m1\u001b[0m\u001b[1;33m]\u001b[0m \u001b[1;33m!=\u001b[0m \u001b[0mn_features\u001b[0m\u001b[1;33m:\u001b[0m\u001b[1;33m\u001b[0m\u001b[0m\n\u001b[0;32m    304\u001b[0m             raise ValueError(\"X has %d features per sample; expecting %d\"\n\u001b[1;32m--> 305\u001b[1;33m                              % (X.shape[1], n_features))\n\u001b[0m\u001b[0;32m    306\u001b[0m \u001b[1;33m\u001b[0m\u001b[0m\n\u001b[0;32m    307\u001b[0m         scores = safe_sparse_dot(X, self.coef_.T,\n",
      "\u001b[1;31mValueError\u001b[0m: X has 4047 features per sample; expecting 144730"
     ]
    }
   ],
   "source": [
    "#test_enc = tfv.transform(test.safe_text.values)\n",
    "pred = clf.predict(x_test_tfv)\n",
    "\n",
    "print(xtrain_tfv.shape)\n",
    "print(yvalid.shape)\n",
    "print(xvalid_tfv.shape)"
   ]
  },
  {
   "cell_type": "code",
   "execution_count": 160,
   "metadata": {},
   "outputs": [],
   "source": [
    "from sklearn.metrics import mean_squared_error\n",
    "\n",
    "clf = LogisticRegression(C=1.0)\n",
    "clf.fit(x_train_tfv, y)\n",
    "predictions = clf.predict_proba(x_test_tfv)\n",
    "\n",
    "#print (\"logloss: %0.3f \" % multiclass_logloss(yvalid, predictions))"
   ]
  },
  {
   "cell_type": "code",
   "execution_count": 131,
   "metadata": {},
   "outputs": [
    {
     "data": {
      "text/plain": [
       "tweet_id     0\n",
       "safe_text    0\n",
       "dtype: int64"
      ]
     },
     "execution_count": 131,
     "metadata": {},
     "output_type": "execute_result"
    }
   ],
   "source": [
    "test = test.fillna(0)\n",
    "test.isna().sum()"
   ]
  },
  {
   "cell_type": "code",
   "execution_count": 137,
   "metadata": {},
   "outputs": [
    {
     "data": {
      "text/plain": [
       "array(['Me &amp; The Big Homie meanboy3000 #MEANBOY #MB #MBS #MMR #STEGMANLIFE @ Stegman St. <url>',\n",
       "       \"I'm 100% thinking of devoting my career to proving autism isn't caused by vaccines due to the IDIOTIC posts I've seen about World Autism Day\",\n",
       "       '#whatcausesautism VACCINES, DO NOT VACCINATE YOUR CHILD', ...,\n",
       "       'Interesting trends in child immunization in Oklahoma from <user> covering the <user> meeting.',\n",
       "       'CDC Says Measles Are At Highest Levels In Decades: (<url> have returned in the U.S. to... <url>',\n",
       "       'Pneumonia vaccine: for women w risk of pulmonary disease, see this ACOG tweet  <url>'],\n",
       "      dtype=object)"
      ]
     },
     "execution_count": 137,
     "metadata": {},
     "output_type": "execute_result"
    }
   ],
   "source": [
    "train.safe_text.values"
   ]
  },
  {
   "cell_type": "code",
   "execution_count": 134,
   "metadata": {},
   "outputs": [
    {
     "data": {
      "text/plain": [
       "tweet_id      object\n",
       "safe_text     object\n",
       "label          int64\n",
       "agreement    float64\n",
       "dtype: object"
      ]
     },
     "execution_count": 134,
     "metadata": {},
     "output_type": "execute_result"
    }
   ],
   "source": [
    "train.dtypes"
   ]
  },
  {
   "cell_type": "code",
   "execution_count": 135,
   "metadata": {},
   "outputs": [
    {
     "data": {
      "text/plain": [
       "tweet_id     object\n",
       "safe_text    object\n",
       "dtype: object"
      ]
     },
     "execution_count": 135,
     "metadata": {},
     "output_type": "execute_result"
    }
   ],
   "source": [
    "test.dtypes"
   ]
  },
  {
   "cell_type": "code",
   "execution_count": 165,
   "metadata": {},
   "outputs": [],
   "source": [
    "ctv = CountVectorizer(analyzer='word',token_pattern=r'\\w{1,}',\n",
    "            ngram_range=(1, 3), stop_words = 'english')\n",
    "\n",
    "# Fitting Count Vectorizer to both training and test sets (semi-supervised learning)\n",
    "ctv.fit(list(x_train) + list(x_test))\n",
    "xtrain_ctv =  ctv.transform(x_train) \n",
    "xtest_ctv = ctv.transform(x_test)"
   ]
  },
  {
   "cell_type": "code",
   "execution_count": 167,
   "metadata": {},
   "outputs": [],
   "source": [
    "# Fitting a simple Logistic Regression on Counts\n",
    "clf = LogisticRegression(C=1.0)\n",
    "clf.fit(xtrain_ctv, y)\n",
    "predictions = clf.predict_proba(xtest_ctv)\n",
    "\n",
    "#print (\"logloss: %0.3f \" % multiclass_logloss(yvalid, predictions))"
   ]
  },
  {
   "cell_type": "code",
   "execution_count": 147,
   "metadata": {},
   "outputs": [
    {
     "data": {
      "text/plain": [
       "15178"
      ]
     },
     "execution_count": 147,
     "metadata": {},
     "output_type": "execute_result"
    }
   ],
   "source": [
    "combined = list(train.safe_text.values) + list(test.safe_text.values)\n",
    "len(combined)"
   ]
  },
  {
   "cell_type": "code",
   "execution_count": 148,
   "metadata": {},
   "outputs": [
    {
     "data": {
      "text/plain": [
       "5177"
      ]
     },
     "execution_count": 148,
     "metadata": {},
     "output_type": "execute_result"
    }
   ],
   "source": [
    "len(test.safe_text.values)"
   ]
  },
  {
   "cell_type": "code",
   "execution_count": 152,
   "metadata": {},
   "outputs": [
    {
     "name": "stdout",
     "output_type": "stream",
     "text": [
      "10001\n",
      "5177\n"
     ]
    }
   ],
   "source": [
    "x_train = combined[:10001]\n",
    "print(len(x_train))\n",
    "x_test = combined[10001:]\n",
    "print(len(x_test))"
   ]
  },
  {
   "cell_type": "code",
   "execution_count": 153,
   "metadata": {},
   "outputs": [
    {
     "data": {
      "text/plain": [
       "['<user> <user> ... &amp; 4 a vaccine given 2 healthy peeps, FDA think just not worth the AE risk unfortunately.',\n",
       " 'Students starting school without whooping cough vaccinations <url> #scpick']"
      ]
     },
     "execution_count": 153,
     "metadata": {},
     "output_type": "execute_result"
    }
   ],
   "source": [
    "x_test[:2]"
   ]
  },
  {
   "cell_type": "code",
   "execution_count": 161,
   "metadata": {},
   "outputs": [
    {
     "data": {
      "text/plain": [
       "array([[0.33084543, 0.22957774, 0.43957683],\n",
       "       [0.06058872, 0.2521447 , 0.68726658],\n",
       "       [0.06616889, 0.78429222, 0.14953889],\n",
       "       ...,\n",
       "       [0.02631786, 0.66409337, 0.30958877],\n",
       "       [0.08706373, 0.01135921, 0.90157706],\n",
       "       [0.31217521, 0.20458462, 0.48324017]])"
      ]
     },
     "execution_count": 161,
     "metadata": {},
     "output_type": "execute_result"
    }
   ],
   "source": [
    "predictions"
   ]
  },
  {
   "cell_type": "code",
   "execution_count": 168,
   "metadata": {},
   "outputs": [],
   "source": [
    "submissions.label = predictions\n",
    "submissions.to_csv('NLPtest.csv', index = False)"
   ]
  },
  {
   "cell_type": "code",
   "execution_count": 223,
   "metadata": {},
   "outputs": [
    {
     "data": {
      "text/plain": [
       "LGBMRegressor(boosting_type='gbdt', class_weight=None, colsample_bytree=1.0,\n",
       "       importance_type='split', learning_rate=0.01, max_depth=50,\n",
       "       min_child_samples=20, min_child_weight=0.001, min_split_gain=0.0,\n",
       "       n_estimators=659, n_jobs=-1, num_leaves=31, objective=None,\n",
       "       random_state=None, reg_alpha=0.0, reg_lambda=0.0, silent=True,\n",
       "       subsample=1.0, subsample_for_bin=200000, subsample_freq=0)"
      ]
     },
     "execution_count": 223,
     "metadata": {},
     "output_type": "execute_result"
    }
   ],
   "source": [
    "lg = lgb.LGBMRegressor(boosting_type='gbdt', learning_rate=0.01, n_estimators=659, max_depth=50)\n",
    "eval_set = [(x_test_tfv, y_test1)]\n",
    "lg.fit(x_train_tfv, y_train1, eval_metric=\"rmse\")"
   ]
  },
  {
   "cell_type": "code",
   "execution_count": 210,
   "metadata": {},
   "outputs": [
    {
     "name": "stdout",
     "output_type": "stream",
     "text": [
      "[0]\tvalidation_0-rmse:0.76350\n",
      "Will train until validation_0-rmse hasn't improved in 50 rounds.\n",
      "[1]\tvalidation_0-rmse:0.76060\n",
      "[2]\tvalidation_0-rmse:0.75761\n",
      "[3]\tvalidation_0-rmse:0.75495\n",
      "[4]\tvalidation_0-rmse:0.75204\n",
      "[5]\tvalidation_0-rmse:0.74937\n",
      "[6]\tvalidation_0-rmse:0.74662\n",
      "[7]\tvalidation_0-rmse:0.74379\n",
      "[8]\tvalidation_0-rmse:0.74115\n",
      "[9]\tvalidation_0-rmse:0.73845\n",
      "[10]\tvalidation_0-rmse:0.73595\n",
      "[11]\tvalidation_0-rmse:0.73332\n",
      "[12]\tvalidation_0-rmse:0.73077\n",
      "[13]\tvalidation_0-rmse:0.72839\n",
      "[14]\tvalidation_0-rmse:0.72600\n",
      "[15]\tvalidation_0-rmse:0.72371\n",
      "[16]\tvalidation_0-rmse:0.72152\n",
      "[17]\tvalidation_0-rmse:0.71925\n",
      "[18]\tvalidation_0-rmse:0.71707\n",
      "[19]\tvalidation_0-rmse:0.71507\n",
      "[20]\tvalidation_0-rmse:0.71271\n",
      "[21]\tvalidation_0-rmse:0.71064\n",
      "[22]\tvalidation_0-rmse:0.70863\n",
      "[23]\tvalidation_0-rmse:0.70646\n",
      "[24]\tvalidation_0-rmse:0.70454\n",
      "[25]\tvalidation_0-rmse:0.70266\n",
      "[26]\tvalidation_0-rmse:0.70094\n",
      "[27]\tvalidation_0-rmse:0.69898\n",
      "[28]\tvalidation_0-rmse:0.69737\n",
      "[29]\tvalidation_0-rmse:0.69553\n",
      "[30]\tvalidation_0-rmse:0.69386\n",
      "[31]\tvalidation_0-rmse:0.69209\n",
      "[32]\tvalidation_0-rmse:0.69042\n",
      "[33]\tvalidation_0-rmse:0.68874\n",
      "[34]\tvalidation_0-rmse:0.68727\n",
      "[35]\tvalidation_0-rmse:0.68551\n",
      "[36]\tvalidation_0-rmse:0.68424\n",
      "[37]\tvalidation_0-rmse:0.68261\n",
      "[38]\tvalidation_0-rmse:0.68119\n",
      "[39]\tvalidation_0-rmse:0.67972\n",
      "[40]\tvalidation_0-rmse:0.67826\n",
      "[41]\tvalidation_0-rmse:0.67685\n",
      "[42]\tvalidation_0-rmse:0.67545\n",
      "[43]\tvalidation_0-rmse:0.67411\n",
      "[44]\tvalidation_0-rmse:0.67268\n",
      "[45]\tvalidation_0-rmse:0.67125\n",
      "[46]\tvalidation_0-rmse:0.66982\n",
      "[47]\tvalidation_0-rmse:0.66842\n",
      "[48]\tvalidation_0-rmse:0.66721\n",
      "[49]\tvalidation_0-rmse:0.66596\n",
      "[50]\tvalidation_0-rmse:0.66478\n",
      "[51]\tvalidation_0-rmse:0.66352\n",
      "[52]\tvalidation_0-rmse:0.66252\n",
      "[53]\tvalidation_0-rmse:0.66132\n",
      "[54]\tvalidation_0-rmse:0.66022\n",
      "[55]\tvalidation_0-rmse:0.65933\n",
      "[56]\tvalidation_0-rmse:0.65822\n",
      "[57]\tvalidation_0-rmse:0.65728\n",
      "[58]\tvalidation_0-rmse:0.65617\n",
      "[59]\tvalidation_0-rmse:0.65513\n",
      "[60]\tvalidation_0-rmse:0.65396\n",
      "[61]\tvalidation_0-rmse:0.65324\n",
      "[62]\tvalidation_0-rmse:0.65232\n",
      "[63]\tvalidation_0-rmse:0.65143\n",
      "[64]\tvalidation_0-rmse:0.65032\n",
      "[65]\tvalidation_0-rmse:0.64932\n",
      "[66]\tvalidation_0-rmse:0.64838\n",
      "[67]\tvalidation_0-rmse:0.64745\n",
      "[68]\tvalidation_0-rmse:0.64651\n",
      "[69]\tvalidation_0-rmse:0.64567\n",
      "[70]\tvalidation_0-rmse:0.64501\n",
      "[71]\tvalidation_0-rmse:0.64427\n",
      "[72]\tvalidation_0-rmse:0.64347\n",
      "[73]\tvalidation_0-rmse:0.64262\n",
      "[74]\tvalidation_0-rmse:0.64183\n",
      "[75]\tvalidation_0-rmse:0.64094\n",
      "[76]\tvalidation_0-rmse:0.64013\n",
      "[77]\tvalidation_0-rmse:0.63939\n",
      "[78]\tvalidation_0-rmse:0.63866\n",
      "[79]\tvalidation_0-rmse:0.63814\n",
      "[80]\tvalidation_0-rmse:0.63731\n",
      "[81]\tvalidation_0-rmse:0.63675\n",
      "[82]\tvalidation_0-rmse:0.63605\n",
      "[83]\tvalidation_0-rmse:0.63552\n",
      "[84]\tvalidation_0-rmse:0.63480\n",
      "[85]\tvalidation_0-rmse:0.63423\n",
      "[86]\tvalidation_0-rmse:0.63361\n",
      "[87]\tvalidation_0-rmse:0.63306\n",
      "[88]\tvalidation_0-rmse:0.63251\n",
      "[89]\tvalidation_0-rmse:0.63194\n",
      "[90]\tvalidation_0-rmse:0.63125\n",
      "[91]\tvalidation_0-rmse:0.63069\n",
      "[92]\tvalidation_0-rmse:0.63021\n",
      "[93]\tvalidation_0-rmse:0.62966\n",
      "[94]\tvalidation_0-rmse:0.62922\n",
      "[95]\tvalidation_0-rmse:0.62854\n",
      "[96]\tvalidation_0-rmse:0.62797\n",
      "[97]\tvalidation_0-rmse:0.62745\n",
      "[98]\tvalidation_0-rmse:0.62701\n",
      "[99]\tvalidation_0-rmse:0.62650\n",
      "[100]\tvalidation_0-rmse:0.62609\n",
      "[101]\tvalidation_0-rmse:0.62551\n",
      "[102]\tvalidation_0-rmse:0.62502\n",
      "[103]\tvalidation_0-rmse:0.62448\n",
      "[104]\tvalidation_0-rmse:0.62396\n",
      "[105]\tvalidation_0-rmse:0.62358\n",
      "[106]\tvalidation_0-rmse:0.62320\n",
      "[107]\tvalidation_0-rmse:0.62291\n",
      "[108]\tvalidation_0-rmse:0.62235\n",
      "[109]\tvalidation_0-rmse:0.62209\n",
      "[110]\tvalidation_0-rmse:0.62175\n",
      "[111]\tvalidation_0-rmse:0.62138\n",
      "[112]\tvalidation_0-rmse:0.62123\n",
      "[113]\tvalidation_0-rmse:0.62087\n",
      "[114]\tvalidation_0-rmse:0.62068\n",
      "[115]\tvalidation_0-rmse:0.62038\n",
      "[116]\tvalidation_0-rmse:0.62004\n",
      "[117]\tvalidation_0-rmse:0.61969\n",
      "[118]\tvalidation_0-rmse:0.61936\n",
      "[119]\tvalidation_0-rmse:0.61913\n",
      "[120]\tvalidation_0-rmse:0.61877\n",
      "[121]\tvalidation_0-rmse:0.61834\n",
      "[122]\tvalidation_0-rmse:0.61801\n",
      "[123]\tvalidation_0-rmse:0.61761\n",
      "[124]\tvalidation_0-rmse:0.61733\n",
      "[125]\tvalidation_0-rmse:0.61714\n",
      "[126]\tvalidation_0-rmse:0.61689\n",
      "[127]\tvalidation_0-rmse:0.61673\n",
      "[128]\tvalidation_0-rmse:0.61645\n",
      "[129]\tvalidation_0-rmse:0.61613\n",
      "[130]\tvalidation_0-rmse:0.61590\n",
      "[131]\tvalidation_0-rmse:0.61564\n",
      "[132]\tvalidation_0-rmse:0.61533\n",
      "[133]\tvalidation_0-rmse:0.61504\n",
      "[134]\tvalidation_0-rmse:0.61481\n",
      "[135]\tvalidation_0-rmse:0.61457\n",
      "[136]\tvalidation_0-rmse:0.61433\n",
      "[137]\tvalidation_0-rmse:0.61414\n",
      "[138]\tvalidation_0-rmse:0.61389\n",
      "[139]\tvalidation_0-rmse:0.61360\n",
      "[140]\tvalidation_0-rmse:0.61342\n",
      "[141]\tvalidation_0-rmse:0.61325\n",
      "[142]\tvalidation_0-rmse:0.61301\n",
      "[143]\tvalidation_0-rmse:0.61285\n",
      "[144]\tvalidation_0-rmse:0.61268\n",
      "[145]\tvalidation_0-rmse:0.61252\n",
      "[146]\tvalidation_0-rmse:0.61237\n",
      "[147]\tvalidation_0-rmse:0.61219\n",
      "[148]\tvalidation_0-rmse:0.61190\n",
      "[149]\tvalidation_0-rmse:0.61176\n",
      "[150]\tvalidation_0-rmse:0.61150\n",
      "[151]\tvalidation_0-rmse:0.61139\n",
      "[152]\tvalidation_0-rmse:0.61116\n",
      "[153]\tvalidation_0-rmse:0.61105\n",
      "[154]\tvalidation_0-rmse:0.61088\n",
      "[155]\tvalidation_0-rmse:0.61077\n",
      "[156]\tvalidation_0-rmse:0.61065\n",
      "[157]\tvalidation_0-rmse:0.61046\n",
      "[158]\tvalidation_0-rmse:0.61036\n",
      "[159]\tvalidation_0-rmse:0.61037\n",
      "[160]\tvalidation_0-rmse:0.61022\n",
      "[161]\tvalidation_0-rmse:0.61003\n",
      "[162]\tvalidation_0-rmse:0.60982\n",
      "[163]\tvalidation_0-rmse:0.60963\n",
      "[164]\tvalidation_0-rmse:0.60948\n",
      "[165]\tvalidation_0-rmse:0.60938\n",
      "[166]\tvalidation_0-rmse:0.60921\n",
      "[167]\tvalidation_0-rmse:0.60907\n",
      "[168]\tvalidation_0-rmse:0.60901\n",
      "[169]\tvalidation_0-rmse:0.60897\n",
      "[170]\tvalidation_0-rmse:0.60883\n",
      "[171]\tvalidation_0-rmse:0.60875\n",
      "[172]\tvalidation_0-rmse:0.60857\n",
      "[173]\tvalidation_0-rmse:0.60842\n",
      "[174]\tvalidation_0-rmse:0.60824\n",
      "[175]\tvalidation_0-rmse:0.60813\n",
      "[176]\tvalidation_0-rmse:0.60803\n",
      "[177]\tvalidation_0-rmse:0.60790\n",
      "[178]\tvalidation_0-rmse:0.60781\n",
      "[179]\tvalidation_0-rmse:0.60769\n",
      "[180]\tvalidation_0-rmse:0.60757\n",
      "[181]\tvalidation_0-rmse:0.60745\n",
      "[182]\tvalidation_0-rmse:0.60734\n",
      "[183]\tvalidation_0-rmse:0.60720\n",
      "[184]\tvalidation_0-rmse:0.60711\n",
      "[185]\tvalidation_0-rmse:0.60695\n",
      "[186]\tvalidation_0-rmse:0.60684\n",
      "[187]\tvalidation_0-rmse:0.60671\n",
      "[188]\tvalidation_0-rmse:0.60664\n",
      "[189]\tvalidation_0-rmse:0.60652\n",
      "[190]\tvalidation_0-rmse:0.60646\n",
      "[191]\tvalidation_0-rmse:0.60629\n",
      "[192]\tvalidation_0-rmse:0.60623\n",
      "[193]\tvalidation_0-rmse:0.60616\n",
      "[194]\tvalidation_0-rmse:0.60609\n",
      "[195]\tvalidation_0-rmse:0.60602\n",
      "[196]\tvalidation_0-rmse:0.60602\n",
      "[197]\tvalidation_0-rmse:0.60597\n",
      "[198]\tvalidation_0-rmse:0.60586\n",
      "[199]\tvalidation_0-rmse:0.60579\n",
      "[200]\tvalidation_0-rmse:0.60572\n",
      "[201]\tvalidation_0-rmse:0.60561\n",
      "[202]\tvalidation_0-rmse:0.60550\n",
      "[203]\tvalidation_0-rmse:0.60545\n",
      "[204]\tvalidation_0-rmse:0.60538\n",
      "[205]\tvalidation_0-rmse:0.60536\n",
      "[206]\tvalidation_0-rmse:0.60521\n",
      "[207]\tvalidation_0-rmse:0.60513\n",
      "[208]\tvalidation_0-rmse:0.60511\n",
      "[209]\tvalidation_0-rmse:0.60514\n",
      "[210]\tvalidation_0-rmse:0.60505\n",
      "[211]\tvalidation_0-rmse:0.60503\n",
      "[212]\tvalidation_0-rmse:0.60498\n",
      "[213]\tvalidation_0-rmse:0.60498\n",
      "[214]\tvalidation_0-rmse:0.60490\n",
      "[215]\tvalidation_0-rmse:0.60482\n",
      "[216]\tvalidation_0-rmse:0.60470\n",
      "[217]\tvalidation_0-rmse:0.60460\n",
      "[218]\tvalidation_0-rmse:0.60457\n",
      "[219]\tvalidation_0-rmse:0.60447\n",
      "[220]\tvalidation_0-rmse:0.60445\n",
      "[221]\tvalidation_0-rmse:0.60434\n",
      "[222]\tvalidation_0-rmse:0.60420\n",
      "[223]\tvalidation_0-rmse:0.60409\n",
      "[224]\tvalidation_0-rmse:0.60401\n",
      "[225]\tvalidation_0-rmse:0.60396\n",
      "[226]\tvalidation_0-rmse:0.60389\n",
      "[227]\tvalidation_0-rmse:0.60388\n",
      "[228]\tvalidation_0-rmse:0.60378\n",
      "[229]\tvalidation_0-rmse:0.60371\n",
      "[230]\tvalidation_0-rmse:0.60370\n",
      "[231]\tvalidation_0-rmse:0.60365\n",
      "[232]\tvalidation_0-rmse:0.60366\n",
      "[233]\tvalidation_0-rmse:0.60356\n",
      "[234]\tvalidation_0-rmse:0.60350\n",
      "[235]\tvalidation_0-rmse:0.60346\n",
      "[236]\tvalidation_0-rmse:0.60336\n",
      "[237]\tvalidation_0-rmse:0.60335\n",
      "[238]\tvalidation_0-rmse:0.60333\n",
      "[239]\tvalidation_0-rmse:0.60334\n",
      "[240]\tvalidation_0-rmse:0.60328\n",
      "[241]\tvalidation_0-rmse:0.60329\n",
      "[242]\tvalidation_0-rmse:0.60315\n",
      "[243]\tvalidation_0-rmse:0.60312\n",
      "[244]\tvalidation_0-rmse:0.60309\n",
      "[245]\tvalidation_0-rmse:0.60303\n",
      "[246]\tvalidation_0-rmse:0.60296\n",
      "[247]\tvalidation_0-rmse:0.60292\n",
      "[248]\tvalidation_0-rmse:0.60289\n",
      "[249]\tvalidation_0-rmse:0.60281\n",
      "[250]\tvalidation_0-rmse:0.60280\n",
      "[251]\tvalidation_0-rmse:0.60281\n",
      "[252]\tvalidation_0-rmse:0.60282\n",
      "[253]\tvalidation_0-rmse:0.60277\n",
      "[254]\tvalidation_0-rmse:0.60273\n",
      "[255]\tvalidation_0-rmse:0.60266\n",
      "[256]\tvalidation_0-rmse:0.60269\n",
      "[257]\tvalidation_0-rmse:0.60258\n"
     ]
    },
    {
     "name": "stdout",
     "output_type": "stream",
     "text": [
      "[258]\tvalidation_0-rmse:0.60256\n",
      "[259]\tvalidation_0-rmse:0.60253\n",
      "[260]\tvalidation_0-rmse:0.60249\n",
      "[261]\tvalidation_0-rmse:0.60243\n",
      "[262]\tvalidation_0-rmse:0.60239\n",
      "[263]\tvalidation_0-rmse:0.60237\n",
      "[264]\tvalidation_0-rmse:0.60231\n",
      "[265]\tvalidation_0-rmse:0.60226\n",
      "[266]\tvalidation_0-rmse:0.60224\n",
      "[267]\tvalidation_0-rmse:0.60218\n",
      "[268]\tvalidation_0-rmse:0.60216\n",
      "[269]\tvalidation_0-rmse:0.60211\n",
      "[270]\tvalidation_0-rmse:0.60209\n",
      "[271]\tvalidation_0-rmse:0.60209\n",
      "[272]\tvalidation_0-rmse:0.60202\n",
      "[273]\tvalidation_0-rmse:0.60198\n",
      "[274]\tvalidation_0-rmse:0.60196\n",
      "[275]\tvalidation_0-rmse:0.60192\n",
      "[276]\tvalidation_0-rmse:0.60191\n",
      "[277]\tvalidation_0-rmse:0.60184\n",
      "[278]\tvalidation_0-rmse:0.60177\n",
      "[279]\tvalidation_0-rmse:0.60174\n",
      "[280]\tvalidation_0-rmse:0.60173\n",
      "[281]\tvalidation_0-rmse:0.60167\n",
      "[282]\tvalidation_0-rmse:0.60164\n",
      "[283]\tvalidation_0-rmse:0.60164\n",
      "[284]\tvalidation_0-rmse:0.60159\n",
      "[285]\tvalidation_0-rmse:0.60157\n",
      "[286]\tvalidation_0-rmse:0.60154\n",
      "[287]\tvalidation_0-rmse:0.60149\n",
      "[288]\tvalidation_0-rmse:0.60149\n",
      "[289]\tvalidation_0-rmse:0.60152\n",
      "[290]\tvalidation_0-rmse:0.60153\n",
      "[291]\tvalidation_0-rmse:0.60150\n",
      "[292]\tvalidation_0-rmse:0.60144\n",
      "[293]\tvalidation_0-rmse:0.60146\n",
      "[294]\tvalidation_0-rmse:0.60147\n",
      "[295]\tvalidation_0-rmse:0.60144\n",
      "[296]\tvalidation_0-rmse:0.60139\n",
      "[297]\tvalidation_0-rmse:0.60137\n",
      "[298]\tvalidation_0-rmse:0.60140\n",
      "[299]\tvalidation_0-rmse:0.60142\n",
      "[300]\tvalidation_0-rmse:0.60135\n",
      "[301]\tvalidation_0-rmse:0.60130\n",
      "[302]\tvalidation_0-rmse:0.60128\n",
      "[303]\tvalidation_0-rmse:0.60125\n",
      "[304]\tvalidation_0-rmse:0.60120\n",
      "[305]\tvalidation_0-rmse:0.60117\n",
      "[306]\tvalidation_0-rmse:0.60120\n",
      "[307]\tvalidation_0-rmse:0.60119\n",
      "[308]\tvalidation_0-rmse:0.60120\n",
      "[309]\tvalidation_0-rmse:0.60119\n",
      "[310]\tvalidation_0-rmse:0.60116\n",
      "[311]\tvalidation_0-rmse:0.60116\n",
      "[312]\tvalidation_0-rmse:0.60115\n",
      "[313]\tvalidation_0-rmse:0.60114\n",
      "[314]\tvalidation_0-rmse:0.60113\n",
      "[315]\tvalidation_0-rmse:0.60115\n",
      "[316]\tvalidation_0-rmse:0.60113\n",
      "[317]\tvalidation_0-rmse:0.60111\n",
      "[318]\tvalidation_0-rmse:0.60111\n",
      "[319]\tvalidation_0-rmse:0.60112\n",
      "[320]\tvalidation_0-rmse:0.60110\n",
      "[321]\tvalidation_0-rmse:0.60107\n",
      "[322]\tvalidation_0-rmse:0.60104\n",
      "[323]\tvalidation_0-rmse:0.60101\n",
      "[324]\tvalidation_0-rmse:0.60099\n",
      "[325]\tvalidation_0-rmse:0.60101\n",
      "[326]\tvalidation_0-rmse:0.60100\n",
      "[327]\tvalidation_0-rmse:0.60098\n",
      "[328]\tvalidation_0-rmse:0.60093\n",
      "[329]\tvalidation_0-rmse:0.60095\n",
      "[330]\tvalidation_0-rmse:0.60096\n",
      "[331]\tvalidation_0-rmse:0.60099\n",
      "[332]\tvalidation_0-rmse:0.60096\n",
      "[333]\tvalidation_0-rmse:0.60095\n",
      "[334]\tvalidation_0-rmse:0.60099\n",
      "[335]\tvalidation_0-rmse:0.60104\n",
      "[336]\tvalidation_0-rmse:0.60099\n",
      "[337]\tvalidation_0-rmse:0.60094\n",
      "[338]\tvalidation_0-rmse:0.60095\n",
      "[339]\tvalidation_0-rmse:0.60100\n",
      "[340]\tvalidation_0-rmse:0.60097\n",
      "[341]\tvalidation_0-rmse:0.60094\n",
      "[342]\tvalidation_0-rmse:0.60094\n",
      "[343]\tvalidation_0-rmse:0.60096\n",
      "[344]\tvalidation_0-rmse:0.60097\n",
      "[345]\tvalidation_0-rmse:0.60091\n",
      "[346]\tvalidation_0-rmse:0.60089\n",
      "[347]\tvalidation_0-rmse:0.60084\n",
      "[348]\tvalidation_0-rmse:0.60079\n",
      "[349]\tvalidation_0-rmse:0.60079\n",
      "[350]\tvalidation_0-rmse:0.60078\n",
      "[351]\tvalidation_0-rmse:0.60083\n",
      "[352]\tvalidation_0-rmse:0.60080\n",
      "[353]\tvalidation_0-rmse:0.60078\n",
      "[354]\tvalidation_0-rmse:0.60073\n",
      "[355]\tvalidation_0-rmse:0.60072\n",
      "[356]\tvalidation_0-rmse:0.60070\n",
      "[357]\tvalidation_0-rmse:0.60071\n",
      "[358]\tvalidation_0-rmse:0.60073\n",
      "[359]\tvalidation_0-rmse:0.60075\n",
      "[360]\tvalidation_0-rmse:0.60074\n",
      "[361]\tvalidation_0-rmse:0.60073\n",
      "[362]\tvalidation_0-rmse:0.60072\n",
      "[363]\tvalidation_0-rmse:0.60069\n",
      "[364]\tvalidation_0-rmse:0.60070\n",
      "[365]\tvalidation_0-rmse:0.60069\n",
      "[366]\tvalidation_0-rmse:0.60068\n",
      "[367]\tvalidation_0-rmse:0.60065\n",
      "[368]\tvalidation_0-rmse:0.60063\n",
      "[369]\tvalidation_0-rmse:0.60064\n",
      "[370]\tvalidation_0-rmse:0.60064\n",
      "[371]\tvalidation_0-rmse:0.60061\n",
      "[372]\tvalidation_0-rmse:0.60060\n",
      "[373]\tvalidation_0-rmse:0.60058\n",
      "[374]\tvalidation_0-rmse:0.60057\n",
      "[375]\tvalidation_0-rmse:0.60058\n",
      "[376]\tvalidation_0-rmse:0.60059\n",
      "[377]\tvalidation_0-rmse:0.60058\n",
      "[378]\tvalidation_0-rmse:0.60059\n",
      "[379]\tvalidation_0-rmse:0.60058\n",
      "[380]\tvalidation_0-rmse:0.60054\n",
      "[381]\tvalidation_0-rmse:0.60055\n",
      "[382]\tvalidation_0-rmse:0.60054\n",
      "[383]\tvalidation_0-rmse:0.60056\n",
      "[384]\tvalidation_0-rmse:0.60057\n",
      "[385]\tvalidation_0-rmse:0.60056\n",
      "[386]\tvalidation_0-rmse:0.60054\n",
      "[387]\tvalidation_0-rmse:0.60057\n",
      "[388]\tvalidation_0-rmse:0.60055\n",
      "[389]\tvalidation_0-rmse:0.60059\n",
      "[390]\tvalidation_0-rmse:0.60057\n",
      "[391]\tvalidation_0-rmse:0.60061\n",
      "[392]\tvalidation_0-rmse:0.60062\n",
      "[393]\tvalidation_0-rmse:0.60064\n",
      "[394]\tvalidation_0-rmse:0.60062\n",
      "[395]\tvalidation_0-rmse:0.60061\n",
      "[396]\tvalidation_0-rmse:0.60058\n",
      "[397]\tvalidation_0-rmse:0.60058\n",
      "[398]\tvalidation_0-rmse:0.60059\n",
      "[399]\tvalidation_0-rmse:0.60057\n",
      "[400]\tvalidation_0-rmse:0.60059\n",
      "[401]\tvalidation_0-rmse:0.60057\n",
      "[402]\tvalidation_0-rmse:0.60061\n",
      "[403]\tvalidation_0-rmse:0.60062\n",
      "[404]\tvalidation_0-rmse:0.60061\n",
      "[405]\tvalidation_0-rmse:0.60062\n",
      "[406]\tvalidation_0-rmse:0.60061\n",
      "[407]\tvalidation_0-rmse:0.60058\n",
      "[408]\tvalidation_0-rmse:0.60058\n",
      "[409]\tvalidation_0-rmse:0.60059\n",
      "[410]\tvalidation_0-rmse:0.60055\n",
      "[411]\tvalidation_0-rmse:0.60054\n",
      "[412]\tvalidation_0-rmse:0.60054\n",
      "[413]\tvalidation_0-rmse:0.60053\n",
      "[414]\tvalidation_0-rmse:0.60055\n",
      "[415]\tvalidation_0-rmse:0.60054\n",
      "[416]\tvalidation_0-rmse:0.60057\n",
      "[417]\tvalidation_0-rmse:0.60056\n",
      "[418]\tvalidation_0-rmse:0.60056\n",
      "[419]\tvalidation_0-rmse:0.60061\n",
      "[420]\tvalidation_0-rmse:0.60060\n",
      "[421]\tvalidation_0-rmse:0.60064\n",
      "[422]\tvalidation_0-rmse:0.60068\n",
      "[423]\tvalidation_0-rmse:0.60069\n",
      "[424]\tvalidation_0-rmse:0.60069\n",
      "[425]\tvalidation_0-rmse:0.60067\n",
      "[426]\tvalidation_0-rmse:0.60068\n",
      "[427]\tvalidation_0-rmse:0.60069\n",
      "[428]\tvalidation_0-rmse:0.60066\n",
      "[429]\tvalidation_0-rmse:0.60066\n",
      "[430]\tvalidation_0-rmse:0.60064\n",
      "[431]\tvalidation_0-rmse:0.60064\n",
      "[432]\tvalidation_0-rmse:0.60063\n",
      "[433]\tvalidation_0-rmse:0.60064\n",
      "[434]\tvalidation_0-rmse:0.60065\n",
      "[435]\tvalidation_0-rmse:0.60070\n",
      "[436]\tvalidation_0-rmse:0.60070\n",
      "[437]\tvalidation_0-rmse:0.60071\n",
      "[438]\tvalidation_0-rmse:0.60072\n",
      "[439]\tvalidation_0-rmse:0.60075\n",
      "[440]\tvalidation_0-rmse:0.60076\n",
      "[441]\tvalidation_0-rmse:0.60077\n",
      "[442]\tvalidation_0-rmse:0.60075\n",
      "[443]\tvalidation_0-rmse:0.60077\n",
      "[444]\tvalidation_0-rmse:0.60077\n",
      "[445]\tvalidation_0-rmse:0.60075\n",
      "[446]\tvalidation_0-rmse:0.60078\n",
      "[447]\tvalidation_0-rmse:0.60078\n",
      "[448]\tvalidation_0-rmse:0.60078\n",
      "[449]\tvalidation_0-rmse:0.60077\n",
      "[450]\tvalidation_0-rmse:0.60077\n",
      "[451]\tvalidation_0-rmse:0.60076\n",
      "[452]\tvalidation_0-rmse:0.60079\n",
      "[453]\tvalidation_0-rmse:0.60079\n",
      "[454]\tvalidation_0-rmse:0.60080\n",
      "[455]\tvalidation_0-rmse:0.60079\n",
      "[456]\tvalidation_0-rmse:0.60082\n",
      "[457]\tvalidation_0-rmse:0.60083\n",
      "[458]\tvalidation_0-rmse:0.60084\n",
      "[459]\tvalidation_0-rmse:0.60083\n",
      "[460]\tvalidation_0-rmse:0.60084\n",
      "[461]\tvalidation_0-rmse:0.60089\n",
      "[462]\tvalidation_0-rmse:0.60087\n",
      "[463]\tvalidation_0-rmse:0.60088\n",
      "Stopping. Best iteration:\n",
      "[413]\tvalidation_0-rmse:0.60053\n",
      "\n"
     ]
    },
    {
     "data": {
      "text/plain": [
       "XGBRegressor(base_score=0.7, booster='dart', colsample_bylevel=1,\n",
       "       colsample_bynode=1, colsample_bytree=1, gamma=0, gpu_id=-1,\n",
       "       importance_type='gain', interaction_constraints=None,\n",
       "       learning_rate=0.01, max_delta_step=0, max_depth=50,\n",
       "       min_child_weight=1, missing=nan, monotone_constraints=None,\n",
       "       n_estimators=3000, n_jobs=0, num_parallel_tree=1,\n",
       "       objective='reg:squarederror', random_state=123, reg_alpha=0,\n",
       "       reg_lambda=0.03, scale_pos_weight=1, seed=123, subsample=0.8,\n",
       "       tree_method=None, validate_parameters=False, verbosity=None)"
      ]
     },
     "execution_count": 210,
     "metadata": {},
     "output_type": "execute_result"
    }
   ],
   "source": [
    "xg_reg = xgb.XGBRegressor(objective = 'reg:squarederror', n_estimators = 3000, seed = 123, max_depth = 50,\n",
    "                           learning_rate=0.01, booster = 'dart', base_score = 0.7, subsample = 0.8,\n",
    "                           reg_lambda = 0.03)\n",
    "\n",
    "eval_set = [(x_test_tfv, y_test1)]\n",
    "xg_reg.fit(x_train_tfv, y_train1, eval_metric=\"rmse\", eval_set=eval_set, verbose=True, early_stopping_rounds = 50)"
   ]
  },
  {
   "cell_type": "code",
   "execution_count": 174,
   "metadata": {},
   "outputs": [],
   "source": [
    "import numpy.random as nr\n",
    "import sklearn.model_selection as ms\n",
    "## Randomly sample cases to create independent training and test data\n",
    "nr.seed(9988)\n",
    "indx = range(np.array(x_train.shape[0]))\n",
    "indx = ms.train_test_split(indx, test_size = 0.2)\n",
    "x_train1 = x_train[indx[0]]\n",
    "y_train1 = np.ravel(y[indx[0]])\n",
    "x_test1 = x_train[indx[1]]\n",
    "y_test1 = np.ravel(y[indx[1]])"
   ]
  },
  {
   "cell_type": "code",
   "execution_count": 183,
   "metadata": {},
   "outputs": [
    {
     "name": "stdout",
     "output_type": "stream",
     "text": [
      "(8000,)\n",
      "(8000,)\n",
      "(2001,)\n",
      "(2001,)\n"
     ]
    }
   ],
   "source": [
    "print(x_train1.shape)\n",
    "print(y_train1.shape)\n",
    "print(x_test1.shape)\n",
    "print(y_test1.shape)"
   ]
  },
  {
   "cell_type": "code",
   "execution_count": 172,
   "metadata": {},
   "outputs": [],
   "source": [
    "x_train = np.array(x_train)"
   ]
  },
  {
   "cell_type": "code",
   "execution_count": 184,
   "metadata": {},
   "outputs": [
    {
     "name": "stdout",
     "output_type": "stream",
     "text": [
      "(8000, 4047)\n",
      "(8000,)\n",
      "(2001, 4047)\n",
      "(2001,)\n"
     ]
    }
   ],
   "source": [
    "print(x_train_tfv.shape)\n",
    "print(y_train1.shape)\n",
    "print(x_test_tfv.shape)\n",
    "print(y_test1.shape)"
   ]
  },
  {
   "cell_type": "code",
   "execution_count": 212,
   "metadata": {},
   "outputs": [
    {
     "data": {
      "text/plain": [
       "0.6005280548011402"
      ]
     },
     "execution_count": 212,
     "metadata": {},
     "output_type": "execute_result"
    }
   ],
   "source": [
    "predictions = xg_reg.predict(x_test_tfv)\n",
    "from sklearn.metrics import mean_squared_error\n",
    "mean_squared_error(y_test1, predictions) ** 0.5"
   ]
  },
  {
   "cell_type": "code",
   "execution_count": 215,
   "metadata": {},
   "outputs": [],
   "source": [
    "test_enc = tfv.transform(x_test)\n",
    "pred = xg_reg.predict(test_enc)\n",
    "submissions.label = pred\n",
    "submissions.to_csv('NLPtestXG.csv', index = False)"
   ]
  },
  {
   "cell_type": "code",
   "execution_count": 224,
   "metadata": {},
   "outputs": [
    {
     "data": {
      "text/plain": [
       "array([-0.42506279, -0.42125421, -0.43512611, -0.43309243, -0.42754693])"
      ]
     },
     "execution_count": 224,
     "metadata": {},
     "output_type": "execute_result"
    }
   ],
   "source": [
    "from sklearn.model_selection import cross_val_score\n",
    "cv_acc = cross_val_score(lg, x_train_tfv, y_train1, cv=5, scoring='neg_mean_absolute_error')\n",
    "cv_acc"
   ]
  },
  {
   "cell_type": "code",
   "execution_count": 225,
   "metadata": {},
   "outputs": [
    {
     "data": {
      "text/plain": [
       "-0.4284164958066916"
      ]
     },
     "execution_count": 225,
     "metadata": {},
     "output_type": "execute_result"
    }
   ],
   "source": [
    "cv_acc.mean()"
   ]
  },
  {
   "cell_type": "code",
   "execution_count": 228,
   "metadata": {},
   "outputs": [
    {
     "ename": "TypeError",
     "evalue": "__init__() got an unexpected keyword argument 'n_folds'",
     "output_type": "error",
     "traceback": [
      "\u001b[1;31m---------------------------------------------------------------------------\u001b[0m",
      "\u001b[1;31mTypeError\u001b[0m                                 Traceback (most recent call last)",
      "\u001b[1;32m<ipython-input-228-a453b34c2f88>\u001b[0m in \u001b[0;36m<module>\u001b[1;34m()\u001b[0m\n\u001b[0;32m      9\u001b[0m \u001b[1;33m\u001b[0m\u001b[0m\n\u001b[0;32m     10\u001b[0m clf = GridSearchCV(xgb_model, parameters, n_jobs=5, \n\u001b[1;32m---> 11\u001b[1;33m                    \u001b[0mcv\u001b[0m\u001b[1;33m=\u001b[0m\u001b[0mStratifiedKFold\u001b[0m\u001b[1;33m(\u001b[0m\u001b[0mx_train_tfv\u001b[0m\u001b[1;33m,\u001b[0m \u001b[0mn_folds\u001b[0m\u001b[1;33m=\u001b[0m\u001b[1;36m5\u001b[0m\u001b[1;33m,\u001b[0m \u001b[0mshuffle\u001b[0m\u001b[1;33m=\u001b[0m\u001b[1;32mTrue\u001b[0m\u001b[1;33m)\u001b[0m\u001b[1;33m,\u001b[0m\u001b[1;33m\u001b[0m\u001b[0m\n\u001b[0m\u001b[0;32m     12\u001b[0m                    \u001b[0mscoring\u001b[0m\u001b[1;33m=\u001b[0m\u001b[1;34m'rmse'\u001b[0m\u001b[1;33m,\u001b[0m\u001b[1;33m\u001b[0m\u001b[0m\n\u001b[0;32m     13\u001b[0m                    verbose=2, refit=True)\n",
      "\u001b[1;31mTypeError\u001b[0m: __init__() got an unexpected keyword argument 'n_folds'"
     ]
    }
   ],
   "source": [
    "xgb_model = xgb.XGBRegressor()\n",
    "\n",
    "parameters = {'learning_rate': [0.1, 0.05, 0.01], #so called `eta` value\n",
    "              'max_depth': [15, 25, 35],\n",
    "              'min_child_weight': [0.001, 0.01],\n",
    "              'subsample': [0.8, 0.9, 1.0],\n",
    "              'colsample_bytree': [0.9, 1.0],\n",
    "              'n_estimators': [3000]}\n",
    "\n",
    "clf = GridSearchCV(xgb_model, parameters, n_jobs=5, \n",
    "                   cv=StratifiedKFold(x_train_tfv, n_folds=5, shuffle=True), \n",
    "                   scoring='rmse',\n",
    "                   verbose=2, refit=True)"
   ]
  },
  {
   "cell_type": "code",
   "execution_count": 235,
   "metadata": {},
   "outputs": [],
   "source": [
    "xgb_model = xgb.XGBRegressor()\n",
    "\n",
    "parameters = {'learning_rate': [0.1, 0.05, 0.01], #so called `eta` value\n",
    "              'max_depth': [15, 25, 35],\n",
    "              'min_child_weight': [0.001, 0.01],\n",
    "              'subsample': [0.8, 0.9, 1.0],\n",
    "              'colsample_bytree': [0.9, 1.0],\n",
    "              'n_estimators': [3000]}\n",
    "\n",
    "clf = GridSearchCV(xgb_model, parameters, n_jobs=5, \n",
    "                   cv=StratifiedKFold(n_splits=5, shuffle=True), \n",
    "                   scoring='neg_mean_squared_error',\n",
    "                   verbose=2, refit=True)"
   ]
  },
  {
   "cell_type": "code",
   "execution_count": null,
   "metadata": {},
   "outputs": [
    {
     "name": "stdout",
     "output_type": "stream",
     "text": [
      "Fitting 5 folds for each of 108 candidates, totalling 540 fits\n"
     ]
    }
   ],
   "source": [
    "clf.fit(x_train_tfv, y_train1)"
   ]
  },
  {
   "cell_type": "code",
   "execution_count": null,
   "metadata": {},
   "outputs": [],
   "source": [
    "best_parameters, score, _ = max(clf.grid_scores_, key=lambda x: x[1])\n",
    "print('Neg MSE score', score)\n",
    "for param_name in sorted(best_parameters.keys()):\n",
    "    print(\"%s: %r\" % (param_name, best_parameters[param_name]))"
   ]
  },
  {
   "cell_type": "code",
   "execution_count": null,
   "metadata": {},
   "outputs": [],
   "source": []
  }
 ],
 "metadata": {
  "kernelspec": {
   "display_name": "Python 3",
   "language": "python",
   "name": "python3"
  },
  "language_info": {
   "codemirror_mode": {
    "name": "ipython",
    "version": 3
   },
   "file_extension": ".py",
   "mimetype": "text/x-python",
   "name": "python",
   "nbconvert_exporter": "python",
   "pygments_lexer": "ipython3",
   "version": "3.7.0"
  }
 },
 "nbformat": 4,
 "nbformat_minor": 2
}
