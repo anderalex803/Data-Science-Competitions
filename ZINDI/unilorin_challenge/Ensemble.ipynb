{
 "cells": [
  {
   "cell_type": "code",
   "execution_count": 1,
   "metadata": {},
   "outputs": [],
   "source": [
    "import numpy as np\n",
    "import pandas as pd\n",
    "\n",
    "train = pd.read_csv('train.csv')\n",
    "rf = pd.read_csv('RF_baseline.csv')\n",
    "rf2 = pd.read_csv('RF2.csv')\n",
    "xg = pd.read_csv('XG_baseline.csv') #5.807\n",
    "xg1 = pd.read_csv('XG1.csv')        #5.840\n",
    "xg2 = pd.read_csv('XG2.csv')        #5.822\n",
    "xg3 = pd.read_csv('XG3.csv')        #5.791\n",
    "xg4 = pd.read_csv('XG4.csv')        #5.788\n",
    "cat = pd.read_csv('CAT.csv')        #5.749\n",
    "df = pd.read_csv('cat_xg3_xg.csv') #5.677\n",
    "df1 = pd.read_csv('predictions_cat_1.csv') #5.705\n",
    "df2 = pd.read_csv('predictions_cat_1_cat_xg3_xg.csv')  # 5.635"
   ]
  },
  {
   "cell_type": "code",
   "execution_count": 2,
   "metadata": {},
   "outputs": [
    {
     "data": {
      "text/plain": [
       "20.670697176889828"
      ]
     },
     "execution_count": 2,
     "metadata": {},
     "output_type": "execute_result"
    }
   ],
   "source": [
    "df2['target'].max()"
   ]
  },
  {
   "cell_type": "code",
   "execution_count": 10,
   "metadata": {},
   "outputs": [],
   "source": [
    "predictions_cat_1_cat_xg3_xg = (np.array(predictions_cat_1.target) + np.array(cat_xg3_xg.target)) / 2"
   ]
  },
  {
   "cell_type": "code",
   "execution_count": 27,
   "metadata": {},
   "outputs": [],
   "source": [
    "stack2 = ((df2['target']*0.75 + xg['target']*0.25)*0.6 + df1['target']*0.4)"
   ]
  },
  {
   "cell_type": "code",
   "execution_count": 59,
   "metadata": {},
   "outputs": [],
   "source": [
    "sample1 = pd.read_csv('SampleSubmission.csv')\n",
    "test = pd.read_csv('test.csv')\n",
    "sample1.id = test.id\n",
    "sample1.target = new\n",
    "sample1.to_csv('new.csv', index = False)"
   ]
  },
  {
   "cell_type": "code",
   "execution_count": 23,
   "metadata": {},
   "outputs": [],
   "source": [
    "stack3 = (cat['target']*0.75 + xg['target']*0.25)*0.4 + df2['target']*0.6"
   ]
  },
  {
   "cell_type": "code",
   "execution_count": 46,
   "metadata": {},
   "outputs": [],
   "source": [
    "def corrected(data):\n",
    "    for i in range(len(data['target'])):\n",
    "        if data['target'].iloc[i] < 0:\n",
    "            data['target'].iloc[i] = 0\n",
    "    else:\n",
    "        pass\n",
    "    \n",
    "    return data"
   ]
  },
  {
   "cell_type": "code",
   "execution_count": 57,
   "metadata": {},
   "outputs": [],
   "source": [
    "df2 = corrected(df2)"
   ]
  },
  {
   "cell_type": "code",
   "execution_count": 58,
   "metadata": {},
   "outputs": [],
   "source": [
    "new = (df1['target'] + df['target']) / 2"
   ]
  },
  {
   "cell_type": "code",
   "execution_count": 49,
   "metadata": {},
   "outputs": [
    {
     "data": {
      "text/plain": [
       "0.0"
      ]
     },
     "execution_count": 49,
     "metadata": {},
     "output_type": "execute_result"
    }
   ],
   "source": [
    "xg['target'].min()"
   ]
  },
  {
   "cell_type": "code",
   "execution_count": 38,
   "metadata": {},
   "outputs": [],
   "source": [
    "ans = []\n",
    "for i in range(len(df2['target'])):\n",
    "    if df2['target'].iloc[i] < 0:\n",
    "        df2['target'].iloc[i] = 0\n",
    "    else:\n",
    "        pass"
   ]
  },
  {
   "cell_type": "code",
   "execution_count": 31,
   "metadata": {},
   "outputs": [],
   "source": [
    "df2['target'] = ans"
   ]
  },
  {
   "cell_type": "code",
   "execution_count": 40,
   "metadata": {},
   "outputs": [
    {
     "data": {
      "text/plain": [
       "0.0"
      ]
     },
     "execution_count": 40,
     "metadata": {},
     "output_type": "execute_result"
    }
   ],
   "source": [
    "df2['target'].min()"
   ]
  },
  {
   "cell_type": "code",
   "execution_count": 41,
   "metadata": {},
   "outputs": [],
   "source": [
    "df2.to_csv('df2_corrected.csv', index=False)"
   ]
  },
  {
   "cell_type": "code",
   "execution_count": 6,
   "metadata": {},
   "outputs": [],
   "source": [
    "cat_xg3_xg = (np.array(cat.target) + np.array(xg3.target) + np.array(xg.target)) / 3"
   ]
  },
  {
   "cell_type": "code",
   "execution_count": 8,
   "metadata": {},
   "outputs": [],
   "source": [
    "sample1 = pd.read_csv('SampleSubmission.csv')\n",
    "test = pd.read_csv('test.csv')\n",
    "sample1.id = test.id\n",
    "sample1.target = cat_xg3_xg\n",
    "sample1.to_csv('cat_xg3_xg.csv', index = False)"
   ]
  },
  {
   "cell_type": "code",
   "execution_count": 2,
   "metadata": {},
   "outputs": [],
   "source": [
    "xg_1_3_4 = (np.array(xg.target) + np.array(xg3.target) + np.array(xg4.target)) / 3"
   ]
  },
  {
   "cell_type": "code",
   "execution_count": 3,
   "metadata": {},
   "outputs": [],
   "source": [
    "sample1 = pd.read_csv('SampleSubmission.csv')\n",
    "test = pd.read_csv('test.csv')\n",
    "sample1.id = test.id\n",
    "sample1.target = xg_1_3_4\n",
    "sample1.to_csv('XG_1_3_4.csv', index = False)"
   ]
  },
  {
   "cell_type": "code",
   "execution_count": 4,
   "metadata": {},
   "outputs": [],
   "source": [
    "xg_3_4 = (np.array(xg3.target) + np.array(xg4.target)) / 2"
   ]
  },
  {
   "cell_type": "code",
   "execution_count": 5,
   "metadata": {},
   "outputs": [],
   "source": [
    "sample1 = pd.read_csv('SampleSubmission.csv')\n",
    "test = pd.read_csv('test.csv')\n",
    "sample1.id = test.id\n",
    "sample1.target = xg_3_4\n",
    "sample1.to_csv('xg_3_4.csv', index = False)"
   ]
  },
  {
   "cell_type": "code",
   "execution_count": 6,
   "metadata": {},
   "outputs": [],
   "source": [
    "xg_1_3 = (np.array(xg1.target) + np.array(xg3.target)) / 2"
   ]
  },
  {
   "cell_type": "code",
   "execution_count": 7,
   "metadata": {},
   "outputs": [],
   "source": [
    "sample1 = pd.read_csv('SampleSubmission.csv')\n",
    "test = pd.read_csv('test.csv')\n",
    "sample1.id = test.id\n",
    "sample1.target = xg_1_3\n",
    "sample1.to_csv('xg_1_3.csv', index = False)"
   ]
  },
  {
   "cell_type": "code",
   "execution_count": null,
   "metadata": {},
   "outputs": [],
   "source": []
  }
 ],
 "metadata": {
  "kernelspec": {
   "display_name": "Python 3",
   "language": "python",
   "name": "python3"
  },
  "language_info": {
   "codemirror_mode": {
    "name": "ipython",
    "version": 3
   },
   "file_extension": ".py",
   "mimetype": "text/x-python",
   "name": "python",
   "nbconvert_exporter": "python",
   "pygments_lexer": "ipython3",
   "version": "3.7.6"
  }
 },
 "nbformat": 4,
 "nbformat_minor": 4
}
