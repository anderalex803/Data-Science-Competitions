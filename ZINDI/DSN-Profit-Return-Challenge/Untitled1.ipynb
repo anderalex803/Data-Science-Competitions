{
 "cells": [
  {
   "cell_type": "code",
   "execution_count": 1,
   "metadata": {},
   "outputs": [],
   "source": [
    "import pandas as pd\n",
    "import numpy as np\n",
    "import numpy.random as nr\n",
    "import matplotlib.pyplot as plt\n",
    "import seaborn as sns\n",
    "import matplotlib.pyplot as plt\n",
    "import seaborn as sns\n",
    "import sklearn\n",
    "from sklearn.ensemble import RandomForestRegressor, ExtraTreesRegressor\n",
    "from sklearn.tree import DecisionTreeRegressor\n",
    "from sklearn import preprocessing\n",
    "import sklearn.model_selection as ms\n",
    "from sklearn.model_selection import GridSearchCV, cross_val_score, StratifiedKFold, train_test_split, KFold\n",
    "from sklearn.metrics import mean_squared_error, r2_score\n",
    "import xgboost as xgb\n",
    "import lightgbm as lgb\n",
    "import keras\n",
    "from keras.models import Sequential\n",
    "from keras.layers import Dense\n",
    "from keras.optimizers import Adam"
   ]
  },
  {
   "cell_type": "code",
   "execution_count": 2,
   "metadata": {},
   "outputs": [],
   "source": [
    "#importing files\n",
    "train = pd.read_csv('train.csv')\n",
    "test = pd.read_csv('test.csv')\n",
    "sample = pd.read_csv('SampleSubmission.csv')"
   ]
  },
  {
   "cell_type": "code",
   "execution_count": 3,
   "metadata": {},
   "outputs": [],
   "source": [
    "def one_hot_encoding(traindata, testdata, *args):\n",
    "    \n",
    "    for ii in args:\n",
    "        traindata = pd.get_dummies(traindata, prefix=[ii], columns=[ii])\n",
    "        testdata = pd.get_dummies(testdata, prefix=[ii], columns=[ii])\n",
    "        \n",
    "    return traindata, testdata\n",
    "\n",
    "def drop_columns(traindata, testdata, target, *args):\n",
    "    \n",
    "    labels = np.array(traindata[target])\n",
    "    \n",
    "    columns = []\n",
    "    for _ in args:\n",
    "        columns.append(_)\n",
    "        \n",
    "    traindata = traindata.drop(columns, axis=1)\n",
    "    #traindata = traindata.drop(target, axis=1)\n",
    "    testdata = testdata.drop(columns, axis=1)\n",
    "        \n",
    "    return labels, traindata, testdata"
   ]
  },
  {
   "cell_type": "code",
   "execution_count": 4,
   "metadata": {},
   "outputs": [],
   "source": [
    "def fill_missing_values(data):\n",
    "    \n",
    "    '''\n",
    "    Function to input missing values based on the column object type\n",
    "    '''\n",
    "    \n",
    "    cols = list(data.columns)\n",
    "    for col in cols:\n",
    "        if data[col].dtype == 'int64' or data[col].dtype == 'float64':\n",
    "        \n",
    "            data[col] = data[col].fillna(data[col].mean())\n",
    "        \n",
    "        #elif data[col].dtype == 'O' or data[col].dtype == 'object':\n",
    "        #    data[col] = data[col].fillna(data[col].mode()[0])\n",
    "            \n",
    "        else:\n",
    "            data[col] = data[col].fillna(data[col].mode()[0])\n",
    "            \n",
    "    return data"
   ]
  },
  {
   "cell_type": "code",
   "execution_count": 5,
   "metadata": {},
   "outputs": [],
   "source": [
    "def process(traindata, testdata):\n",
    "    \n",
    "    cols = list(traindata.columns)\n",
    "    for _ in cols:\n",
    "        traindata[_] = np.where(traindata[_] == np.inf, 0, traindata[_])\n",
    "        testdata[_] = np.where(testdata[_] == np.inf, 0, testdata[_])\n",
    "        traindata[_] = np.where(traindata[_] == np.nan, 0, traindata[_])\n",
    "        testdata[_] = np.where(testdata[_] == np.nan, 0, testdata[_])\n",
    "        traindata[_] = np.where(traindata[_] == -np.inf, 0, traindata[_])\n",
    "        testdata[_] = np.where(testdata[_] == -np.inf, 0, testdata[_])\n",
    "        \n",
    "    return traindata, testdata"
   ]
  },
  {
   "cell_type": "code",
   "execution_count": 37,
   "metadata": {},
   "outputs": [],
   "source": [
    "def freq_encode(data, cols):\n",
    "    for i in cols:\n",
    "        encoding = data.groupby(i).size()\n",
    "        encoding = encoding/len(data)\n",
    "        data[i + '_enc'] = data[i].map(encoding)\n",
    "    return data\n",
    "\n",
    "def mean_target(data, cols):\n",
    "    kf = KFold(5)\n",
    "    a = pd.DataFrame()\n",
    "    for tr_ind, val_ind in kf.split(data):\n",
    "        X_tr, X_val= data.iloc[tr_ind].copy(), data.iloc[val_ind].copy()\n",
    "        for col in cols:\n",
    "            means = X_val[col].map(X_tr.groupby(col).Item_Store_Returns.mean())\n",
    "            X_val[col + '_mean_target'] = means + 0.0001\n",
    "        a = pd.concat((a, X_val))\n",
    "    prior = target.mean()\n",
    "    a.fillna(prior, inplace=True)\n",
    "    return a"
   ]
  },
  {
   "cell_type": "code",
   "execution_count": 7,
   "metadata": {},
   "outputs": [],
   "source": [
    "ntrain = train.shape[0]\n",
    "ntest = test.shape[0]\n",
    "target = train.Item_Store_Returns.copy()\n",
    "df = pd.concat((train, test)).reset_index(drop=True)"
   ]
  },
  {
   "cell_type": "code",
   "execution_count": 26,
   "metadata": {},
   "outputs": [
    {
     "name": "stdout",
     "output_type": "stream",
     "text": [
      "<class 'pandas.core.frame.DataFrame'>\n",
      "RangeIndex: 4990 entries, 0 to 4989\n",
      "Data columns (total 13 columns):\n",
      " #   Column               Non-Null Count  Dtype  \n",
      "---  ------               --------------  -----  \n",
      " 0   Item_ID              4990 non-null   object \n",
      " 1   Store_ID             4990 non-null   object \n",
      " 2   Item_Store_ID        4990 non-null   object \n",
      " 3   Item_Weight          4188 non-null   float64\n",
      " 4   Item_Sugar_Content   4990 non-null   object \n",
      " 5   Item_Visibility      4990 non-null   float64\n",
      " 6   Item_Type            4990 non-null   object \n",
      " 7   Item_Price           4990 non-null   float64\n",
      " 8   Store_Start_Year     4990 non-null   int64  \n",
      " 9   Store_Size           3540 non-null   object \n",
      " 10  Store_Location_Type  4990 non-null   object \n",
      " 11  Store_Type           4990 non-null   object \n",
      " 12  Item_Store_Returns   4990 non-null   float64\n",
      "dtypes: float64(4), int64(1), object(8)\n",
      "memory usage: 506.9+ KB\n"
     ]
    }
   ],
   "source": [
    "train.info()"
   ]
  },
  {
   "cell_type": "code",
   "execution_count": 45,
   "metadata": {},
   "outputs": [
    {
     "data": {
      "text/plain": [
       "FDG33    9\n",
       "NCL31    9\n",
       "DRE49    9\n",
       "FDN56    8\n",
       "FDU13    8\n",
       "        ..\n",
       "FDS13    1\n",
       "FDX44    1\n",
       "FDO23    1\n",
       "FDH16    1\n",
       "FDL21    1\n",
       "Name: Item_ID, Length: 1451, dtype: int64"
      ]
     },
     "execution_count": 45,
     "metadata": {},
     "output_type": "execute_result"
    }
   ],
   "source": [
    "train.Item_ID.value_counts()"
   ]
  },
  {
   "cell_type": "code",
   "execution_count": 27,
   "metadata": {},
   "outputs": [],
   "source": [
    "drop_col = ['Item_Store_ID']\n",
    "cat_cols = ['Store_ID', 'Item_Sugar_Content', 'Item_Type', 'Store_Size', 'Store_Location_Type', 'Store_Type']\n",
    "num_cols = ['Item_Weight', 'Item_Visibility', 'Item_Price', 'Store_Start_Year']\n",
    "\n",
    "labels, train1, test1 = drop_columns(df, test, 'Item_Store_Returns', *drop_col)\n",
    "\n",
    "one_hot_cols = ['REGION', 'TENURE']\n",
    "\n",
    "#df, test1 = one_hot_encoding(df, test, *one_hot_cols)"
   ]
  },
  {
   "cell_type": "code",
   "execution_count": 32,
   "metadata": {},
   "outputs": [
    {
     "data": {
      "text/plain": [
       "(8522, 12)"
      ]
     },
     "execution_count": 32,
     "metadata": {},
     "output_type": "execute_result"
    }
   ],
   "source": [
    "df.shape"
   ]
  },
  {
   "cell_type": "code",
   "execution_count": 31,
   "metadata": {},
   "outputs": [],
   "source": [
    "df = df.drop('Item_Store_ID', axis=1)"
   ]
  },
  {
   "cell_type": "code",
   "execution_count": 40,
   "metadata": {},
   "outputs": [],
   "source": [
    "df = freq_encode(df, cat_cols)\n",
    "data = df.copy()"
   ]
  },
  {
   "cell_type": "code",
   "execution_count": 41,
   "metadata": {},
   "outputs": [
    {
     "data": {
      "text/plain": [
       "(8522, 18)"
      ]
     },
     "execution_count": 41,
     "metadata": {},
     "output_type": "execute_result"
    }
   ],
   "source": [
    "data.shape"
   ]
  },
  {
   "cell_type": "code",
   "execution_count": 50,
   "metadata": {},
   "outputs": [
    {
     "data": {
      "text/html": [
       "<div>\n",
       "<style scoped>\n",
       "    .dataframe tbody tr th:only-of-type {\n",
       "        vertical-align: middle;\n",
       "    }\n",
       "\n",
       "    .dataframe tbody tr th {\n",
       "        vertical-align: top;\n",
       "    }\n",
       "\n",
       "    .dataframe thead th {\n",
       "        text-align: right;\n",
       "    }\n",
       "</style>\n",
       "<table border=\"1\" class=\"dataframe\">\n",
       "  <thead>\n",
       "    <tr style=\"text-align: right;\">\n",
       "      <th></th>\n",
       "      <th>Item_ID</th>\n",
       "      <th>Store_ID</th>\n",
       "      <th>Item_Weight</th>\n",
       "      <th>Item_Sugar_Content</th>\n",
       "      <th>Item_Visibility</th>\n",
       "      <th>Item_Type</th>\n",
       "      <th>Item_Price</th>\n",
       "      <th>Store_Start_Year</th>\n",
       "      <th>Store_Size</th>\n",
       "      <th>Store_Location_Type</th>\n",
       "      <th>...</th>\n",
       "      <th>Store_Location_Type_enc</th>\n",
       "      <th>Store_Type_enc</th>\n",
       "      <th>Store_ID_mean_target</th>\n",
       "      <th>Item_Sugar_Content_mean_target</th>\n",
       "      <th>Item_Type_mean_target</th>\n",
       "      <th>Store_Size_mean_target</th>\n",
       "      <th>Store_Location_Type_mean_target</th>\n",
       "      <th>Store_Type_mean_target</th>\n",
       "      <th>Item_ID_mean_target</th>\n",
       "      <th>Item_ID_enc</th>\n",
       "    </tr>\n",
       "  </thead>\n",
       "  <tbody>\n",
       "    <tr>\n",
       "      <th>0</th>\n",
       "      <td>DRA12</td>\n",
       "      <td>BABATUNJI010</td>\n",
       "      <td>11.6</td>\n",
       "      <td>Low Sugar</td>\n",
       "      <td>0.068535</td>\n",
       "      <td>Soft Drinks</td>\n",
       "      <td>357.54</td>\n",
       "      <td>2005</td>\n",
       "      <td>6103.52</td>\n",
       "      <td>Cluster 3</td>\n",
       "      <td>...</td>\n",
       "      <td>0.392983</td>\n",
       "      <td>0.126966</td>\n",
       "      <td>638.542619</td>\n",
       "      <td>5998.375729</td>\n",
       "      <td>6103.520164</td>\n",
       "      <td>6103.520164</td>\n",
       "      <td>5783.390945</td>\n",
       "      <td>844.827098</td>\n",
       "      <td>6103.520164</td>\n",
       "      <td>0.000704</td>\n",
       "    </tr>\n",
       "    <tr>\n",
       "      <th>1</th>\n",
       "      <td>DRA12</td>\n",
       "      <td>BABATUNJI013</td>\n",
       "      <td>11.6</td>\n",
       "      <td>Low Sugar</td>\n",
       "      <td>0.040912</td>\n",
       "      <td>Soft Drinks</td>\n",
       "      <td>355.79</td>\n",
       "      <td>1994</td>\n",
       "      <td>High</td>\n",
       "      <td>Cluster 3</td>\n",
       "      <td>...</td>\n",
       "      <td>0.392983</td>\n",
       "      <td>0.654424</td>\n",
       "      <td>4050.556941</td>\n",
       "      <td>5998.375729</td>\n",
       "      <td>6103.520164</td>\n",
       "      <td>4050.556941</td>\n",
       "      <td>5783.390945</td>\n",
       "      <td>6402.821654</td>\n",
       "      <td>6103.520164</td>\n",
       "      <td>0.000704</td>\n",
       "    </tr>\n",
       "    <tr>\n",
       "      <th>2</th>\n",
       "      <td>DRA12</td>\n",
       "      <td>BABATUNJI017</td>\n",
       "      <td>11.6</td>\n",
       "      <td>Low Sugar</td>\n",
       "      <td>0.041178</td>\n",
       "      <td>Soft Drinks</td>\n",
       "      <td>350.79</td>\n",
       "      <td>2014</td>\n",
       "      <td>6103.52</td>\n",
       "      <td>Cluster 2</td>\n",
       "      <td>...</td>\n",
       "      <td>0.326801</td>\n",
       "      <td>0.654424</td>\n",
       "      <td>7558.126740</td>\n",
       "      <td>5998.375729</td>\n",
       "      <td>6103.520164</td>\n",
       "      <td>6103.520164</td>\n",
       "      <td>7579.261892</td>\n",
       "      <td>6402.821654</td>\n",
       "      <td>6103.520164</td>\n",
       "      <td>0.000704</td>\n",
       "    </tr>\n",
       "    <tr>\n",
       "      <th>3</th>\n",
       "      <td>DRA12</td>\n",
       "      <td>BABATUNJI018</td>\n",
       "      <td>11.6</td>\n",
       "      <td>Low Sugar</td>\n",
       "      <td>0.041113</td>\n",
       "      <td>Soft Drinks</td>\n",
       "      <td>355.04</td>\n",
       "      <td>2016</td>\n",
       "      <td>Medium</td>\n",
       "      <td>Cluster 3</td>\n",
       "      <td>...</td>\n",
       "      <td>0.392983</td>\n",
       "      <td>0.108895</td>\n",
       "      <td>5565.345977</td>\n",
       "      <td>5998.375729</td>\n",
       "      <td>6103.520164</td>\n",
       "      <td>7974.965018</td>\n",
       "      <td>5783.390945</td>\n",
       "      <td>5565.345977</td>\n",
       "      <td>6103.520164</td>\n",
       "      <td>0.000704</td>\n",
       "    </tr>\n",
       "    <tr>\n",
       "      <th>4</th>\n",
       "      <td>DRA12</td>\n",
       "      <td>BABATUNJI035</td>\n",
       "      <td>11.6</td>\n",
       "      <td>Ultra Low Sugar</td>\n",
       "      <td>0.000000</td>\n",
       "      <td>Soft Drinks</td>\n",
       "      <td>354.79</td>\n",
       "      <td>2011</td>\n",
       "      <td>Small</td>\n",
       "      <td>Cluster 2</td>\n",
       "      <td>...</td>\n",
       "      <td>0.326801</td>\n",
       "      <td>0.654424</td>\n",
       "      <td>7886.198484</td>\n",
       "      <td>5682.390784</td>\n",
       "      <td>6103.520164</td>\n",
       "      <td>5304.745551</td>\n",
       "      <td>7579.261892</td>\n",
       "      <td>6402.821654</td>\n",
       "      <td>6103.520164</td>\n",
       "      <td>0.000704</td>\n",
       "    </tr>\n",
       "  </tbody>\n",
       "</table>\n",
       "<p>5 rows × 26 columns</p>\n",
       "</div>"
      ],
      "text/plain": [
       "  Item_ID      Store_ID  Item_Weight Item_Sugar_Content  Item_Visibility  \\\n",
       "0   DRA12  BABATUNJI010         11.6          Low Sugar         0.068535   \n",
       "1   DRA12  BABATUNJI013         11.6          Low Sugar         0.040912   \n",
       "2   DRA12  BABATUNJI017         11.6          Low Sugar         0.041178   \n",
       "3   DRA12  BABATUNJI018         11.6          Low Sugar         0.041113   \n",
       "4   DRA12  BABATUNJI035         11.6    Ultra Low Sugar         0.000000   \n",
       "\n",
       "     Item_Type  Item_Price  Store_Start_Year Store_Size Store_Location_Type  \\\n",
       "0  Soft Drinks      357.54              2005    6103.52           Cluster 3   \n",
       "1  Soft Drinks      355.79              1994       High           Cluster 3   \n",
       "2  Soft Drinks      350.79              2014    6103.52           Cluster 2   \n",
       "3  Soft Drinks      355.04              2016     Medium           Cluster 3   \n",
       "4  Soft Drinks      354.79              2011      Small           Cluster 2   \n",
       "\n",
       "   ... Store_Location_Type_enc  Store_Type_enc  Store_ID_mean_target  \\\n",
       "0  ...                0.392983        0.126966            638.542619   \n",
       "1  ...                0.392983        0.654424           4050.556941   \n",
       "2  ...                0.326801        0.654424           7558.126740   \n",
       "3  ...                0.392983        0.108895           5565.345977   \n",
       "4  ...                0.326801        0.654424           7886.198484   \n",
       "\n",
       "   Item_Sugar_Content_mean_target  Item_Type_mean_target  \\\n",
       "0                     5998.375729            6103.520164   \n",
       "1                     5998.375729            6103.520164   \n",
       "2                     5998.375729            6103.520164   \n",
       "3                     5998.375729            6103.520164   \n",
       "4                     5682.390784            6103.520164   \n",
       "\n",
       "   Store_Size_mean_target  Store_Location_Type_mean_target  \\\n",
       "0             6103.520164                      5783.390945   \n",
       "1             4050.556941                      5783.390945   \n",
       "2             6103.520164                      7579.261892   \n",
       "3             7974.965018                      5783.390945   \n",
       "4             5304.745551                      7579.261892   \n",
       "\n",
       "   Store_Type_mean_target  Item_ID_mean_target  Item_ID_enc  \n",
       "0              844.827098          6103.520164     0.000704  \n",
       "1             6402.821654          6103.520164     0.000704  \n",
       "2             6402.821654          6103.520164     0.000704  \n",
       "3             5565.345977          6103.520164     0.000704  \n",
       "4             6402.821654          6103.520164     0.000704  \n",
       "\n",
       "[5 rows x 26 columns]"
      ]
     },
     "execution_count": 50,
     "metadata": {},
     "output_type": "execute_result"
    }
   ],
   "source": [
    "data.head()"
   ]
  },
  {
   "cell_type": "code",
   "execution_count": 43,
   "metadata": {},
   "outputs": [],
   "source": [
    "data = mean_target(data, cat_cols)"
   ]
  },
  {
   "cell_type": "code",
   "execution_count": 49,
   "metadata": {},
   "outputs": [
    {
     "data": {
      "text/plain": [
       "(8522, 26)"
      ]
     },
     "execution_count": 49,
     "metadata": {},
     "output_type": "execute_result"
    }
   ],
   "source": [
    "data.shape"
   ]
  },
  {
   "cell_type": "code",
   "execution_count": 48,
   "metadata": {},
   "outputs": [],
   "source": [
    "data = freq_encode(data, ['Item_ID'])"
   ]
  },
  {
   "cell_type": "code",
   "execution_count": 51,
   "metadata": {},
   "outputs": [],
   "source": [
    "data, test1 = one_hot_encoding(data, test, *cat_cols)"
   ]
  },
  {
   "cell_type": "code",
   "execution_count": 52,
   "metadata": {},
   "outputs": [
    {
     "data": {
      "text/plain": [
       "(8522, 60)"
      ]
     },
     "execution_count": 52,
     "metadata": {},
     "output_type": "execute_result"
    }
   ],
   "source": [
    "data.shape"
   ]
  },
  {
   "cell_type": "code",
   "execution_count": 53,
   "metadata": {},
   "outputs": [
    {
     "data": {
      "text/html": [
       "<div>\n",
       "<style scoped>\n",
       "    .dataframe tbody tr th:only-of-type {\n",
       "        vertical-align: middle;\n",
       "    }\n",
       "\n",
       "    .dataframe tbody tr th {\n",
       "        vertical-align: top;\n",
       "    }\n",
       "\n",
       "    .dataframe thead th {\n",
       "        text-align: right;\n",
       "    }\n",
       "</style>\n",
       "<table border=\"1\" class=\"dataframe\">\n",
       "  <thead>\n",
       "    <tr style=\"text-align: right;\">\n",
       "      <th></th>\n",
       "      <th>Item_ID</th>\n",
       "      <th>Item_Weight</th>\n",
       "      <th>Item_Visibility</th>\n",
       "      <th>Item_Price</th>\n",
       "      <th>Store_Start_Year</th>\n",
       "      <th>Item_Store_Returns</th>\n",
       "      <th>Store_ID_enc</th>\n",
       "      <th>Item_Sugar_Content_enc</th>\n",
       "      <th>Item_Type_enc</th>\n",
       "      <th>Store_Size_enc</th>\n",
       "      <th>...</th>\n",
       "      <th>Store_Size_High</th>\n",
       "      <th>Store_Size_Medium</th>\n",
       "      <th>Store_Size_Small</th>\n",
       "      <th>Store_Location_Type_Cluster 1</th>\n",
       "      <th>Store_Location_Type_Cluster 2</th>\n",
       "      <th>Store_Location_Type_Cluster 3</th>\n",
       "      <th>Store_Type_Grocery Store</th>\n",
       "      <th>Store_Type_Supermarket Type1</th>\n",
       "      <th>Store_Type_Supermarket Type2</th>\n",
       "      <th>Store_Type_Supermarket Type3</th>\n",
       "    </tr>\n",
       "  </thead>\n",
       "  <tbody>\n",
       "    <tr>\n",
       "      <th>0</th>\n",
       "      <td>DRA12</td>\n",
       "      <td>11.6</td>\n",
       "      <td>0.068535</td>\n",
       "      <td>357.54</td>\n",
       "      <td>2005</td>\n",
       "      <td>709.08</td>\n",
       "      <td>0.065008</td>\n",
       "      <td>0.610185</td>\n",
       "      <td>0.052218</td>\n",
       "      <td>6103.520164</td>\n",
       "      <td>...</td>\n",
       "      <td>0</td>\n",
       "      <td>0</td>\n",
       "      <td>0</td>\n",
       "      <td>0</td>\n",
       "      <td>0</td>\n",
       "      <td>1</td>\n",
       "      <td>1</td>\n",
       "      <td>0</td>\n",
       "      <td>0</td>\n",
       "      <td>0</td>\n",
       "    </tr>\n",
       "    <tr>\n",
       "      <th>1</th>\n",
       "      <td>DRA12</td>\n",
       "      <td>11.6</td>\n",
       "      <td>0.040912</td>\n",
       "      <td>355.79</td>\n",
       "      <td>1994</td>\n",
       "      <td>6381.69</td>\n",
       "      <td>0.109364</td>\n",
       "      <td>0.610185</td>\n",
       "      <td>0.052218</td>\n",
       "      <td>0.109364</td>\n",
       "      <td>...</td>\n",
       "      <td>1</td>\n",
       "      <td>0</td>\n",
       "      <td>0</td>\n",
       "      <td>0</td>\n",
       "      <td>0</td>\n",
       "      <td>1</td>\n",
       "      <td>0</td>\n",
       "      <td>1</td>\n",
       "      <td>0</td>\n",
       "      <td>0</td>\n",
       "    </tr>\n",
       "    <tr>\n",
       "      <th>2</th>\n",
       "      <td>DRA12</td>\n",
       "      <td>11.6</td>\n",
       "      <td>0.041178</td>\n",
       "      <td>350.79</td>\n",
       "      <td>2014</td>\n",
       "      <td>6381.69</td>\n",
       "      <td>0.108660</td>\n",
       "      <td>0.610185</td>\n",
       "      <td>0.052218</td>\n",
       "      <td>6103.520164</td>\n",
       "      <td>...</td>\n",
       "      <td>0</td>\n",
       "      <td>0</td>\n",
       "      <td>0</td>\n",
       "      <td>0</td>\n",
       "      <td>1</td>\n",
       "      <td>0</td>\n",
       "      <td>0</td>\n",
       "      <td>1</td>\n",
       "      <td>0</td>\n",
       "      <td>0</td>\n",
       "    </tr>\n",
       "    <tr>\n",
       "      <th>3</th>\n",
       "      <td>DRA12</td>\n",
       "      <td>11.6</td>\n",
       "      <td>0.041113</td>\n",
       "      <td>355.04</td>\n",
       "      <td>2016</td>\n",
       "      <td>2127.23</td>\n",
       "      <td>0.108895</td>\n",
       "      <td>0.610185</td>\n",
       "      <td>0.052218</td>\n",
       "      <td>0.327740</td>\n",
       "      <td>...</td>\n",
       "      <td>0</td>\n",
       "      <td>1</td>\n",
       "      <td>0</td>\n",
       "      <td>0</td>\n",
       "      <td>0</td>\n",
       "      <td>1</td>\n",
       "      <td>0</td>\n",
       "      <td>0</td>\n",
       "      <td>1</td>\n",
       "      <td>0</td>\n",
       "    </tr>\n",
       "    <tr>\n",
       "      <th>4</th>\n",
       "      <td>DRA12</td>\n",
       "      <td>11.6</td>\n",
       "      <td>0.000000</td>\n",
       "      <td>354.79</td>\n",
       "      <td>2011</td>\n",
       "      <td>2481.77</td>\n",
       "      <td>0.109129</td>\n",
       "      <td>0.037080</td>\n",
       "      <td>0.052218</td>\n",
       "      <td>0.280216</td>\n",
       "      <td>...</td>\n",
       "      <td>0</td>\n",
       "      <td>0</td>\n",
       "      <td>1</td>\n",
       "      <td>0</td>\n",
       "      <td>1</td>\n",
       "      <td>0</td>\n",
       "      <td>0</td>\n",
       "      <td>1</td>\n",
       "      <td>0</td>\n",
       "      <td>0</td>\n",
       "    </tr>\n",
       "  </tbody>\n",
       "</table>\n",
       "<p>5 rows × 60 columns</p>\n",
       "</div>"
      ],
      "text/plain": [
       "  Item_ID  Item_Weight  Item_Visibility  Item_Price  Store_Start_Year  \\\n",
       "0   DRA12         11.6         0.068535      357.54              2005   \n",
       "1   DRA12         11.6         0.040912      355.79              1994   \n",
       "2   DRA12         11.6         0.041178      350.79              2014   \n",
       "3   DRA12         11.6         0.041113      355.04              2016   \n",
       "4   DRA12         11.6         0.000000      354.79              2011   \n",
       "\n",
       "   Item_Store_Returns  Store_ID_enc  Item_Sugar_Content_enc  Item_Type_enc  \\\n",
       "0              709.08      0.065008                0.610185       0.052218   \n",
       "1             6381.69      0.109364                0.610185       0.052218   \n",
       "2             6381.69      0.108660                0.610185       0.052218   \n",
       "3             2127.23      0.108895                0.610185       0.052218   \n",
       "4             2481.77      0.109129                0.037080       0.052218   \n",
       "\n",
       "   Store_Size_enc  ...  Store_Size_High  Store_Size_Medium  Store_Size_Small  \\\n",
       "0     6103.520164  ...                0                  0                 0   \n",
       "1        0.109364  ...                1                  0                 0   \n",
       "2     6103.520164  ...                0                  0                 0   \n",
       "3        0.327740  ...                0                  1                 0   \n",
       "4        0.280216  ...                0                  0                 1   \n",
       "\n",
       "   Store_Location_Type_Cluster 1  Store_Location_Type_Cluster 2  \\\n",
       "0                              0                              0   \n",
       "1                              0                              0   \n",
       "2                              0                              1   \n",
       "3                              0                              0   \n",
       "4                              0                              1   \n",
       "\n",
       "   Store_Location_Type_Cluster 3  Store_Type_Grocery Store  \\\n",
       "0                              1                         1   \n",
       "1                              1                         0   \n",
       "2                              0                         0   \n",
       "3                              1                         0   \n",
       "4                              0                         0   \n",
       "\n",
       "   Store_Type_Supermarket Type1  Store_Type_Supermarket Type2  \\\n",
       "0                             0                             0   \n",
       "1                             1                             0   \n",
       "2                             1                             0   \n",
       "3                             0                             1   \n",
       "4                             1                             0   \n",
       "\n",
       "   Store_Type_Supermarket Type3  \n",
       "0                             0  \n",
       "1                             0  \n",
       "2                             0  \n",
       "3                             0  \n",
       "4                             0  \n",
       "\n",
       "[5 rows x 60 columns]"
      ]
     },
     "execution_count": 53,
     "metadata": {},
     "output_type": "execute_result"
    }
   ],
   "source": [
    "data.head()"
   ]
  },
  {
   "cell_type": "code",
   "execution_count": 55,
   "metadata": {},
   "outputs": [],
   "source": [
    "data = data.drop('Item_ID', axis=1)"
   ]
  },
  {
   "cell_type": "code",
   "execution_count": 56,
   "metadata": {},
   "outputs": [
    {
     "data": {
      "text/plain": [
       "(8522, 59)"
      ]
     },
     "execution_count": 56,
     "metadata": {},
     "output_type": "execute_result"
    }
   ],
   "source": [
    "data.shape"
   ]
  },
  {
   "cell_type": "code",
   "execution_count": 59,
   "metadata": {},
   "outputs": [],
   "source": [
    "train2 = data[:ntrain].copy()\n",
    "target = train2.Item_Store_Returns.copy()\n",
    "train2.drop('Item_Store_Returns', axis=1, inplace=True)\n",
    "\n",
    "test2 = data[ntrain:].copy()\n",
    "test2.drop('Item_Store_Returns', axis=1, inplace=True)\n",
    "test2 = test2.reset_index(drop=True)"
   ]
  },
  {
   "cell_type": "code",
   "execution_count": 68,
   "metadata": {},
   "outputs": [
    {
     "data": {
      "text/plain": [
       "((4990, 58), (3532, 58))"
      ]
     },
     "execution_count": 68,
     "metadata": {},
     "output_type": "execute_result"
    }
   ],
   "source": [
    "train2.shape, test2.shape"
   ]
  },
  {
   "cell_type": "code",
   "execution_count": 61,
   "metadata": {},
   "outputs": [],
   "source": [
    "traindata = train2.copy()\n",
    "testdata = test2.copy()"
   ]
  },
  {
   "cell_type": "code",
   "execution_count": 62,
   "metadata": {},
   "outputs": [],
   "source": [
    "traindata = traindata.fillna(-999)\n",
    "testdata = testdata.fillna(-999)"
   ]
  },
  {
   "cell_type": "code",
   "execution_count": 63,
   "metadata": {},
   "outputs": [
    {
     "data": {
      "text/plain": [
       "array([[-0.43819088,  0.03051274, -0.28704749, ..., -1.39988137,\n",
       "        -0.33370432, -0.31942417],\n",
       "       [-0.43819088, -0.49015852, -0.30170824, ...,  0.71434624,\n",
       "        -0.33370432, -0.31942417],\n",
       "       [-0.43819088, -0.48515069, -0.34359611, ...,  0.71434624,\n",
       "        -0.33370432, -0.31942417],\n",
       "       ...,\n",
       "       [-0.4368274 ,  0.31312417,  0.12010262, ...,  0.71434624,\n",
       "        -0.33370432, -0.31942417],\n",
       "       [-0.4368274 ,  0.30993764,  0.10963065, ...,  0.71434624,\n",
       "        -0.33370432, -0.31942417],\n",
       "       [-0.4368274 ,  0.3123805 ,  0.09706429, ...,  0.71434624,\n",
       "        -0.33370432, -0.31942417]])"
      ]
     },
     "execution_count": 63,
     "metadata": {},
     "output_type": "execute_result"
    }
   ],
   "source": [
    "#using StandardScaler function to scale the numeric features \n",
    "\n",
    "scaler = preprocessing.StandardScaler().fit(traindata)\n",
    "traindata = scaler.transform(traindata)\n",
    "traindata"
   ]
  },
  {
   "cell_type": "code",
   "execution_count": 64,
   "metadata": {},
   "outputs": [
    {
     "data": {
      "text/plain": [
       "array([[-0.43967953,  2.77474712,  0.57115121, ..., -1.39988137,\n",
       "        -0.33370432, -0.31942417],\n",
       "       [-0.43967953,  1.14800547,  0.61303908, ...,  0.71434624,\n",
       "        -0.33370432, -0.31942417],\n",
       "       [-0.44007293,  0.2875366 ,  0.716921  , ...,  0.71434624,\n",
       "        -0.33370432, -0.31942417],\n",
       "       ...,\n",
       "       [-0.43868262, -1.0482099 ,  1.65043408, ...,  0.71434624,\n",
       "        -0.33370432, -0.31942417],\n",
       "       [-0.43908496, -0.48906654,  0.67017413, ..., -1.39988137,\n",
       "        -0.33370432, -0.31942417],\n",
       "       [-0.43908496, -0.80032009,  0.62619187, ...,  0.71434624,\n",
       "        -0.33370432, -0.31942417]])"
      ]
     },
     "execution_count": 64,
     "metadata": {},
     "output_type": "execute_result"
    }
   ],
   "source": [
    "testdata = scaler.transform(testdata)\n",
    "testdata"
   ]
  },
  {
   "cell_type": "code",
   "execution_count": 65,
   "metadata": {},
   "outputs": [],
   "source": [
    "traindata = pd.DataFrame(traindata)\n",
    "testdata = pd.DataFrame(testdata)"
   ]
  },
  {
   "cell_type": "code",
   "execution_count": 66,
   "metadata": {},
   "outputs": [],
   "source": [
    "x_train, x_test, y_train, y_test = ms.train_test_split(traindata, \n",
    "                                                       train.Item_Store_Returns, \n",
    "                                                       test_size=0.2, \n",
    "                                                       random_state=42)"
   ]
  },
  {
   "cell_type": "code",
   "execution_count": 67,
   "metadata": {},
   "outputs": [
    {
     "data": {
      "text/plain": [
       "((3992, 58), (998, 58))"
      ]
     },
     "execution_count": 67,
     "metadata": {},
     "output_type": "execute_result"
    }
   ],
   "source": [
    "x_train.shape, x_test.shape"
   ]
  },
  {
   "cell_type": "code",
   "execution_count": 69,
   "metadata": {},
   "outputs": [
    {
     "data": {
      "text/html": [
       "<div>\n",
       "<style scoped>\n",
       "    .dataframe tbody tr th:only-of-type {\n",
       "        vertical-align: middle;\n",
       "    }\n",
       "\n",
       "    .dataframe tbody tr th {\n",
       "        vertical-align: top;\n",
       "    }\n",
       "\n",
       "    .dataframe thead th {\n",
       "        text-align: right;\n",
       "    }\n",
       "</style>\n",
       "<table border=\"1\" class=\"dataframe\">\n",
       "  <thead>\n",
       "    <tr style=\"text-align: right;\">\n",
       "      <th></th>\n",
       "      <th>0</th>\n",
       "      <th>1</th>\n",
       "      <th>2</th>\n",
       "      <th>3</th>\n",
       "      <th>4</th>\n",
       "      <th>5</th>\n",
       "      <th>6</th>\n",
       "      <th>7</th>\n",
       "      <th>8</th>\n",
       "      <th>9</th>\n",
       "      <th>...</th>\n",
       "      <th>48</th>\n",
       "      <th>49</th>\n",
       "      <th>50</th>\n",
       "      <th>51</th>\n",
       "      <th>52</th>\n",
       "      <th>53</th>\n",
       "      <th>54</th>\n",
       "      <th>55</th>\n",
       "      <th>56</th>\n",
       "      <th>57</th>\n",
       "    </tr>\n",
       "  </thead>\n",
       "  <tbody>\n",
       "    <tr>\n",
       "      <th>0</th>\n",
       "      <td>-0.438191</td>\n",
       "      <td>0.030513</td>\n",
       "      <td>-0.287047</td>\n",
       "      <td>0.026132</td>\n",
       "      <td>-2.336230</td>\n",
       "      <td>0.742162</td>\n",
       "      <td>-0.990056</td>\n",
       "      <td>1.562491</td>\n",
       "      <td>1.155517</td>\n",
       "      <td>-1.359940</td>\n",
       "      <td>...</td>\n",
       "      <td>-0.367591</td>\n",
       "      <td>-0.681324</td>\n",
       "      <td>-0.613329</td>\n",
       "      <td>-0.645919</td>\n",
       "      <td>-0.681008</td>\n",
       "      <td>1.253860</td>\n",
       "      <td>2.427399</td>\n",
       "      <td>-1.399881</td>\n",
       "      <td>-0.333704</td>\n",
       "      <td>-0.319424</td>\n",
       "    </tr>\n",
       "    <tr>\n",
       "      <th>1</th>\n",
       "      <td>-0.438191</td>\n",
       "      <td>-0.490159</td>\n",
       "      <td>-0.301708</td>\n",
       "      <td>-1.301998</td>\n",
       "      <td>0.426800</td>\n",
       "      <td>0.742162</td>\n",
       "      <td>-0.990056</td>\n",
       "      <td>-0.640063</td>\n",
       "      <td>1.155517</td>\n",
       "      <td>0.714203</td>\n",
       "      <td>...</td>\n",
       "      <td>2.720418</td>\n",
       "      <td>-0.681324</td>\n",
       "      <td>-0.613329</td>\n",
       "      <td>-0.645919</td>\n",
       "      <td>-0.681008</td>\n",
       "      <td>1.253860</td>\n",
       "      <td>-0.411964</td>\n",
       "      <td>0.714346</td>\n",
       "      <td>-0.333704</td>\n",
       "      <td>-0.319424</td>\n",
       "    </tr>\n",
       "    <tr>\n",
       "      <th>2</th>\n",
       "      <td>-0.438191</td>\n",
       "      <td>-0.485151</td>\n",
       "      <td>-0.343596</td>\n",
       "      <td>1.112784</td>\n",
       "      <td>0.382943</td>\n",
       "      <td>0.742162</td>\n",
       "      <td>-0.990056</td>\n",
       "      <td>1.562491</td>\n",
       "      <td>-0.256331</td>\n",
       "      <td>0.714203</td>\n",
       "      <td>...</td>\n",
       "      <td>-0.367591</td>\n",
       "      <td>-0.681324</td>\n",
       "      <td>-0.613329</td>\n",
       "      <td>-0.645919</td>\n",
       "      <td>1.468411</td>\n",
       "      <td>-0.797537</td>\n",
       "      <td>-0.411964</td>\n",
       "      <td>0.714346</td>\n",
       "      <td>-0.333704</td>\n",
       "      <td>-0.319424</td>\n",
       "    </tr>\n",
       "    <tr>\n",
       "      <th>3</th>\n",
       "      <td>-0.438191</td>\n",
       "      <td>-0.486372</td>\n",
       "      <td>-0.307991</td>\n",
       "      <td>1.354262</td>\n",
       "      <td>0.397562</td>\n",
       "      <td>0.742162</td>\n",
       "      <td>-0.990056</td>\n",
       "      <td>-0.639984</td>\n",
       "      <td>1.155517</td>\n",
       "      <td>-1.431001</td>\n",
       "      <td>...</td>\n",
       "      <td>-0.367591</td>\n",
       "      <td>1.467731</td>\n",
       "      <td>-0.613329</td>\n",
       "      <td>-0.645919</td>\n",
       "      <td>-0.681008</td>\n",
       "      <td>1.253860</td>\n",
       "      <td>-0.411964</td>\n",
       "      <td>-1.399881</td>\n",
       "      <td>2.996665</td>\n",
       "      <td>-0.319424</td>\n",
       "    </tr>\n",
       "    <tr>\n",
       "      <th>4</th>\n",
       "      <td>-0.438191</td>\n",
       "      <td>-1.261307</td>\n",
       "      <td>-0.310086</td>\n",
       "      <td>0.750567</td>\n",
       "      <td>0.412181</td>\n",
       "      <td>-3.058250</td>\n",
       "      <td>-0.990056</td>\n",
       "      <td>-0.640001</td>\n",
       "      <td>-0.256331</td>\n",
       "      <td>0.714203</td>\n",
       "      <td>...</td>\n",
       "      <td>-0.367591</td>\n",
       "      <td>-0.681324</td>\n",
       "      <td>1.630447</td>\n",
       "      <td>-0.645919</td>\n",
       "      <td>1.468411</td>\n",
       "      <td>-0.797537</td>\n",
       "      <td>-0.411964</td>\n",
       "      <td>0.714346</td>\n",
       "      <td>-0.333704</td>\n",
       "      <td>-0.319424</td>\n",
       "    </tr>\n",
       "  </tbody>\n",
       "</table>\n",
       "<p>5 rows × 58 columns</p>\n",
       "</div>"
      ],
      "text/plain": [
       "         0         1         2         3         4         5         6   \\\n",
       "0 -0.438191  0.030513 -0.287047  0.026132 -2.336230  0.742162 -0.990056   \n",
       "1 -0.438191 -0.490159 -0.301708 -1.301998  0.426800  0.742162 -0.990056   \n",
       "2 -0.438191 -0.485151 -0.343596  1.112784  0.382943  0.742162 -0.990056   \n",
       "3 -0.438191 -0.486372 -0.307991  1.354262  0.397562  0.742162 -0.990056   \n",
       "4 -0.438191 -1.261307 -0.310086  0.750567  0.412181 -3.058250 -0.990056   \n",
       "\n",
       "         7         8         9   ...        48        49        50        51  \\\n",
       "0  1.562491  1.155517 -1.359940  ... -0.367591 -0.681324 -0.613329 -0.645919   \n",
       "1 -0.640063  1.155517  0.714203  ...  2.720418 -0.681324 -0.613329 -0.645919   \n",
       "2  1.562491 -0.256331  0.714203  ... -0.367591 -0.681324 -0.613329 -0.645919   \n",
       "3 -0.639984  1.155517 -1.431001  ... -0.367591  1.467731 -0.613329 -0.645919   \n",
       "4 -0.640001 -0.256331  0.714203  ... -0.367591 -0.681324  1.630447 -0.645919   \n",
       "\n",
       "         52        53        54        55        56        57  \n",
       "0 -0.681008  1.253860  2.427399 -1.399881 -0.333704 -0.319424  \n",
       "1 -0.681008  1.253860 -0.411964  0.714346 -0.333704 -0.319424  \n",
       "2  1.468411 -0.797537 -0.411964  0.714346 -0.333704 -0.319424  \n",
       "3 -0.681008  1.253860 -0.411964 -1.399881  2.996665 -0.319424  \n",
       "4  1.468411 -0.797537 -0.411964  0.714346 -0.333704 -0.319424  \n",
       "\n",
       "[5 rows x 58 columns]"
      ]
     },
     "execution_count": 69,
     "metadata": {},
     "output_type": "execute_result"
    }
   ],
   "source": [
    "traindata.head()"
   ]
  },
  {
   "cell_type": "code",
   "execution_count": 86,
   "metadata": {},
   "outputs": [
    {
     "name": "stdout",
     "output_type": "stream",
     "text": [
      "/home/olawale\n"
     ]
    }
   ],
   "source": [
    "cd"
   ]
  },
  {
   "cell_type": "code",
   "execution_count": 87,
   "metadata": {},
   "outputs": [
    {
     "name": "stdout",
     "output_type": "stream",
     "text": [
      "/home/olawale/Downloads\n"
     ]
    }
   ],
   "source": [
    "cd Downloads"
   ]
  },
  {
   "cell_type": "code",
   "execution_count": 90,
   "metadata": {},
   "outputs": [],
   "source": [
    "cat1 = pd.read_csv('baseline_cat (1).csv')\n",
    "cat2 = pd.read_csv('maxdepth_8_cat.csv')"
   ]
  },
  {
   "cell_type": "code",
   "execution_count": 91,
   "metadata": {},
   "outputs": [],
   "source": [
    "cat1_2 = (cat1.Item_Store_Returns + cat2.Item_Store_Returns)/2"
   ]
  },
  {
   "cell_type": "code",
   "execution_count": 92,
   "metadata": {},
   "outputs": [
    {
     "name": "stdout",
     "output_type": "stream",
     "text": [
      "/home/olawale\n"
     ]
    }
   ],
   "source": [
    "cd"
   ]
  },
  {
   "cell_type": "code",
   "execution_count": 93,
   "metadata": {},
   "outputs": [
    {
     "data": {
      "text/plain": [
       "'/home/olawale'"
      ]
     },
     "execution_count": 93,
     "metadata": {},
     "output_type": "execute_result"
    }
   ],
   "source": [
    "pwd"
   ]
  },
  {
   "cell_type": "code",
   "execution_count": 94,
   "metadata": {},
   "outputs": [
    {
     "name": "stdout",
     "output_type": "stream",
     "text": [
      "/home/olawale/Desktop/ZINDI-Competitions/ZINDI/DSN-Profit-Return-Challenge\n"
     ]
    }
   ],
   "source": [
    "cd './Desktop/ZINDI-Competitions/ZINDI/DSN-Profit-Return-Challenge/'"
   ]
  },
  {
   "cell_type": "code",
   "execution_count": 95,
   "metadata": {},
   "outputs": [],
   "source": [
    "test = pd.read_csv('test.csv')"
   ]
  },
  {
   "cell_type": "code",
   "execution_count": 96,
   "metadata": {},
   "outputs": [],
   "source": [
    "sample.Item_ID = test.Item_ID\n",
    "sample.Item_Store_Returns = cat1_2"
   ]
  },
  {
   "cell_type": "code",
   "execution_count": 97,
   "metadata": {},
   "outputs": [],
   "source": [
    "sample.to_csv('cat1_2.csv', index=False)"
   ]
  },
  {
   "cell_type": "code",
   "execution_count": null,
   "metadata": {},
   "outputs": [],
   "source": []
  }
 ],
 "metadata": {
  "kernelspec": {
   "display_name": "Python 3",
   "language": "python",
   "name": "python3"
  },
  "language_info": {
   "codemirror_mode": {
    "name": "ipython",
    "version": 3
   },
   "file_extension": ".py",
   "mimetype": "text/x-python",
   "name": "python",
   "nbconvert_exporter": "python",
   "pygments_lexer": "ipython3",
   "version": "3.7.6"
  }
 },
 "nbformat": 4,
 "nbformat_minor": 4
}
