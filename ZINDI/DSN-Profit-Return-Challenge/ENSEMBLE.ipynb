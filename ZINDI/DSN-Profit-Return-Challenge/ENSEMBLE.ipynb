{
 "cells": [
  {
   "cell_type": "code",
   "execution_count": 1,
   "metadata": {},
   "outputs": [],
   "source": [
    "import pandas as pd\n",
    "import numpy as np"
   ]
  },
  {
   "cell_type": "code",
   "execution_count": 2,
   "metadata": {},
   "outputs": [],
   "source": [
    "nn3 = pd.read_csv('NN3.csv')      #2483.9012\n",
    "nn2 = pd.read_csv('NN2.csv')     #2440.1093\n",
    "cat1 = pd.read_csv('CA_baseline.csv')    #2526.6346\n",
    "xg1 = pd.read_csv('XG-STACK.csv')   #2680.9506\n",
    "cat2 = pd.read_csv('CAT-20-FOLD-baseline.csv')   #2584.488"
   ]
  },
  {
   "cell_type": "code",
   "execution_count": 6,
   "metadata": {},
   "outputs": [],
   "source": [
    "nn2_3 = (nn3.Item_Store_Returns + nn2.Item_Store_Returns)/2"
   ]
  },
  {
   "cell_type": "code",
   "execution_count": 8,
   "metadata": {},
   "outputs": [],
   "source": [
    "all1 = (nn3.Item_Store_Returns + nn2.Item_Store_Returns + cat1.Item_Store_Returns + xg1.Item_Store_Returns\n",
    "        + cat2.Item_Store_Returns)/5"
   ]
  },
  {
   "cell_type": "code",
   "execution_count": 9,
   "metadata": {},
   "outputs": [],
   "source": [
    "#preparing the predictions make into the sample file for submission\n",
    "\n",
    "sample1 = pd.read_csv('SampleSubmission.csv')\n",
    "test = pd.read_csv('test.csv')\n",
    "sample1.Item_Store_ID = test.Item_Store_ID\n",
    "sample1.Item_Store_Returns = all1\n",
    "sample1.to_csv('all1.csv', index = False)"
   ]
  },
  {
   "cell_type": "code",
   "execution_count": 5,
   "metadata": {},
   "outputs": [
    {
     "data": {
      "text/html": [
       "<div>\n",
       "<style scoped>\n",
       "    .dataframe tbody tr th:only-of-type {\n",
       "        vertical-align: middle;\n",
       "    }\n",
       "\n",
       "    .dataframe tbody tr th {\n",
       "        vertical-align: top;\n",
       "    }\n",
       "\n",
       "    .dataframe thead th {\n",
       "        text-align: right;\n",
       "    }\n",
       "</style>\n",
       "<table border=\"1\" class=\"dataframe\">\n",
       "  <thead>\n",
       "    <tr style=\"text-align: right;\">\n",
       "      <th></th>\n",
       "      <th>Item_Store_ID</th>\n",
       "      <th>Item_Store_Returns</th>\n",
       "    </tr>\n",
       "  </thead>\n",
       "  <tbody>\n",
       "    <tr>\n",
       "      <th>0</th>\n",
       "      <td>DRA59_BABATUNJI010</td>\n",
       "      <td>1111.32570</td>\n",
       "    </tr>\n",
       "    <tr>\n",
       "      <th>1</th>\n",
       "      <td>DRA59_BABATUNJI013</td>\n",
       "      <td>8200.76900</td>\n",
       "    </tr>\n",
       "    <tr>\n",
       "      <th>2</th>\n",
       "      <td>DRB01_BABATUNJI013</td>\n",
       "      <td>8168.78860</td>\n",
       "    </tr>\n",
       "    <tr>\n",
       "      <th>3</th>\n",
       "      <td>DRB13_BABATUNJI010</td>\n",
       "      <td>1126.84000</td>\n",
       "    </tr>\n",
       "    <tr>\n",
       "      <th>4</th>\n",
       "      <td>DRB13_BABATUNJI013</td>\n",
       "      <td>8171.14500</td>\n",
       "    </tr>\n",
       "    <tr>\n",
       "      <th>...</th>\n",
       "      <td>...</td>\n",
       "      <td>...</td>\n",
       "    </tr>\n",
       "    <tr>\n",
       "      <th>3527</th>\n",
       "      <td>NCZ42_BABATUNJI010</td>\n",
       "      <td>2938.67000</td>\n",
       "    </tr>\n",
       "    <tr>\n",
       "      <th>3528</th>\n",
       "      <td>NCZ42_BABATUNJI013</td>\n",
       "      <td>10359.46900</td>\n",
       "    </tr>\n",
       "    <tr>\n",
       "      <th>3529</th>\n",
       "      <td>NCZ42_BABATUNJI049</td>\n",
       "      <td>10298.85800</td>\n",
       "    </tr>\n",
       "    <tr>\n",
       "      <th>3530</th>\n",
       "      <td>NCZ53_BABATUNJI010</td>\n",
       "      <td>1022.26276</td>\n",
       "    </tr>\n",
       "    <tr>\n",
       "      <th>3531</th>\n",
       "      <td>NCZ53_BABATUNJI013</td>\n",
       "      <td>8158.73200</td>\n",
       "    </tr>\n",
       "  </tbody>\n",
       "</table>\n",
       "<p>3532 rows × 2 columns</p>\n",
       "</div>"
      ],
      "text/plain": [
       "           Item_Store_ID  Item_Store_Returns\n",
       "0     DRA59_BABATUNJI010          1111.32570\n",
       "1     DRA59_BABATUNJI013          8200.76900\n",
       "2     DRB01_BABATUNJI013          8168.78860\n",
       "3     DRB13_BABATUNJI010          1126.84000\n",
       "4     DRB13_BABATUNJI013          8171.14500\n",
       "...                  ...                 ...\n",
       "3527  NCZ42_BABATUNJI010          2938.67000\n",
       "3528  NCZ42_BABATUNJI013         10359.46900\n",
       "3529  NCZ42_BABATUNJI049         10298.85800\n",
       "3530  NCZ53_BABATUNJI010          1022.26276\n",
       "3531  NCZ53_BABATUNJI013          8158.73200\n",
       "\n",
       "[3532 rows x 2 columns]"
      ]
     },
     "execution_count": 5,
     "metadata": {},
     "output_type": "execute_result"
    }
   ],
   "source": [
    "nn2"
   ]
  },
  {
   "cell_type": "code",
   "execution_count": 10,
   "metadata": {},
   "outputs": [
    {
     "data": {
      "text/plain": [
       "0       1826.756980\n",
       "1       7608.979182\n",
       "2       7638.968371\n",
       "3       2028.941283\n",
       "4       7668.806854\n",
       "           ...     \n",
       "3527    3443.347688\n",
       "3528    9146.573938\n",
       "3529    9466.821231\n",
       "3530    1924.454796\n",
       "3531    7450.058981\n",
       "Name: Item_Store_Returns, Length: 3532, dtype: float64"
      ]
     },
     "execution_count": 10,
     "metadata": {},
     "output_type": "execute_result"
    }
   ],
   "source": [
    "all1"
   ]
  },
  {
   "cell_type": "code",
   "execution_count": 11,
   "metadata": {},
   "outputs": [
    {
     "data": {
      "text/plain": [
       "0       1377.66085\n",
       "1       7535.77800\n",
       "2       7551.84010\n",
       "3       1528.65765\n",
       "4       7672.18530\n",
       "           ...    \n",
       "3527    3176.99835\n",
       "3528    9467.99250\n",
       "3529    9435.26450\n",
       "3530    1345.56953\n",
       "3531    7391.41630\n",
       "Name: Item_Store_Returns, Length: 3532, dtype: float64"
      ]
     },
     "execution_count": 11,
     "metadata": {},
     "output_type": "execute_result"
    }
   ],
   "source": [
    "nn2_3"
   ]
  },
  {
   "cell_type": "code",
   "execution_count": null,
   "metadata": {},
   "outputs": [],
   "source": []
  }
 ],
 "metadata": {
  "kernelspec": {
   "display_name": "Python 3",
   "language": "python",
   "name": "python3"
  },
  "language_info": {
   "codemirror_mode": {
    "name": "ipython",
    "version": 3
   },
   "file_extension": ".py",
   "mimetype": "text/x-python",
   "name": "python",
   "nbconvert_exporter": "python",
   "pygments_lexer": "ipython3",
   "version": "3.7.6"
  }
 },
 "nbformat": 4,
 "nbformat_minor": 4
}
