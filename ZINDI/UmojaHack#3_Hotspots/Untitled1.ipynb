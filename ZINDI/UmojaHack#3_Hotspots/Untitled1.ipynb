{
 "cells": [
  {
   "cell_type": "code",
   "execution_count": 21,
   "metadata": {},
   "outputs": [],
   "source": [
    "import numpy as np\n",
    "import pandas as pd\n",
    "import matplotlib.pyplot as plt\n",
    "import seaborn as sns\n",
    "import sklearn.metrics as sklm\n",
    "import xgboost as xgb\n",
    "import matplotlib"
   ]
  },
  {
   "cell_type": "code",
   "execution_count": 22,
   "metadata": {},
   "outputs": [],
   "source": [
    "train = pd.read_csv('train.csv', parse_dates = ['date'])\n",
    "test = pd.read_csv('test.csv', parse_dates = ['date'])\n",
    "submissions = pd.read_csv('SampleSubmission.csv')\n",
    "vd = pd.read_csv('VariableDefinitionsHotspot.csv')"
   ]
  },
  {
   "cell_type": "code",
   "execution_count": 23,
   "metadata": {},
   "outputs": [
    {
     "data": {
      "text/plain": [
       "<matplotlib.axes._subplots.AxesSubplot at 0x2018d78bac8>"
      ]
     },
     "execution_count": 23,
     "metadata": {},
     "output_type": "execute_result"
    },
    {
     "data": {
      "image/png": "[encoded data removed]",
      "text/plain": [
       "<Figure size 432x288 with 1 Axes>"
      ]
     },
     "metadata": {
      "needs_background": "light"
     },
     "output_type": "display_data"
    },
    {
     "data": {
      "image/png": "[encoded data removed]",
      "text/plain": [
       "<Figure size 432x288 with 1 Axes>"
      ]
     },
     "metadata": {
      "needs_background": "light"
     },
     "output_type": "display_data"
    }
   ],
   "source": [
    "# Date variables\n",
    "train['month'] = train.date.dt.month\n",
    "train['year'] = train.date.dt.year\n",
    "\n",
    "# Plotting mean burn_area for each month - very strong mid-year peak (dry season)\n",
    "train.groupby('month').mean().reset_index().plot(y='burn_area', x='year', kind='bar')\n",
    "\n",
    "# Date variables\n",
    "test['month'] = test.date.dt.month\n",
    "test['year'] = test.date.dt.year\n",
    "\n",
    "# Plotting mean burn_area for each month - very strong mid-year peak (dry season)\n",
    "test.groupby('month').mean().reset_index().plot(y='burn_area', x='year', kind='bar')"
   ]
  },
  {
   "cell_type": "code",
   "execution_count": 24,
   "metadata": {},
   "outputs": [
    {
     "name": "stdout",
     "output_type": "stream",
     "text": [
      "Index(['ID', 'area', 'date', 'lat', 'lon', 'burn_area', 'climate_aet',\n",
      "       'climate_def', 'climate_pdsi', 'climate_pet', 'climate_pr',\n",
      "       'climate_ro', 'climate_soil', 'climate_srad', 'climate_swe',\n",
      "       'climate_tmmn', 'climate_tmmx', 'climate_vap', 'climate_vpd',\n",
      "       'climate_vs', 'elevation', 'landcover_0', 'landcover_1', 'landcover_2',\n",
      "       'landcover_3', 'landcover_4', 'landcover_5', 'landcover_6',\n",
      "       'landcover_7', 'landcover_8', 'population_density', 'precipitation',\n",
      "       'month', 'year'],\n",
      "      dtype='object')\n"
     ]
    }
   ],
   "source": [
    "print(train.columns)\n",
    "\n",
    "train = train.drop(['population_density', 'ID', 'date', 'climate_swe', 'landcover_0',\n",
    "                    'landcover_1', 'landcover_2', 'landcover_3', 'landcover_5', 'landcover_6',\n",
    "                    'landcover_7', 'landcover_8'], axis=1)\n",
    "test = test.drop(['population_density', 'ID', 'burn_area', 'date', 'climate_swe', 'landcover_0','landcover_1', \n",
    "                  'landcover_2', 'landcover_3', 'landcover_5', 'landcover_6','landcover_7', 'landcover_8'], axis=1)"
   ]
  },
  {
   "cell_type": "code",
   "execution_count": 25,
   "metadata": {},
   "outputs": [
    {
     "name": "stdout",
     "output_type": "stream",
     "text": [
      "(626644, 22)\n",
      "(137556, 21)\n"
     ]
    }
   ],
   "source": [
    "print(train.shape)\n",
    "print(test.shape)"
   ]
  },
  {
   "cell_type": "code",
   "execution_count": 26,
   "metadata": {},
   "outputs": [
    {
     "name": "stdout",
     "output_type": "stream",
     "text": [
      "Index(['area', 'lat', 'lon', 'burn_area', 'climate_aet', 'climate_def',\n",
      "       'climate_pdsi', 'climate_pet', 'climate_pr', 'climate_ro',\n",
      "       'climate_soil', 'climate_srad', 'climate_tmmn', 'climate_tmmx',\n",
      "       'climate_vap', 'climate_vpd', 'climate_vs', 'elevation', 'landcover_4',\n",
      "       'precipitation', 'month', 'year'],\n",
      "      dtype='object')\n",
      "Index(['area', 'lat', 'lon', 'climate_aet', 'climate_def', 'climate_pdsi',\n",
      "       'climate_pet', 'climate_pr', 'climate_ro', 'climate_soil',\n",
      "       'climate_srad', 'climate_tmmn', 'climate_tmmx', 'climate_vap',\n",
      "       'climate_vpd', 'climate_vs', 'elevation', 'landcover_4',\n",
      "       'precipitation', 'month', 'year'],\n",
      "      dtype='object')\n"
     ]
    }
   ],
   "source": [
    "print(train.columns)\n",
    "print(test.columns)"
   ]
  },
  {
   "cell_type": "code",
   "execution_count": 27,
   "metadata": {},
   "outputs": [
    {
     "name": "stdout",
     "output_type": "stream",
     "text": [
      "[0.00368827 0.         0.         ... 0.         0.         0.        ]\n"
     ]
    }
   ],
   "source": [
    "Labels = np.array(train['burn_area'])\n",
    "print(Labels)"
   ]
  },
  {
   "cell_type": "code",
   "execution_count": 28,
   "metadata": {},
   "outputs": [],
   "source": [
    "train = train.drop('burn_area', axis=1)"
   ]
  },
  {
   "cell_type": "code",
   "execution_count": 29,
   "metadata": {},
   "outputs": [],
   "source": [
    "Features = np.array(train)\n",
    "test_enc = np.array(test)"
   ]
  },
  {
   "cell_type": "code",
   "execution_count": 30,
   "metadata": {},
   "outputs": [
    {
     "name": "stdout",
     "output_type": "stream",
     "text": [
      "[[-1.73159757  0.43753111  1.85451289 ...  0.1322863  -0.75212307\n",
      "  -1.68075649]\n",
      " [-1.73069097  0.49456614  1.85383075 ...  0.04842358 -0.75212307\n",
      "  -1.68075649]\n",
      " [-1.72978438  0.43650345  1.80403446 ...  0.23004017 -0.75212307\n",
      "  -1.68075649]\n",
      " ...\n",
      " [ 1.72978438  1.48445787 -2.34861303 ...  1.04469196  1.57520115\n",
      "   1.60372824]\n",
      " [ 1.73069097  1.54174981 -2.34565709 ...  0.77124435  1.57520115\n",
      "   1.60372824]\n",
      " [ 1.73159757  1.5450897  -2.39522601 ...  0.63133742  1.57520115\n",
      "   1.60372824]]\n"
     ]
    }
   ],
   "source": [
    "from sklearn import preprocessing\n",
    "\n",
    "scaler = preprocessing.StandardScaler().fit(Features[:, :])\n",
    "Features[:, :] = scaler.transform(Features[:, :])\n",
    "print(Features[:, :])"
   ]
  },
  {
   "cell_type": "code",
   "execution_count": 31,
   "metadata": {},
   "outputs": [],
   "source": [
    "scaler1 = preprocessing.StandardScaler().fit(test_enc[:, :])\n",
    "test_enc[:, :] = scaler1.transform(test_enc[:, :])\n",
    "#print(test_enc[:, :])"
   ]
  },
  {
   "cell_type": "code",
   "execution_count": 32,
   "metadata": {},
   "outputs": [],
   "source": [
    "import numpy.random as nr\n",
    "import sklearn.model_selection as ms\n",
    "## Randomly sample cases to create independent training and test data\n",
    "nr.seed(9988)\n",
    "indx = range(Features.shape[0])\n",
    "indx = ms.train_test_split(indx, test_size = 0.2)\n",
    "x_train = Features[indx[0],:]\n",
    "y_train = np.ravel(Labels[indx[0]])\n",
    "x_test = Features[indx[1],:]\n",
    "y_test = np.ravel(Labels[indx[1]])"
   ]
  },
  {
   "cell_type": "code",
   "execution_count": 33,
   "metadata": {},
   "outputs": [],
   "source": [
    "indx1 = range(x_train.shape[0])\n",
    "indx1 = ms.train_test_split(indx1, test_size = 0.2)\n",
    "x_train1 = x_train[indx1[0],:]\n",
    "y_train1 = np.ravel(y_train[indx1[0]])\n",
    "x_train_val = x_train[indx1[1],:]\n",
    "y_train_val = np.ravel(y_train[indx1[1]])"
   ]
  },
  {
   "cell_type": "code",
   "execution_count": 34,
   "metadata": {},
   "outputs": [
    {
     "name": "stdout",
     "output_type": "stream",
     "text": [
      "[0]\tvalidation_0-rmse:0.61490\tvalidation_1-rmse:0.61527\n",
      "Multiple eval metrics have been passed: 'validation_1-rmse' will be used for early stopping.\n",
      "\n",
      "Will train until validation_1-rmse hasn't improved in 10 rounds.\n",
      "[1]\tvalidation_0-rmse:0.55200\tvalidation_1-rmse:0.55233\n",
      "[2]\tvalidation_0-rmse:0.49653\tvalidation_1-rmse:0.49679\n",
      "[3]\tvalidation_0-rmse:0.44738\tvalidation_1-rmse:0.44748\n",
      "[4]\tvalidation_0-rmse:0.40352\tvalidation_1-rmse:0.40349\n",
      "[5]\tvalidation_0-rmse:0.36421\tvalidation_1-rmse:0.36421\n",
      "[6]\tvalidation_0-rmse:0.32889\tvalidation_1-rmse:0.32895\n",
      "[7]\tvalidation_0-rmse:0.29721\tvalidation_1-rmse:0.29730\n",
      "[8]\tvalidation_0-rmse:0.26875\tvalidation_1-rmse:0.26882\n",
      "[9]\tvalidation_0-rmse:0.24323\tvalidation_1-rmse:0.24329\n",
      "[10]\tvalidation_0-rmse:0.22024\tvalidation_1-rmse:0.22029\n",
      "[11]\tvalidation_0-rmse:0.19954\tvalidation_1-rmse:0.19964\n",
      "[12]\tvalidation_0-rmse:0.18092\tvalidation_1-rmse:0.18104\n",
      "[13]\tvalidation_0-rmse:0.16428\tvalidation_1-rmse:0.16434\n",
      "[14]\tvalidation_0-rmse:0.14922\tvalidation_1-rmse:0.14930\n",
      "[15]\tvalidation_0-rmse:0.13572\tvalidation_1-rmse:0.13583\n",
      "[16]\tvalidation_0-rmse:0.12366\tvalidation_1-rmse:0.12373\n",
      "[17]\tvalidation_0-rmse:0.11278\tvalidation_1-rmse:0.11288\n",
      "[18]\tvalidation_0-rmse:0.10303\tvalidation_1-rmse:0.10317\n",
      "[19]\tvalidation_0-rmse:0.09434\tvalidation_1-rmse:0.09447\n",
      "[20]\tvalidation_0-rmse:0.08658\tvalidation_1-rmse:0.08674\n",
      "[21]\tvalidation_0-rmse:0.07970\tvalidation_1-rmse:0.07986\n",
      "[22]\tvalidation_0-rmse:0.07358\tvalidation_1-rmse:0.07377\n",
      "[23]\tvalidation_0-rmse:0.06821\tvalidation_1-rmse:0.06840\n",
      "[24]\tvalidation_0-rmse:0.06347\tvalidation_1-rmse:0.06367\n",
      "[25]\tvalidation_0-rmse:0.05929\tvalidation_1-rmse:0.05950\n",
      "[26]\tvalidation_0-rmse:0.05564\tvalidation_1-rmse:0.05587\n",
      "[27]\tvalidation_0-rmse:0.05244\tvalidation_1-rmse:0.05270\n",
      "[28]\tvalidation_0-rmse:0.04959\tvalidation_1-rmse:0.04988\n",
      "[29]\tvalidation_0-rmse:0.04720\tvalidation_1-rmse:0.04750\n",
      "[30]\tvalidation_0-rmse:0.04510\tvalidation_1-rmse:0.04546\n",
      "[31]\tvalidation_0-rmse:0.04334\tvalidation_1-rmse:0.04371\n",
      "[32]\tvalidation_0-rmse:0.04183\tvalidation_1-rmse:0.04225\n",
      "[33]\tvalidation_0-rmse:0.04055\tvalidation_1-rmse:0.04099\n",
      "[34]\tvalidation_0-rmse:0.03942\tvalidation_1-rmse:0.03988\n",
      "[35]\tvalidation_0-rmse:0.03842\tvalidation_1-rmse:0.03889\n",
      "[36]\tvalidation_0-rmse:0.03753\tvalidation_1-rmse:0.03806\n",
      "[37]\tvalidation_0-rmse:0.03687\tvalidation_1-rmse:0.03742\n",
      "[38]\tvalidation_0-rmse:0.03623\tvalidation_1-rmse:0.03679\n",
      "[39]\tvalidation_0-rmse:0.03556\tvalidation_1-rmse:0.03613\n",
      "[40]\tvalidation_0-rmse:0.03509\tvalidation_1-rmse:0.03568\n",
      "[41]\tvalidation_0-rmse:0.03469\tvalidation_1-rmse:0.03532\n",
      "[42]\tvalidation_0-rmse:0.03430\tvalidation_1-rmse:0.03496\n",
      "[43]\tvalidation_0-rmse:0.03400\tvalidation_1-rmse:0.03469\n",
      "[44]\tvalidation_0-rmse:0.03372\tvalidation_1-rmse:0.03444\n",
      "[45]\tvalidation_0-rmse:0.03347\tvalidation_1-rmse:0.03420\n",
      "[46]\tvalidation_0-rmse:0.03328\tvalidation_1-rmse:0.03402\n",
      "[47]\tvalidation_0-rmse:0.03308\tvalidation_1-rmse:0.03386\n",
      "[48]\tvalidation_0-rmse:0.03285\tvalidation_1-rmse:0.03366\n",
      "[49]\tvalidation_0-rmse:0.03268\tvalidation_1-rmse:0.03349\n",
      "[50]\tvalidation_0-rmse:0.03258\tvalidation_1-rmse:0.03342\n",
      "[51]\tvalidation_0-rmse:0.03249\tvalidation_1-rmse:0.03334\n",
      "[52]\tvalidation_0-rmse:0.03237\tvalidation_1-rmse:0.03324\n",
      "[53]\tvalidation_0-rmse:0.03219\tvalidation_1-rmse:0.03308\n",
      "[54]\tvalidation_0-rmse:0.03209\tvalidation_1-rmse:0.03297\n",
      "[55]\tvalidation_0-rmse:0.03198\tvalidation_1-rmse:0.03287\n",
      "[56]\tvalidation_0-rmse:0.03183\tvalidation_1-rmse:0.03274\n",
      "[57]\tvalidation_0-rmse:0.03174\tvalidation_1-rmse:0.03266\n",
      "[58]\tvalidation_0-rmse:0.03168\tvalidation_1-rmse:0.03263\n",
      "[59]\tvalidation_0-rmse:0.03161\tvalidation_1-rmse:0.03257\n",
      "[60]\tvalidation_0-rmse:0.03157\tvalidation_1-rmse:0.03254\n",
      "[61]\tvalidation_0-rmse:0.03146\tvalidation_1-rmse:0.03247\n",
      "[62]\tvalidation_0-rmse:0.03137\tvalidation_1-rmse:0.03239\n",
      "[63]\tvalidation_0-rmse:0.03130\tvalidation_1-rmse:0.03234\n",
      "[64]\tvalidation_0-rmse:0.03125\tvalidation_1-rmse:0.03229\n",
      "[65]\tvalidation_0-rmse:0.03112\tvalidation_1-rmse:0.03217\n",
      "[66]\tvalidation_0-rmse:0.03101\tvalidation_1-rmse:0.03207\n",
      "[67]\tvalidation_0-rmse:0.03099\tvalidation_1-rmse:0.03205\n",
      "[68]\tvalidation_0-rmse:0.03094\tvalidation_1-rmse:0.03201\n",
      "[69]\tvalidation_0-rmse:0.03091\tvalidation_1-rmse:0.03199\n",
      "[70]\tvalidation_0-rmse:0.03084\tvalidation_1-rmse:0.03194\n",
      "[71]\tvalidation_0-rmse:0.03076\tvalidation_1-rmse:0.03189\n",
      "[72]\tvalidation_0-rmse:0.03068\tvalidation_1-rmse:0.03182\n",
      "[73]\tvalidation_0-rmse:0.03063\tvalidation_1-rmse:0.03178\n",
      "[74]\tvalidation_0-rmse:0.03053\tvalidation_1-rmse:0.03169\n",
      "[75]\tvalidation_0-rmse:0.03049\tvalidation_1-rmse:0.03166\n",
      "[76]\tvalidation_0-rmse:0.03042\tvalidation_1-rmse:0.03162\n",
      "[77]\tvalidation_0-rmse:0.03037\tvalidation_1-rmse:0.03158\n",
      "[78]\tvalidation_0-rmse:0.03030\tvalidation_1-rmse:0.03151\n",
      "[79]\tvalidation_0-rmse:0.03024\tvalidation_1-rmse:0.03146\n",
      "[80]\tvalidation_0-rmse:0.03008\tvalidation_1-rmse:0.03132\n",
      "[81]\tvalidation_0-rmse:0.03002\tvalidation_1-rmse:0.03128\n",
      "[82]\tvalidation_0-rmse:0.02993\tvalidation_1-rmse:0.03121\n",
      "[83]\tvalidation_0-rmse:0.02992\tvalidation_1-rmse:0.03120\n",
      "[84]\tvalidation_0-rmse:0.02983\tvalidation_1-rmse:0.03112\n",
      "[85]\tvalidation_0-rmse:0.02980\tvalidation_1-rmse:0.03110\n",
      "[86]\tvalidation_0-rmse:0.02970\tvalidation_1-rmse:0.03103\n",
      "[87]\tvalidation_0-rmse:0.02964\tvalidation_1-rmse:0.03097\n",
      "[88]\tvalidation_0-rmse:0.02959\tvalidation_1-rmse:0.03093\n",
      "[89]\tvalidation_0-rmse:0.02953\tvalidation_1-rmse:0.03088\n",
      "[90]\tvalidation_0-rmse:0.02937\tvalidation_1-rmse:0.03076\n",
      "[91]\tvalidation_0-rmse:0.02930\tvalidation_1-rmse:0.03068\n",
      "[92]\tvalidation_0-rmse:0.02926\tvalidation_1-rmse:0.03066\n",
      "[93]\tvalidation_0-rmse:0.02909\tvalidation_1-rmse:0.03054\n",
      "[94]\tvalidation_0-rmse:0.02906\tvalidation_1-rmse:0.03052\n",
      "[95]\tvalidation_0-rmse:0.02880\tvalidation_1-rmse:0.03030\n",
      "[96]\tvalidation_0-rmse:0.02869\tvalidation_1-rmse:0.03023\n",
      "[97]\tvalidation_0-rmse:0.02861\tvalidation_1-rmse:0.03016\n",
      "[98]\tvalidation_0-rmse:0.02850\tvalidation_1-rmse:0.03007\n",
      "[99]\tvalidation_0-rmse:0.02837\tvalidation_1-rmse:0.02996\n",
      "[100]\tvalidation_0-rmse:0.02829\tvalidation_1-rmse:0.02990\n",
      "[101]\tvalidation_0-rmse:0.02809\tvalidation_1-rmse:0.02972\n",
      "[102]\tvalidation_0-rmse:0.02797\tvalidation_1-rmse:0.02961\n",
      "[103]\tvalidation_0-rmse:0.02795\tvalidation_1-rmse:0.02959\n",
      "[104]\tvalidation_0-rmse:0.02781\tvalidation_1-rmse:0.02947\n",
      "[105]\tvalidation_0-rmse:0.02759\tvalidation_1-rmse:0.02932\n",
      "[106]\tvalidation_0-rmse:0.02755\tvalidation_1-rmse:0.02930\n",
      "[107]\tvalidation_0-rmse:0.02749\tvalidation_1-rmse:0.02927\n",
      "[108]\tvalidation_0-rmse:0.02736\tvalidation_1-rmse:0.02917\n",
      "[109]\tvalidation_0-rmse:0.02714\tvalidation_1-rmse:0.02901\n",
      "[110]\tvalidation_0-rmse:0.02712\tvalidation_1-rmse:0.02899\n",
      "[111]\tvalidation_0-rmse:0.02707\tvalidation_1-rmse:0.02896\n",
      "[112]\tvalidation_0-rmse:0.02702\tvalidation_1-rmse:0.02891\n",
      "[113]\tvalidation_0-rmse:0.02699\tvalidation_1-rmse:0.02890\n",
      "[114]\tvalidation_0-rmse:0.02696\tvalidation_1-rmse:0.02887\n",
      "[115]\tvalidation_0-rmse:0.02686\tvalidation_1-rmse:0.02881\n",
      "[116]\tvalidation_0-rmse:0.02677\tvalidation_1-rmse:0.02875\n",
      "[117]\tvalidation_0-rmse:0.02665\tvalidation_1-rmse:0.02866\n",
      "[118]\tvalidation_0-rmse:0.02658\tvalidation_1-rmse:0.02861\n",
      "[119]\tvalidation_0-rmse:0.02640\tvalidation_1-rmse:0.02848\n",
      "[120]\tvalidation_0-rmse:0.02634\tvalidation_1-rmse:0.02844\n",
      "[121]\tvalidation_0-rmse:0.02625\tvalidation_1-rmse:0.02838\n",
      "[122]\tvalidation_0-rmse:0.02612\tvalidation_1-rmse:0.02828\n",
      "[123]\tvalidation_0-rmse:0.02610\tvalidation_1-rmse:0.02827\n",
      "[124]\tvalidation_0-rmse:0.02592\tvalidation_1-rmse:0.02813\n",
      "[125]\tvalidation_0-rmse:0.02582\tvalidation_1-rmse:0.02807\n",
      "[126]\tvalidation_0-rmse:0.02577\tvalidation_1-rmse:0.02803\n",
      "[127]\tvalidation_0-rmse:0.02573\tvalidation_1-rmse:0.02800\n",
      "[128]\tvalidation_0-rmse:0.02557\tvalidation_1-rmse:0.02788\n",
      "[129]\tvalidation_0-rmse:0.02548\tvalidation_1-rmse:0.02783\n",
      "[130]\tvalidation_0-rmse:0.02531\tvalidation_1-rmse:0.02770\n",
      "[131]\tvalidation_0-rmse:0.02524\tvalidation_1-rmse:0.02765\n",
      "[132]\tvalidation_0-rmse:0.02511\tvalidation_1-rmse:0.02756\n",
      "[133]\tvalidation_0-rmse:0.02506\tvalidation_1-rmse:0.02754\n",
      "[134]\tvalidation_0-rmse:0.02502\tvalidation_1-rmse:0.02751\n",
      "[135]\tvalidation_0-rmse:0.02491\tvalidation_1-rmse:0.02745\n",
      "[136]\tvalidation_0-rmse:0.02482\tvalidation_1-rmse:0.02739\n",
      "[137]\tvalidation_0-rmse:0.02480\tvalidation_1-rmse:0.02738\n",
      "[138]\tvalidation_0-rmse:0.02468\tvalidation_1-rmse:0.02729\n",
      "[139]\tvalidation_0-rmse:0.02458\tvalidation_1-rmse:0.02725\n",
      "[140]\tvalidation_0-rmse:0.02451\tvalidation_1-rmse:0.02719\n"
     ]
    },
    {
     "name": "stdout",
     "output_type": "stream",
     "text": [
      "[141]\tvalidation_0-rmse:0.02447\tvalidation_1-rmse:0.02717\n",
      "[142]\tvalidation_0-rmse:0.02436\tvalidation_1-rmse:0.02709\n",
      "[143]\tvalidation_0-rmse:0.02415\tvalidation_1-rmse:0.02694\n",
      "[144]\tvalidation_0-rmse:0.02411\tvalidation_1-rmse:0.02690\n",
      "[145]\tvalidation_0-rmse:0.02399\tvalidation_1-rmse:0.02681\n",
      "[146]\tvalidation_0-rmse:0.02383\tvalidation_1-rmse:0.02668\n",
      "[147]\tvalidation_0-rmse:0.02378\tvalidation_1-rmse:0.02665\n",
      "[148]\tvalidation_0-rmse:0.02374\tvalidation_1-rmse:0.02662\n",
      "[149]\tvalidation_0-rmse:0.02365\tvalidation_1-rmse:0.02658\n",
      "[150]\tvalidation_0-rmse:0.02355\tvalidation_1-rmse:0.02651\n",
      "[151]\tvalidation_0-rmse:0.02349\tvalidation_1-rmse:0.02649\n",
      "[152]\tvalidation_0-rmse:0.02336\tvalidation_1-rmse:0.02641\n",
      "[153]\tvalidation_0-rmse:0.02324\tvalidation_1-rmse:0.02633\n",
      "[154]\tvalidation_0-rmse:0.02323\tvalidation_1-rmse:0.02633\n",
      "[155]\tvalidation_0-rmse:0.02317\tvalidation_1-rmse:0.02630\n",
      "[156]\tvalidation_0-rmse:0.02303\tvalidation_1-rmse:0.02622\n",
      "[157]\tvalidation_0-rmse:0.02294\tvalidation_1-rmse:0.02618\n",
      "[158]\tvalidation_0-rmse:0.02293\tvalidation_1-rmse:0.02618\n",
      "[159]\tvalidation_0-rmse:0.02273\tvalidation_1-rmse:0.02602\n",
      "[160]\tvalidation_0-rmse:0.02254\tvalidation_1-rmse:0.02589\n",
      "[161]\tvalidation_0-rmse:0.02247\tvalidation_1-rmse:0.02584\n",
      "[162]\tvalidation_0-rmse:0.02243\tvalidation_1-rmse:0.02581\n",
      "[163]\tvalidation_0-rmse:0.02238\tvalidation_1-rmse:0.02579\n",
      "[164]\tvalidation_0-rmse:0.02220\tvalidation_1-rmse:0.02565\n",
      "[165]\tvalidation_0-rmse:0.02218\tvalidation_1-rmse:0.02565\n",
      "[166]\tvalidation_0-rmse:0.02213\tvalidation_1-rmse:0.02561\n",
      "[167]\tvalidation_0-rmse:0.02208\tvalidation_1-rmse:0.02559\n",
      "[168]\tvalidation_0-rmse:0.02205\tvalidation_1-rmse:0.02558\n",
      "[169]\tvalidation_0-rmse:0.02200\tvalidation_1-rmse:0.02554\n",
      "[170]\tvalidation_0-rmse:0.02193\tvalidation_1-rmse:0.02550\n",
      "[171]\tvalidation_0-rmse:0.02186\tvalidation_1-rmse:0.02546\n",
      "[172]\tvalidation_0-rmse:0.02185\tvalidation_1-rmse:0.02545\n",
      "[173]\tvalidation_0-rmse:0.02182\tvalidation_1-rmse:0.02543\n",
      "[174]\tvalidation_0-rmse:0.02175\tvalidation_1-rmse:0.02540\n",
      "[175]\tvalidation_0-rmse:0.02172\tvalidation_1-rmse:0.02538\n",
      "[176]\tvalidation_0-rmse:0.02170\tvalidation_1-rmse:0.02536\n",
      "[177]\tvalidation_0-rmse:0.02168\tvalidation_1-rmse:0.02535\n",
      "[178]\tvalidation_0-rmse:0.02164\tvalidation_1-rmse:0.02533\n",
      "[179]\tvalidation_0-rmse:0.02160\tvalidation_1-rmse:0.02531\n",
      "[180]\tvalidation_0-rmse:0.02157\tvalidation_1-rmse:0.02531\n",
      "[181]\tvalidation_0-rmse:0.02146\tvalidation_1-rmse:0.02522\n",
      "[182]\tvalidation_0-rmse:0.02136\tvalidation_1-rmse:0.02515\n",
      "[183]\tvalidation_0-rmse:0.02129\tvalidation_1-rmse:0.02510\n",
      "[184]\tvalidation_0-rmse:0.02125\tvalidation_1-rmse:0.02508\n",
      "[185]\tvalidation_0-rmse:0.02122\tvalidation_1-rmse:0.02506\n",
      "[186]\tvalidation_0-rmse:0.02121\tvalidation_1-rmse:0.02506\n",
      "[187]\tvalidation_0-rmse:0.02118\tvalidation_1-rmse:0.02504\n",
      "[188]\tvalidation_0-rmse:0.02115\tvalidation_1-rmse:0.02502\n",
      "[189]\tvalidation_0-rmse:0.02107\tvalidation_1-rmse:0.02498\n",
      "[190]\tvalidation_0-rmse:0.02097\tvalidation_1-rmse:0.02493\n",
      "[191]\tvalidation_0-rmse:0.02094\tvalidation_1-rmse:0.02491\n",
      "[192]\tvalidation_0-rmse:0.02084\tvalidation_1-rmse:0.02488\n",
      "[193]\tvalidation_0-rmse:0.02079\tvalidation_1-rmse:0.02485\n",
      "[194]\tvalidation_0-rmse:0.02077\tvalidation_1-rmse:0.02485\n",
      "[195]\tvalidation_0-rmse:0.02070\tvalidation_1-rmse:0.02482\n",
      "[196]\tvalidation_0-rmse:0.02063\tvalidation_1-rmse:0.02477\n",
      "[197]\tvalidation_0-rmse:0.02058\tvalidation_1-rmse:0.02474\n",
      "[198]\tvalidation_0-rmse:0.02055\tvalidation_1-rmse:0.02472\n",
      "[199]\tvalidation_0-rmse:0.02048\tvalidation_1-rmse:0.02468\n",
      "[200]\tvalidation_0-rmse:0.02046\tvalidation_1-rmse:0.02467\n",
      "[201]\tvalidation_0-rmse:0.02040\tvalidation_1-rmse:0.02461\n",
      "[202]\tvalidation_0-rmse:0.02030\tvalidation_1-rmse:0.02455\n",
      "[203]\tvalidation_0-rmse:0.02029\tvalidation_1-rmse:0.02454\n",
      "[204]\tvalidation_0-rmse:0.02023\tvalidation_1-rmse:0.02451\n",
      "[205]\tvalidation_0-rmse:0.02021\tvalidation_1-rmse:0.02450\n",
      "[206]\tvalidation_0-rmse:0.02018\tvalidation_1-rmse:0.02448\n",
      "[207]\tvalidation_0-rmse:0.02014\tvalidation_1-rmse:0.02445\n",
      "[208]\tvalidation_0-rmse:0.02012\tvalidation_1-rmse:0.02444\n",
      "[209]\tvalidation_0-rmse:0.02010\tvalidation_1-rmse:0.02444\n",
      "[210]\tvalidation_0-rmse:0.02005\tvalidation_1-rmse:0.02442\n",
      "[211]\tvalidation_0-rmse:0.02001\tvalidation_1-rmse:0.02441\n",
      "[212]\tvalidation_0-rmse:0.02000\tvalidation_1-rmse:0.02440\n",
      "[213]\tvalidation_0-rmse:0.01998\tvalidation_1-rmse:0.02440\n",
      "[214]\tvalidation_0-rmse:0.01993\tvalidation_1-rmse:0.02436\n",
      "[215]\tvalidation_0-rmse:0.01990\tvalidation_1-rmse:0.02435\n",
      "[216]\tvalidation_0-rmse:0.01982\tvalidation_1-rmse:0.02432\n",
      "[217]\tvalidation_0-rmse:0.01981\tvalidation_1-rmse:0.02431\n",
      "[218]\tvalidation_0-rmse:0.01978\tvalidation_1-rmse:0.02429\n",
      "[219]\tvalidation_0-rmse:0.01973\tvalidation_1-rmse:0.02426\n",
      "[220]\tvalidation_0-rmse:0.01969\tvalidation_1-rmse:0.02425\n",
      "[221]\tvalidation_0-rmse:0.01965\tvalidation_1-rmse:0.02423\n",
      "[222]\tvalidation_0-rmse:0.01955\tvalidation_1-rmse:0.02416\n",
      "[223]\tvalidation_0-rmse:0.01954\tvalidation_1-rmse:0.02416\n",
      "[224]\tvalidation_0-rmse:0.01944\tvalidation_1-rmse:0.02411\n",
      "[225]\tvalidation_0-rmse:0.01935\tvalidation_1-rmse:0.02407\n",
      "[226]\tvalidation_0-rmse:0.01931\tvalidation_1-rmse:0.02406\n",
      "[227]\tvalidation_0-rmse:0.01929\tvalidation_1-rmse:0.02405\n",
      "[228]\tvalidation_0-rmse:0.01925\tvalidation_1-rmse:0.02403\n",
      "[229]\tvalidation_0-rmse:0.01920\tvalidation_1-rmse:0.02401\n",
      "[230]\tvalidation_0-rmse:0.01918\tvalidation_1-rmse:0.02401\n",
      "[231]\tvalidation_0-rmse:0.01914\tvalidation_1-rmse:0.02399\n",
      "[232]\tvalidation_0-rmse:0.01914\tvalidation_1-rmse:0.02398\n",
      "[233]\tvalidation_0-rmse:0.01911\tvalidation_1-rmse:0.02398\n",
      "[234]\tvalidation_0-rmse:0.01908\tvalidation_1-rmse:0.02396\n",
      "[235]\tvalidation_0-rmse:0.01904\tvalidation_1-rmse:0.02394\n",
      "[236]\tvalidation_0-rmse:0.01899\tvalidation_1-rmse:0.02392\n",
      "[237]\tvalidation_0-rmse:0.01890\tvalidation_1-rmse:0.02385\n",
      "[238]\tvalidation_0-rmse:0.01881\tvalidation_1-rmse:0.02380\n",
      "[239]\tvalidation_0-rmse:0.01875\tvalidation_1-rmse:0.02378\n",
      "[240]\tvalidation_0-rmse:0.01868\tvalidation_1-rmse:0.02374\n",
      "[241]\tvalidation_0-rmse:0.01864\tvalidation_1-rmse:0.02371\n",
      "[242]\tvalidation_0-rmse:0.01862\tvalidation_1-rmse:0.02370\n",
      "[243]\tvalidation_0-rmse:0.01861\tvalidation_1-rmse:0.02370\n",
      "[244]\tvalidation_0-rmse:0.01859\tvalidation_1-rmse:0.02370\n",
      "[245]\tvalidation_0-rmse:0.01855\tvalidation_1-rmse:0.02368\n",
      "[246]\tvalidation_0-rmse:0.01853\tvalidation_1-rmse:0.02367\n",
      "[247]\tvalidation_0-rmse:0.01851\tvalidation_1-rmse:0.02366\n",
      "[248]\tvalidation_0-rmse:0.01846\tvalidation_1-rmse:0.02365\n",
      "[249]\tvalidation_0-rmse:0.01845\tvalidation_1-rmse:0.02364\n",
      "[250]\tvalidation_0-rmse:0.01843\tvalidation_1-rmse:0.02363\n",
      "[251]\tvalidation_0-rmse:0.01836\tvalidation_1-rmse:0.02360\n",
      "[252]\tvalidation_0-rmse:0.01834\tvalidation_1-rmse:0.02360\n",
      "[253]\tvalidation_0-rmse:0.01832\tvalidation_1-rmse:0.02358\n",
      "[254]\tvalidation_0-rmse:0.01829\tvalidation_1-rmse:0.02356\n",
      "[255]\tvalidation_0-rmse:0.01825\tvalidation_1-rmse:0.02354\n",
      "[256]\tvalidation_0-rmse:0.01823\tvalidation_1-rmse:0.02353\n",
      "[257]\tvalidation_0-rmse:0.01823\tvalidation_1-rmse:0.02353\n",
      "[258]\tvalidation_0-rmse:0.01821\tvalidation_1-rmse:0.02352\n",
      "[259]\tvalidation_0-rmse:0.01819\tvalidation_1-rmse:0.02350\n",
      "[260]\tvalidation_0-rmse:0.01815\tvalidation_1-rmse:0.02349\n",
      "[261]\tvalidation_0-rmse:0.01811\tvalidation_1-rmse:0.02347\n",
      "[262]\tvalidation_0-rmse:0.01806\tvalidation_1-rmse:0.02346\n",
      "[263]\tvalidation_0-rmse:0.01804\tvalidation_1-rmse:0.02346\n",
      "[264]\tvalidation_0-rmse:0.01800\tvalidation_1-rmse:0.02343\n",
      "[265]\tvalidation_0-rmse:0.01797\tvalidation_1-rmse:0.02342\n",
      "[266]\tvalidation_0-rmse:0.01794\tvalidation_1-rmse:0.02341\n",
      "[267]\tvalidation_0-rmse:0.01790\tvalidation_1-rmse:0.02339\n",
      "[268]\tvalidation_0-rmse:0.01786\tvalidation_1-rmse:0.02337\n",
      "[269]\tvalidation_0-rmse:0.01784\tvalidation_1-rmse:0.02336\n",
      "[270]\tvalidation_0-rmse:0.01782\tvalidation_1-rmse:0.02336\n",
      "[271]\tvalidation_0-rmse:0.01781\tvalidation_1-rmse:0.02335\n",
      "[272]\tvalidation_0-rmse:0.01779\tvalidation_1-rmse:0.02335\n",
      "[273]\tvalidation_0-rmse:0.01778\tvalidation_1-rmse:0.02334\n",
      "[274]\tvalidation_0-rmse:0.01775\tvalidation_1-rmse:0.02333\n",
      "[275]\tvalidation_0-rmse:0.01773\tvalidation_1-rmse:0.02332\n",
      "[276]\tvalidation_0-rmse:0.01770\tvalidation_1-rmse:0.02330\n",
      "[277]\tvalidation_0-rmse:0.01768\tvalidation_1-rmse:0.02329\n",
      "[278]\tvalidation_0-rmse:0.01765\tvalidation_1-rmse:0.02327\n",
      "[279]\tvalidation_0-rmse:0.01764\tvalidation_1-rmse:0.02327\n",
      "[280]\tvalidation_0-rmse:0.01760\tvalidation_1-rmse:0.02325\n",
      "[281]\tvalidation_0-rmse:0.01759\tvalidation_1-rmse:0.02324\n",
      "[282]\tvalidation_0-rmse:0.01757\tvalidation_1-rmse:0.02323\n"
     ]
    },
    {
     "name": "stdout",
     "output_type": "stream",
     "text": [
      "[283]\tvalidation_0-rmse:0.01756\tvalidation_1-rmse:0.02323\n",
      "[284]\tvalidation_0-rmse:0.01752\tvalidation_1-rmse:0.02321\n",
      "[285]\tvalidation_0-rmse:0.01751\tvalidation_1-rmse:0.02321\n",
      "[286]\tvalidation_0-rmse:0.01747\tvalidation_1-rmse:0.02320\n",
      "[287]\tvalidation_0-rmse:0.01745\tvalidation_1-rmse:0.02319\n",
      "[288]\tvalidation_0-rmse:0.01742\tvalidation_1-rmse:0.02319\n",
      "[289]\tvalidation_0-rmse:0.01741\tvalidation_1-rmse:0.02318\n",
      "[290]\tvalidation_0-rmse:0.01739\tvalidation_1-rmse:0.02318\n",
      "[291]\tvalidation_0-rmse:0.01737\tvalidation_1-rmse:0.02317\n",
      "[292]\tvalidation_0-rmse:0.01735\tvalidation_1-rmse:0.02316\n",
      "[293]\tvalidation_0-rmse:0.01734\tvalidation_1-rmse:0.02316\n",
      "[294]\tvalidation_0-rmse:0.01731\tvalidation_1-rmse:0.02315\n",
      "[295]\tvalidation_0-rmse:0.01728\tvalidation_1-rmse:0.02314\n",
      "[296]\tvalidation_0-rmse:0.01724\tvalidation_1-rmse:0.02313\n",
      "[297]\tvalidation_0-rmse:0.01723\tvalidation_1-rmse:0.02312\n",
      "[298]\tvalidation_0-rmse:0.01723\tvalidation_1-rmse:0.02312\n",
      "[299]\tvalidation_0-rmse:0.01718\tvalidation_1-rmse:0.02310\n",
      "[300]\tvalidation_0-rmse:0.01714\tvalidation_1-rmse:0.02309\n",
      "[301]\tvalidation_0-rmse:0.01712\tvalidation_1-rmse:0.02309\n",
      "[302]\tvalidation_0-rmse:0.01711\tvalidation_1-rmse:0.02309\n",
      "[303]\tvalidation_0-rmse:0.01710\tvalidation_1-rmse:0.02308\n",
      "[304]\tvalidation_0-rmse:0.01709\tvalidation_1-rmse:0.02308\n",
      "[305]\tvalidation_0-rmse:0.01705\tvalidation_1-rmse:0.02306\n",
      "[306]\tvalidation_0-rmse:0.01702\tvalidation_1-rmse:0.02305\n",
      "[307]\tvalidation_0-rmse:0.01698\tvalidation_1-rmse:0.02304\n",
      "[308]\tvalidation_0-rmse:0.01696\tvalidation_1-rmse:0.02303\n",
      "[309]\tvalidation_0-rmse:0.01692\tvalidation_1-rmse:0.02301\n",
      "[310]\tvalidation_0-rmse:0.01690\tvalidation_1-rmse:0.02300\n",
      "[311]\tvalidation_0-rmse:0.01685\tvalidation_1-rmse:0.02299\n",
      "[312]\tvalidation_0-rmse:0.01685\tvalidation_1-rmse:0.02298\n",
      "[313]\tvalidation_0-rmse:0.01683\tvalidation_1-rmse:0.02298\n",
      "[314]\tvalidation_0-rmse:0.01680\tvalidation_1-rmse:0.02298\n",
      "[315]\tvalidation_0-rmse:0.01677\tvalidation_1-rmse:0.02298\n",
      "[316]\tvalidation_0-rmse:0.01675\tvalidation_1-rmse:0.02296\n",
      "[317]\tvalidation_0-rmse:0.01671\tvalidation_1-rmse:0.02295\n",
      "[318]\tvalidation_0-rmse:0.01665\tvalidation_1-rmse:0.02291\n",
      "[319]\tvalidation_0-rmse:0.01664\tvalidation_1-rmse:0.02290\n",
      "[320]\tvalidation_0-rmse:0.01662\tvalidation_1-rmse:0.02289\n",
      "[321]\tvalidation_0-rmse:0.01662\tvalidation_1-rmse:0.02289\n",
      "[322]\tvalidation_0-rmse:0.01660\tvalidation_1-rmse:0.02289\n",
      "[323]\tvalidation_0-rmse:0.01658\tvalidation_1-rmse:0.02289\n",
      "[324]\tvalidation_0-rmse:0.01655\tvalidation_1-rmse:0.02288\n",
      "[325]\tvalidation_0-rmse:0.01655\tvalidation_1-rmse:0.02288\n",
      "[326]\tvalidation_0-rmse:0.01654\tvalidation_1-rmse:0.02287\n",
      "[327]\tvalidation_0-rmse:0.01651\tvalidation_1-rmse:0.02286\n",
      "[328]\tvalidation_0-rmse:0.01649\tvalidation_1-rmse:0.02286\n",
      "[329]\tvalidation_0-rmse:0.01646\tvalidation_1-rmse:0.02284\n",
      "[330]\tvalidation_0-rmse:0.01644\tvalidation_1-rmse:0.02284\n",
      "[331]\tvalidation_0-rmse:0.01641\tvalidation_1-rmse:0.02283\n",
      "[332]\tvalidation_0-rmse:0.01639\tvalidation_1-rmse:0.02283\n",
      "[333]\tvalidation_0-rmse:0.01638\tvalidation_1-rmse:0.02282\n",
      "[334]\tvalidation_0-rmse:0.01638\tvalidation_1-rmse:0.02282\n",
      "[335]\tvalidation_0-rmse:0.01638\tvalidation_1-rmse:0.02282\n",
      "[336]\tvalidation_0-rmse:0.01637\tvalidation_1-rmse:0.02282\n",
      "[337]\tvalidation_0-rmse:0.01635\tvalidation_1-rmse:0.02282\n",
      "[338]\tvalidation_0-rmse:0.01633\tvalidation_1-rmse:0.02281\n",
      "[339]\tvalidation_0-rmse:0.01630\tvalidation_1-rmse:0.02281\n",
      "[340]\tvalidation_0-rmse:0.01624\tvalidation_1-rmse:0.02278\n",
      "[341]\tvalidation_0-rmse:0.01623\tvalidation_1-rmse:0.02278\n",
      "[342]\tvalidation_0-rmse:0.01620\tvalidation_1-rmse:0.02276\n",
      "[343]\tvalidation_0-rmse:0.01619\tvalidation_1-rmse:0.02275\n",
      "[344]\tvalidation_0-rmse:0.01615\tvalidation_1-rmse:0.02275\n",
      "[345]\tvalidation_0-rmse:0.01615\tvalidation_1-rmse:0.02274\n",
      "[346]\tvalidation_0-rmse:0.01613\tvalidation_1-rmse:0.02273\n",
      "[347]\tvalidation_0-rmse:0.01611\tvalidation_1-rmse:0.02273\n",
      "[348]\tvalidation_0-rmse:0.01610\tvalidation_1-rmse:0.02273\n",
      "[349]\tvalidation_0-rmse:0.01609\tvalidation_1-rmse:0.02272\n",
      "[350]\tvalidation_0-rmse:0.01608\tvalidation_1-rmse:0.02272\n",
      "[351]\tvalidation_0-rmse:0.01607\tvalidation_1-rmse:0.02271\n",
      "[352]\tvalidation_0-rmse:0.01605\tvalidation_1-rmse:0.02270\n",
      "[353]\tvalidation_0-rmse:0.01601\tvalidation_1-rmse:0.02270\n",
      "[354]\tvalidation_0-rmse:0.01598\tvalidation_1-rmse:0.02269\n",
      "[355]\tvalidation_0-rmse:0.01597\tvalidation_1-rmse:0.02268\n",
      "[356]\tvalidation_0-rmse:0.01595\tvalidation_1-rmse:0.02268\n",
      "[357]\tvalidation_0-rmse:0.01594\tvalidation_1-rmse:0.02268\n",
      "[358]\tvalidation_0-rmse:0.01590\tvalidation_1-rmse:0.02267\n",
      "[359]\tvalidation_0-rmse:0.01588\tvalidation_1-rmse:0.02266\n",
      "[360]\tvalidation_0-rmse:0.01585\tvalidation_1-rmse:0.02264\n",
      "[361]\tvalidation_0-rmse:0.01583\tvalidation_1-rmse:0.02263\n",
      "[362]\tvalidation_0-rmse:0.01581\tvalidation_1-rmse:0.02264\n",
      "[363]\tvalidation_0-rmse:0.01580\tvalidation_1-rmse:0.02263\n",
      "[364]\tvalidation_0-rmse:0.01578\tvalidation_1-rmse:0.02263\n",
      "[365]\tvalidation_0-rmse:0.01577\tvalidation_1-rmse:0.02263\n",
      "[366]\tvalidation_0-rmse:0.01575\tvalidation_1-rmse:0.02262\n",
      "[367]\tvalidation_0-rmse:0.01574\tvalidation_1-rmse:0.02263\n",
      "[368]\tvalidation_0-rmse:0.01572\tvalidation_1-rmse:0.02261\n",
      "[369]\tvalidation_0-rmse:0.01571\tvalidation_1-rmse:0.02261\n",
      "[370]\tvalidation_0-rmse:0.01569\tvalidation_1-rmse:0.02261\n",
      "[371]\tvalidation_0-rmse:0.01569\tvalidation_1-rmse:0.02261\n",
      "[372]\tvalidation_0-rmse:0.01568\tvalidation_1-rmse:0.02261\n",
      "[373]\tvalidation_0-rmse:0.01567\tvalidation_1-rmse:0.02260\n",
      "[374]\tvalidation_0-rmse:0.01563\tvalidation_1-rmse:0.02259\n",
      "[375]\tvalidation_0-rmse:0.01562\tvalidation_1-rmse:0.02258\n",
      "[376]\tvalidation_0-rmse:0.01562\tvalidation_1-rmse:0.02258\n",
      "[377]\tvalidation_0-rmse:0.01560\tvalidation_1-rmse:0.02258\n",
      "[378]\tvalidation_0-rmse:0.01558\tvalidation_1-rmse:0.02257\n",
      "[379]\tvalidation_0-rmse:0.01557\tvalidation_1-rmse:0.02257\n",
      "[380]\tvalidation_0-rmse:0.01555\tvalidation_1-rmse:0.02256\n",
      "[381]\tvalidation_0-rmse:0.01554\tvalidation_1-rmse:0.02256\n",
      "[382]\tvalidation_0-rmse:0.01553\tvalidation_1-rmse:0.02255\n",
      "[383]\tvalidation_0-rmse:0.01552\tvalidation_1-rmse:0.02255\n",
      "[384]\tvalidation_0-rmse:0.01549\tvalidation_1-rmse:0.02254\n",
      "[385]\tvalidation_0-rmse:0.01546\tvalidation_1-rmse:0.02253\n",
      "[386]\tvalidation_0-rmse:0.01545\tvalidation_1-rmse:0.02253\n",
      "[387]\tvalidation_0-rmse:0.01543\tvalidation_1-rmse:0.02252\n",
      "[388]\tvalidation_0-rmse:0.01543\tvalidation_1-rmse:0.02252\n",
      "[389]\tvalidation_0-rmse:0.01538\tvalidation_1-rmse:0.02250\n",
      "[390]\tvalidation_0-rmse:0.01534\tvalidation_1-rmse:0.02248\n",
      "[391]\tvalidation_0-rmse:0.01532\tvalidation_1-rmse:0.02247\n",
      "[392]\tvalidation_0-rmse:0.01530\tvalidation_1-rmse:0.02246\n",
      "[393]\tvalidation_0-rmse:0.01530\tvalidation_1-rmse:0.02246\n",
      "[394]\tvalidation_0-rmse:0.01529\tvalidation_1-rmse:0.02246\n",
      "[395]\tvalidation_0-rmse:0.01527\tvalidation_1-rmse:0.02245\n",
      "[396]\tvalidation_0-rmse:0.01527\tvalidation_1-rmse:0.02245\n",
      "[397]\tvalidation_0-rmse:0.01525\tvalidation_1-rmse:0.02245\n",
      "[398]\tvalidation_0-rmse:0.01523\tvalidation_1-rmse:0.02244\n",
      "[399]\tvalidation_0-rmse:0.01520\tvalidation_1-rmse:0.02243\n"
     ]
    },
    {
     "data": {
      "text/plain": [
       "XGBRegressor(base_score=0.7, booster='gbtree', colsample_bylevel=1,\n",
       "       colsample_bynode=1, colsample_bytree=1, gamma=0, gpu_id=-1,\n",
       "       importance_type='gain', interaction_constraints=None,\n",
       "       learning_rate=0.1, max_delta_step=0, max_depth=8,\n",
       "       min_child_weight=1, missing=nan, monotone_constraints=None,\n",
       "       n_estimators=400, n_jobs=0, num_parallel_tree=1,\n",
       "       objective='reg:logistic', random_state=123, reg_alpha=0,\n",
       "       reg_lambda=0.03, scale_pos_weight=1, seed=123, subsample=0.8,\n",
       "       tree_method=None, validate_parameters=False, verbosity=None)"
      ]
     },
     "execution_count": 34,
     "metadata": {},
     "output_type": "execute_result"
    }
   ],
   "source": [
    "xg_reg = xgb.XGBRegressor(objective = 'reg:logistic', n_estimators = 400, seed = 123, max_depth = 8,\n",
    "                           learning_rate=0.1, booster = 'gbtree', base_score = 0.7, subsample = 0.8,\n",
    "                           reg_lambda = 0.03)\n",
    "\n",
    "eval_set = [(x_train1, y_train1), (x_test, y_test)]\n",
    "xg_reg.fit(x_train1, y_train1, eval_metric=\"rmse\", eval_set=eval_set, verbose=True, early_stopping_rounds = 10)"
   ]
  },
  {
   "cell_type": "code",
   "execution_count": 35,
   "metadata": {},
   "outputs": [],
   "source": [
    "preds = xg_reg.predict(x_train_val)"
   ]
  },
  {
   "cell_type": "code",
   "execution_count": 36,
   "metadata": {},
   "outputs": [
    {
     "data": {
      "text/plain": [
       "array([3.2687869e-06, 3.9309266e-06, 1.1686415e-05, ..., 5.9675676e-07,\n",
       "       3.5607456e-05, 7.4012714e-06], dtype=float32)"
      ]
     },
     "execution_count": 36,
     "metadata": {},
     "output_type": "execute_result"
    }
   ],
   "source": [
    "preds"
   ]
  },
  {
   "cell_type": "code",
   "execution_count": 43,
   "metadata": {},
   "outputs": [
    {
     "data": {
      "text/plain": [
       "0.02363445290068684"
      ]
     },
     "execution_count": 43,
     "metadata": {},
     "output_type": "execute_result"
    }
   ],
   "source": [
    "from sklearn.metrics import mean_squared_error\n",
    "\n",
    "mean_squared_error(y_train_val, preds)**0.5"
   ]
  },
  {
   "cell_type": "code",
   "execution_count": 38,
   "metadata": {},
   "outputs": [],
   "source": [
    "test_pred = xg_reg.predict(test_enc)"
   ]
  },
  {
   "cell_type": "code",
   "execution_count": 39,
   "metadata": {},
   "outputs": [
    {
     "data": {
      "text/plain": [
       "(137556, 21)"
      ]
     },
     "execution_count": 39,
     "metadata": {},
     "output_type": "execute_result"
    }
   ],
   "source": [
    "test.shape"
   ]
  },
  {
   "cell_type": "code",
   "execution_count": 40,
   "metadata": {},
   "outputs": [],
   "source": [
    "submissions.Prediction = test_pred"
   ]
  },
  {
   "cell_type": "code",
   "execution_count": 41,
   "metadata": {},
   "outputs": [
    {
     "data": {
      "text/html": [
       "<div>\n",
       "<style scoped>\n",
       "    .dataframe tbody tr th:only-of-type {\n",
       "        vertical-align: middle;\n",
       "    }\n",
       "\n",
       "    .dataframe tbody tr th {\n",
       "        vertical-align: top;\n",
       "    }\n",
       "\n",
       "    .dataframe thead th {\n",
       "        text-align: right;\n",
       "    }\n",
       "</style>\n",
       "<table border=\"1\" class=\"dataframe\">\n",
       "  <thead>\n",
       "    <tr style=\"text-align: right;\">\n",
       "      <th></th>\n",
       "      <th>ID</th>\n",
       "      <th>Prediction</th>\n",
       "    </tr>\n",
       "  </thead>\n",
       "  <tbody>\n",
       "    <tr>\n",
       "      <th>0</th>\n",
       "      <td>0_2014-01-01</td>\n",
       "      <td>0.189204</td>\n",
       "    </tr>\n",
       "    <tr>\n",
       "      <th>1</th>\n",
       "      <td>1_2014-01-01</td>\n",
       "      <td>0.164399</td>\n",
       "    </tr>\n",
       "    <tr>\n",
       "      <th>2</th>\n",
       "      <td>2_2014-01-01</td>\n",
       "      <td>0.278334</td>\n",
       "    </tr>\n",
       "    <tr>\n",
       "      <th>3</th>\n",
       "      <td>3_2014-01-01</td>\n",
       "      <td>0.226303</td>\n",
       "    </tr>\n",
       "    <tr>\n",
       "      <th>4</th>\n",
       "      <td>4_2014-01-01</td>\n",
       "      <td>0.263774</td>\n",
       "    </tr>\n",
       "  </tbody>\n",
       "</table>\n",
       "</div>"
      ],
      "text/plain": [
       "             ID  Prediction\n",
       "0  0_2014-01-01    0.189204\n",
       "1  1_2014-01-01    0.164399\n",
       "2  2_2014-01-01    0.278334\n",
       "3  3_2014-01-01    0.226303\n",
       "4  4_2014-01-01    0.263774"
      ]
     },
     "execution_count": 41,
     "metadata": {},
     "output_type": "execute_result"
    }
   ],
   "source": [
    "submissions.head()"
   ]
  },
  {
   "cell_type": "code",
   "execution_count": 42,
   "metadata": {},
   "outputs": [],
   "source": [
    "submissions.to_csv('HotspotSubmission5.csv', index=False)"
   ]
  },
  {
   "cell_type": "code",
   "execution_count": null,
   "metadata": {},
   "outputs": [],
   "source": []
  }
 ],
 "metadata": {
  "kernelspec": {
   "display_name": "Python 3",
   "language": "python",
   "name": "python3"
  },
  "language_info": {
   "codemirror_mode": {
    "name": "ipython",
    "version": 3
   },
   "file_extension": ".py",
   "mimetype": "text/x-python",
   "name": "python",
   "nbconvert_exporter": "python",
   "pygments_lexer": "ipython3",
   "version": "3.7.0"
  }
 },
 "nbformat": 4,
 "nbformat_minor": 2
}
