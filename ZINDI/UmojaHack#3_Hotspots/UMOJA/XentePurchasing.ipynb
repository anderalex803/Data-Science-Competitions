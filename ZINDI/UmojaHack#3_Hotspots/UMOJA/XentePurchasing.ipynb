{
 "cells": [
  {
   "cell_type": "code",
   "execution_count": 83,
   "metadata": {},
   "outputs": [],
   "source": [
    "import pandas as pd\n",
    "import numpy as np\n",
    "from sklearn.model_selection import train_test_split"
   ]
  },
  {
   "cell_type": "code",
   "execution_count": 84,
   "metadata": {},
   "outputs": [
    {
     "name": "stdout",
     "output_type": "stream",
     "text": [
      "blender.csv       gbtree.csv            stacked.csv  transactions.csv\r\n",
      "burn_blender.csv  PID_Categories.csv    test.csv     Untitled.ipynb\r\n",
      "burn_gb_0.csv     SampleSubmission.csv  Train.csv\r\n"
     ]
    }
   ],
   "source": [
    "ls"
   ]
  },
  {
   "cell_type": "code",
   "execution_count": 85,
   "metadata": {},
   "outputs": [
    {
     "data": {
      "text/html": [
       "<div>\n",
       "<style scoped>\n",
       "    .dataframe tbody tr th:only-of-type {\n",
       "        vertical-align: middle;\n",
       "    }\n",
       "\n",
       "    .dataframe tbody tr th {\n",
       "        vertical-align: top;\n",
       "    }\n",
       "\n",
       "    .dataframe thead th {\n",
       "        text-align: right;\n",
       "    }\n",
       "</style>\n",
       "<table border=\"1\" class=\"dataframe\">\n",
       "  <thead>\n",
       "    <tr style=\"text-align: right;\">\n",
       "      <th></th>\n",
       "      <th>date</th>\n",
       "      <th>acc</th>\n",
       "      <th>PID</th>\n",
       "    </tr>\n",
       "  </thead>\n",
       "  <tbody>\n",
       "    <tr>\n",
       "      <th>0</th>\n",
       "      <td>2019-12-13 11:38:33.226</td>\n",
       "      <td>256787571627</td>\n",
       "      <td>80G0</td>\n",
       "    </tr>\n",
       "    <tr>\n",
       "      <th>1</th>\n",
       "      <td>2019-11-12 11:46:23.755</td>\n",
       "      <td>256789598703</td>\n",
       "      <td>WLIW</td>\n",
       "    </tr>\n",
       "    <tr>\n",
       "      <th>2</th>\n",
       "      <td>2019-11-10 06:12:27.728</td>\n",
       "      <td>256753510223</td>\n",
       "      <td>U1DD</td>\n",
       "    </tr>\n",
       "    <tr>\n",
       "      <th>3</th>\n",
       "      <td>2019-12-20 13:34:17.453</td>\n",
       "      <td>256702652564</td>\n",
       "      <td>T0LZ</td>\n",
       "    </tr>\n",
       "    <tr>\n",
       "      <th>4</th>\n",
       "      <td>2019-11-15 09:16:06.591</td>\n",
       "      <td>256704005298</td>\n",
       "      <td>80G0</td>\n",
       "    </tr>\n",
       "    <tr>\n",
       "      <th>...</th>\n",
       "      <td>...</td>\n",
       "      <td>...</td>\n",
       "      <td>...</td>\n",
       "    </tr>\n",
       "    <tr>\n",
       "      <th>66509</th>\n",
       "      <td>2020-02-22 21:43:49.110</td>\n",
       "      <td>256706118107</td>\n",
       "      <td>WLIW</td>\n",
       "    </tr>\n",
       "    <tr>\n",
       "      <th>66510</th>\n",
       "      <td>2020-02-22 21:54:22.426</td>\n",
       "      <td>256759760017</td>\n",
       "      <td>WLIW</td>\n",
       "    </tr>\n",
       "    <tr>\n",
       "      <th>66511</th>\n",
       "      <td>2020-02-22 21:54:46.918</td>\n",
       "      <td>256797135398</td>\n",
       "      <td>DJGS</td>\n",
       "    </tr>\n",
       "    <tr>\n",
       "      <th>66512</th>\n",
       "      <td>2020-02-22 22:07:44.173</td>\n",
       "      <td>256000000000</td>\n",
       "      <td>U1DD</td>\n",
       "    </tr>\n",
       "    <tr>\n",
       "      <th>66513</th>\n",
       "      <td>2020-02-22 22:32:54.348</td>\n",
       "      <td>256777575334</td>\n",
       "      <td>T0LZ</td>\n",
       "    </tr>\n",
       "  </tbody>\n",
       "</table>\n",
       "<p>66514 rows × 3 columns</p>\n",
       "</div>"
      ],
      "text/plain": [
       "                          date           acc   PID\n",
       "0      2019-12-13 11:38:33.226  256787571627  80G0\n",
       "1      2019-11-12 11:46:23.755  256789598703  WLIW\n",
       "2      2019-11-10 06:12:27.728  256753510223  U1DD\n",
       "3      2019-12-20 13:34:17.453  256702652564  T0LZ\n",
       "4      2019-11-15 09:16:06.591  256704005298  80G0\n",
       "...                        ...           ...   ...\n",
       "66509  2020-02-22 21:43:49.110  256706118107  WLIW\n",
       "66510  2020-02-22 21:54:22.426  256759760017  WLIW\n",
       "66511  2020-02-22 21:54:46.918  256797135398  DJGS\n",
       "66512  2020-02-22 22:07:44.173  256000000000  U1DD\n",
       "66513  2020-02-22 22:32:54.348  256777575334  T0LZ\n",
       "\n",
       "[66514 rows x 3 columns]"
      ]
     },
     "execution_count": 85,
     "metadata": {},
     "output_type": "execute_result"
    }
   ],
   "source": [
    "dataset=pd.read_csv(\"Train.csv\")\n",
    "dataset"
   ]
  },
  {
   "cell_type": "code",
   "execution_count": 86,
   "metadata": {},
   "outputs": [],
   "source": [
    "dataset_train,dataset_test=train_test_split(dataset,random_state=1)"
   ]
  },
  {
   "cell_type": "code",
   "execution_count": 87,
   "metadata": {},
   "outputs": [],
   "source": [
    "uganda_public_holidays=[\n",
    "    (1,1),(26,1),(16,2),\n",
    "    (8,3),(25,12),(26,12)\n",
    "]\n",
    "\n",
    "def is_last_weekend(datetime_obj):\n",
    "    is_last_week=(datetime_obj.day//7 == 4)\n",
    "    is_week_end=datetime_obj.weekday() in (5,6)\n",
    "    return is_last_week and is_week_end\n",
    "\n",
    "def is_public(datetime_obj):\n",
    "    day=datetime_obj.day\n",
    "    month=datetime_obj.month\n",
    "    return (day,month) in uganda_public_holidays\n",
    "\n",
    "def is_tommorow_public(datetime_obj):\n",
    "    tommorow=datetime_obj + datetime.timedelta(days=1)\n",
    "    return is_public(tommorow)"
   ]
  },
  {
   "cell_type": "code",
   "execution_count": 88,
   "metadata": {},
   "outputs": [],
   "source": [
    "def transform_dataset(input_dataset):\n",
    "    # convert the input to purely date format\n",
    "#     input_dataset['date']=pd.to_datetime(input_dataset['date'].apply(lambda x: x.split(\" \")[0]))\n",
    "    #  get the day \n",
    "    input_dataset['day']=input_dataset['date'].dt.day\n",
    "    # get the month\n",
    "    input_dataset['month']=input_dataset['date'].dt.month\n",
    "    #day of week\n",
    "    input_dataset['day_of_week']=input_dataset['date'].dt.weekday\n",
    "    # get the week of month\n",
    "    input_dataset['week_of_month']=input_dataset['date'].apply(lambda x:x.day//7)\n",
    "    # get the quarter of year\n",
    "    input_dataset['quarter_of_year']=input_dataset['date'].dt.month//4\n",
    "    #is the day a public holiday\n",
    "    input_dataset['public_holiday']=input_dataset['date'].map(is_public)\n",
    "    #is the day after a public holiday\n",
    "    input_dataset['tommorow_public_holiday']=input_dataset['date'].map(is_tommorow_public)\n",
    "    #is today a weekend\n",
    "    input_dataset['is_week_end']=input_dataset['day_of_week'].map(lambda x:1 if x in [5,6] else 0)\n",
    "    #is today the last weekend\n",
    "    input_dataset['is_last_week_end']=input_dataset['date'].apply(is_last_weekend)\n",
    "    \n",
    "    #create a target variable\n",
    "    return input_dataset"
   ]
  },
  {
   "cell_type": "code",
   "execution_count": 89,
   "metadata": {},
   "outputs": [],
   "source": [
    "# generate the negative class for the dataset"
   ]
  },
  {
   "cell_type": "code",
   "execution_count": 90,
   "metadata": {},
   "outputs": [],
   "source": [
    "# unique_transactions\n",
    "unique_transactions=pd.unique(dataset['PID'])"
   ]
  },
  {
   "cell_type": "code",
   "execution_count": 91,
   "metadata": {},
   "outputs": [
    {
     "data": {
      "text/html": [
       "<div>\n",
       "<style scoped>\n",
       "    .dataframe tbody tr th:only-of-type {\n",
       "        vertical-align: middle;\n",
       "    }\n",
       "\n",
       "    .dataframe tbody tr th {\n",
       "        vertical-align: top;\n",
       "    }\n",
       "\n",
       "    .dataframe thead th {\n",
       "        text-align: right;\n",
       "    }\n",
       "</style>\n",
       "<table border=\"1\" class=\"dataframe\">\n",
       "  <thead>\n",
       "    <tr style=\"text-align: right;\">\n",
       "      <th></th>\n",
       "      <th>date</th>\n",
       "      <th>acc</th>\n",
       "      <th>PID</th>\n",
       "    </tr>\n",
       "  </thead>\n",
       "  <tbody>\n",
       "    <tr>\n",
       "      <th>929</th>\n",
       "      <td>2019-11-01 00:38:59.418</td>\n",
       "      <td>256702177173</td>\n",
       "      <td>U1DD</td>\n",
       "    </tr>\n",
       "    <tr>\n",
       "      <th>17858</th>\n",
       "      <td>2019-11-01 00:41:40.281</td>\n",
       "      <td>256702177173</td>\n",
       "      <td>80G0</td>\n",
       "    </tr>\n",
       "    <tr>\n",
       "      <th>30451</th>\n",
       "      <td>2019-11-01 00:58:35.659</td>\n",
       "      <td>256774747834</td>\n",
       "      <td>U1DD</td>\n",
       "    </tr>\n",
       "    <tr>\n",
       "      <th>17853</th>\n",
       "      <td>2019-11-01 01:00:57.025</td>\n",
       "      <td>256774747834</td>\n",
       "      <td>80G0</td>\n",
       "    </tr>\n",
       "    <tr>\n",
       "      <th>4005</th>\n",
       "      <td>2019-11-01 01:02:30.683</td>\n",
       "      <td>256703053300</td>\n",
       "      <td>DJGS</td>\n",
       "    </tr>\n",
       "    <tr>\n",
       "      <th>23388</th>\n",
       "      <td>2019-11-01 01:24:14.839</td>\n",
       "      <td>256756309678</td>\n",
       "      <td>WLIW</td>\n",
       "    </tr>\n",
       "    <tr>\n",
       "      <th>32826</th>\n",
       "      <td>2019-11-01 01:42:57.937</td>\n",
       "      <td>256772001846</td>\n",
       "      <td>U1DD</td>\n",
       "    </tr>\n",
       "    <tr>\n",
       "      <th>7980</th>\n",
       "      <td>2019-11-01 01:45:28.100</td>\n",
       "      <td>256756309678</td>\n",
       "      <td>T0LZ</td>\n",
       "    </tr>\n",
       "    <tr>\n",
       "      <th>24658</th>\n",
       "      <td>2019-11-01 01:46:57.332</td>\n",
       "      <td>256772001846</td>\n",
       "      <td>80G0</td>\n",
       "    </tr>\n",
       "    <tr>\n",
       "      <th>19935</th>\n",
       "      <td>2019-11-01 02:04:35.010</td>\n",
       "      <td>256772541327</td>\n",
       "      <td>WLIW</td>\n",
       "    </tr>\n",
       "  </tbody>\n",
       "</table>\n",
       "</div>"
      ],
      "text/plain": [
       "                          date           acc   PID\n",
       "929    2019-11-01 00:38:59.418  256702177173  U1DD\n",
       "17858  2019-11-01 00:41:40.281  256702177173  80G0\n",
       "30451  2019-11-01 00:58:35.659  256774747834  U1DD\n",
       "17853  2019-11-01 01:00:57.025  256774747834  80G0\n",
       "4005   2019-11-01 01:02:30.683  256703053300  DJGS\n",
       "23388  2019-11-01 01:24:14.839  256756309678  WLIW\n",
       "32826  2019-11-01 01:42:57.937  256772001846  U1DD\n",
       "7980   2019-11-01 01:45:28.100  256756309678  T0LZ\n",
       "24658  2019-11-01 01:46:57.332  256772001846  80G0\n",
       "19935  2019-11-01 02:04:35.010  256772541327  WLIW"
      ]
     },
     "execution_count": 91,
     "metadata": {},
     "output_type": "execute_result"
    }
   ],
   "source": [
    "dataset.sort_values(by=['date',\"acc\"]).head(10)"
   ]
  },
  {
   "cell_type": "code",
   "execution_count": 117,
   "metadata": {},
   "outputs": [],
   "source": [
    "dataset['key']=dataset['date'].astype(str)+\"|\"+dataset['acc'].astype(str)"
   ]
  },
  {
   "cell_type": "code",
   "execution_count": 118,
   "metadata": {},
   "outputs": [],
   "source": [
    "trxns=dataset.groupby('key')['PID'].unique()"
   ]
  },
  {
   "cell_type": "code",
   "execution_count": 227,
   "metadata": {},
   "outputs": [
    {
     "data": {
      "text/plain": [
       "key\n",
       "2019-11-01|256000000000    [Q9SJ, U1DD, 6Q4Z, 3USE]\n",
       "2019-11-01|256312290313                [CPEH, 80G0]\n",
       "2019-11-01|256393100610          [6Q4Z, 80G0, DJGS]\n",
       "2019-11-01|256700117509                      [WLIW]\n",
       "2019-11-01|256700126270                [U1DD, 80G0]\n",
       "                                     ...           \n",
       "2020-02-22|256791696010                      [CPEH]\n",
       "2020-02-22|256793022988                      [80G0]\n",
       "2020-02-22|256793241371                      [WLIW]\n",
       "2020-02-22|256794953575                      [80G0]\n",
       "2020-02-22|256797135398                      [DJGS]\n",
       "Name: PID, Length: 23803, dtype: object"
      ]
     },
     "execution_count": 227,
     "metadata": {},
     "output_type": "execute_result"
    }
   ],
   "source": [
    "trxns"
   ]
  },
  {
   "cell_type": "code",
   "execution_count": 151,
   "metadata": {},
   "outputs": [],
   "source": [
    "negative_class=[]\n",
    "for index,transactions in zip(trxns.index,trxns):\n",
    "    date,acc=index.split(\"|\")\n",
    "    for unique_trxn in unique_transactions:\n",
    "        if unique_trxn not in transactions:\n",
    "            negative_class.append([\n",
    "                    date,\n",
    "                    acc,\n",
    "                    unique_trxn,\n",
    "                    0    \n",
    "                ])"
   ]
  },
  {
   "cell_type": "code",
   "execution_count": 176,
   "metadata": {},
   "outputs": [],
   "source": [
    "negative_class_df=pd.DataFrame(negative_class,columns=['date','acc','PID','target'])\n",
    "negative_class_df['date']=pd.to_datetime(negative_class_df['date'])"
   ]
  },
  {
   "cell_type": "code",
   "execution_count": 166,
   "metadata": {},
   "outputs": [],
   "source": [
    "input_dataset=dataset[['date','acc','PID']]"
   ]
  },
  {
   "cell_type": "code",
   "execution_count": 167,
   "metadata": {},
   "outputs": [],
   "source": [
    "input_dataset['target']=input_dataset['PID'].map(lambda x: 1)"
   ]
  },
  {
   "cell_type": "code",
   "execution_count": 219,
   "metadata": {},
   "outputs": [],
   "source": [
    "full_dataset=pd.concat([input_dataset,negative_class_df])\n",
    "full_dataset['acc']=full_dataset['acc'].astype(str)"
   ]
  },
  {
   "cell_type": "code",
   "execution_count": 220,
   "metadata": {},
   "outputs": [
    {
     "data": {
      "text/html": [
       "<div>\n",
       "<style scoped>\n",
       "    .dataframe tbody tr th:only-of-type {\n",
       "        vertical-align: middle;\n",
       "    }\n",
       "\n",
       "    .dataframe tbody tr th {\n",
       "        vertical-align: top;\n",
       "    }\n",
       "\n",
       "    .dataframe thead th {\n",
       "        text-align: right;\n",
       "    }\n",
       "</style>\n",
       "<table border=\"1\" class=\"dataframe\">\n",
       "  <thead>\n",
       "    <tr style=\"text-align: right;\">\n",
       "      <th></th>\n",
       "      <th>date</th>\n",
       "      <th>acc</th>\n",
       "      <th>PID</th>\n",
       "      <th>target</th>\n",
       "    </tr>\n",
       "  </thead>\n",
       "  <tbody>\n",
       "    <tr>\n",
       "      <th>0</th>\n",
       "      <td>2019-12-13</td>\n",
       "      <td>256787571627</td>\n",
       "      <td>80G0</td>\n",
       "      <td>1</td>\n",
       "    </tr>\n",
       "    <tr>\n",
       "      <th>1</th>\n",
       "      <td>2019-11-12</td>\n",
       "      <td>256789598703</td>\n",
       "      <td>WLIW</td>\n",
       "      <td>1</td>\n",
       "    </tr>\n",
       "    <tr>\n",
       "      <th>2</th>\n",
       "      <td>2019-11-10</td>\n",
       "      <td>256753510223</td>\n",
       "      <td>U1DD</td>\n",
       "      <td>1</td>\n",
       "    </tr>\n",
       "    <tr>\n",
       "      <th>3</th>\n",
       "      <td>2019-12-20</td>\n",
       "      <td>256702652564</td>\n",
       "      <td>T0LZ</td>\n",
       "      <td>1</td>\n",
       "    </tr>\n",
       "    <tr>\n",
       "      <th>4</th>\n",
       "      <td>2019-11-15</td>\n",
       "      <td>256704005298</td>\n",
       "      <td>80G0</td>\n",
       "      <td>1</td>\n",
       "    </tr>\n",
       "    <tr>\n",
       "      <th>...</th>\n",
       "      <td>...</td>\n",
       "      <td>...</td>\n",
       "      <td>...</td>\n",
       "      <td>...</td>\n",
       "    </tr>\n",
       "    <tr>\n",
       "      <th>774243</th>\n",
       "      <td>2020-02-22</td>\n",
       "      <td>256797135398</td>\n",
       "      <td>AWYV</td>\n",
       "      <td>0</td>\n",
       "    </tr>\n",
       "    <tr>\n",
       "      <th>774244</th>\n",
       "      <td>2020-02-22</td>\n",
       "      <td>256797135398</td>\n",
       "      <td>NFDD</td>\n",
       "      <td>0</td>\n",
       "    </tr>\n",
       "    <tr>\n",
       "      <th>774245</th>\n",
       "      <td>2020-02-22</td>\n",
       "      <td>256797135398</td>\n",
       "      <td>B5DH</td>\n",
       "      <td>0</td>\n",
       "    </tr>\n",
       "    <tr>\n",
       "      <th>774246</th>\n",
       "      <td>2020-02-22</td>\n",
       "      <td>256797135398</td>\n",
       "      <td>XGSZ</td>\n",
       "      <td>0</td>\n",
       "    </tr>\n",
       "    <tr>\n",
       "      <th>774247</th>\n",
       "      <td>2020-02-22</td>\n",
       "      <td>256797135398</td>\n",
       "      <td>WZF8</td>\n",
       "      <td>0</td>\n",
       "    </tr>\n",
       "  </tbody>\n",
       "</table>\n",
       "<p>840762 rows × 4 columns</p>\n",
       "</div>"
      ],
      "text/plain": [
       "             date           acc   PID  target\n",
       "0      2019-12-13  256787571627  80G0       1\n",
       "1      2019-11-12  256789598703  WLIW       1\n",
       "2      2019-11-10  256753510223  U1DD       1\n",
       "3      2019-12-20  256702652564  T0LZ       1\n",
       "4      2019-11-15  256704005298  80G0       1\n",
       "...           ...           ...   ...     ...\n",
       "774243 2020-02-22  256797135398  AWYV       0\n",
       "774244 2020-02-22  256797135398  NFDD       0\n",
       "774245 2020-02-22  256797135398  B5DH       0\n",
       "774246 2020-02-22  256797135398  XGSZ       0\n",
       "774247 2020-02-22  256797135398  WZF8       0\n",
       "\n",
       "[840762 rows x 4 columns]"
      ]
     },
     "execution_count": 220,
     "metadata": {},
     "output_type": "execute_result"
    }
   ],
   "source": [
    "full_dataset"
   ]
  },
  {
   "cell_type": "code",
   "execution_count": 221,
   "metadata": {},
   "outputs": [],
   "source": [
    "final_train=transform_dataset(full_dataset)"
   ]
  },
  {
   "cell_type": "code",
   "execution_count": 222,
   "metadata": {},
   "outputs": [
    {
     "data": {
      "text/html": [
       "<div>\n",
       "<style scoped>\n",
       "    .dataframe tbody tr th:only-of-type {\n",
       "        vertical-align: middle;\n",
       "    }\n",
       "\n",
       "    .dataframe tbody tr th {\n",
       "        vertical-align: top;\n",
       "    }\n",
       "\n",
       "    .dataframe thead th {\n",
       "        text-align: right;\n",
       "    }\n",
       "</style>\n",
       "<table border=\"1\" class=\"dataframe\">\n",
       "  <thead>\n",
       "    <tr style=\"text-align: right;\">\n",
       "      <th></th>\n",
       "      <th>date</th>\n",
       "      <th>acc</th>\n",
       "      <th>PID</th>\n",
       "      <th>target</th>\n",
       "      <th>day</th>\n",
       "      <th>month</th>\n",
       "      <th>day_of_week</th>\n",
       "      <th>week_of_month</th>\n",
       "      <th>quarter_of_year</th>\n",
       "      <th>public_holiday</th>\n",
       "      <th>tommorow_public_holiday</th>\n",
       "      <th>is_week_end</th>\n",
       "      <th>is_last_week_end</th>\n",
       "    </tr>\n",
       "  </thead>\n",
       "  <tbody>\n",
       "    <tr>\n",
       "      <th>0</th>\n",
       "      <td>2019-12-13</td>\n",
       "      <td>256787571627</td>\n",
       "      <td>80G0</td>\n",
       "      <td>1</td>\n",
       "      <td>13</td>\n",
       "      <td>12</td>\n",
       "      <td>4</td>\n",
       "      <td>1</td>\n",
       "      <td>3</td>\n",
       "      <td>False</td>\n",
       "      <td>False</td>\n",
       "      <td>0</td>\n",
       "      <td>False</td>\n",
       "    </tr>\n",
       "    <tr>\n",
       "      <th>1</th>\n",
       "      <td>2019-11-12</td>\n",
       "      <td>256789598703</td>\n",
       "      <td>WLIW</td>\n",
       "      <td>1</td>\n",
       "      <td>12</td>\n",
       "      <td>11</td>\n",
       "      <td>1</td>\n",
       "      <td>1</td>\n",
       "      <td>2</td>\n",
       "      <td>False</td>\n",
       "      <td>False</td>\n",
       "      <td>0</td>\n",
       "      <td>False</td>\n",
       "    </tr>\n",
       "    <tr>\n",
       "      <th>2</th>\n",
       "      <td>2019-11-10</td>\n",
       "      <td>256753510223</td>\n",
       "      <td>U1DD</td>\n",
       "      <td>1</td>\n",
       "      <td>10</td>\n",
       "      <td>11</td>\n",
       "      <td>6</td>\n",
       "      <td>1</td>\n",
       "      <td>2</td>\n",
       "      <td>False</td>\n",
       "      <td>False</td>\n",
       "      <td>1</td>\n",
       "      <td>False</td>\n",
       "    </tr>\n",
       "    <tr>\n",
       "      <th>3</th>\n",
       "      <td>2019-12-20</td>\n",
       "      <td>256702652564</td>\n",
       "      <td>T0LZ</td>\n",
       "      <td>1</td>\n",
       "      <td>20</td>\n",
       "      <td>12</td>\n",
       "      <td>4</td>\n",
       "      <td>2</td>\n",
       "      <td>3</td>\n",
       "      <td>False</td>\n",
       "      <td>False</td>\n",
       "      <td>0</td>\n",
       "      <td>False</td>\n",
       "    </tr>\n",
       "    <tr>\n",
       "      <th>4</th>\n",
       "      <td>2019-11-15</td>\n",
       "      <td>256704005298</td>\n",
       "      <td>80G0</td>\n",
       "      <td>1</td>\n",
       "      <td>15</td>\n",
       "      <td>11</td>\n",
       "      <td>4</td>\n",
       "      <td>2</td>\n",
       "      <td>2</td>\n",
       "      <td>False</td>\n",
       "      <td>False</td>\n",
       "      <td>0</td>\n",
       "      <td>False</td>\n",
       "    </tr>\n",
       "    <tr>\n",
       "      <th>...</th>\n",
       "      <td>...</td>\n",
       "      <td>...</td>\n",
       "      <td>...</td>\n",
       "      <td>...</td>\n",
       "      <td>...</td>\n",
       "      <td>...</td>\n",
       "      <td>...</td>\n",
       "      <td>...</td>\n",
       "      <td>...</td>\n",
       "      <td>...</td>\n",
       "      <td>...</td>\n",
       "      <td>...</td>\n",
       "      <td>...</td>\n",
       "    </tr>\n",
       "    <tr>\n",
       "      <th>774243</th>\n",
       "      <td>2020-02-22</td>\n",
       "      <td>256797135398</td>\n",
       "      <td>AWYV</td>\n",
       "      <td>0</td>\n",
       "      <td>22</td>\n",
       "      <td>2</td>\n",
       "      <td>5</td>\n",
       "      <td>3</td>\n",
       "      <td>0</td>\n",
       "      <td>False</td>\n",
       "      <td>False</td>\n",
       "      <td>1</td>\n",
       "      <td>False</td>\n",
       "    </tr>\n",
       "    <tr>\n",
       "      <th>774244</th>\n",
       "      <td>2020-02-22</td>\n",
       "      <td>256797135398</td>\n",
       "      <td>NFDD</td>\n",
       "      <td>0</td>\n",
       "      <td>22</td>\n",
       "      <td>2</td>\n",
       "      <td>5</td>\n",
       "      <td>3</td>\n",
       "      <td>0</td>\n",
       "      <td>False</td>\n",
       "      <td>False</td>\n",
       "      <td>1</td>\n",
       "      <td>False</td>\n",
       "    </tr>\n",
       "    <tr>\n",
       "      <th>774245</th>\n",
       "      <td>2020-02-22</td>\n",
       "      <td>256797135398</td>\n",
       "      <td>B5DH</td>\n",
       "      <td>0</td>\n",
       "      <td>22</td>\n",
       "      <td>2</td>\n",
       "      <td>5</td>\n",
       "      <td>3</td>\n",
       "      <td>0</td>\n",
       "      <td>False</td>\n",
       "      <td>False</td>\n",
       "      <td>1</td>\n",
       "      <td>False</td>\n",
       "    </tr>\n",
       "    <tr>\n",
       "      <th>774246</th>\n",
       "      <td>2020-02-22</td>\n",
       "      <td>256797135398</td>\n",
       "      <td>XGSZ</td>\n",
       "      <td>0</td>\n",
       "      <td>22</td>\n",
       "      <td>2</td>\n",
       "      <td>5</td>\n",
       "      <td>3</td>\n",
       "      <td>0</td>\n",
       "      <td>False</td>\n",
       "      <td>False</td>\n",
       "      <td>1</td>\n",
       "      <td>False</td>\n",
       "    </tr>\n",
       "    <tr>\n",
       "      <th>774247</th>\n",
       "      <td>2020-02-22</td>\n",
       "      <td>256797135398</td>\n",
       "      <td>WZF8</td>\n",
       "      <td>0</td>\n",
       "      <td>22</td>\n",
       "      <td>2</td>\n",
       "      <td>5</td>\n",
       "      <td>3</td>\n",
       "      <td>0</td>\n",
       "      <td>False</td>\n",
       "      <td>False</td>\n",
       "      <td>1</td>\n",
       "      <td>False</td>\n",
       "    </tr>\n",
       "  </tbody>\n",
       "</table>\n",
       "<p>840762 rows × 13 columns</p>\n",
       "</div>"
      ],
      "text/plain": [
       "             date           acc   PID  target  day  month  day_of_week  \\\n",
       "0      2019-12-13  256787571627  80G0       1   13     12            4   \n",
       "1      2019-11-12  256789598703  WLIW       1   12     11            1   \n",
       "2      2019-11-10  256753510223  U1DD       1   10     11            6   \n",
       "3      2019-12-20  256702652564  T0LZ       1   20     12            4   \n",
       "4      2019-11-15  256704005298  80G0       1   15     11            4   \n",
       "...           ...           ...   ...     ...  ...    ...          ...   \n",
       "774243 2020-02-22  256797135398  AWYV       0   22      2            5   \n",
       "774244 2020-02-22  256797135398  NFDD       0   22      2            5   \n",
       "774245 2020-02-22  256797135398  B5DH       0   22      2            5   \n",
       "774246 2020-02-22  256797135398  XGSZ       0   22      2            5   \n",
       "774247 2020-02-22  256797135398  WZF8       0   22      2            5   \n",
       "\n",
       "        week_of_month  quarter_of_year  public_holiday  \\\n",
       "0                   1                3           False   \n",
       "1                   1                2           False   \n",
       "2                   1                2           False   \n",
       "3                   2                3           False   \n",
       "4                   2                2           False   \n",
       "...               ...              ...             ...   \n",
       "774243              3                0           False   \n",
       "774244              3                0           False   \n",
       "774245              3                0           False   \n",
       "774246              3                0           False   \n",
       "774247              3                0           False   \n",
       "\n",
       "        tommorow_public_holiday  is_week_end  is_last_week_end  \n",
       "0                         False            0             False  \n",
       "1                         False            0             False  \n",
       "2                         False            1             False  \n",
       "3                         False            0             False  \n",
       "4                         False            0             False  \n",
       "...                         ...          ...               ...  \n",
       "774243                    False            1             False  \n",
       "774244                    False            1             False  \n",
       "774245                    False            1             False  \n",
       "774246                    False            1             False  \n",
       "774247                    False            1             False  \n",
       "\n",
       "[840762 rows x 13 columns]"
      ]
     },
     "execution_count": 222,
     "metadata": {},
     "output_type": "execute_result"
    }
   ],
   "source": [
    "final_train"
   ]
  },
  {
   "cell_type": "code",
   "execution_count": 255,
   "metadata": {},
   "outputs": [],
   "source": [
    "final_train.to_csv(\"transactions.csv\",index=False)"
   ]
  },
  {
   "cell_type": "code",
   "execution_count": 223,
   "metadata": {},
   "outputs": [
    {
     "data": {
      "text/plain": [
       "0         0\n",
       "1         0\n",
       "2         0\n",
       "3         0\n",
       "4         0\n",
       "         ..\n",
       "774243    0\n",
       "774244    0\n",
       "774245    0\n",
       "774246    0\n",
       "774247    0\n",
       "Name: target, Length: 774248, dtype: int64"
      ]
     },
     "execution_count": 223,
     "metadata": {},
     "output_type": "execute_result"
    }
   ],
   "source": [
    "final_train['target'][final_train['target']==0]"
   ]
  },
  {
   "cell_type": "code",
   "execution_count": 1,
   "metadata": {},
   "outputs": [
    {
     "name": "stdout",
     "output_type": "stream",
     "text": [
      "blender.csv       PID_Categories.csv    Train.csv\r\n",
      "burn_blender.csv  SampleSubmission.csv  transactions.csv\r\n",
      "gbtree.csv        test.csv              Untitled.ipynb\r\n"
     ]
    }
   ],
   "source": [
    "ls"
   ]
  },
  {
   "cell_type": "code",
   "execution_count": 49,
   "metadata": {},
   "outputs": [],
   "source": [
    "import pandas as pd"
   ]
  },
  {
   "cell_type": "code",
   "execution_count": 52,
   "metadata": {},
   "outputs": [],
   "source": [
    "results=pd.read_csv('blender.csv')"
   ]
  },
  {
   "cell_type": "code",
   "execution_count": 53,
   "metadata": {},
   "outputs": [],
   "source": [
    "blender_predictions=results['Prediction']"
   ]
  },
  {
   "cell_type": "code",
   "execution_count": 51,
   "metadata": {},
   "outputs": [],
   "source": [
    "gb_predictions=results['Prediction']"
   ]
  },
  {
   "cell_type": "code",
   "execution_count": 31,
   "metadata": {},
   "outputs": [],
   "source": [
    "results['Prediction']=results['Prediction'].map(lambda x:x if x>0 else 0)"
   ]
  },
  {
   "cell_type": "code",
   "execution_count": 54,
   "metadata": {},
   "outputs": [],
   "source": [
    "output=pd.read_csv(\"test.csv\")[['ID']]"
   ]
  },
  {
   "cell_type": "code",
   "execution_count": 56,
   "metadata": {},
   "outputs": [],
   "source": [
    "avg=blender_predictions+gb_predictions"
   ]
  },
  {
   "cell_type": "code",
   "execution_count": 58,
   "metadata": {},
   "outputs": [
    {
     "data": {
      "text/plain": [
       "array([ 0.21336514,  0.20843619,  0.31669599, ..., -0.00071267,\n",
       "        0.00235546, -0.00236639])"
      ]
     },
     "execution_count": 58,
     "metadata": {},
     "output_type": "execute_result"
    }
   ],
   "source": [
    "avg.values"
   ]
  },
  {
   "cell_type": "code",
   "execution_count": 61,
   "metadata": {},
   "outputs": [],
   "source": [
    "output['burn_area']=avg.values"
   ]
  },
  {
   "cell_type": "code",
   "execution_count": 70,
   "metadata": {},
   "outputs": [],
   "source": [
    "output.to_csv(\"stacked.csv\",index=False)"
   ]
  },
  {
   "cell_type": "code",
   "execution_count": 64,
   "metadata": {},
   "outputs": [],
   "source": [
    "output['burn_area']=output['burn_area']/2"
   ]
  },
  {
   "cell_type": "code",
   "execution_count": 66,
   "metadata": {},
   "outputs": [],
   "source": [
    "output['burn_area']=output['burn_area'].apply(lambda x:x if x>0 else 0)"
   ]
  },
  {
   "cell_type": "code",
   "execution_count": 67,
   "metadata": {},
   "outputs": [
    {
     "data": {
      "text/html": [
       "<div>\n",
       "<style scoped>\n",
       "    .dataframe tbody tr th:only-of-type {\n",
       "        vertical-align: middle;\n",
       "    }\n",
       "\n",
       "    .dataframe tbody tr th {\n",
       "        vertical-align: top;\n",
       "    }\n",
       "\n",
       "    .dataframe thead th {\n",
       "        text-align: right;\n",
       "    }\n",
       "</style>\n",
       "<table border=\"1\" class=\"dataframe\">\n",
       "  <thead>\n",
       "    <tr style=\"text-align: right;\">\n",
       "      <th></th>\n",
       "      <th>ID</th>\n",
       "      <th>burn_area</th>\n",
       "    </tr>\n",
       "  </thead>\n",
       "  <tbody>\n",
       "    <tr>\n",
       "      <th>0</th>\n",
       "      <td>0_2014-01-01</td>\n",
       "      <td>0.106683</td>\n",
       "    </tr>\n",
       "    <tr>\n",
       "      <th>1</th>\n",
       "      <td>1_2014-01-01</td>\n",
       "      <td>0.104218</td>\n",
       "    </tr>\n",
       "    <tr>\n",
       "      <th>2</th>\n",
       "      <td>2_2014-01-01</td>\n",
       "      <td>0.158348</td>\n",
       "    </tr>\n",
       "    <tr>\n",
       "      <th>3</th>\n",
       "      <td>3_2014-01-01</td>\n",
       "      <td>0.151757</td>\n",
       "    </tr>\n",
       "    <tr>\n",
       "      <th>4</th>\n",
       "      <td>4_2014-01-01</td>\n",
       "      <td>0.169243</td>\n",
       "    </tr>\n",
       "    <tr>\n",
       "      <th>...</th>\n",
       "      <td>...</td>\n",
       "      <td>...</td>\n",
       "    </tr>\n",
       "    <tr>\n",
       "      <th>137551</th>\n",
       "      <td>3816_2016-12-01</td>\n",
       "      <td>0.001866</td>\n",
       "    </tr>\n",
       "    <tr>\n",
       "      <th>137552</th>\n",
       "      <td>3817_2016-12-01</td>\n",
       "      <td>0.002005</td>\n",
       "    </tr>\n",
       "    <tr>\n",
       "      <th>137553</th>\n",
       "      <td>3818_2016-12-01</td>\n",
       "      <td>0.000000</td>\n",
       "    </tr>\n",
       "    <tr>\n",
       "      <th>137554</th>\n",
       "      <td>3819_2016-12-01</td>\n",
       "      <td>0.001178</td>\n",
       "    </tr>\n",
       "    <tr>\n",
       "      <th>137555</th>\n",
       "      <td>3820_2016-12-01</td>\n",
       "      <td>0.000000</td>\n",
       "    </tr>\n",
       "  </tbody>\n",
       "</table>\n",
       "<p>137556 rows × 2 columns</p>\n",
       "</div>"
      ],
      "text/plain": [
       "                     ID  burn_area\n",
       "0          0_2014-01-01   0.106683\n",
       "1          1_2014-01-01   0.104218\n",
       "2          2_2014-01-01   0.158348\n",
       "3          3_2014-01-01   0.151757\n",
       "4          4_2014-01-01   0.169243\n",
       "...                 ...        ...\n",
       "137551  3816_2016-12-01   0.001866\n",
       "137552  3817_2016-12-01   0.002005\n",
       "137553  3818_2016-12-01   0.000000\n",
       "137554  3819_2016-12-01   0.001178\n",
       "137555  3820_2016-12-01   0.000000\n",
       "\n",
       "[137556 rows x 2 columns]"
      ]
     },
     "execution_count": 67,
     "metadata": {},
     "output_type": "execute_result"
    }
   ],
   "source": [
    "output"
   ]
  },
  {
   "cell_type": "code",
   "execution_count": null,
   "metadata": {},
   "outputs": [],
   "source": []
  },
  {
   "cell_type": "code",
   "execution_count": 71,
   "metadata": {},
   "outputs": [
    {
     "name": "stdout",
     "output_type": "stream",
     "text": [
      "blender.csv       gbtree.csv            stacked.csv  transactions.csv\r\n",
      "burn_blender.csv  PID_Categories.csv    test.csv     Untitled.ipynb\r\n",
      "burn_gb_0.csv     SampleSubmission.csv  Train.csv\r\n"
     ]
    }
   ],
   "source": [
    "ls"
   ]
  },
  {
   "cell_type": "code",
   "execution_count": 73,
   "metadata": {},
   "outputs": [],
   "source": [
    "submission=pd.read_csv('SampleSubmission.csv')"
   ]
  },
  {
   "cell_type": "code",
   "execution_count": 79,
   "metadata": {},
   "outputs": [],
   "source": [
    "submission['date']=pd.to_datetime(submission['Account X date X PID'].map(lambda x:x.split(\"X\")[1]))"
   ]
  },
  {
   "cell_type": "code",
   "execution_count": 81,
   "metadata": {},
   "outputs": [],
   "source": [
    "submission.drop(\"Prediction\",1,inplace=True)"
   ]
  },
  {
   "cell_type": "code",
   "execution_count": 82,
   "metadata": {},
   "outputs": [
    {
     "data": {
      "text/html": [
       "<div>\n",
       "<style scoped>\n",
       "    .dataframe tbody tr th:only-of-type {\n",
       "        vertical-align: middle;\n",
       "    }\n",
       "\n",
       "    .dataframe tbody tr th {\n",
       "        vertical-align: top;\n",
       "    }\n",
       "\n",
       "    .dataframe thead th {\n",
       "        text-align: right;\n",
       "    }\n",
       "</style>\n",
       "<table border=\"1\" class=\"dataframe\">\n",
       "  <thead>\n",
       "    <tr style=\"text-align: right;\">\n",
       "      <th></th>\n",
       "      <th>Account X date X PID</th>\n",
       "      <th>date</th>\n",
       "    </tr>\n",
       "  </thead>\n",
       "  <tbody>\n",
       "    <tr>\n",
       "      <th>0</th>\n",
       "      <td>256786974320 X 2020-02-23 X 5YR6</td>\n",
       "      <td>2020-02-23</td>\n",
       "    </tr>\n",
       "    <tr>\n",
       "      <th>1</th>\n",
       "      <td>256786974320 X 2020-02-23 X WLIW</td>\n",
       "      <td>2020-02-23</td>\n",
       "    </tr>\n",
       "    <tr>\n",
       "      <th>2</th>\n",
       "      <td>256786974320 X 2020-02-23 X U1DD</td>\n",
       "      <td>2020-02-23</td>\n",
       "    </tr>\n",
       "    <tr>\n",
       "      <th>3</th>\n",
       "      <td>256786974320 X 2020-02-23 X T0LZ</td>\n",
       "      <td>2020-02-23</td>\n",
       "    </tr>\n",
       "    <tr>\n",
       "      <th>4</th>\n",
       "      <td>256786974320 X 2020-02-23 X 80G0</td>\n",
       "      <td>2020-02-23</td>\n",
       "    </tr>\n",
       "    <tr>\n",
       "      <th>...</th>\n",
       "      <td>...</td>\n",
       "      <td>...</td>\n",
       "    </tr>\n",
       "    <tr>\n",
       "      <th>111043</th>\n",
       "      <td>256704700785 X 2020-02-29 X P4IQ</td>\n",
       "      <td>2020-02-29</td>\n",
       "    </tr>\n",
       "    <tr>\n",
       "      <th>111044</th>\n",
       "      <td>256704700785 X 2020-02-29 X PNYC</td>\n",
       "      <td>2020-02-29</td>\n",
       "    </tr>\n",
       "    <tr>\n",
       "      <th>111045</th>\n",
       "      <td>256704700785 X 2020-02-29 X YDAG</td>\n",
       "      <td>2020-02-29</td>\n",
       "    </tr>\n",
       "    <tr>\n",
       "      <th>111046</th>\n",
       "      <td>256704700785 X 2020-02-29 X ZDTG</td>\n",
       "      <td>2020-02-29</td>\n",
       "    </tr>\n",
       "    <tr>\n",
       "      <th>111047</th>\n",
       "      <td>256704700785 X 2020-02-29 X 7IPS</td>\n",
       "      <td>2020-02-29</td>\n",
       "    </tr>\n",
       "  </tbody>\n",
       "</table>\n",
       "<p>111048 rows × 2 columns</p>\n",
       "</div>"
      ],
      "text/plain": [
       "                    Account X date X PID       date\n",
       "0       256786974320 X 2020-02-23 X 5YR6 2020-02-23\n",
       "1       256786974320 X 2020-02-23 X WLIW 2020-02-23\n",
       "2       256786974320 X 2020-02-23 X U1DD 2020-02-23\n",
       "3       256786974320 X 2020-02-23 X T0LZ 2020-02-23\n",
       "4       256786974320 X 2020-02-23 X 80G0 2020-02-23\n",
       "...                                  ...        ...\n",
       "111043  256704700785 X 2020-02-29 X P4IQ 2020-02-29\n",
       "111044  256704700785 X 2020-02-29 X PNYC 2020-02-29\n",
       "111045  256704700785 X 2020-02-29 X YDAG 2020-02-29\n",
       "111046  256704700785 X 2020-02-29 X ZDTG 2020-02-29\n",
       "111047  256704700785 X 2020-02-29 X 7IPS 2020-02-29\n",
       "\n",
       "[111048 rows x 2 columns]"
      ]
     },
     "execution_count": 82,
     "metadata": {},
     "output_type": "execute_result"
    }
   ],
   "source": [
    "submission"
   ]
  },
  {
   "cell_type": "code",
   "execution_count": 93,
   "metadata": {},
   "outputs": [],
   "source": [
    "import datetime"
   ]
  },
  {
   "cell_type": "code",
   "execution_count": 95,
   "metadata": {},
   "outputs": [],
   "source": [
    "test=transform_dataset(submission)"
   ]
  },
  {
   "cell_type": "code",
   "execution_count": 110,
   "metadata": {},
   "outputs": [],
   "source": [
    "test.to_csv(\"number2.csv\",index=False)"
   ]
  },
  {
   "cell_type": "code",
   "execution_count": 109,
   "metadata": {},
   "outputs": [],
   "source": [
    "test['PID']=test['Account X date X PID'].map(lambda x:x.split(\" X \")[-1].strip())\n",
    "test['acc']=test['Account X date X PID'].map(lambda x:x.split(\" X \")[0].strip())"
   ]
  },
  {
   "cell_type": "code",
   "execution_count": 111,
   "metadata": {},
   "outputs": [
    {
     "data": {
      "text/html": [
       "<div>\n",
       "<style scoped>\n",
       "    .dataframe tbody tr th:only-of-type {\n",
       "        vertical-align: middle;\n",
       "    }\n",
       "\n",
       "    .dataframe tbody tr th {\n",
       "        vertical-align: top;\n",
       "    }\n",
       "\n",
       "    .dataframe thead th {\n",
       "        text-align: right;\n",
       "    }\n",
       "</style>\n",
       "<table border=\"1\" class=\"dataframe\">\n",
       "  <thead>\n",
       "    <tr style=\"text-align: right;\">\n",
       "      <th></th>\n",
       "      <th>Account X date X PID</th>\n",
       "      <th>date</th>\n",
       "      <th>day</th>\n",
       "      <th>month</th>\n",
       "      <th>day_of_week</th>\n",
       "      <th>week_of_month</th>\n",
       "      <th>quarter_of_year</th>\n",
       "      <th>public_holiday</th>\n",
       "      <th>tommorow_public_holiday</th>\n",
       "      <th>is_week_end</th>\n",
       "      <th>is_last_week_end</th>\n",
       "      <th>PID</th>\n",
       "      <th>acc</th>\n",
       "    </tr>\n",
       "  </thead>\n",
       "  <tbody>\n",
       "    <tr>\n",
       "      <th>0</th>\n",
       "      <td>256786974320 X 2020-02-23 X 5YR6</td>\n",
       "      <td>2020-02-23</td>\n",
       "      <td>23</td>\n",
       "      <td>2</td>\n",
       "      <td>6</td>\n",
       "      <td>3</td>\n",
       "      <td>0</td>\n",
       "      <td>False</td>\n",
       "      <td>False</td>\n",
       "      <td>1</td>\n",
       "      <td>False</td>\n",
       "      <td>5YR6</td>\n",
       "      <td>256786974320</td>\n",
       "    </tr>\n",
       "    <tr>\n",
       "      <th>1</th>\n",
       "      <td>256786974320 X 2020-02-23 X WLIW</td>\n",
       "      <td>2020-02-23</td>\n",
       "      <td>23</td>\n",
       "      <td>2</td>\n",
       "      <td>6</td>\n",
       "      <td>3</td>\n",
       "      <td>0</td>\n",
       "      <td>False</td>\n",
       "      <td>False</td>\n",
       "      <td>1</td>\n",
       "      <td>False</td>\n",
       "      <td>WLIW</td>\n",
       "      <td>256786974320</td>\n",
       "    </tr>\n",
       "    <tr>\n",
       "      <th>2</th>\n",
       "      <td>256786974320 X 2020-02-23 X U1DD</td>\n",
       "      <td>2020-02-23</td>\n",
       "      <td>23</td>\n",
       "      <td>2</td>\n",
       "      <td>6</td>\n",
       "      <td>3</td>\n",
       "      <td>0</td>\n",
       "      <td>False</td>\n",
       "      <td>False</td>\n",
       "      <td>1</td>\n",
       "      <td>False</td>\n",
       "      <td>U1DD</td>\n",
       "      <td>256786974320</td>\n",
       "    </tr>\n",
       "    <tr>\n",
       "      <th>3</th>\n",
       "      <td>256786974320 X 2020-02-23 X T0LZ</td>\n",
       "      <td>2020-02-23</td>\n",
       "      <td>23</td>\n",
       "      <td>2</td>\n",
       "      <td>6</td>\n",
       "      <td>3</td>\n",
       "      <td>0</td>\n",
       "      <td>False</td>\n",
       "      <td>False</td>\n",
       "      <td>1</td>\n",
       "      <td>False</td>\n",
       "      <td>T0LZ</td>\n",
       "      <td>256786974320</td>\n",
       "    </tr>\n",
       "    <tr>\n",
       "      <th>4</th>\n",
       "      <td>256786974320 X 2020-02-23 X 80G0</td>\n",
       "      <td>2020-02-23</td>\n",
       "      <td>23</td>\n",
       "      <td>2</td>\n",
       "      <td>6</td>\n",
       "      <td>3</td>\n",
       "      <td>0</td>\n",
       "      <td>False</td>\n",
       "      <td>False</td>\n",
       "      <td>1</td>\n",
       "      <td>False</td>\n",
       "      <td>80G0</td>\n",
       "      <td>256786974320</td>\n",
       "    </tr>\n",
       "    <tr>\n",
       "      <th>...</th>\n",
       "      <td>...</td>\n",
       "      <td>...</td>\n",
       "      <td>...</td>\n",
       "      <td>...</td>\n",
       "      <td>...</td>\n",
       "      <td>...</td>\n",
       "      <td>...</td>\n",
       "      <td>...</td>\n",
       "      <td>...</td>\n",
       "      <td>...</td>\n",
       "      <td>...</td>\n",
       "      <td>...</td>\n",
       "      <td>...</td>\n",
       "    </tr>\n",
       "    <tr>\n",
       "      <th>111043</th>\n",
       "      <td>256704700785 X 2020-02-29 X P4IQ</td>\n",
       "      <td>2020-02-29</td>\n",
       "      <td>29</td>\n",
       "      <td>2</td>\n",
       "      <td>5</td>\n",
       "      <td>4</td>\n",
       "      <td>0</td>\n",
       "      <td>False</td>\n",
       "      <td>False</td>\n",
       "      <td>1</td>\n",
       "      <td>True</td>\n",
       "      <td>P4IQ</td>\n",
       "      <td>256704700785</td>\n",
       "    </tr>\n",
       "    <tr>\n",
       "      <th>111044</th>\n",
       "      <td>256704700785 X 2020-02-29 X PNYC</td>\n",
       "      <td>2020-02-29</td>\n",
       "      <td>29</td>\n",
       "      <td>2</td>\n",
       "      <td>5</td>\n",
       "      <td>4</td>\n",
       "      <td>0</td>\n",
       "      <td>False</td>\n",
       "      <td>False</td>\n",
       "      <td>1</td>\n",
       "      <td>True</td>\n",
       "      <td>PNYC</td>\n",
       "      <td>256704700785</td>\n",
       "    </tr>\n",
       "    <tr>\n",
       "      <th>111045</th>\n",
       "      <td>256704700785 X 2020-02-29 X YDAG</td>\n",
       "      <td>2020-02-29</td>\n",
       "      <td>29</td>\n",
       "      <td>2</td>\n",
       "      <td>5</td>\n",
       "      <td>4</td>\n",
       "      <td>0</td>\n",
       "      <td>False</td>\n",
       "      <td>False</td>\n",
       "      <td>1</td>\n",
       "      <td>True</td>\n",
       "      <td>YDAG</td>\n",
       "      <td>256704700785</td>\n",
       "    </tr>\n",
       "    <tr>\n",
       "      <th>111046</th>\n",
       "      <td>256704700785 X 2020-02-29 X ZDTG</td>\n",
       "      <td>2020-02-29</td>\n",
       "      <td>29</td>\n",
       "      <td>2</td>\n",
       "      <td>5</td>\n",
       "      <td>4</td>\n",
       "      <td>0</td>\n",
       "      <td>False</td>\n",
       "      <td>False</td>\n",
       "      <td>1</td>\n",
       "      <td>True</td>\n",
       "      <td>ZDTG</td>\n",
       "      <td>256704700785</td>\n",
       "    </tr>\n",
       "    <tr>\n",
       "      <th>111047</th>\n",
       "      <td>256704700785 X 2020-02-29 X 7IPS</td>\n",
       "      <td>2020-02-29</td>\n",
       "      <td>29</td>\n",
       "      <td>2</td>\n",
       "      <td>5</td>\n",
       "      <td>4</td>\n",
       "      <td>0</td>\n",
       "      <td>False</td>\n",
       "      <td>False</td>\n",
       "      <td>1</td>\n",
       "      <td>True</td>\n",
       "      <td>7IPS</td>\n",
       "      <td>256704700785</td>\n",
       "    </tr>\n",
       "  </tbody>\n",
       "</table>\n",
       "<p>111048 rows × 13 columns</p>\n",
       "</div>"
      ],
      "text/plain": [
       "                    Account X date X PID       date  day  month  day_of_week  \\\n",
       "0       256786974320 X 2020-02-23 X 5YR6 2020-02-23   23      2            6   \n",
       "1       256786974320 X 2020-02-23 X WLIW 2020-02-23   23      2            6   \n",
       "2       256786974320 X 2020-02-23 X U1DD 2020-02-23   23      2            6   \n",
       "3       256786974320 X 2020-02-23 X T0LZ 2020-02-23   23      2            6   \n",
       "4       256786974320 X 2020-02-23 X 80G0 2020-02-23   23      2            6   \n",
       "...                                  ...        ...  ...    ...          ...   \n",
       "111043  256704700785 X 2020-02-29 X P4IQ 2020-02-29   29      2            5   \n",
       "111044  256704700785 X 2020-02-29 X PNYC 2020-02-29   29      2            5   \n",
       "111045  256704700785 X 2020-02-29 X YDAG 2020-02-29   29      2            5   \n",
       "111046  256704700785 X 2020-02-29 X ZDTG 2020-02-29   29      2            5   \n",
       "111047  256704700785 X 2020-02-29 X 7IPS 2020-02-29   29      2            5   \n",
       "\n",
       "        week_of_month  quarter_of_year  public_holiday  \\\n",
       "0                   3                0           False   \n",
       "1                   3                0           False   \n",
       "2                   3                0           False   \n",
       "3                   3                0           False   \n",
       "4                   3                0           False   \n",
       "...               ...              ...             ...   \n",
       "111043              4                0           False   \n",
       "111044              4                0           False   \n",
       "111045              4                0           False   \n",
       "111046              4                0           False   \n",
       "111047              4                0           False   \n",
       "\n",
       "        tommorow_public_holiday  is_week_end  is_last_week_end   PID  \\\n",
       "0                         False            1             False  5YR6   \n",
       "1                         False            1             False  WLIW   \n",
       "2                         False            1             False  U1DD   \n",
       "3                         False            1             False  T0LZ   \n",
       "4                         False            1             False  80G0   \n",
       "...                         ...          ...               ...   ...   \n",
       "111043                    False            1              True  P4IQ   \n",
       "111044                    False            1              True  PNYC   \n",
       "111045                    False            1              True  YDAG   \n",
       "111046                    False            1              True  ZDTG   \n",
       "111047                    False            1              True  7IPS   \n",
       "\n",
       "                 acc  \n",
       "0       256786974320  \n",
       "1       256786974320  \n",
       "2       256786974320  \n",
       "3       256786974320  \n",
       "4       256786974320  \n",
       "...              ...  \n",
       "111043  256704700785  \n",
       "111044  256704700785  \n",
       "111045  256704700785  \n",
       "111046  256704700785  \n",
       "111047  256704700785  \n",
       "\n",
       "[111048 rows x 13 columns]"
      ]
     },
     "execution_count": 111,
     "metadata": {},
     "output_type": "execute_result"
    }
   ],
   "source": [
    "test"
   ]
  },
  {
   "cell_type": "code",
   "execution_count": 133,
   "metadata": {},
   "outputs": [],
   "source": [
    "gb=pd.read_csv(\"t_gb.csv\")"
   ]
  },
  {
   "cell_type": "code",
   "execution_count": 130,
   "metadata": {},
   "outputs": [],
   "source": [
    "test['Prediction']=blender['PredictedLabel']"
   ]
  },
  {
   "cell_type": "code",
   "execution_count": 168,
   "metadata": {},
   "outputs": [],
   "source": [
    "test[['Account X date X PID','Prediction']].to_csv(\"2_simple_stack_2.5.csv\",index=False)"
   ]
  },
  {
   "cell_type": "code",
   "execution_count": 127,
   "metadata": {},
   "outputs": [
    {
     "name": "stdout",
     "output_type": "stream",
     "text": [
      "2_blender.csv     burn_gb_0.csv       SampleSubmission.csv  t_gb.csv\r\n",
      "2_gb.csv          gbtree.csv          stacked.csv           Train.csv\r\n",
      "blender.csv       number2.csv         t_blender.csv         transactions.csv\r\n",
      "burn_blender.csv  PID_Categories.csv  test.csv              Untitled.ipynb\r\n"
     ]
    }
   ],
   "source": [
    "ls"
   ]
  },
  {
   "cell_type": "code",
   "execution_count": 128,
   "metadata": {},
   "outputs": [
    {
     "data": {
      "text/plain": [
       "dtype('int64')"
      ]
     },
     "execution_count": 128,
     "metadata": {},
     "output_type": "execute_result"
    }
   ],
   "source": [
    "test['Prediction'].dtype"
   ]
  },
  {
   "cell_type": "code",
   "execution_count": 138,
   "metadata": {},
   "outputs": [],
   "source": [
    "total=gb['Prediction']+blender['Prediction']"
   ]
  },
  {
   "cell_type": "code",
   "execution_count": 163,
   "metadata": {},
   "outputs": [],
   "source": [
    "average=total/2"
   ]
  },
  {
   "cell_type": "code",
   "execution_count": 164,
   "metadata": {},
   "outputs": [],
   "source": [
    "test['Prediction']=average"
   ]
  },
  {
   "cell_type": "code",
   "execution_count": 166,
   "metadata": {},
   "outputs": [
    {
     "data": {
      "text/plain": [
       "0         0.043047\n",
       "1         0.412276\n",
       "2         0.258753\n",
       "3         0.128244\n",
       "4         0.357570\n",
       "            ...   \n",
       "111043    0.001014\n",
       "111044    0.000732\n",
       "111045    0.000595\n",
       "111046    0.001071\n",
       "111047    0.008898\n",
       "Name: Prediction, Length: 111048, dtype: float64"
      ]
     },
     "execution_count": 166,
     "metadata": {},
     "output_type": "execute_result"
    }
   ],
   "source": [
    "test['Prediction']"
   ]
  },
  {
   "cell_type": "code",
   "execution_count": 167,
   "metadata": {},
   "outputs": [],
   "source": [
    "test['Prediction']=test['Prediction'].apply(lambda x:1 if x>0.60 else 0)"
   ]
  },
  {
   "cell_type": "code",
   "execution_count": null,
   "metadata": {},
   "outputs": [],
   "source": []
  }
 ],
 "metadata": {
  "kernelspec": {
   "display_name": "Python 3",
   "language": "python",
   "name": "python3"
  },
  "language_info": {
   "codemirror_mode": {
    "name": "ipython",
    "version": 3
   },
   "file_extension": ".py",
   "mimetype": "text/x-python",
   "name": "python",
   "nbconvert_exporter": "python",
   "pygments_lexer": "ipython3",
   "version": "3.7.0"
  }
 },
 "nbformat": 4,
 "nbformat_minor": 2
}
