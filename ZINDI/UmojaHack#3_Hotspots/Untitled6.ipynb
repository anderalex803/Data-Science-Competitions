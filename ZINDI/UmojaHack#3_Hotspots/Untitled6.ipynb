{
 "cells": [
  {
   "cell_type": "code",
   "execution_count": 18,
   "metadata": {},
   "outputs": [],
   "source": [
    "import pandas as pd\n",
    "import numpy as np\n",
    "\n",
    "prediction5 = pd.read_csv('HotspotSubmission5.csv')\n",
    "prediction6 = pd.read_csv('HotspotSubmission6.csv')\n",
    "prediction2 = pd.read_csv('HotspotSubmission2.csv')\n",
    "prediction = pd.read_csv('HotspotSubmission.csv')\n",
    "prediction7 = pd.read_csv('HotspotSubmission7.csv')\n",
    "prediction4 = pd.read_csv('HotspotSubmission4.csv')"
   ]
  },
  {
   "cell_type": "code",
   "execution_count": 19,
   "metadata": {},
   "outputs": [],
   "source": [
    "pred4_5 = (prediction4.Prediction + prediction5.Prediction)/2"
   ]
  },
  {
   "cell_type": "code",
   "execution_count": 20,
   "metadata": {},
   "outputs": [
    {
     "data": {
      "text/plain": [
       "0         0.158407\n",
       "1         0.143442\n",
       "2         0.218397\n",
       "3         0.175255\n",
       "4         0.206633\n",
       "5         0.170171\n",
       "6         0.151755\n",
       "7         0.098569\n",
       "8         0.107550\n",
       "9         0.083356\n",
       "10        0.087739\n",
       "11        0.065019\n",
       "12        0.185517\n",
       "13        0.203264\n",
       "14        0.193868\n",
       "15        0.185561\n",
       "16        0.177248\n",
       "17        0.057531\n",
       "18        0.033507\n",
       "19        0.023671\n",
       "20        0.025464\n",
       "21        0.040217\n",
       "22        0.044304\n",
       "23        0.104102\n",
       "24        0.133516\n",
       "25        0.128236\n",
       "26        0.194395\n",
       "27        0.167202\n",
       "28        0.162359\n",
       "29        0.049775\n",
       "            ...   \n",
       "137526    0.000216\n",
       "137527    0.000217\n",
       "137528    0.000215\n",
       "137529    0.000215\n",
       "137530    0.000215\n",
       "137531    0.000224\n",
       "137532    0.000224\n",
       "137533    0.000227\n",
       "137534    0.000217\n",
       "137535    0.000226\n",
       "137536    0.000226\n",
       "137537    0.000227\n",
       "137538    0.000227\n",
       "137539    0.000225\n",
       "137540    0.000225\n",
       "137541    0.000225\n",
       "137542    0.000227\n",
       "137543    0.000226\n",
       "137544    0.000226\n",
       "137545    0.000224\n",
       "137546    0.000230\n",
       "137547    0.000225\n",
       "137548    0.000242\n",
       "137549    0.000247\n",
       "137550    0.000228\n",
       "137551    0.000246\n",
       "137552    0.000253\n",
       "137553    0.000247\n",
       "137554    0.000245\n",
       "137555    0.000263\n",
       "Name: Prediction, Length: 137556, dtype: float64"
      ]
     },
     "execution_count": 20,
     "metadata": {},
     "output_type": "execute_result"
    }
   ],
   "source": [
    "pred4_5"
   ]
  },
  {
   "cell_type": "code",
   "execution_count": 21,
   "metadata": {},
   "outputs": [],
   "source": [
    "submissions = pd.read_csv('SampleSubmission.csv')"
   ]
  },
  {
   "cell_type": "code",
   "execution_count": 22,
   "metadata": {},
   "outputs": [
    {
     "name": "stderr",
     "output_type": "stream",
     "text": [
      "C:\\Users\\hp\\Anaconda3\\lib\\site-packages\\ipykernel_launcher.py:1: UserWarning: Pandas doesn't allow columns to be created via a new attribute name - see https://pandas.pydata.org/pandas-docs/stable/indexing.html#attribute-access\n",
      "  \"\"\"Entry point for launching an IPython kernel.\n"
     ]
    }
   ],
   "source": [
    "submissions.Promoted = pred4_5\n",
    "submissions.to_csv('baggedsubmission5_6.csv', index=False)"
   ]
  },
  {
   "cell_type": "code",
   "execution_count": null,
   "metadata": {},
   "outputs": [],
   "source": []
  }
 ],
 "metadata": {
  "kernelspec": {
   "display_name": "Python 3",
   "language": "python",
   "name": "python3"
  },
  "language_info": {
   "codemirror_mode": {
    "name": "ipython",
    "version": 3
   },
   "file_extension": ".py",
   "mimetype": "text/x-python",
   "name": "python",
   "nbconvert_exporter": "python",
   "pygments_lexer": "ipython3",
   "version": "3.7.0"
  }
 },
 "nbformat": 4,
 "nbformat_minor": 2
}
