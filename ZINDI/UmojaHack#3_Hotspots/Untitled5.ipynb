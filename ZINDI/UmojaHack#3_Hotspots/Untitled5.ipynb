{
 "cells": [
  {
   "cell_type": "code",
   "execution_count": 1,
   "metadata": {},
   "outputs": [
    {
     "name": "stderr",
     "output_type": "stream",
     "text": [
      "C:\\Users\\hp\\Anaconda3\\lib\\importlib\\_bootstrap.py:219: RuntimeWarning: numpy.ufunc size changed, may indicate binary incompatibility. Expected 216, got 192\n",
      "  return f(*args, **kwds)\n",
      "C:\\Users\\hp\\Anaconda3\\lib\\importlib\\_bootstrap.py:219: RuntimeWarning: numpy.ufunc size changed, may indicate binary incompatibility. Expected 216, got 192\n",
      "  return f(*args, **kwds)\n",
      "C:\\Users\\hp\\Anaconda3\\lib\\importlib\\_bootstrap.py:219: RuntimeWarning: numpy.ufunc size changed, may indicate binary incompatibility. Expected 192 from C header, got 216 from PyObject\n",
      "  return f(*args, **kwds)\n"
     ]
    }
   ],
   "source": [
    "import numpy as np\n",
    "import pandas as pd\n",
    "import matplotlib.pyplot as plt\n",
    "import seaborn as sns\n",
    "import sklearn.metrics as sklm\n",
    "from sklearn.ensemble import RandomForestRegressor\n",
    "import matplotlib"
   ]
  },
  {
   "cell_type": "code",
   "execution_count": 2,
   "metadata": {},
   "outputs": [],
   "source": [
    "train = pd.read_csv('train.csv', parse_dates = ['date'])\n",
    "test = pd.read_csv('test.csv', parse_dates = ['date'])\n",
    "submissions = pd.read_csv('SampleSubmission.csv')\n",
    "vd = pd.read_csv('VariableDefinitionsHotspot.csv')"
   ]
  },
  {
   "cell_type": "code",
   "execution_count": 3,
   "metadata": {},
   "outputs": [
    {
     "data": {
      "text/plain": [
       "<matplotlib.axes._subplots.AxesSubplot at 0x21f150d1160>"
      ]
     },
     "execution_count": 3,
     "metadata": {},
     "output_type": "execute_result"
    },
    {
     "data": {
      "image/png": "[encoded data removed]",
      "text/plain": [
       "<Figure size 432x288 with 1 Axes>"
      ]
     },
     "metadata": {
      "needs_background": "light"
     },
     "output_type": "display_data"
    },
    {
     "data": {
      "image/png": "[encoded data removed]",
      "text/plain": [
       "<Figure size 432x288 with 1 Axes>"
      ]
     },
     "metadata": {
      "needs_background": "light"
     },
     "output_type": "display_data"
    }
   ],
   "source": [
    "# Date variables\n",
    "train['month'] = train.date.dt.month\n",
    "train['year'] = train.date.dt.year\n",
    "\n",
    "# Plotting mean burn_area for each month - very strong mid-year peak (dry season)\n",
    "train.groupby('month').mean().reset_index().plot(y='burn_area', x='year', kind='bar')\n",
    "\n",
    "# Date variables\n",
    "test['month'] = test.date.dt.month\n",
    "test['year'] = test.date.dt.year\n",
    "\n",
    "# Plotting mean burn_area for each month - very strong mid-year peak (dry season)\n",
    "test.groupby('month').mean().reset_index().plot(y='burn_area', x='year', kind='bar')"
   ]
  },
  {
   "cell_type": "code",
   "execution_count": 4,
   "metadata": {},
   "outputs": [
    {
     "name": "stdout",
     "output_type": "stream",
     "text": [
      "Index(['ID', 'area', 'date', 'lat', 'lon', 'burn_area', 'climate_aet',\n",
      "       'climate_def', 'climate_pdsi', 'climate_pet', 'climate_pr',\n",
      "       'climate_ro', 'climate_soil', 'climate_srad', 'climate_swe',\n",
      "       'climate_tmmn', 'climate_tmmx', 'climate_vap', 'climate_vpd',\n",
      "       'climate_vs', 'elevation', 'landcover_0', 'landcover_1', 'landcover_2',\n",
      "       'landcover_3', 'landcover_4', 'landcover_5', 'landcover_6',\n",
      "       'landcover_7', 'landcover_8', 'population_density', 'precipitation',\n",
      "       'month', 'year'],\n",
      "      dtype='object')\n"
     ]
    }
   ],
   "source": [
    "print(train.columns)\n",
    "\n",
    "train = train.drop(['population_density', 'ID', 'date', 'climate_swe', 'landcover_0',\n",
    "                    'landcover_1', 'landcover_2', 'landcover_3', 'landcover_5', 'landcover_6',\n",
    "                    'landcover_7', 'landcover_8'], axis=1)\n",
    "test = test.drop(['population_density', 'ID', 'burn_area', 'date', 'climate_swe', 'landcover_0','landcover_1', \n",
    "                  'landcover_2', 'landcover_3', 'landcover_5', 'landcover_6','landcover_7', 'landcover_8'], axis=1)"
   ]
  },
  {
   "cell_type": "code",
   "execution_count": 5,
   "metadata": {},
   "outputs": [
    {
     "name": "stdout",
     "output_type": "stream",
     "text": [
      "(626644, 22)\n",
      "(137556, 21)\n"
     ]
    }
   ],
   "source": [
    "print(train.shape)\n",
    "print(test.shape)"
   ]
  },
  {
   "cell_type": "code",
   "execution_count": 6,
   "metadata": {},
   "outputs": [
    {
     "name": "stdout",
     "output_type": "stream",
     "text": [
      "Index(['area', 'lat', 'lon', 'burn_area', 'climate_aet', 'climate_def',\n",
      "       'climate_pdsi', 'climate_pet', 'climate_pr', 'climate_ro',\n",
      "       'climate_soil', 'climate_srad', 'climate_tmmn', 'climate_tmmx',\n",
      "       'climate_vap', 'climate_vpd', 'climate_vs', 'elevation', 'landcover_4',\n",
      "       'precipitation', 'month', 'year'],\n",
      "      dtype='object')\n",
      "Index(['area', 'lat', 'lon', 'climate_aet', 'climate_def', 'climate_pdsi',\n",
      "       'climate_pet', 'climate_pr', 'climate_ro', 'climate_soil',\n",
      "       'climate_srad', 'climate_tmmn', 'climate_tmmx', 'climate_vap',\n",
      "       'climate_vpd', 'climate_vs', 'elevation', 'landcover_4',\n",
      "       'precipitation', 'month', 'year'],\n",
      "      dtype='object')\n"
     ]
    }
   ],
   "source": [
    "print(train.columns)\n",
    "print(test.columns)"
   ]
  },
  {
   "cell_type": "code",
   "execution_count": 7,
   "metadata": {},
   "outputs": [
    {
     "name": "stdout",
     "output_type": "stream",
     "text": [
      "[0.00368827 0.         0.         ... 0.         0.         0.        ]\n"
     ]
    }
   ],
   "source": [
    "Labels = np.array(train['burn_area'])\n",
    "print(Labels)"
   ]
  },
  {
   "cell_type": "code",
   "execution_count": 8,
   "metadata": {},
   "outputs": [],
   "source": [
    "train = train.drop('burn_area', axis=1)"
   ]
  },
  {
   "cell_type": "code",
   "execution_count": 12,
   "metadata": {},
   "outputs": [],
   "source": [
    "#train = train.drop('burn_area', axis=1)\n",
    "\n",
    "Features = np.array(train)\n",
    "test_enc = np.array(test)"
   ]
  },
  {
   "cell_type": "code",
   "execution_count": 13,
   "metadata": {},
   "outputs": [],
   "source": [
    "from sklearn import preprocessing\n",
    "\n",
    "scaler = preprocessing.StandardScaler().fit(Features[:, :])\n",
    "Features[:, :] = scaler.transform(Features[:, :])\n",
    "#print(Features[:, :])"
   ]
  },
  {
   "cell_type": "code",
   "execution_count": 14,
   "metadata": {},
   "outputs": [],
   "source": [
    "scaler1 = preprocessing.StandardScaler().fit(test_enc[:, :])\n",
    "test_enc[:, :] = scaler1.transform(test_enc[:, :])\n",
    "#print(test_enc[:, :])"
   ]
  },
  {
   "cell_type": "code",
   "execution_count": 15,
   "metadata": {},
   "outputs": [],
   "source": [
    "import numpy.random as nr\n",
    "import sklearn.model_selection as ms\n",
    "## Randomly sample cases to create independent training and test data\n",
    "nr.seed(9988)\n",
    "indx = range(Features.shape[0])\n",
    "indx = ms.train_test_split(indx, test_size = 0.2)\n",
    "x_train = Features[indx[0],:]\n",
    "y_train = np.ravel(Labels[indx[0]])\n",
    "x_test = Features[indx[1],:]\n",
    "y_test = np.ravel(Labels[indx[1]])"
   ]
  },
  {
   "cell_type": "code",
   "execution_count": 16,
   "metadata": {},
   "outputs": [],
   "source": [
    "indx1 = range(x_train.shape[0])\n",
    "indx1 = ms.train_test_split(indx1, test_size = 0.2)\n",
    "x_train1 = x_train[indx1[0],:]\n",
    "y_train1 = np.ravel(y_train[indx1[0]])\n",
    "x_train_val = x_train[indx1[1],:]\n",
    "y_train_val = np.ravel(y_train[indx1[1]])"
   ]
  },
  {
   "cell_type": "code",
   "execution_count": 17,
   "metadata": {},
   "outputs": [],
   "source": [
    "rf = RandomForestRegressor(n_estimators=100, max_depth=7, max_features=7)"
   ]
  },
  {
   "cell_type": "code",
   "execution_count": 18,
   "metadata": {},
   "outputs": [
    {
     "data": {
      "text/plain": [
       "RandomForestRegressor(bootstrap=True, criterion='mse', max_depth=7,\n",
       "           max_features=7, max_leaf_nodes=None, min_impurity_decrease=0.0,\n",
       "           min_impurity_split=None, min_samples_leaf=1,\n",
       "           min_samples_split=2, min_weight_fraction_leaf=0.0,\n",
       "           n_estimators=100, n_jobs=1, oob_score=False, random_state=None,\n",
       "           verbose=0, warm_start=False)"
      ]
     },
     "execution_count": 18,
     "metadata": {},
     "output_type": "execute_result"
    }
   ],
   "source": [
    "rf.fit(x_train1, y_train1)"
   ]
  },
  {
   "cell_type": "code",
   "execution_count": 19,
   "metadata": {},
   "outputs": [],
   "source": [
    "rf_preds = rf.predict(x_train_val)"
   ]
  },
  {
   "cell_type": "code",
   "execution_count": 25,
   "metadata": {},
   "outputs": [
    {
     "data": {
      "text/plain": [
       "0.04123036573755297"
      ]
     },
     "execution_count": 25,
     "metadata": {},
     "output_type": "execute_result"
    }
   ],
   "source": [
    "from sklearn.metrics import mean_squared_error\n",
    "\n",
    "mean_squared_error(rf_preds, y_train_val)**0.5"
   ]
  },
  {
   "cell_type": "code",
   "execution_count": 22,
   "metadata": {},
   "outputs": [
    {
     "data": {
      "text/plain": [
       "RandomForestRegressor(bootstrap=True, criterion='mse', max_depth=7,\n",
       "           max_features=7, max_leaf_nodes=None, min_impurity_decrease=0.0,\n",
       "           min_impurity_split=None, min_samples_leaf=1,\n",
       "           min_samples_split=2, min_weight_fraction_leaf=0.0,\n",
       "           n_estimators=100, n_jobs=1, oob_score=False, random_state=None,\n",
       "           verbose=0, warm_start=False)"
      ]
     },
     "execution_count": 22,
     "metadata": {},
     "output_type": "execute_result"
    }
   ],
   "source": [
    "rf.fit(x_train, y_train)"
   ]
  },
  {
   "cell_type": "code",
   "execution_count": 23,
   "metadata": {},
   "outputs": [],
   "source": [
    "preds = rf.predict(test_enc)"
   ]
  },
  {
   "cell_type": "code",
   "execution_count": 24,
   "metadata": {},
   "outputs": [],
   "source": [
    "submissions.Prediction = preds\n",
    "submissions.to_csv('HotspotSubmission4.csv', index=False)"
   ]
  },
  {
   "cell_type": "code",
   "execution_count": null,
   "metadata": {},
   "outputs": [],
   "source": []
  }
 ],
 "metadata": {
  "kernelspec": {
   "display_name": "Python 3",
   "language": "python",
   "name": "python3"
  },
  "language_info": {
   "codemirror_mode": {
    "name": "ipython",
    "version": 3
   },
   "file_extension": ".py",
   "mimetype": "text/x-python",
   "name": "python",
   "nbconvert_exporter": "python",
   "pygments_lexer": "ipython3",
   "version": "3.7.0"
  }
 },
 "nbformat": 4,
 "nbformat_minor": 2
}
