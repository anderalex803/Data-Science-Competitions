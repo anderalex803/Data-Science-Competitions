{
 "cells": [
  {
   "cell_type": "code",
   "execution_count": 1,
   "metadata": {},
   "outputs": [],
   "source": [
    "import numpy as np\n",
    "import pandas as pd\n",
    "import matplotlib.pyplot as plt\n",
    "import seaborn as sns\n",
    "import sklearn.metrics as sklm\n",
    "import xgboost as xgb\n",
    "import matplotlib"
   ]
  },
  {
   "cell_type": "code",
   "execution_count": 18,
   "metadata": {},
   "outputs": [],
   "source": [
    "##train = pd.read_csv('train.csv', parse_dates = ['date'])\n",
    "test = pd.read_csv('test.csv', parse_dates = ['date'])\n",
    "#submissions = pd.read_csv('SampleSubmission.csv')\n",
    "#vd = pd.read_csv('VariableDefinitionsHotspot.csv')"
   ]
  },
  {
   "cell_type": "code",
   "execution_count": 8,
   "metadata": {},
   "outputs": [
    {
     "data": {
      "text/plain": [
       "<matplotlib.axes._subplots.AxesSubplot at 0x2112fdbe630>"
      ]
     },
     "execution_count": 8,
     "metadata": {},
     "output_type": "execute_result"
    },
    {
     "data": {
      "image/png": "[encoded data removed]",
      "text/plain": [
       "<Figure size 432x288 with 1 Axes>"
      ]
     },
     "metadata": {
      "needs_background": "light"
     },
     "output_type": "display_data"
    }
   ],
   "source": [
    "# Date variables\n",
    "train['month'] = train.date.dt.month\n",
    "train['year'] = train.date.dt.year\n",
    "\n",
    "# Plotting mean burn_area for each month - very strong mid-year peak (dry season)\n",
    "train.groupby('month').mean().reset_index().plot(y='burn_area', x='year', kind='bar')"
   ]
  },
  {
   "cell_type": "code",
   "execution_count": 7,
   "metadata": {},
   "outputs": [
    {
     "data": {
      "text/html": [
       "<div>\n",
       "<style scoped>\n",
       "    .dataframe tbody tr th:only-of-type {\n",
       "        vertical-align: middle;\n",
       "    }\n",
       "\n",
       "    .dataframe tbody tr th {\n",
       "        vertical-align: top;\n",
       "    }\n",
       "\n",
       "    .dataframe thead th {\n",
       "        text-align: right;\n",
       "    }\n",
       "</style>\n",
       "<table border=\"1\" class=\"dataframe\">\n",
       "  <thead>\n",
       "    <tr style=\"text-align: right;\">\n",
       "      <th></th>\n",
       "      <th>ID</th>\n",
       "      <th>area</th>\n",
       "      <th>date</th>\n",
       "      <th>lat</th>\n",
       "      <th>lon</th>\n",
       "      <th>burn_area</th>\n",
       "      <th>climate_aet</th>\n",
       "      <th>climate_def</th>\n",
       "      <th>climate_pdsi</th>\n",
       "      <th>climate_pet</th>\n",
       "      <th>...</th>\n",
       "      <th>landcover_3</th>\n",
       "      <th>landcover_4</th>\n",
       "      <th>landcover_5</th>\n",
       "      <th>landcover_6</th>\n",
       "      <th>landcover_7</th>\n",
       "      <th>landcover_8</th>\n",
       "      <th>population_density</th>\n",
       "      <th>precipitation</th>\n",
       "      <th>month</th>\n",
       "      <th>year</th>\n",
       "    </tr>\n",
       "  </thead>\n",
       "  <tbody>\n",
       "    <tr>\n",
       "      <th>0</th>\n",
       "      <td>0_2000-04-01</td>\n",
       "      <td>0</td>\n",
       "      <td>2000-04-01</td>\n",
       "      <td>25.447</td>\n",
       "      <td>5.296</td>\n",
       "      <td>0.003688</td>\n",
       "      <td>1250.622712</td>\n",
       "      <td>0.0</td>\n",
       "      <td>-178.916305</td>\n",
       "      <td>1250.622712</td>\n",
       "      <td>...</td>\n",
       "      <td>0.0</td>\n",
       "      <td>0.649524</td>\n",
       "      <td>0.0</td>\n",
       "      <td>0.000307</td>\n",
       "      <td>0.0</td>\n",
       "      <td>0.0</td>\n",
       "      <td>2.214262</td>\n",
       "      <td>0.198996</td>\n",
       "      <td>4</td>\n",
       "      <td>2000</td>\n",
       "    </tr>\n",
       "    <tr>\n",
       "      <th>1</th>\n",
       "      <td>1_2000-04-01</td>\n",
       "      <td>1</td>\n",
       "      <td>2000-04-01</td>\n",
       "      <td>25.669</td>\n",
       "      <td>5.293</td>\n",
       "      <td>0.000000</td>\n",
       "      <td>1238.019166</td>\n",
       "      <td>0.0</td>\n",
       "      <td>-150.779947</td>\n",
       "      <td>1238.019166</td>\n",
       "      <td>...</td>\n",
       "      <td>0.0</td>\n",
       "      <td>0.570644</td>\n",
       "      <td>0.0</td>\n",
       "      <td>0.000307</td>\n",
       "      <td>0.0</td>\n",
       "      <td>0.0</td>\n",
       "      <td>3.833042</td>\n",
       "      <td>0.188071</td>\n",
       "      <td>4</td>\n",
       "      <td>2000</td>\n",
       "    </tr>\n",
       "    <tr>\n",
       "      <th>2</th>\n",
       "      <td>2_2000-04-01</td>\n",
       "      <td>2</td>\n",
       "      <td>2000-04-01</td>\n",
       "      <td>25.443</td>\n",
       "      <td>5.074</td>\n",
       "      <td>0.000000</td>\n",
       "      <td>1240.449964</td>\n",
       "      <td>0.0</td>\n",
       "      <td>-200.503858</td>\n",
       "      <td>1240.449964</td>\n",
       "      <td>...</td>\n",
       "      <td>0.0</td>\n",
       "      <td>0.761700</td>\n",
       "      <td>0.0</td>\n",
       "      <td>0.000000</td>\n",
       "      <td>0.0</td>\n",
       "      <td>0.0</td>\n",
       "      <td>1.927303</td>\n",
       "      <td>0.211730</td>\n",
       "      <td>4</td>\n",
       "      <td>2000</td>\n",
       "    </tr>\n",
       "    <tr>\n",
       "      <th>3</th>\n",
       "      <td>3_2000-04-01</td>\n",
       "      <td>3</td>\n",
       "      <td>2000-04-01</td>\n",
       "      <td>25.665</td>\n",
       "      <td>5.070</td>\n",
       "      <td>0.000000</td>\n",
       "      <td>1229.240077</td>\n",
       "      <td>0.0</td>\n",
       "      <td>-177.011032</td>\n",
       "      <td>1229.240077</td>\n",
       "      <td>...</td>\n",
       "      <td>0.0</td>\n",
       "      <td>0.511854</td>\n",
       "      <td>0.0</td>\n",
       "      <td>0.000000</td>\n",
       "      <td>0.0</td>\n",
       "      <td>0.0</td>\n",
       "      <td>1.878281</td>\n",
       "      <td>0.215403</td>\n",
       "      <td>4</td>\n",
       "      <td>2000</td>\n",
       "    </tr>\n",
       "    <tr>\n",
       "      <th>4</th>\n",
       "      <td>4_2000-04-01</td>\n",
       "      <td>4</td>\n",
       "      <td>2000-04-01</td>\n",
       "      <td>25.886</td>\n",
       "      <td>5.067</td>\n",
       "      <td>0.000307</td>\n",
       "      <td>1224.093679</td>\n",
       "      <td>0.0</td>\n",
       "      <td>-153.256111</td>\n",
       "      <td>1224.093679</td>\n",
       "      <td>...</td>\n",
       "      <td>0.0</td>\n",
       "      <td>0.677757</td>\n",
       "      <td>0.0</td>\n",
       "      <td>0.000000</td>\n",
       "      <td>0.0</td>\n",
       "      <td>0.0</td>\n",
       "      <td>1.968818</td>\n",
       "      <td>0.199975</td>\n",
       "      <td>4</td>\n",
       "      <td>2000</td>\n",
       "    </tr>\n",
       "  </tbody>\n",
       "</table>\n",
       "<p>5 rows × 34 columns</p>\n",
       "</div>"
      ],
      "text/plain": [
       "             ID  area       date     lat    lon  burn_area  climate_aet  \\\n",
       "0  0_2000-04-01     0 2000-04-01  25.447  5.296   0.003688  1250.622712   \n",
       "1  1_2000-04-01     1 2000-04-01  25.669  5.293   0.000000  1238.019166   \n",
       "2  2_2000-04-01     2 2000-04-01  25.443  5.074   0.000000  1240.449964   \n",
       "3  3_2000-04-01     3 2000-04-01  25.665  5.070   0.000000  1229.240077   \n",
       "4  4_2000-04-01     4 2000-04-01  25.886  5.067   0.000307  1224.093679   \n",
       "\n",
       "   climate_def  climate_pdsi  climate_pet  ...   landcover_3  landcover_4  \\\n",
       "0          0.0   -178.916305  1250.622712  ...           0.0     0.649524   \n",
       "1          0.0   -150.779947  1238.019166  ...           0.0     0.570644   \n",
       "2          0.0   -200.503858  1240.449964  ...           0.0     0.761700   \n",
       "3          0.0   -177.011032  1229.240077  ...           0.0     0.511854   \n",
       "4          0.0   -153.256111  1224.093679  ...           0.0     0.677757   \n",
       "\n",
       "   landcover_5  landcover_6  landcover_7  landcover_8  population_density  \\\n",
       "0          0.0     0.000307          0.0          0.0            2.214262   \n",
       "1          0.0     0.000307          0.0          0.0            3.833042   \n",
       "2          0.0     0.000000          0.0          0.0            1.927303   \n",
       "3          0.0     0.000000          0.0          0.0            1.878281   \n",
       "4          0.0     0.000000          0.0          0.0            1.968818   \n",
       "\n",
       "   precipitation  month  year  \n",
       "0       0.198996      4  2000  \n",
       "1       0.188071      4  2000  \n",
       "2       0.211730      4  2000  \n",
       "3       0.215403      4  2000  \n",
       "4       0.199975      4  2000  \n",
       "\n",
       "[5 rows x 34 columns]"
      ]
     },
     "execution_count": 7,
     "metadata": {},
     "output_type": "execute_result"
    }
   ],
   "source": [
    "train.head()"
   ]
  },
  {
   "cell_type": "code",
   "execution_count": 21,
   "metadata": {},
   "outputs": [
    {
     "name": "stdout",
     "output_type": "stream",
     "text": [
      "Index(['area', 'lat', 'lon', 'burn_area', 'climate_aet', 'climate_def',\n",
      "       'climate_pdsi', 'climate_pet', 'climate_pr', 'climate_ro',\n",
      "       'climate_soil', 'climate_srad', 'climate_tmmn', 'climate_tmmx',\n",
      "       'climate_vap', 'climate_vpd', 'climate_vs', 'elevation', 'landcover_4',\n",
      "       'precipitation', 'month', 'year'],\n",
      "      dtype='object')\n"
     ]
    }
   ],
   "source": [
    "print(train.columns)\n",
    "\n",
    "#train = train.drop(['population_density', 'ID', 'date', 'climate_swe', 'landcover_0',\n",
    "                    #'landcover_1', 'landcover_2', 'landcover_3', 'landcover_5', 'landcover_6',\n",
    "                    #'landcover_7', 'landcover_8'], axis=1)\n",
    "test = test.drop(['population_density', 'ID', 'burn_area', 'climate_swe', 'landcover_0','landcover_1', \n",
    "                  'landcover_2', 'landcover_3', 'landcover_5', 'landcover_6','landcover_7', 'landcover_8'], axis=1)"
   ]
  },
  {
   "cell_type": "code",
   "execution_count": 27,
   "metadata": {},
   "outputs": [
    {
     "data": {
      "text/plain": [
       "(626644, 21)"
      ]
     },
     "execution_count": 27,
     "metadata": {},
     "output_type": "execute_result"
    }
   ],
   "source": [
    "train.shape"
   ]
  },
  {
   "cell_type": "code",
   "execution_count": 28,
   "metadata": {},
   "outputs": [
    {
     "data": {
      "text/plain": [
       "(137556, 22)"
      ]
     },
     "execution_count": 28,
     "metadata": {},
     "output_type": "execute_result"
    }
   ],
   "source": [
    "test.shape"
   ]
  },
  {
   "cell_type": "code",
   "execution_count": 20,
   "metadata": {},
   "outputs": [
    {
     "data": {
      "text/plain": [
       "<matplotlib.axes._subplots.AxesSubplot at 0x21131fafe48>"
      ]
     },
     "execution_count": 20,
     "metadata": {},
     "output_type": "execute_result"
    },
    {
     "data": {
      "image/png": "[encoded data removed]",
      "text/plain": [
       "<Figure size 432x288 with 1 Axes>"
      ]
     },
     "metadata": {
      "needs_background": "light"
     },
     "output_type": "display_data"
    }
   ],
   "source": [
    "# Date variables\n",
    "test['month'] = test.date.dt.month\n",
    "test['year'] = test.date.dt.year\n",
    "\n",
    "# Plotting mean burn_area for each month - very strong mid-year peak (dry season)\n",
    "test.groupby('month').mean().reset_index().plot(y='burn_area', x='month', kind='bar')"
   ]
  },
  {
   "cell_type": "code",
   "execution_count": 24,
   "metadata": {},
   "outputs": [
    {
     "data": {
      "text/html": [
       "<div>\n",
       "<style scoped>\n",
       "    .dataframe tbody tr th:only-of-type {\n",
       "        vertical-align: middle;\n",
       "    }\n",
       "\n",
       "    .dataframe tbody tr th {\n",
       "        vertical-align: top;\n",
       "    }\n",
       "\n",
       "    .dataframe thead th {\n",
       "        text-align: right;\n",
       "    }\n",
       "</style>\n",
       "<table border=\"1\" class=\"dataframe\">\n",
       "  <thead>\n",
       "    <tr style=\"text-align: right;\">\n",
       "      <th></th>\n",
       "      <th>area</th>\n",
       "      <th>date</th>\n",
       "      <th>lat</th>\n",
       "      <th>lon</th>\n",
       "      <th>climate_aet</th>\n",
       "      <th>climate_def</th>\n",
       "      <th>climate_pdsi</th>\n",
       "      <th>climate_pet</th>\n",
       "      <th>climate_pr</th>\n",
       "      <th>climate_ro</th>\n",
       "      <th>...</th>\n",
       "      <th>climate_tmmn</th>\n",
       "      <th>climate_tmmx</th>\n",
       "      <th>climate_vap</th>\n",
       "      <th>climate_vpd</th>\n",
       "      <th>climate_vs</th>\n",
       "      <th>elevation</th>\n",
       "      <th>landcover_4</th>\n",
       "      <th>precipitation</th>\n",
       "      <th>month</th>\n",
       "      <th>year</th>\n",
       "    </tr>\n",
       "  </thead>\n",
       "  <tbody>\n",
       "    <tr>\n",
       "      <th>0</th>\n",
       "      <td>0</td>\n",
       "      <td>2014-01-01</td>\n",
       "      <td>25.447</td>\n",
       "      <td>5.296</td>\n",
       "      <td>142.756021</td>\n",
       "      <td>1217.926180</td>\n",
       "      <td>-953.401012</td>\n",
       "      <td>1360.571291</td>\n",
       "      <td>1.000000</td>\n",
       "      <td>0.0</td>\n",
       "      <td>...</td>\n",
       "      <td>187.541787</td>\n",
       "      <td>332.578998</td>\n",
       "      <td>2542.124518</td>\n",
       "      <td>111.013969</td>\n",
       "      <td>156.563945</td>\n",
       "      <td>590.564102</td>\n",
       "      <td>0.569045</td>\n",
       "      <td>0.000457</td>\n",
       "      <td>1</td>\n",
       "      <td>2014</td>\n",
       "    </tr>\n",
       "    <tr>\n",
       "      <th>1</th>\n",
       "      <td>1</td>\n",
       "      <td>2014-01-01</td>\n",
       "      <td>25.669</td>\n",
       "      <td>5.293</td>\n",
       "      <td>154.836847</td>\n",
       "      <td>1193.866315</td>\n",
       "      <td>-961.703043</td>\n",
       "      <td>1348.688788</td>\n",
       "      <td>1.000000</td>\n",
       "      <td>0.0</td>\n",
       "      <td>...</td>\n",
       "      <td>185.895903</td>\n",
       "      <td>330.826066</td>\n",
       "      <td>2551.085649</td>\n",
       "      <td>106.576545</td>\n",
       "      <td>158.165429</td>\n",
       "      <td>611.544277</td>\n",
       "      <td>0.505068</td>\n",
       "      <td>0.000129</td>\n",
       "      <td>1</td>\n",
       "      <td>2014</td>\n",
       "    </tr>\n",
       "    <tr>\n",
       "      <th>2</th>\n",
       "      <td>2</td>\n",
       "      <td>2014-01-01</td>\n",
       "      <td>25.443</td>\n",
       "      <td>5.074</td>\n",
       "      <td>127.790933</td>\n",
       "      <td>1223.640222</td>\n",
       "      <td>-962.435857</td>\n",
       "      <td>1351.521823</td>\n",
       "      <td>1.000000</td>\n",
       "      <td>0.0</td>\n",
       "      <td>...</td>\n",
       "      <td>188.441645</td>\n",
       "      <td>330.077285</td>\n",
       "      <td>2551.183265</td>\n",
       "      <td>107.104292</td>\n",
       "      <td>153.257656</td>\n",
       "      <td>594.188987</td>\n",
       "      <td>0.711657</td>\n",
       "      <td>0.000398</td>\n",
       "      <td>1</td>\n",
       "      <td>2014</td>\n",
       "    </tr>\n",
       "    <tr>\n",
       "      <th>3</th>\n",
       "      <td>3</td>\n",
       "      <td>2014-01-01</td>\n",
       "      <td>25.665</td>\n",
       "      <td>5.070</td>\n",
       "      <td>136.924571</td>\n",
       "      <td>1201.258784</td>\n",
       "      <td>-961.326298</td>\n",
       "      <td>1338.120278</td>\n",
       "      <td>1.000000</td>\n",
       "      <td>0.0</td>\n",
       "      <td>...</td>\n",
       "      <td>185.393692</td>\n",
       "      <td>326.942319</td>\n",
       "      <td>2539.815326</td>\n",
       "      <td>101.962346</td>\n",
       "      <td>155.518048</td>\n",
       "      <td>645.362481</td>\n",
       "      <td>0.507897</td>\n",
       "      <td>0.000158</td>\n",
       "      <td>1</td>\n",
       "      <td>2014</td>\n",
       "    </tr>\n",
       "    <tr>\n",
       "      <th>4</th>\n",
       "      <td>4</td>\n",
       "      <td>2014-01-01</td>\n",
       "      <td>25.886</td>\n",
       "      <td>5.067</td>\n",
       "      <td>144.278146</td>\n",
       "      <td>1197.831547</td>\n",
       "      <td>-959.248284</td>\n",
       "      <td>1342.118844</td>\n",
       "      <td>0.998555</td>\n",
       "      <td>0.0</td>\n",
       "      <td>...</td>\n",
       "      <td>186.275015</td>\n",
       "      <td>327.839976</td>\n",
       "      <td>2549.462252</td>\n",
       "      <td>102.743046</td>\n",
       "      <td>159.865021</td>\n",
       "      <td>660.372381</td>\n",
       "      <td>0.666145</td>\n",
       "      <td>0.000153</td>\n",
       "      <td>1</td>\n",
       "      <td>2014</td>\n",
       "    </tr>\n",
       "  </tbody>\n",
       "</table>\n",
       "<p>5 rows × 22 columns</p>\n",
       "</div>"
      ],
      "text/plain": [
       "   area       date     lat    lon  climate_aet  climate_def  climate_pdsi  \\\n",
       "0     0 2014-01-01  25.447  5.296   142.756021  1217.926180   -953.401012   \n",
       "1     1 2014-01-01  25.669  5.293   154.836847  1193.866315   -961.703043   \n",
       "2     2 2014-01-01  25.443  5.074   127.790933  1223.640222   -962.435857   \n",
       "3     3 2014-01-01  25.665  5.070   136.924571  1201.258784   -961.326298   \n",
       "4     4 2014-01-01  25.886  5.067   144.278146  1197.831547   -959.248284   \n",
       "\n",
       "   climate_pet  climate_pr  climate_ro  ...   climate_tmmn  climate_tmmx  \\\n",
       "0  1360.571291    1.000000         0.0  ...     187.541787    332.578998   \n",
       "1  1348.688788    1.000000         0.0  ...     185.895903    330.826066   \n",
       "2  1351.521823    1.000000         0.0  ...     188.441645    330.077285   \n",
       "3  1338.120278    1.000000         0.0  ...     185.393692    326.942319   \n",
       "4  1342.118844    0.998555         0.0  ...     186.275015    327.839976   \n",
       "\n",
       "   climate_vap  climate_vpd  climate_vs   elevation  landcover_4  \\\n",
       "0  2542.124518   111.013969  156.563945  590.564102     0.569045   \n",
       "1  2551.085649   106.576545  158.165429  611.544277     0.505068   \n",
       "2  2551.183265   107.104292  153.257656  594.188987     0.711657   \n",
       "3  2539.815326   101.962346  155.518048  645.362481     0.507897   \n",
       "4  2549.462252   102.743046  159.865021  660.372381     0.666145   \n",
       "\n",
       "   precipitation  month  year  \n",
       "0       0.000457      1  2014  \n",
       "1       0.000129      1  2014  \n",
       "2       0.000398      1  2014  \n",
       "3       0.000158      1  2014  \n",
       "4       0.000153      1  2014  \n",
       "\n",
       "[5 rows x 22 columns]"
      ]
     },
     "execution_count": 24,
     "metadata": {},
     "output_type": "execute_result"
    }
   ],
   "source": [
    "test.head()"
   ]
  },
  {
   "cell_type": "code",
   "execution_count": 25,
   "metadata": {},
   "outputs": [
    {
     "name": "stdout",
     "output_type": "stream",
     "text": [
      "[0.00368827 0.         0.         ... 0.         0.         0.        ]\n"
     ]
    }
   ],
   "source": [
    "Labels = np.array(train['burn_area'])\n",
    "print(Labels)"
   ]
  },
  {
   "cell_type": "code",
   "execution_count": 32,
   "metadata": {},
   "outputs": [],
   "source": [
    "#train = train.drop('burn_area', axis=1)\n",
    "#test = test.drop('burn_area', axis=1)"
   ]
  },
  {
   "cell_type": "code",
   "execution_count": 29,
   "metadata": {},
   "outputs": [
    {
     "data": {
      "text/plain": [
       "Index(['area', 'lat', 'lon', 'climate_aet', 'climate_def', 'climate_pdsi',\n",
       "       'climate_pet', 'climate_pr', 'climate_ro', 'climate_soil',\n",
       "       'climate_srad', 'climate_tmmn', 'climate_tmmx', 'climate_vap',\n",
       "       'climate_vpd', 'climate_vs', 'elevation', 'landcover_4',\n",
       "       'precipitation', 'month', 'year'],\n",
       "      dtype='object')"
      ]
     },
     "execution_count": 29,
     "metadata": {},
     "output_type": "execute_result"
    }
   ],
   "source": [
    "train.columns"
   ]
  },
  {
   "cell_type": "code",
   "execution_count": 31,
   "metadata": {},
   "outputs": [],
   "source": [
    "test = test.drop('date', axis=1)"
   ]
  },
  {
   "cell_type": "code",
   "execution_count": 33,
   "metadata": {},
   "outputs": [],
   "source": [
    "Features = np.array(train)\n",
    "test_enc = np.array(test)"
   ]
  },
  {
   "cell_type": "code",
   "execution_count": 34,
   "metadata": {},
   "outputs": [
    {
     "name": "stdout",
     "output_type": "stream",
     "text": [
      "[[-1.73159757  0.43753111  1.85451289 ...  0.1322863  -0.75212307\n",
      "  -1.68075649]\n",
      " [-1.73069097  0.49456614  1.85383075 ...  0.04842358 -0.75212307\n",
      "  -1.68075649]\n",
      " [-1.72978438  0.43650345  1.80403446 ...  0.23004017 -0.75212307\n",
      "  -1.68075649]\n",
      " ...\n",
      " [ 1.72978438  1.48445787 -2.34861303 ...  1.04469196  1.57520115\n",
      "   1.60372824]\n",
      " [ 1.73069097  1.54174981 -2.34565709 ...  0.77124435  1.57520115\n",
      "   1.60372824]\n",
      " [ 1.73159757  1.5450897  -2.39522601 ...  0.63133742  1.57520115\n",
      "   1.60372824]]\n"
     ]
    }
   ],
   "source": [
    "from sklearn import preprocessing\n",
    "\n",
    "scaler = preprocessing.StandardScaler().fit(Features[:, :])\n",
    "Features[:, :] = scaler.transform(Features[:, :])\n",
    "print(Features[:, :])"
   ]
  },
  {
   "cell_type": "code",
   "execution_count": 35,
   "metadata": {},
   "outputs": [
    {
     "name": "stdout",
     "output_type": "stream",
     "text": [
      "[[-1.73159757  0.43753111  1.85451289 ... -1.42280041 -1.59325501\n",
      "  -1.22474487]\n",
      " [-1.73069097  0.49456614  1.85383075 ... -1.42552338 -1.59325501\n",
      "  -1.22474487]\n",
      " [-1.72978438  0.43650345  1.80403446 ... -1.42328543 -1.59325501\n",
      "  -1.22474487]\n",
      " ...\n",
      " [ 1.72978438  1.48445787 -2.34861303 ...  1.16702286  1.59325501\n",
      "   1.22474487]\n",
      " [ 1.73069097  1.54174981 -2.34565709 ...  1.20350231  1.59325501\n",
      "   1.22474487]\n",
      " [ 1.73159757  1.5450897  -2.39522601 ...  1.31436829  1.59325501\n",
      "   1.22474487]]\n"
     ]
    }
   ],
   "source": [
    "scaler1 = preprocessing.StandardScaler().fit(test_enc[:, :])\n",
    "test_enc[:, :] = scaler1.transform(test_enc[:, :])\n",
    "print(test_enc[:, :])"
   ]
  },
  {
   "cell_type": "code",
   "execution_count": 36,
   "metadata": {},
   "outputs": [],
   "source": [
    "import numpy.random as nr\n",
    "import sklearn.model_selection as ms\n",
    "## Randomly sample cases to create independent training and test data\n",
    "nr.seed(9988)\n",
    "indx = range(Features.shape[0])\n",
    "indx = ms.train_test_split(indx, test_size = 0.2)\n",
    "x_train = Features[indx[0],:]\n",
    "y_train = np.ravel(Labels[indx[0]])\n",
    "x_test = Features[indx[1],:]\n",
    "y_test = np.ravel(Labels[indx[1]])"
   ]
  },
  {
   "cell_type": "code",
   "execution_count": 37,
   "metadata": {},
   "outputs": [],
   "source": [
    "indx1 = range(x_train.shape[0])\n",
    "indx1 = ms.train_test_split(indx1, test_size = 0.2)\n",
    "x_train1 = x_train[indx1[0],:]\n",
    "y_train1 = np.ravel(y_train[indx1[0]])\n",
    "x_train_val = x_train[indx1[1],:]\n",
    "y_train_val = np.ravel(y_train[indx1[1]])"
   ]
  },
  {
   "cell_type": "code",
   "execution_count": 38,
   "metadata": {},
   "outputs": [
    {
     "name": "stderr",
     "output_type": "stream",
     "text": [
      "C:\\Users\\hp\\Anaconda3\\lib\\site-packages\\sklearn\\ensemble\\weight_boosting.py:29: DeprecationWarning: numpy.core.umath_tests is an internal NumPy module and should not be imported. It will be removed in a future NumPy release.\n",
      "  from numpy.core.umath_tests import inner1d\n"
     ]
    }
   ],
   "source": [
    "from sklearn.ensemble import RandomForestRegressor\n",
    "from sklearn.ensemble import ExtraTreesRegressor\n",
    "\n",
    "rlf = RandomForestRegressor(n_estimators=500, max_depth=7, max_features=8, random_state=123,\n",
    "                            min_samples_split=2)"
   ]
  },
  {
   "cell_type": "code",
   "execution_count": null,
   "metadata": {},
   "outputs": [],
   "source": [
    "rlf.fit(x_train, y_train)"
   ]
  },
  {
   "cell_type": "code",
   "execution_count": null,
   "metadata": {},
   "outputs": [],
   "source": []
  }
 ],
 "metadata": {
  "kernelspec": {
   "display_name": "Python 3",
   "language": "python",
   "name": "python3"
  },
  "language_info": {
   "codemirror_mode": {
    "name": "ipython",
    "version": 3
   },
   "file_extension": ".py",
   "mimetype": "text/x-python",
   "name": "python",
   "nbconvert_exporter": "python",
   "pygments_lexer": "ipython3",
   "version": "3.7.0"
  }
 },
 "nbformat": 4,
 "nbformat_minor": 2
}
