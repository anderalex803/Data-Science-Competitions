{
 "cells": [
  {
   "cell_type": "code",
   "execution_count": 6,
   "metadata": {},
   "outputs": [
    {
     "name": "stdout",
     "output_type": "stream",
     "text": [
      "        REGION  TENURE  MONTANT  FREQUENCE_RECH  REVENUE  ARPU_SEGMENT  \\\n",
      "189          1       7  14650.0            35.0  15507.0        5169.0   \n",
      "216          7       7   4950.0            16.0   4962.0        1654.0   \n",
      "278          0       7  11000.0            13.0  10999.0        3666.0   \n",
      "416          1       7   6350.0            16.0   6337.0        2112.0   \n",
      "875          6       7   3750.0            12.0   3847.0        1282.0   \n",
      "...        ...     ...      ...             ...      ...           ...   \n",
      "399329       1       7  58300.0            76.0  59280.0       19760.0   \n",
      "399380       1       7  13350.0            28.0  14032.0        4677.0   \n",
      "399726       1       7  14600.0            27.0  15200.0        5067.0   \n",
      "399884       6       7  15850.0            61.0  15847.0        5282.0   \n",
      "399905       1       7  12500.0            22.0  13001.0        4334.0   \n",
      "\n",
      "        FREQUENCE  DATA_VOLUME  ON_NET  ORANGE   TIGO  ZONE1  ZONE2  MRG  \\\n",
      "189          40.0       8743.0    29.0    63.0    2.0    9.0    1.0    0   \n",
      "216          21.0          0.0    67.0    73.0    3.0    2.0    3.0    0   \n",
      "278          18.0          0.0   216.0   189.0   15.0    3.0    3.0    0   \n",
      "416          19.0      10252.0     7.0     3.0    9.0    1.0    0.0    0   \n",
      "875          18.0        998.0    12.0    32.0    2.0    0.0    5.0    0   \n",
      "...           ...          ...     ...     ...    ...    ...    ...  ...   \n",
      "399329       75.0      45181.0   308.0   769.0  140.0   21.0    0.0    0   \n",
      "399380       32.0      14500.0    17.0    53.0    1.0    1.0   22.0    0   \n",
      "399726       27.0          0.0   319.0   456.0   16.0    2.0    0.0    0   \n",
      "399884       62.0      12808.0  3090.0    32.0    3.0    0.0    0.0    0   \n",
      "399905       25.0       3327.0     8.0   158.0  100.0   13.0    3.0    0   \n",
      "\n",
      "        REGULARITY  TOP_PACK  FREQ_TOP_PACK  CHURN  \n",
      "189             62         6           19.0      0  \n",
      "216             30       111            5.0      0  \n",
      "278             61        18           11.0      0  \n",
      "416             54        47            7.0      0  \n",
      "875             54        48            2.0      0  \n",
      "...            ...       ...            ...    ...  \n",
      "399329          62        18           51.0      0  \n",
      "399380          59        89            4.0      0  \n",
      "399726          62        36           23.0      0  \n",
      "399884          62        48           34.0      0  \n",
      "399905          46        18           23.0      0  \n",
      "\n",
      "[2508 rows x 18 columns]\n",
      "Log loss: 0.6192354261575067\n",
      "Accuracy score: 0.9820717131474104\n",
      "0.985543369890329\n",
      "0.9820717131474104\n"
     ]
    }
   ],
   "source": [
    "import numpy as np\n",
    "import pandas as pd \n",
    "from sklearn import preprocessing\n",
    "from sklearn.neighbors import KNeighborsClassifier\n",
    "from sklearn.model_selection import cross_validate\n",
    "from sklearn.model_selection import train_test_split\n",
    "import matplotlib.pyplot as plt\n",
    "from sklearn.linear_model import LogisticRegression\n",
    "from sklearn.metrics import log_loss, accuracy_score\n",
    "\n",
    "\n",
    "df = pd.read_csv('Train.csv')\n",
    "\n",
    "df.drop(['user_id'], 1, inplace=True)\n",
    "\n",
    "\n",
    "def handle_non_numerical_data(df):\n",
    "    columns =df.columns.values\n",
    "    \n",
    "    for column in columns:\n",
    "        text_digit_vals = {}\n",
    "        def convert_to_int(val):\n",
    "            return text_digit_vals[val]\n",
    "        \n",
    "        if df[column].dtype!=np.int64 and df[column].dtype!=np.float64:\n",
    "            column_contents = df[column].tolist()#converting dataframe to list\n",
    "            unique_elements = set(column_contents)#converting list to set so as to remove repeated values and give unique values\n",
    "            x = 0\n",
    "            for unique in unique_elements:\n",
    "                if unique not in text_digit_vals:\n",
    "                    text_digit_vals[unique] = x\n",
    "                    x+=1\n",
    "            df[column] = list(map(convert_to_int, df[column]))\n",
    "    return df\n",
    "df = handle_non_numerical_data(df)\n",
    "\n",
    "\n",
    "\n",
    "df.dropna(inplace=True)\n",
    "print(df)\n",
    "\n",
    "X = np.array(df.drop(['CHURN'], 1))\n",
    "X = preprocessing.scale(X)\n",
    "y = np.array(df['CHURN'])\n",
    "X_train, X_test, y_train, y_test = train_test_split(X, y, random_state=0, test_size = 0.2)\n",
    "clf = LogisticRegression(C=10).fit(X_train, y_train) \n",
    "\n",
    "\n",
    "accuracy2 = clf.score(X_train, y_train)\n",
    "accuracy = clf.score(X_test, y_test)\n",
    "\n",
    "pred = clf.predict(X_test)\n",
    "print(f'Log loss: {log_loss(pred, y_test)}')\n",
    "print(f'Accuracy score: {accuracy_score(pred, y_test)}')\n",
    "print(accuracy2)\n",
    "print(accuracy)\n",
    "\n",
    "\n",
    "\n",
    "\n",
    "\n",
    "\n"
   ]
  },
  {
   "cell_type": "code",
   "execution_count": 3,
   "metadata": {},
   "outputs": [
    {
     "data": {
      "text/plain": [
       "array([0, 0, 0, 0, 1, 0, 0, 0, 0, 0, 0, 0, 0, 0, 0, 0, 0, 0, 0, 0, 0, 0,\n",
       "       0, 0, 0, 0, 0, 0, 0, 0, 0, 0, 0, 0, 0, 0, 0, 0, 0, 0, 0, 0, 0, 0,\n",
       "       0, 0, 0, 0, 0, 0, 0, 0, 0, 0, 0, 0, 0, 0, 0, 0, 0, 0, 0, 0, 0, 0,\n",
       "       0, 0, 0, 0, 0, 0, 0, 0, 0, 0, 0, 0, 0, 0, 0, 0, 0, 0, 0, 0, 0, 0,\n",
       "       0, 0, 0, 0, 0, 0, 0, 0, 0, 0, 0, 0, 0, 0, 0, 0, 0, 0, 0, 0, 0, 0,\n",
       "       0, 0, 0, 0, 0, 0, 0, 0, 0, 0, 0, 0, 0, 0, 0, 0, 0, 0, 0, 0, 0, 0,\n",
       "       0, 0, 0, 0, 0, 0, 0, 0, 0, 0, 0, 0, 0, 0, 0, 0, 0, 0, 0, 0, 0, 0,\n",
       "       0, 0, 0, 0, 0, 0, 0, 0, 0, 0, 0, 0, 0, 0, 0, 0, 0, 0, 0, 0, 0, 0,\n",
       "       0, 0, 0, 0, 0, 0, 0, 0, 0, 0, 0, 0, 0, 0, 0, 0, 0, 0, 0, 0, 0, 0,\n",
       "       0, 0, 0, 0, 0, 0, 0, 0, 0, 0, 0, 0, 0, 0, 0, 0, 0, 0, 0, 0, 0, 0,\n",
       "       0, 0, 0, 0, 0, 0, 0, 0, 0, 0, 0, 0, 0, 0, 0, 0, 0, 0, 0, 0, 0, 0,\n",
       "       0, 0, 0, 0, 0, 0, 0, 0, 0, 0, 0, 0, 0, 0, 0, 0, 0, 0, 0, 0, 0, 0,\n",
       "       0, 0, 0, 0, 0, 0, 0, 0, 0, 0, 0, 0, 0, 0, 0, 0, 0, 0, 0, 0, 0, 0,\n",
       "       0, 0, 0, 0, 0, 0, 0, 0, 0, 0, 0, 0, 0, 0, 0, 0, 0, 0, 0, 0, 0, 0,\n",
       "       0, 0, 0, 0, 0, 0, 0, 0, 0, 0, 0, 0, 0, 0, 0, 0, 0, 0, 0, 0, 0, 0,\n",
       "       0, 0, 0, 0, 0, 0, 0, 0, 0, 0, 0, 0, 0, 0, 0, 0, 0, 0, 0, 0, 0, 0,\n",
       "       0, 0, 0, 0, 0, 0, 0, 0, 0, 0, 0, 0, 0, 0, 0, 0, 0, 0, 0, 0, 0, 0,\n",
       "       0, 0, 0, 0, 0, 0, 0, 0, 0, 0, 0, 0, 0, 0, 0, 0, 0, 0, 0, 0, 0, 0,\n",
       "       0, 0, 0, 0, 0, 0, 0, 0, 0, 0, 0, 0, 0, 0, 0, 0, 0, 0, 0, 0, 0, 0,\n",
       "       0, 0, 0, 0, 0, 0, 0, 0, 0, 0, 0, 0, 0, 0, 0, 0, 0, 0, 0, 0, 0, 0,\n",
       "       0, 0, 0, 0, 0, 0, 0, 0, 0, 0, 0, 0, 0, 0, 0, 0, 0, 0, 0, 0, 0, 0,\n",
       "       0, 0, 0, 0, 0, 0, 0, 0, 0, 0, 0, 0, 0, 0, 0, 0, 0, 0, 0, 0, 0, 0,\n",
       "       0, 0, 0, 0, 0, 0, 0, 0, 0, 0, 0, 0, 0, 0, 0, 0, 0, 0])"
      ]
     },
     "execution_count": 3,
     "metadata": {},
     "output_type": "execute_result"
    }
   ],
   "source": [
    "pred"
   ]
  },
  {
   "cell_type": "code",
   "execution_count": 1,
   "metadata": {},
   "outputs": [
    {
     "name": "stdout",
     "output_type": "stream",
     "text": [
      "Collecting geopandas\n",
      "  Downloading geopandas-0.8.1-py2.py3-none-any.whl (962 kB)\n",
      "\u001b[K     |████████████████████████████████| 962 kB 3.6 kB/s eta 0:00:01\n",
      "\u001b[?25hCollecting shapely\n",
      "  Downloading Shapely-1.7.0-cp37-cp37m-manylinux1_x86_64.whl (1.8 MB)\n",
      "\u001b[K     |████████████████████████████████| 1.8 MB 279 kB/s eta 0:00:01     |████████████████████████▌       | 1.4 MB 280 kB/s eta 0:00:02\n",
      "\u001b[?25hRequirement already satisfied: pandas>=0.23.0 in /home/olawale/anaconda3/lib/python3.7/site-packages (from geopandas) (1.0.5)\n",
      "Collecting pyproj>=2.2.0\n",
      "  Downloading pyproj-2.6.1.post1-cp37-cp37m-manylinux2010_x86_64.whl (10.9 MB)\n",
      "\u001b[K     |████████████████████████████████| 10.9 MB 328 kB/s eta 0:00:01    |█████████████████████████▍      | 8.7 MB 127 kB/s eta 0:00:18\n",
      "\u001b[?25hCollecting fiona\n",
      "  Downloading Fiona-1.8.13.post1-cp37-cp37m-manylinux1_x86_64.whl (14.7 MB)\n",
      "\u001b[K     |████████████████████████████████| 14.7 MB 49 kB/s  eta 0:00:01\n",
      "\u001b[?25hRequirement already satisfied: numpy>=1.13.3 in /home/olawale/anaconda3/lib/python3.7/site-packages (from pandas>=0.23.0->geopandas) (1.18.5)\n",
      "Requirement already satisfied: pytz>=2017.2 in /home/olawale/anaconda3/lib/python3.7/site-packages (from pandas>=0.23.0->geopandas) (2020.1)\n",
      "Requirement already satisfied: python-dateutil>=2.6.1 in /home/olawale/anaconda3/lib/python3.7/site-packages (from pandas>=0.23.0->geopandas) (2.8.1)\n",
      "Requirement already satisfied: six>=1.7 in /home/olawale/anaconda3/lib/python3.7/site-packages (from fiona->geopandas) (1.15.0)\n",
      "Collecting munch\n",
      "  Downloading munch-2.5.0-py2.py3-none-any.whl (10 kB)\n",
      "Requirement already satisfied: attrs>=17 in /home/olawale/anaconda3/lib/python3.7/site-packages (from fiona->geopandas) (19.3.0)\n",
      "Collecting cligj>=0.5\n",
      "  Downloading cligj-0.5.0-py3-none-any.whl (5.7 kB)\n",
      "Collecting click-plugins>=1.0\n",
      "  Downloading click_plugins-1.1.1-py2.py3-none-any.whl (7.5 kB)\n",
      "Requirement already satisfied: click<8,>=4.0 in /home/olawale/anaconda3/lib/python3.7/site-packages (from fiona->geopandas) (7.1.2)\n",
      "Installing collected packages: shapely, pyproj, munch, cligj, click-plugins, fiona, geopandas\n",
      "Successfully installed click-plugins-1.1.1 cligj-0.5.0 fiona-1.8.13.post1 geopandas-0.8.1 munch-2.5.0 pyproj-2.6.1.post1 shapely-1.7.0\n"
     ]
    }
   ],
   "source": [
    "!pip install geopandas"
   ]
  },
  {
   "cell_type": "code",
   "execution_count": null,
   "metadata": {},
   "outputs": [],
   "source": []
  }
 ],
 "metadata": {
  "kernelspec": {
   "display_name": "Python 3",
   "language": "python",
   "name": "python3"
  },
  "language_info": {
   "codemirror_mode": {
    "name": "ipython",
    "version": 3
   },
   "file_extension": ".py",
   "mimetype": "text/x-python",
   "name": "python",
   "nbconvert_exporter": "python",
   "pygments_lexer": "ipython3",
   "version": "3.7.6"
  }
 },
 "nbformat": 4,
 "nbformat_minor": 4
}
