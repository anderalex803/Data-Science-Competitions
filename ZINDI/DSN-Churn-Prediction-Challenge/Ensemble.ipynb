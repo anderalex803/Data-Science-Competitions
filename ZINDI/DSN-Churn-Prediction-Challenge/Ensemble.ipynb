{
 "cells": [
  {
   "cell_type": "code",
   "execution_count": 7,
   "metadata": {},
   "outputs": [],
   "source": [
    "import numpy as np\n",
    "import pandas as pd\n",
    "\n",
    "train = pd.read_csv('Train.csv')\n",
    "xg1 = pd.read_csv('XG-44-FOLD.csv')   #0.25174\n",
    "xg2 = pd.read_csv('XG-4-FOLD-55-FEATURES.csv')   #0.251795\n",
    "xg3 = pd.read_csv('XG-4-FOLD.csv')   #0.25189\n",
    "xg4 = pd.read_csv('ANN_XG.csv')     #0.25219\n",
    "cat1 = pd.read_csv('CAT-10-FOLD-55-FEATURES.csv')   #0.25091\n",
    "cat2 = pd.read_csv('cat_avg____.csv')     #0.250749\n",
    "cat3 = pd.read_csv('CAT-20-FOLD-new.csv')     #0.250753\n",
    "cat4 = pd.read_csv('CAT-20-FOLD-61-features.csv')     #0.250733\n",
    "cat5 = pd.read_csv('CAT-5-FOLD-61-features.csv')     #0.2507509\n",
    "cat6 = pd.read_csv('cat_avg2.csv')     #0.2505966\n",
    "cat6i = pd.read_csv('cat_avg2i.csv')\n",
    "cat8_ = pd.read_csv('CAT-20-FOLD-62-features.csv')     \n",
    "cat8 = pd.read_csv('cat8.csv')     #0.250556\n",
    "cat9 = pd.read_csv('CAT-20-FOLD-50-features.csv') #-------------------\n",
    "cat10 = pd.read_csv('CAT-20-FOLD-70-features.csv') \n",
    "cat11 = pd.read_csv('CAT-20-FOLD-58-features.csv') #------------------ #best1\n",
    "cat12 = pd.read_csv('CAT-20-FOLD-77-features.csv') \n",
    "cat13 = pd.read_csv('CAT-20-FOLD-65-features.csv') #------------------\n",
    "cat14 = pd.read_csv('fill-CAT-20-FOLD-62-features.csv') \n",
    "cat15 = pd.read_csv('10maxdepth-CAT-20-FOLD-58-features.csv') \n",
    "cat16 = pd.read_csv('CAT-20-FOLD-65-features (1).csv') \n",
    "cat17 = pd.read_csv('7maxdepth-CAT-20-FOLD-58-features.csv') \n",
    "cat18 = pd.read_csv('5maxdepth-CAT-20-FOLD-58-features.csv') \n",
    "cat19 = pd.read_csv('SEED-11-CAT-20-FOLD-69-features.csv') \n",
    "cat20 = pd.read_csv('SEED-22-CAT-20-FOLD-69-features.csv') \n",
    "\n",
    "cat3i = pd.read_csv('STRATIFY-CAT-20-FOLD-79-features.csv')  #250677\n",
    "cat4i = pd.read_csv('STRATIFY-CAT-20-FOLD-58-features.csv')   #250663\n",
    "cat4i_9 = pd.read_csv('cat4i_9.csv')\n",
    "cat3_9 = pd.read_csv('cat3_9.csv')\n",
    "cat3_11 = pd.read_csv('cat3_11.csv')\n",
    "max_avg = pd.read_csv('max_avg.csv')\n",
    "max_avg_3_9 = pd.read_csv('max_avg_3_9.csv')\n",
    "max_avg_3_9_11 = pd.read_csv('max_avg_3_9_11.csv')\n",
    "cat_avg3 = pd.read_csv('cat_avg3.csv')\n",
    "lg = pd.read_csv('STRATIFY-LGBM-20-FOLD-69-features.csv')\n",
    "lg1 = pd.read_csv('NOMAXDEPTH-CAT-20-FOLD-69-features.csv')\n",
    "lg2 = pd.read_csv('max_avg7.csv')\n",
    "mvg1 = pd.read_csv('mvg1.csv')\n",
    "mvg2 = pd.read_csv('mvg2.csv')\n",
    "mvg3 = pd.read_csv('mvg3.csv')\n",
    "mvg = pd.read_csv('mvg.csv')\n",
    "\n",
    "hopefully = pd.read_csv('max_avg_3_9_11i.csv')\n",
    "hopefully1 = pd.read_csv('max_avg_3_9_11i.csv')\n",
    "\n",
    "lg1 = pd.read_csv('LGB-5-FOLD-61-features.csv')     #0.000000\n",
    "ann = pd.read_csv('ANN_Baseline_predict_proba.csv')\n",
    "log = pd.read_csv('STACK_LOGISTIC_REGRESSION.csv')\n",
    "lr = pd.read_csv('STACK_LINEAR_REGRESSION.csv')\n",
    "xg4 = pd.read_csv('XG-4-FOLD.csv')\n",
    "blend = pd.read_csv('blend.csv')"
   ]
  },
  {
   "cell_type": "code",
   "execution_count": 2,
   "metadata": {},
   "outputs": [],
   "source": [
    "mvg3 = (cat3i.CHURN + cat4i.CHURN + cat19.CHURN + cat20.CHURN + cat11.CHURN)/5"
   ]
  },
  {
   "cell_type": "code",
   "execution_count": 7,
   "metadata": {},
   "outputs": [],
   "source": [
    "mvg1 = (hopefully1.CHURN + lg2.CHURN)/2"
   ]
  },
  {
   "cell_type": "code",
   "execution_count": 3,
   "metadata": {},
   "outputs": [],
   "source": [
    "mvg = (lg.CHURN + lg1.CHURN + cat2.CHURN + cat3.CHURN + cat4.CHURN + cat3i.CHURN + cat4i.CHURN)/7"
   ]
  },
  {
   "cell_type": "code",
   "execution_count": 9,
   "metadata": {},
   "outputs": [],
   "source": [
    "#max_avg_3_9_11 = (max_avg.CHURN + cat3_9.CHURN + cat3_11.CHURN)/3\n",
    "mvg1 = pd.read_csv('mvg1.csv')\n",
    "mvg1['CHURN'] = np.where(mvg1['CHURN'] > 0.82, 0.87, mvg1['CHURN'])\n",
    "mvg1['CHURN'] = mvg1['CHURN'] \n",
    "mvg1.to_csv('mvg1.csv', index=False)"
   ]
  },
  {
   "cell_type": "code",
   "execution_count": 4,
   "metadata": {},
   "outputs": [],
   "source": [
    "#max_avg_3_9_11 = (max_avg.CHURN + cat3_9.CHURN + cat3_11.CHURN)/3\n",
    "mvg3 = pd.read_csv('mvg3.csv')\n",
    "mvg3['CHURN'] = np.where(mvg3['CHURN'] > 0.82, 0.87, mvg3['CHURN'])\n",
    "mvg3['CHURN'] = mvg3['CHURN'] \n",
    "mvg3.to_csv('mvg3.csv', index=False)"
   ]
  },
  {
   "cell_type": "code",
   "execution_count": 8,
   "metadata": {},
   "outputs": [],
   "source": [
    "mvg_last = (mvg1.CHURN + mvg2.CHURN + mvg3.CHURN + mvg.CHURN )/4"
   ]
  },
  {
   "cell_type": "code",
   "execution_count": 2,
   "metadata": {},
   "outputs": [],
   "source": [
    "hopefully1['CHURN'] = np.where(hopefully1['CHURN'] < 0.0005, 0.0, hopefully1['CHURN'])\n",
    "hopefully1['CHURN'] = hopefully1['CHURN'] \n",
    "hopefully1.to_csv('hopefully1.csv', index=False)"
   ]
  },
  {
   "cell_type": "code",
   "execution_count": 2,
   "metadata": {},
   "outputs": [],
   "source": [
    "hopefully['CHURN'] = np.where(hopefully['CHURN'] > 0.35, 0.35, hopefully['CHURN'])\n",
    "hopefully['CHURN'] = hopefully['CHURN'] \n",
    "hopefully.to_csv('hopefully.csv', index=False)"
   ]
  },
  {
   "cell_type": "code",
   "execution_count": 7,
   "metadata": {},
   "outputs": [],
   "source": [
    "#max_avg_3_9_11 = (max_avg.CHURN + cat3_9.CHURN + cat3_11.CHURN)/3\n",
    "max_avg3_9_11_new = pd.read_csv('max_avg_3_9_11.csv')\n",
    "max_avg3_9_11_new['CHURN'] = np.where(max_avg3_9_11_new['CHURN'] > 0.83, 0.87, max_avg3_9_11_new['CHURN'])\n",
    "max_avg3_9_11_new['CHURN'] = max_avg3_9_11_new['CHURN'] \n",
    "max_avg3_9_11_new.to_csv('max_avg_3_9_11.csv', index=False)"
   ]
  },
  {
   "cell_type": "code",
   "execution_count": 14,
   "metadata": {},
   "outputs": [
    {
     "name": "stdout",
     "output_type": "stream",
     "text": [
      "0.87 0.00021622042578271325\n"
     ]
    },
    {
     "data": {
      "text/plain": [
       "count    100000.000000\n",
       "mean          0.187405\n",
       "std           0.266190\n",
       "min           0.000216\n",
       "25%           0.001600\n",
       "50%           0.020189\n",
       "75%           0.350405\n",
       "max           0.870000\n",
       "Name: CHURN, dtype: float64"
      ]
     },
     "execution_count": 14,
     "metadata": {},
     "output_type": "execute_result"
    }
   ],
   "source": [
    "print(max_avg_3_9_11['CHURN'].max(), max_avg_3_9_11['CHURN'].min())\n",
    "max_avg_3_9_11['CHURN'].describe()"
   ]
  },
  {
   "cell_type": "code",
   "execution_count": 32,
   "metadata": {},
   "outputs": [],
   "source": [
    "max_avg_3_9_11['CHURN'] = np.where(max_avg_3_9_11['CHURN'] > 0.82, 0.87, max_avg_3_9_11['CHURN'])\n",
    "max_avg_3_9_11['CHURN'] = np.where(((max_avg_3_9_11['CHURN'] > 0.000216) & (max_avg_3_9_11['CHURN']) < 0.01500), 0.0, max_avg_3_9_11['CHURN'])\n",
    "max_avg_3_9_11['CHURN'] = max_avg_3_9_11['CHURN'] \n",
    "max_avg_3_9_11.to_csv('max_avg_3_9_11iii.csv', index=False)"
   ]
  },
  {
   "cell_type": "code",
   "execution_count": 10,
   "metadata": {},
   "outputs": [],
   "source": [
    "max_avg_3_9_16 = (cat2.CHURN+cat6.CHURN+cat11.CHURN+cat13.CHURN+cat9.CHURN +cat16.CHURN)/6"
   ]
  },
  {
   "cell_type": "code",
   "execution_count": 15,
   "metadata": {},
   "outputs": [],
   "source": [
    "#max_avg_3_9_16 = (cat2.CHURN+cat6.CHURN+cat11.CHURN+cat13.CHURN+cat9.CHURN)/5\n",
    "alt = pd.read_csv('alt.csv')\n",
    "alt['CHURN'] = np.where(alt['CHURN'] > 0.83, 0.87, alt['CHURN'])\n",
    "alt['CHURN'] = alt['CHURN'] + 0.05\n",
    "alt.to_csv('alt.csv', index=False)"
   ]
  },
  {
   "cell_type": "code",
   "execution_count": 13,
   "metadata": {},
   "outputs": [],
   "source": [
    "alt = ((max_avg_3_9.CHURN)*0.6 + ((max_avg.CHURN)*0.7 + (cat3_9.CHURN)*0.3)*0.4)"
   ]
  },
  {
   "cell_type": "code",
   "execution_count": 4,
   "metadata": {},
   "outputs": [],
   "source": [
    "max_avg_3_9 = (max_avg.CHURN + cat3_9.CHURN)/2"
   ]
  },
  {
   "cell_type": "code",
   "execution_count": 29,
   "metadata": {},
   "outputs": [],
   "source": [
    "#max_avg_4i_9 = (max_avg.CHURN + cat4i_9.CHURN)/2\n",
    "max_avg_4i_9 = pd.read_csv('max_avg_4i_9.csv')\n",
    "max_avg_4i_9['CHURN'] = np.where(max_avg_4i_9['CHURN'] > 0.83, 0.87, max_avg_4i_9['CHURN'])\n",
    "max_avg_4i_9['CHURN'] = max_avg_4i_9['CHURN']\n",
    "max_avg_4i_9.to_csv('max_avg_4i_9i.csv', index=False)"
   ]
  },
  {
   "cell_type": "code",
   "execution_count": 12,
   "metadata": {},
   "outputs": [],
   "source": [
    "#max_avg_3_9 = (cat2.CHURN+cat6.CHURN+cat11.CHURN+cat13.CHURN+cat9.CHURN)/5\n",
    "max_avg_3_9 = pd.read_csv('max_avg_3_9.csv')\n",
    "max_avg_3_9['CHURN'] = np.where(max_avg_3_9['CHURN'] > 0.83, 0.87, max_avg_3_9['CHURN'])\n",
    "max_avg_3_9['CHURN'] = max_avg_3_9['CHURN']\n",
    "max_avg_3_9.to_csv('max_avg_3_9i.csv', index=False)"
   ]
  },
  {
   "cell_type": "code",
   "execution_count": 2,
   "metadata": {},
   "outputs": [],
   "source": [
    "max_avg7 = (cat2.CHURN+cat6.CHURN+cat11.CHURN+cat13.CHURN+cat9.CHURN+cat17.CHURN+cat18.CHURN)/7"
   ]
  },
  {
   "cell_type": "code",
   "execution_count": 9,
   "metadata": {},
   "outputs": [],
   "source": [
    "max_avg5_new = (cat10.CHURN+cat6.CHURN+cat11.CHURN+cat17.CHURN+cat18.CHURN) / 5"
   ]
  },
  {
   "cell_type": "code",
   "execution_count": 11,
   "metadata": {},
   "outputs": [],
   "source": [
    "#max_avg_3_9 = (cat2.CHURN+cat6.CHURN+cat11.CHURN+cat13.CHURN+cat9.CHURN)/5\n",
    "max_avg5_new = pd.read_csv('max_avg5_new.csv')\n",
    "max_avg5_new['CHURN'] = np.where(max_avg5_new['CHURN'] > 0.83, 0.87, max_avg5_new['CHURN'])\n",
    "max_avg5_new['CHURN'] = max_avg5_new['CHURN'] \n",
    "max_avg5_new.to_csv('max_avg5_new.csv', index=False)"
   ]
  },
  {
   "cell_type": "code",
   "execution_count": 10,
   "metadata": {},
   "outputs": [],
   "source": [
    "max_avg5 = (cat1.CHURN+cat2.CHURN+cat3.CHURN+cat4.CHURN+cat5.CHURN)/5"
   ]
  },
  {
   "cell_type": "code",
   "execution_count": 7,
   "metadata": {},
   "outputs": [],
   "source": [
    "max2_15 = (cat2.CHURN + cat3.CHURN + cat4.CHURN + cat5.CHURN + cat6.CHURN + \n",
    "           cat8.CHURN + cat9.CHURN + cat10.CHURN + cat11.CHURN + cat12.CHURN + cat13.CHURN + \n",
    "           cat14.CHURN + cat15.CHURN) / 13"
   ]
  },
  {
   "cell_type": "code",
   "execution_count": 12,
   "metadata": {},
   "outputs": [],
   "source": [
    "#max2_15 = (cat2.CHURN+cat6.CHURN+cat11.CHURN+cat13.CHURN+cat9.CHURN)/5\n",
    "max_avg5 = pd.read_csv('max_avg5.csv')\n",
    "max_avg5['CHURN'] = np.where(max_avg5['CHURN'] > 0.83, 0.87, max_avg5['CHURN'])\n",
    "max_avg5.to_csv('max_avg5.csv', index=False)"
   ]
  },
  {
   "cell_type": "code",
   "execution_count": 50,
   "metadata": {},
   "outputs": [],
   "source": [
    "cat_avg2 = (cat3.CHURN + cat4.CHURN) / 2"
   ]
  },
  {
   "cell_type": "code",
   "execution_count": 9,
   "metadata": {},
   "outputs": [],
   "source": [
    "cat_avg2i = (cat3i.CHURN + cat4i.CHURN) / 2"
   ]
  },
  {
   "cell_type": "code",
   "execution_count": 16,
   "metadata": {},
   "outputs": [],
   "source": [
    "max_avgi = (cat_avg3.CHURN+cat6i.CHURN+cat11.CHURN+cat13.CHURN+cat9.CHURN)/5"
   ]
  },
  {
   "cell_type": "code",
   "execution_count": 18,
   "metadata": {},
   "outputs": [],
   "source": [
    "#max_avg = (cat2.CHURN+cat6.CHURN+cat11.CHURN+cat13.CHURN+cat9.CHURN)/5\n",
    "max_avgi = pd.read_csv('max_avgi.csv')\n",
    "max_avgi['CHURN'] = np.where(max_avgi['CHURN'] > 0.83, 0.87, max_avgi['CHURN'])\n",
    "max_avgi.to_csv('max_avgi.csv', index=False)"
   ]
  },
  {
   "cell_type": "code",
   "execution_count": 19,
   "metadata": {},
   "outputs": [],
   "source": [
    "max_avg = (cat2.CHURN+cat6.CHURN+cat11.CHURN+cat13.CHURN+cat9.CHURN)/5\n",
    "#max_avg = pd.read_csv('max_avg.csv')\n",
    "#max_avg['CHURN'] = np.where(max_avg['CHURN'] > 0.83, 0.87, max_avg['CHURN'])\n",
    "#max_avg.to_csv('max_avg.csv', index=False)"
   ]
  },
  {
   "cell_type": "code",
   "execution_count": 4,
   "metadata": {},
   "outputs": [],
   "source": [
    "#max_avg = (cat2.CHURN+cat6.CHURN+cat11.CHURN+cat13.CHURN+cat9.CHURN)/5\n",
    "max_avg7 = pd.read_csv('max_avg7.csv')\n",
    "max_avg7['CHURN'] = np.where(max_avg7['CHURN'] > 0.83, 0.87, max_avg7['CHURN'])\n",
    "max_avg7.to_csv('max_avg7.csv', index=False)"
   ]
  },
  {
   "cell_type": "code",
   "execution_count": 7,
   "metadata": {},
   "outputs": [],
   "source": [
    "#cat_11_9 = (cat11.CHURN + cat9.CHURN) / 2\n",
    "cat_11_9 = pd.read_csv('cat_11_9.csv')\n",
    "cat_11_9['CHURN'] = np.where(cat_11_9['CHURN'] > 0.83, 0.87, cat_11_9['CHURN'])\n",
    "cat_11_9.to_csv('cat_11_9.csv', index=False)"
   ]
  },
  {
   "cell_type": "code",
   "execution_count": 37,
   "metadata": {},
   "outputs": [],
   "source": [
    "blend['CHURN'] = np.where(blend['CHURN'] > 0.83, 0.87, blend['CHURN'])\n",
    "blend.to_csv('blend.csv', index=False)"
   ]
  },
  {
   "cell_type": "code",
   "execution_count": 4,
   "metadata": {},
   "outputs": [],
   "source": [
    "#cat3_15 = (cat3.CHURN + cat15.CHURN) / 2\n",
    "cat3_15 = pd.read_csv('cat3_15.csv')\n",
    "cat3_15['CHURN'] = np.where(cat3_15['CHURN'] > 0.83, 0.87, cat3_15['CHURN'])\n",
    "cat3_15.to_csv('cat3_15.csv', index=False)"
   ]
  },
  {
   "cell_type": "code",
   "execution_count": 21,
   "metadata": {},
   "outputs": [],
   "source": [
    "#cat4_12 = (cat4.CHURN + cat12.CHURN) / 2\n",
    "cat4_12 = pd.read_csv('cat4_12.csv')\n",
    "cat4_12['CHURN'] = np.where(cat4_12['CHURN'] > 0.83, 0.87, cat4_12['CHURN'])\n",
    "cat4_12.to_csv('cat4_12.csv', index=False)"
   ]
  },
  {
   "cell_type": "code",
   "execution_count": null,
   "metadata": {},
   "outputs": [],
   "source": [
    "#cat3_12 = (cat3.CHURN + cat12.CHURN) / 2\n",
    "cat3_12 = pd.read_csv('cat3_12.csv')\n",
    "cat3_12['CHURN'] = np.where(cat3_12['CHURN'] > 0.83, 0.87, cat3_12['CHURN'])\n",
    "cat3_12.to_csv('cat3_12.csv', index=False)"
   ]
  },
  {
   "cell_type": "code",
   "execution_count": 9,
   "metadata": {},
   "outputs": [],
   "source": [
    "#cat3_13 = (cat3.CHURN + cat13.CHURN) / 2\n",
    "cat3_13 = pd.read_csv('cat3_13.csv')\n",
    "cat3_13['CHURN'] = np.where(cat3_13['CHURN'] > 0.83, 0.87, cat3_13['CHURN'])\n",
    "cat3_13.to_csv('cat3_13.csv', index=False)"
   ]
  },
  {
   "cell_type": "code",
   "execution_count": 32,
   "metadata": {},
   "outputs": [],
   "source": [
    "#cat3_11 = (cat3.CHURN + cat11.CHURN) / 2\n",
    "cat3_11 = pd.read_csv('cat3_11.csv')\n",
    "#cat3_11['CHURN'] = np.where(cat3_11['CHURN'] > 0.83, 0.87, cat3_11['CHURN'])\n",
    "cat3_11.to_csv('cat3_11_.csv', index=False)"
   ]
  },
  {
   "cell_type": "code",
   "execution_count": 15,
   "metadata": {},
   "outputs": [],
   "source": [
    "#cat3_10 = (cat3.CHURN + cat10.CHURN) / 2\n",
    "cat3_10 = pd.read_csv('cat3_10.csv')\n",
    "cat3_10['CHURN'] = np.where(cat3_10['CHURN'] > 0.83, 0.87, cat3_10['CHURN'])\n",
    "cat3_10.to_csv('cat3_10.csv', index=False)"
   ]
  },
  {
   "cell_type": "code",
   "execution_count": 18,
   "metadata": {},
   "outputs": [],
   "source": [
    "#cat3_9 = (cat3.CHURN + cat9.CHURN) / 2\n",
    "cat3_9 = pd.read_csv('cat3_9.csv')\n",
    "cat3_9['CHURN'] = np.where(cat3_9['CHURN'] > 0.83, 0.87, cat3_9['CHURN'])\n",
    "cat3_9.to_csv('cat3_9.csv', index=False)"
   ]
  },
  {
   "cell_type": "code",
   "execution_count": 24,
   "metadata": {},
   "outputs": [],
   "source": [
    "#cat4i_9 = (cat4i.CHURN + cat9.CHURN) / 2\n",
    "cat4i_9 = pd.read_csv('cat4i_9.csv')\n",
    "cat4i_9['CHURN'] = np.where(cat4i_9['CHURN'] > 0.83, 0.87, cat4i_9['CHURN'])\n",
    "cat4i_9.to_csv('cat4i_9.csv', index=False)"
   ]
  },
  {
   "cell_type": "code",
   "execution_count": 15,
   "metadata": {},
   "outputs": [],
   "source": [
    "cat_avg3_8 = (cat3.CHURN + cat8.CHURN) / 2"
   ]
  },
  {
   "cell_type": "code",
   "execution_count": 5,
   "metadata": {},
   "outputs": [],
   "source": [
    "cat_avg3_8.to_csv('cat_avg3_8.csv', index=False)"
   ]
  },
  {
   "cell_type": "code",
   "execution_count": 17,
   "metadata": {},
   "outputs": [],
   "source": [
    "cat8 = pd.read_csv('cat_avg3_8.csv')"
   ]
  },
  {
   "cell_type": "code",
   "execution_count": 18,
   "metadata": {},
   "outputs": [],
   "source": [
    "cat8['CHURN'] = np.where(cat8['CHURN'] > 0.83, 0.87, cat8['CHURN'])\n",
    "#cat6['CHURN'] = np.where(cat6['CHURN'] < 0.0003, 0.000, cat6['CHURN'])"
   ]
  },
  {
   "cell_type": "code",
   "execution_count": 52,
   "metadata": {},
   "outputs": [
    {
     "data": {
      "text/plain": [
       "(0.0, 0.87)"
      ]
     },
     "execution_count": 52,
     "metadata": {},
     "output_type": "execute_result"
    }
   ],
   "source": [
    "cat6['CHURN'].min(), cat6['CHURN'].max()"
   ]
  },
  {
   "cell_type": "code",
   "execution_count": 13,
   "metadata": {},
   "outputs": [
    {
     "data": {
      "text/plain": [
       "(100000, 1)"
      ]
     },
     "execution_count": 13,
     "metadata": {},
     "output_type": "execute_result"
    }
   ],
   "source": [
    "cat8.shape"
   ]
  },
  {
   "cell_type": "code",
   "execution_count": 53,
   "metadata": {},
   "outputs": [
    {
     "data": {
      "text/plain": [
       "0.87"
      ]
     },
     "execution_count": 53,
     "metadata": {},
     "output_type": "execute_result"
    }
   ],
   "source": [
    "cat7 = cat6.copy()\n",
    "cat7.CHURN.max()"
   ]
  },
  {
   "cell_type": "code",
   "execution_count": 19,
   "metadata": {},
   "outputs": [],
   "source": [
    "cat8.to_csv('cat8.csv', index=False)"
   ]
  },
  {
   "cell_type": "code",
   "execution_count": 34,
   "metadata": {},
   "outputs": [],
   "source": [
    "cat_avg2_lg = (cat_avg2) +(lg1.CHURN)/2"
   ]
  },
  {
   "cell_type": "code",
   "execution_count": 6,
   "metadata": {},
   "outputs": [],
   "source": [
    "avg1_2_3_4 = ((xg1.CHURN) + (xg2.CHURN) + (xg3.CHURN) + (xg4.CHURN)) /4"
   ]
  },
  {
   "cell_type": "code",
   "execution_count": 36,
   "metadata": {},
   "outputs": [],
   "source": [
    "cat_avg2_5 = (cat5.CHURN + cat_avg2) / 2"
   ]
  },
  {
   "cell_type": "code",
   "execution_count": 9,
   "metadata": {},
   "outputs": [],
   "source": [
    "sample1 = pd.read_csv('sample_submission.csv')\n",
    "test = pd.read_csv('Test.csv')\n",
    "sample1.user_id = test.user_id\n",
    "sample1.CHURN = mvg_last\n",
    "sample1.to_csv('mvg_last.csv', index = False)"
   ]
  },
  {
   "cell_type": "code",
   "execution_count": 22,
   "metadata": {},
   "outputs": [
    {
     "data": {
      "text/plain": [
       "0    0.785264\n",
       "1    0.606220\n",
       "2    0.129545\n",
       "3    0.001889\n",
       "4    0.000367\n",
       "Name: CHURN, dtype: float64"
      ]
     },
     "execution_count": 22,
     "metadata": {},
     "output_type": "execute_result"
    }
   ],
   "source": [
    "cat4_12.CHURN.head()"
   ]
  },
  {
   "cell_type": "code",
   "execution_count": 23,
   "metadata": {},
   "outputs": [
    {
     "data": {
      "text/plain": [
       "0    0.783753\n",
       "1    0.593316\n",
       "2    0.124846\n",
       "3    0.001750\n",
       "4    0.000384\n",
       "Name: CHURN, dtype: float64"
      ]
     },
     "execution_count": 23,
     "metadata": {},
     "output_type": "execute_result"
    }
   ],
   "source": [
    "cat3_12.CHURN.head()"
   ]
  },
  {
   "cell_type": "code",
   "execution_count": 25,
   "metadata": {},
   "outputs": [
    {
     "data": {
      "text/plain": [
       "0    0.783726\n",
       "1    0.586331\n",
       "2    0.125584\n",
       "3    0.001192\n",
       "4    0.000238\n",
       "Name: CHURN, dtype: float64"
      ]
     },
     "execution_count": 25,
     "metadata": {},
     "output_type": "execute_result"
    }
   ],
   "source": [
    "cat3_11.CHURN.head()"
   ]
  },
  {
   "cell_type": "code",
   "execution_count": 6,
   "metadata": {},
   "outputs": [
    {
     "data": {
      "text/plain": [
       "0     0.779278\n",
       "1     0.712009\n",
       "2     0.096760\n",
       "3     0.001806\n",
       "4     0.000396\n",
       "5     0.333515\n",
       "6     0.002857\n",
       "7     0.564568\n",
       "8     0.000944\n",
       "9     0.012442\n",
       "10    0.004154\n",
       "11    0.013117\n",
       "12    0.001455\n",
       "13    0.618891\n",
       "14    0.003166\n",
       "15    0.564568\n",
       "16    0.007738\n",
       "17    0.000592\n",
       "18    0.001969\n",
       "19    0.779278\n",
       "Name: CHURN, dtype: float64"
      ]
     },
     "execution_count": 6,
     "metadata": {},
     "output_type": "execute_result"
    }
   ],
   "source": [
    "xg.CHURN.head(20)"
   ]
  },
  {
   "cell_type": "code",
   "execution_count": null,
   "metadata": {},
   "outputs": [],
   "source": []
  }
 ],
 "metadata": {
  "kernelspec": {
   "display_name": "Python 3",
   "language": "python",
   "name": "python3"
  },
  "language_info": {
   "codemirror_mode": {
    "name": "ipython",
    "version": 3
   },
   "file_extension": ".py",
   "mimetype": "text/x-python",
   "name": "python",
   "nbconvert_exporter": "python",
   "pygments_lexer": "ipython3",
   "version": "3.7.6"
  }
 },
 "nbformat": 4,
 "nbformat_minor": 4
}
