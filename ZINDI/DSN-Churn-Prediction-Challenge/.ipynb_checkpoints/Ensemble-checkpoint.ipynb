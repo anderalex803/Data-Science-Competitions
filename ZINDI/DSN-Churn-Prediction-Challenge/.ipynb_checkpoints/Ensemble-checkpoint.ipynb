{
 "cells": [
  {
   "cell_type": "code",
   "execution_count": 26,
   "metadata": {},
   "outputs": [],
   "source": [
    "import numpy as np\n",
    "import pandas as pd\n",
    "\n",
    "train = pd.read_csv('Train.csv')\n",
    "xg1 = pd.read_csv('XG-44-FOLD.csv')   #0.25174\n",
    "xg2 = pd.read_csv('XG-4-FOLD-55-FEATURES.csv')   #0.251795\n",
    "xg3 = pd.read_csv('XG-4-FOLD.csv')   #0.25189\n",
    "xg4 = pd.read_csv('ANN_XG.csv')     #0.25219\n",
    "cat1 = pd.read_csv('CAT-10-FOLD-55-FEATURES.csv')   #0.25091\n",
    "cat2 = pd.read_csv('cat_avg____.csv')     #0.250749\n",
    "cat3 = pd.read_csv('CAT-20-FOLD-new.csv')     #0.250753\n",
    "cat4 = pd.read_csv('CAT-20-FOLD-61-features.csv')     #0.250733\n",
    "cat5 = pd.read_csv('CAT-5-FOLD-61-features.csv')     #0.2507509\n",
    "cat6 = pd.read_csv('cat_avg2.csv')     #0.2505966\n",
    "cat8_ = pd.read_csv('CAT-20-FOLD-62-features.csv')     \n",
    "cat8 = pd.read_csv('cat8.csv')     #0.250556\n",
    "cat9 = pd.read_csv('CAT-20-FOLD-50-features.csv') -------------------\n",
    "cat10 = pd.read_csv('CAT-20-FOLD-70-features.csv') \n",
    "cat11 = pd.read_csv('CAT-20-FOLD-58-features.csv') ------------------ #best1\n",
    "cat12 = pd.read_csv('CAT-20-FOLD-77-features.csv') \n",
    "cat13 = pd.read_csv('CAT-20-FOLD-65-features.csv') ------------------\n",
    "cat14 = pd.read_csv('fill-CAT-20-FOLD-62-features.csv') \n",
    "lg1 = pd.read_csv('LGB-5-FOLD-61-features.csv')     #0.000000\n",
    "ann = pd.read_csv('ANN_Baseline_predict_proba.csv')\n",
    "log = pd.read_csv('STACK_LOGISTIC_REGRESSION.csv')\n",
    "lr = pd.read_csv('STACK_LINEAR_REGRESSION.csv')\n",
    "xg4 = pd.read_csv('XG-4-FOLD.csv')"
   ]
  },
  {
   "cell_type": "code",
   "execution_count": 50,
   "metadata": {},
   "outputs": [],
   "source": [
    "cat_avg2 = (cat3.CHURN + cat4.CHURN) / 2"
   ]
  },
  {
   "cell_type": "code",
   "execution_count": 21,
   "metadata": {},
   "outputs": [],
   "source": [
    "#cat4_12 = (cat4.CHURN + cat12.CHURN) / 2\n",
    "cat4_12 = pd.read_csv('cat4_12.csv')\n",
    "cat4_12['CHURN'] = np.where(cat4_12['CHURN'] > 0.83, 0.87, cat4_12['CHURN'])\n",
    "cat4_12.to_csv('cat4_12.csv', index=False)"
   ]
  },
  {
   "cell_type": "code",
   "execution_count": null,
   "metadata": {},
   "outputs": [],
   "source": [
    "#cat3_12 = (cat3.CHURN + cat12.CHURN) / 2\n",
    "cat3_12 = pd.read_csv('cat3_12.csv')\n",
    "cat3_12['CHURN'] = np.where(cat3_12['CHURN'] > 0.83, 0.87, cat3_12['CHURN'])\n",
    "cat3_12.to_csv('cat3_12.csv', index=False)"
   ]
  },
  {
   "cell_type": "code",
   "execution_count": 9,
   "metadata": {},
   "outputs": [],
   "source": [
    "#cat3_13 = (cat3.CHURN + cat13.CHURN) / 2\n",
    "cat3_13 = pd.read_csv('cat3_13.csv')\n",
    "cat3_13['CHURN'] = np.where(cat3_13['CHURN'] > 0.83, 0.87, cat3_13['CHURN'])\n",
    "cat3_13.to_csv('cat3_13.csv', index=False)"
   ]
  },
  {
   "cell_type": "code",
   "execution_count": 12,
   "metadata": {},
   "outputs": [],
   "source": [
    "#cat3_11 = (cat3.CHURN + cat11.CHURN) / 2\n",
    "cat3_11 = pd.read_csv('cat3_11.csv')\n",
    "cat3_11['CHURN'] = np.where(cat3_11['CHURN'] > 0.83, 0.87, cat3_11['CHURN'])\n",
    "cat3_11.to_csv('cat3_11.csv', index=False)"
   ]
  },
  {
   "cell_type": "code",
   "execution_count": 15,
   "metadata": {},
   "outputs": [],
   "source": [
    "#cat3_10 = (cat3.CHURN + cat10.CHURN) / 2\n",
    "cat3_10 = pd.read_csv('cat3_10.csv')\n",
    "cat3_10['CHURN'] = np.where(cat3_10['CHURN'] > 0.83, 0.87, cat3_10['CHURN'])\n",
    "cat3_10.to_csv('cat3_10.csv', index=False)"
   ]
  },
  {
   "cell_type": "code",
   "execution_count": 18,
   "metadata": {},
   "outputs": [],
   "source": [
    "#cat3_9 = (cat3.CHURN + cat9.CHURN) / 2\n",
    "cat3_9 = pd.read_csv('cat3_9.csv')\n",
    "cat3_9['CHURN'] = np.where(cat3_9['CHURN'] > 0.83, 0.87, cat3_9['CHURN'])\n",
    "cat3_9.to_csv('cat3_9.csv', index=False)"
   ]
  },
  {
   "cell_type": "code",
   "execution_count": null,
   "metadata": {},
   "outputs": [],
   "source": []
  },
  {
   "cell_type": "code",
   "execution_count": 15,
   "metadata": {},
   "outputs": [],
   "source": [
    "cat_avg3_8 = (cat3.CHURN + cat8.CHURN) / 2"
   ]
  },
  {
   "cell_type": "code",
   "execution_count": 5,
   "metadata": {},
   "outputs": [],
   "source": [
    "cat_avg3_8.to_csv('cat_avg3_8.csv', index=False)"
   ]
  },
  {
   "cell_type": "code",
   "execution_count": 17,
   "metadata": {},
   "outputs": [],
   "source": [
    "cat8 = pd.read_csv('cat_avg3_8.csv')"
   ]
  },
  {
   "cell_type": "code",
   "execution_count": 18,
   "metadata": {},
   "outputs": [],
   "source": [
    "cat8['CHURN'] = np.where(cat8['CHURN'] > 0.83, 0.87, cat8['CHURN'])\n",
    "#cat6['CHURN'] = np.where(cat6['CHURN'] < 0.0003, 0.000, cat6['CHURN'])"
   ]
  },
  {
   "cell_type": "code",
   "execution_count": 52,
   "metadata": {},
   "outputs": [
    {
     "data": {
      "text/plain": [
       "(0.0, 0.87)"
      ]
     },
     "execution_count": 52,
     "metadata": {},
     "output_type": "execute_result"
    }
   ],
   "source": [
    "cat6['CHURN'].min(), cat6['CHURN'].max()"
   ]
  },
  {
   "cell_type": "code",
   "execution_count": 13,
   "metadata": {},
   "outputs": [
    {
     "data": {
      "text/plain": [
       "(100000, 1)"
      ]
     },
     "execution_count": 13,
     "metadata": {},
     "output_type": "execute_result"
    }
   ],
   "source": [
    "cat8.shape"
   ]
  },
  {
   "cell_type": "code",
   "execution_count": 53,
   "metadata": {},
   "outputs": [
    {
     "data": {
      "text/plain": [
       "0.87"
      ]
     },
     "execution_count": 53,
     "metadata": {},
     "output_type": "execute_result"
    }
   ],
   "source": [
    "cat7 = cat6.copy()\n",
    "cat7.CHURN.max()"
   ]
  },
  {
   "cell_type": "code",
   "execution_count": 19,
   "metadata": {},
   "outputs": [],
   "source": [
    "cat8.to_csv('cat8.csv', index=False)"
   ]
  },
  {
   "cell_type": "code",
   "execution_count": 34,
   "metadata": {},
   "outputs": [],
   "source": [
    "cat_avg2_lg = (cat_avg2) +(lg1.CHURN)/2"
   ]
  },
  {
   "cell_type": "code",
   "execution_count": 6,
   "metadata": {},
   "outputs": [],
   "source": [
    "avg1_2_3_4 = ((xg1.CHURN) + (xg2.CHURN) + (xg3.CHURN) + (xg4.CHURN)) /4"
   ]
  },
  {
   "cell_type": "code",
   "execution_count": 36,
   "metadata": {},
   "outputs": [],
   "source": [
    "cat_avg2_5 = (cat5.CHURN + cat_avg2) / 2"
   ]
  },
  {
   "cell_type": "code",
   "execution_count": 20,
   "metadata": {},
   "outputs": [],
   "source": [
    "sample1 = pd.read_csv('sample_submission.csv')\n",
    "test = pd.read_csv('Test.csv')\n",
    "sample1.user_id = test.user_id\n",
    "sample1.CHURN = cat4_12\n",
    "sample1.to_csv('cat4_12.csv', index = False)"
   ]
  },
  {
   "cell_type": "code",
   "execution_count": 22,
   "metadata": {},
   "outputs": [
    {
     "data": {
      "text/plain": [
       "0    0.785264\n",
       "1    0.606220\n",
       "2    0.129545\n",
       "3    0.001889\n",
       "4    0.000367\n",
       "Name: CHURN, dtype: float64"
      ]
     },
     "execution_count": 22,
     "metadata": {},
     "output_type": "execute_result"
    }
   ],
   "source": [
    "cat4_12.CHURN.head()"
   ]
  },
  {
   "cell_type": "code",
   "execution_count": 23,
   "metadata": {},
   "outputs": [
    {
     "data": {
      "text/plain": [
       "0    0.783753\n",
       "1    0.593316\n",
       "2    0.124846\n",
       "3    0.001750\n",
       "4    0.000384\n",
       "Name: CHURN, dtype: float64"
      ]
     },
     "execution_count": 23,
     "metadata": {},
     "output_type": "execute_result"
    }
   ],
   "source": [
    "cat3_12.CHURN.head()"
   ]
  },
  {
   "cell_type": "code",
   "execution_count": 25,
   "metadata": {},
   "outputs": [
    {
     "data": {
      "text/plain": [
       "0    0.783726\n",
       "1    0.586331\n",
       "2    0.125584\n",
       "3    0.001192\n",
       "4    0.000238\n",
       "Name: CHURN, dtype: float64"
      ]
     },
     "execution_count": 25,
     "metadata": {},
     "output_type": "execute_result"
    }
   ],
   "source": [
    "cat3_11.CHURN.head()"
   ]
  },
  {
   "cell_type": "code",
   "execution_count": 6,
   "metadata": {},
   "outputs": [
    {
     "data": {
      "text/plain": [
       "0     0.779278\n",
       "1     0.712009\n",
       "2     0.096760\n",
       "3     0.001806\n",
       "4     0.000396\n",
       "5     0.333515\n",
       "6     0.002857\n",
       "7     0.564568\n",
       "8     0.000944\n",
       "9     0.012442\n",
       "10    0.004154\n",
       "11    0.013117\n",
       "12    0.001455\n",
       "13    0.618891\n",
       "14    0.003166\n",
       "15    0.564568\n",
       "16    0.007738\n",
       "17    0.000592\n",
       "18    0.001969\n",
       "19    0.779278\n",
       "Name: CHURN, dtype: float64"
      ]
     },
     "execution_count": 6,
     "metadata": {},
     "output_type": "execute_result"
    }
   ],
   "source": [
    "xg.CHURN.head(20)"
   ]
  },
  {
   "cell_type": "code",
   "execution_count": null,
   "metadata": {},
   "outputs": [],
   "source": []
  }
 ],
 "metadata": {
  "kernelspec": {
   "display_name": "Python 3",
   "language": "python",
   "name": "python3"
  },
  "language_info": {
   "codemirror_mode": {
    "name": "ipython",
    "version": 3
   },
   "file_extension": ".py",
   "mimetype": "text/x-python",
   "name": "python",
   "nbconvert_exporter": "python",
   "pygments_lexer": "ipython3",
   "version": "3.7.6"
  }
 },
 "nbformat": 4,
 "nbformat_minor": 4
}
