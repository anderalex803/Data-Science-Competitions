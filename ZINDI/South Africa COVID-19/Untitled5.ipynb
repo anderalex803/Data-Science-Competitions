{
 "cells": [
  {
   "cell_type": "code",
   "execution_count": 1,
   "metadata": {},
   "outputs": [],
   "source": [
    "import numpy as np\n",
    "import pandas as pd\n",
    "import matplotlib.pyplot as plt\n",
    "import seaborn as sns\n",
    "import sklearn.metrics as sklm\n",
    "import xgboost as xgb\n",
    "import matplotlib\n",
    "import pickle"
   ]
  },
  {
   "cell_type": "code",
   "execution_count": 2,
   "metadata": {},
   "outputs": [],
   "source": [
    "train = pd.read_csv('Train_maskedv2.csv')\n",
    "test = pd.read_csv('Test_maskedv2.csv')\n",
    "submissions = pd.read_csv('samplesubmissionv2.csv')\n",
    "vd = pd.read_csv('variable_descriptions_v2.csv')"
   ]
  },
  {
   "cell_type": "code",
   "execution_count": 3,
   "metadata": {},
   "outputs": [
    {
     "name": "stdout",
     "output_type": "stream",
     "text": [
      "(3174, 50)\n",
      "(1102, 49)\n"
     ]
    }
   ],
   "source": [
    "print(train.shape)\n",
    "print(test.shape)"
   ]
  },
  {
   "cell_type": "code",
   "execution_count": 4,
   "metadata": {},
   "outputs": [
    {
     "name": "stdout",
     "output_type": "stream",
     "text": [
      "[1.73980135 1.99338128 0.03834043 ... 0.95882823 1.02493356 5.28312496]\n"
     ]
    }
   ],
   "source": [
    "#train1 = pd.read_csv('Train_maskedv2.csv')\n",
    "Labels = np.array(train['target_pct_vunerable'])\n",
    "print(Labels)"
   ]
  },
  {
   "cell_type": "code",
   "execution_count": 5,
   "metadata": {},
   "outputs": [],
   "source": [
    "train = train.drop(['ward'], axis = 1)\n",
    "test = test.drop(['ward'], axis = 1)"
   ]
  },
  {
   "cell_type": "code",
   "execution_count": 6,
   "metadata": {},
   "outputs": [],
   "source": [
    "#excluded_cols = ['dw_03', 'dw_05', 'pg_02', 'lan_14', 'psa_03', 'lan_02', 'dw_02', 'dw_10', \n",
    "               # 'psa_02', 'lan_07', 'lan_09', 'lan_11', 'dw_11', 'lan_10']\n",
    "    \n",
    "excluded_cols = ['dw_12', 'dw_13', 'lan_13', 'dw_10', 'psa_02', 'lan_07', 'lan_09']\n",
    "for i in excluded_cols:\n",
    "    test = test.drop(i, axis=1)\n",
    "    \n",
    "for j in excluded_cols:\n",
    "    train = train.drop(j, axis=1)"
   ]
  },
  {
   "cell_type": "code",
   "execution_count": 7,
   "metadata": {},
   "outputs": [
    {
     "name": "stdout",
     "output_type": "stream",
     "text": [
      "(3174, 41)\n",
      "(1102, 41)\n"
     ]
    }
   ],
   "source": [
    "train = train.drop(['target_pct_vunerable'], axis=1)\n",
    "print(train.shape)\n",
    "print(test.shape)"
   ]
  },
  {
   "cell_type": "code",
   "execution_count": 8,
   "metadata": {},
   "outputs": [],
   "source": [
    "train['avg_individuals'] = train['total_individuals'] / train['total_households']\n",
    "test['avg_individuals'] = test['total_individuals'] / test['total_households']"
   ]
  },
  {
   "cell_type": "code",
   "execution_count": 9,
   "metadata": {},
   "outputs": [],
   "source": [
    "Features = np.array(train)\n",
    "test_enc = np.array(test)"
   ]
  },
  {
   "cell_type": "code",
   "execution_count": 10,
   "metadata": {},
   "outputs": [
    {
     "name": "stdout",
     "output_type": "stream",
     "text": [
      "[[ 3.25349424  2.85925741]\n",
      " [ 3.2611637   2.1992301 ]\n",
      " [-0.23453747 -0.44538003]\n",
      " ...\n",
      " [ 0.93342628  1.8316802 ]\n",
      " [ 3.1076322   3.35482504]\n",
      " [ 0.25944328  0.27111737]]\n"
     ]
    }
   ],
   "source": [
    "from sklearn import preprocessing\n",
    "\n",
    "scaler = preprocessing.StandardScaler().fit(Features[:, :2])\n",
    "Features[:, :2] = scaler.transform(Features[:, :2])\n",
    "print(Features[:, :2])"
   ]
  },
  {
   "cell_type": "code",
   "execution_count": 11,
   "metadata": {},
   "outputs": [
    {
     "name": "stdout",
     "output_type": "stream",
     "text": [
      "[[-0.16503446 -0.35938299]\n",
      " [-0.42163757 -0.42024847]\n",
      " [-0.46203328 -0.6051864 ]\n",
      " ...\n",
      " [ 0.32568337  0.19777147]\n",
      " [-0.32950555 -0.10753076]\n",
      " [-0.38886785 -0.5674457 ]]\n"
     ]
    }
   ],
   "source": [
    "scaler1 = preprocessing.StandardScaler().fit(test_enc[:, :2])\n",
    "test_enc[:, :2] = scaler1.transform(test_enc[:, :2])\n",
    "print(test_enc[:, :2])"
   ]
  },
  {
   "cell_type": "code",
   "execution_count": 12,
   "metadata": {},
   "outputs": [],
   "source": [
    "import numpy.random as nr\n",
    "import sklearn.model_selection as ms\n",
    "## Randomly sample cases to create independent training and test data\n",
    "nr.seed(9988)\n",
    "indx = range(Features.shape[0])\n",
    "indx = ms.train_test_split(indx, test_size = 0.2)\n",
    "x_train = Features[indx[0],:]\n",
    "y_train = np.ravel(Labels[indx[0]])\n",
    "x_test = Features[indx[1],:]\n",
    "y_test = np.ravel(Labels[indx[1]])"
   ]
  },
  {
   "cell_type": "code",
   "execution_count": 13,
   "metadata": {},
   "outputs": [],
   "source": [
    "indx1 = range(x_train.shape[0])\n",
    "indx1 = ms.train_test_split(indx1, test_size = 0.2)\n",
    "x_train1 = x_train[indx1[0],:]\n",
    "y_train1 = np.ravel(y_train[indx1[0]])\n",
    "x_train_val = x_train[indx1[1],:]\n",
    "y_train_val = np.ravel(y_train[indx1[1]])"
   ]
  },
  {
   "cell_type": "code",
   "execution_count": 14,
   "metadata": {},
   "outputs": [
    {
     "name": "stderr",
     "output_type": "stream",
     "text": [
      "C:\\Users\\hp\\Anaconda3\\lib\\site-packages\\sklearn\\ensemble\\weight_boosting.py:29: DeprecationWarning: numpy.core.umath_tests is an internal NumPy module and should not be imported. It will be removed in a future NumPy release.\n",
      "  from numpy.core.umath_tests import inner1d\n"
     ]
    },
    {
     "data": {
      "text/plain": [
       "RandomForestRegressor(bootstrap=True, criterion='mse', max_depth=10,\n",
       "           max_features='auto', max_leaf_nodes=None,\n",
       "           min_impurity_decrease=0.0, min_impurity_split=None,\n",
       "           min_samples_leaf=1, min_samples_split=2,\n",
       "           min_weight_fraction_leaf=0.0, n_estimators=400, n_jobs=1,\n",
       "           oob_score=False, random_state=0, verbose=0, warm_start=False)"
      ]
     },
     "execution_count": 14,
     "metadata": {},
     "output_type": "execute_result"
    }
   ],
   "source": [
    "from sklearn.ensemble import RandomForestRegressor\n",
    "rf = RandomForestRegressor(n_estimators=400, max_depth=10, max_features='auto',\n",
    "                            min_samples_leaf=1, min_samples_split=2, random_state=0)\n",
    "rf.fit(x_train, y_train)"
   ]
  },
  {
   "cell_type": "code",
   "execution_count": 15,
   "metadata": {},
   "outputs": [
    {
     "data": {
      "text/plain": [
       "6.743862986511016"
      ]
     },
     "execution_count": 15,
     "metadata": {},
     "output_type": "execute_result"
    }
   ],
   "source": [
    "rf_pred = rf.predict(x_test)\n",
    "from sklearn.metrics import mean_squared_error, mean_absolute_error, r2_score\n",
    "mean_squared_error(rf_pred, y_test) ** 0.5"
   ]
  },
  {
   "cell_type": "code",
   "execution_count": 17,
   "metadata": {},
   "outputs": [],
   "source": [
    "preds1 = rf.predict(test_enc)\n",
    "submissions.target_pct_vunerable = preds1\n",
    "submissions.to_csv('SouthAfricaCovid6.csv', index=False)"
   ]
  },
  {
   "cell_type": "code",
   "execution_count": 20,
   "metadata": {},
   "outputs": [
    {
     "name": "stdout",
     "output_type": "stream",
     "text": [
      "[0]\tvalidation_0-rmse:15.92877\n",
      "Will train until validation_0-rmse hasn't improved in 200 rounds.\n",
      "[1]\tvalidation_0-rmse:15.83912\n",
      "[2]\tvalidation_0-rmse:15.73394\n",
      "[3]\tvalidation_0-rmse:15.61222\n",
      "[4]\tvalidation_0-rmse:15.47247\n",
      "[5]\tvalidation_0-rmse:15.30789\n",
      "[6]\tvalidation_0-rmse:15.12141\n",
      "[7]\tvalidation_0-rmse:14.91141\n",
      "[8]\tvalidation_0-rmse:14.69171\n",
      "[9]\tvalidation_0-rmse:14.43861\n",
      "[10]\tvalidation_0-rmse:14.16035\n",
      "[11]\tvalidation_0-rmse:13.85646\n",
      "[12]\tvalidation_0-rmse:13.53306\n",
      "[13]\tvalidation_0-rmse:13.19042\n",
      "[14]\tvalidation_0-rmse:12.85338\n",
      "[15]\tvalidation_0-rmse:12.48311\n",
      "[16]\tvalidation_0-rmse:12.12287\n",
      "[17]\tvalidation_0-rmse:11.75373\n",
      "[18]\tvalidation_0-rmse:11.38580\n",
      "[19]\tvalidation_0-rmse:11.02601\n",
      "[20]\tvalidation_0-rmse:10.69190\n",
      "[21]\tvalidation_0-rmse:10.35728\n",
      "[22]\tvalidation_0-rmse:10.06251\n",
      "[23]\tvalidation_0-rmse:9.78651\n",
      "[24]\tvalidation_0-rmse:9.52631\n",
      "[25]\tvalidation_0-rmse:9.27993\n",
      "[26]\tvalidation_0-rmse:9.06464\n",
      "[27]\tvalidation_0-rmse:8.85297\n",
      "[28]\tvalidation_0-rmse:8.68208\n",
      "[29]\tvalidation_0-rmse:8.51585\n",
      "[30]\tvalidation_0-rmse:8.36698\n",
      "[31]\tvalidation_0-rmse:8.24309\n",
      "[32]\tvalidation_0-rmse:8.12930\n",
      "[33]\tvalidation_0-rmse:8.02109\n",
      "[34]\tvalidation_0-rmse:7.93452\n",
      "[35]\tvalidation_0-rmse:7.85074\n",
      "[36]\tvalidation_0-rmse:7.78298\n",
      "[37]\tvalidation_0-rmse:7.73194\n",
      "[38]\tvalidation_0-rmse:7.68577\n",
      "[39]\tvalidation_0-rmse:7.64598\n",
      "[40]\tvalidation_0-rmse:7.62350\n",
      "[41]\tvalidation_0-rmse:7.59888\n",
      "[42]\tvalidation_0-rmse:7.57170\n",
      "[43]\tvalidation_0-rmse:7.53660\n",
      "[44]\tvalidation_0-rmse:7.51854\n",
      "[45]\tvalidation_0-rmse:7.49953\n",
      "[46]\tvalidation_0-rmse:7.48570\n",
      "[47]\tvalidation_0-rmse:7.46387\n",
      "[48]\tvalidation_0-rmse:7.46525\n",
      "[49]\tvalidation_0-rmse:7.44872\n",
      "[50]\tvalidation_0-rmse:7.44354\n",
      "[51]\tvalidation_0-rmse:7.43165\n",
      "[52]\tvalidation_0-rmse:7.42892\n",
      "[53]\tvalidation_0-rmse:7.42269\n",
      "[54]\tvalidation_0-rmse:7.42243\n",
      "[55]\tvalidation_0-rmse:7.42210\n",
      "[56]\tvalidation_0-rmse:7.42097\n",
      "[57]\tvalidation_0-rmse:7.41914\n",
      "[58]\tvalidation_0-rmse:7.41263\n",
      "[59]\tvalidation_0-rmse:7.41912\n",
      "[60]\tvalidation_0-rmse:7.42226\n",
      "[61]\tvalidation_0-rmse:7.42350\n",
      "[62]\tvalidation_0-rmse:7.42410\n",
      "[63]\tvalidation_0-rmse:7.41866\n",
      "[64]\tvalidation_0-rmse:7.41299\n",
      "[65]\tvalidation_0-rmse:7.41344\n",
      "[66]\tvalidation_0-rmse:7.40970\n",
      "[67]\tvalidation_0-rmse:7.41195\n",
      "[68]\tvalidation_0-rmse:7.41308\n",
      "[69]\tvalidation_0-rmse:7.40806\n",
      "[70]\tvalidation_0-rmse:7.41192\n",
      "[71]\tvalidation_0-rmse:7.41436\n",
      "[72]\tvalidation_0-rmse:7.41132\n",
      "[73]\tvalidation_0-rmse:7.41244\n",
      "[74]\tvalidation_0-rmse:7.41244\n",
      "[75]\tvalidation_0-rmse:7.41263\n",
      "[76]\tvalidation_0-rmse:7.41249\n",
      "[77]\tvalidation_0-rmse:7.41129\n",
      "[78]\tvalidation_0-rmse:7.41307\n",
      "[79]\tvalidation_0-rmse:7.41261\n",
      "[80]\tvalidation_0-rmse:7.41403\n",
      "[81]\tvalidation_0-rmse:7.41274\n",
      "[82]\tvalidation_0-rmse:7.41205\n",
      "[83]\tvalidation_0-rmse:7.41260\n",
      "[84]\tvalidation_0-rmse:7.41803\n",
      "[85]\tvalidation_0-rmse:7.41711\n",
      "[86]\tvalidation_0-rmse:7.41922\n",
      "[87]\tvalidation_0-rmse:7.41948\n",
      "[88]\tvalidation_0-rmse:7.41935\n",
      "[89]\tvalidation_0-rmse:7.41966\n",
      "[90]\tvalidation_0-rmse:7.42196\n",
      "[91]\tvalidation_0-rmse:7.42346\n",
      "[92]\tvalidation_0-rmse:7.42381\n",
      "[93]\tvalidation_0-rmse:7.42399\n",
      "[94]\tvalidation_0-rmse:7.42434\n",
      "[95]\tvalidation_0-rmse:7.42320\n",
      "[96]\tvalidation_0-rmse:7.42442\n",
      "[97]\tvalidation_0-rmse:7.42341\n",
      "[98]\tvalidation_0-rmse:7.42373\n",
      "[99]\tvalidation_0-rmse:7.42489\n",
      "[100]\tvalidation_0-rmse:7.42619\n",
      "[101]\tvalidation_0-rmse:7.42696\n",
      "[102]\tvalidation_0-rmse:7.42824\n",
      "[103]\tvalidation_0-rmse:7.42943\n",
      "[104]\tvalidation_0-rmse:7.42859\n",
      "[105]\tvalidation_0-rmse:7.43126\n",
      "[106]\tvalidation_0-rmse:7.43305\n",
      "[107]\tvalidation_0-rmse:7.43279\n",
      "[108]\tvalidation_0-rmse:7.43302\n",
      "[109]\tvalidation_0-rmse:7.43408\n",
      "[110]\tvalidation_0-rmse:7.43386\n",
      "[111]\tvalidation_0-rmse:7.43366\n",
      "[112]\tvalidation_0-rmse:7.43428\n",
      "[113]\tvalidation_0-rmse:7.43508\n",
      "[114]\tvalidation_0-rmse:7.43609\n",
      "[115]\tvalidation_0-rmse:7.43612\n",
      "[116]\tvalidation_0-rmse:7.43605\n",
      "[117]\tvalidation_0-rmse:7.43551\n",
      "[118]\tvalidation_0-rmse:7.43599\n",
      "[119]\tvalidation_0-rmse:7.43687\n",
      "[120]\tvalidation_0-rmse:7.43684\n",
      "[121]\tvalidation_0-rmse:7.43746\n",
      "[122]\tvalidation_0-rmse:7.43905\n",
      "[123]\tvalidation_0-rmse:7.43879\n",
      "[124]\tvalidation_0-rmse:7.43983\n",
      "[125]\tvalidation_0-rmse:7.44091\n",
      "[126]\tvalidation_0-rmse:7.44188\n",
      "[127]\tvalidation_0-rmse:7.44162\n",
      "[128]\tvalidation_0-rmse:7.44176\n",
      "[129]\tvalidation_0-rmse:7.44294\n",
      "[130]\tvalidation_0-rmse:7.44314\n",
      "[131]\tvalidation_0-rmse:7.44290\n",
      "[132]\tvalidation_0-rmse:7.44302\n",
      "[133]\tvalidation_0-rmse:7.44321\n",
      "[134]\tvalidation_0-rmse:7.44343\n",
      "[135]\tvalidation_0-rmse:7.44454\n",
      "[136]\tvalidation_0-rmse:7.44554\n",
      "[137]\tvalidation_0-rmse:7.44840\n",
      "[138]\tvalidation_0-rmse:7.44992\n",
      "[139]\tvalidation_0-rmse:7.45012\n",
      "[140]\tvalidation_0-rmse:7.45002\n",
      "[141]\tvalidation_0-rmse:7.44949\n",
      "[142]\tvalidation_0-rmse:7.45135\n",
      "[143]\tvalidation_0-rmse:7.45233\n",
      "[144]\tvalidation_0-rmse:7.45318\n",
      "[145]\tvalidation_0-rmse:7.45219\n",
      "[146]\tvalidation_0-rmse:7.45273\n",
      "[147]\tvalidation_0-rmse:7.45244\n",
      "[148]\tvalidation_0-rmse:7.45253\n",
      "[149]\tvalidation_0-rmse:7.45270\n",
      "[150]\tvalidation_0-rmse:7.45280\n",
      "[151]\tvalidation_0-rmse:7.45397\n",
      "[152]\tvalidation_0-rmse:7.45920\n",
      "[153]\tvalidation_0-rmse:7.46002\n",
      "[154]\tvalidation_0-rmse:7.45984\n",
      "[155]\tvalidation_0-rmse:7.46021\n",
      "[156]\tvalidation_0-rmse:7.45917\n",
      "[157]\tvalidation_0-rmse:7.46183\n",
      "[158]\tvalidation_0-rmse:7.46190\n",
      "[159]\tvalidation_0-rmse:7.46183\n",
      "[160]\tvalidation_0-rmse:7.46101\n",
      "[161]\tvalidation_0-rmse:7.46140\n",
      "[162]\tvalidation_0-rmse:7.46153\n",
      "[163]\tvalidation_0-rmse:7.46142\n",
      "[164]\tvalidation_0-rmse:7.46141\n",
      "[165]\tvalidation_0-rmse:7.46135\n",
      "[166]\tvalidation_0-rmse:7.46424\n",
      "[167]\tvalidation_0-rmse:7.46444\n",
      "[168]\tvalidation_0-rmse:7.46418\n",
      "[169]\tvalidation_0-rmse:7.46417\n",
      "[170]\tvalidation_0-rmse:7.46542\n",
      "[171]\tvalidation_0-rmse:7.46507\n",
      "[172]\tvalidation_0-rmse:7.46491\n",
      "[173]\tvalidation_0-rmse:7.46472\n",
      "[174]\tvalidation_0-rmse:7.46553\n",
      "[175]\tvalidation_0-rmse:7.46539\n",
      "[176]\tvalidation_0-rmse:7.46494\n",
      "[177]\tvalidation_0-rmse:7.46504\n",
      "[178]\tvalidation_0-rmse:7.46526\n",
      "[179]\tvalidation_0-rmse:7.46547\n",
      "[180]\tvalidation_0-rmse:7.46539\n",
      "[181]\tvalidation_0-rmse:7.46583\n",
      "[182]\tvalidation_0-rmse:7.46469\n",
      "[183]\tvalidation_0-rmse:7.46497\n",
      "[184]\tvalidation_0-rmse:7.46538\n",
      "[185]\tvalidation_0-rmse:7.46546\n",
      "[186]\tvalidation_0-rmse:7.46671\n",
      "[187]\tvalidation_0-rmse:7.46682\n",
      "[188]\tvalidation_0-rmse:7.46730\n",
      "[189]\tvalidation_0-rmse:7.46750\n",
      "[190]\tvalidation_0-rmse:7.46753\n",
      "[191]\tvalidation_0-rmse:7.46816\n",
      "[192]\tvalidation_0-rmse:7.46816\n",
      "[193]\tvalidation_0-rmse:7.46786\n",
      "[194]\tvalidation_0-rmse:7.46814\n",
      "[195]\tvalidation_0-rmse:7.46675\n",
      "[196]\tvalidation_0-rmse:7.46679\n",
      "[197]\tvalidation_0-rmse:7.46671\n",
      "[198]\tvalidation_0-rmse:7.46754\n",
      "[199]\tvalidation_0-rmse:7.46823\n",
      "[200]\tvalidation_0-rmse:7.46833\n",
      "[201]\tvalidation_0-rmse:7.46919\n",
      "[202]\tvalidation_0-rmse:7.46943\n",
      "[203]\tvalidation_0-rmse:7.46961\n",
      "[204]\tvalidation_0-rmse:7.46957\n",
      "[205]\tvalidation_0-rmse:7.46969\n",
      "[206]\tvalidation_0-rmse:7.46973\n",
      "[207]\tvalidation_0-rmse:7.46981\n",
      "[208]\tvalidation_0-rmse:7.46975\n",
      "[209]\tvalidation_0-rmse:7.47001\n",
      "[210]\tvalidation_0-rmse:7.47021\n",
      "[211]\tvalidation_0-rmse:7.47028\n",
      "[212]\tvalidation_0-rmse:7.47018\n",
      "[213]\tvalidation_0-rmse:7.47032\n",
      "[214]\tvalidation_0-rmse:7.46949\n",
      "[215]\tvalidation_0-rmse:7.46941\n",
      "[216]\tvalidation_0-rmse:7.47073\n",
      "[217]\tvalidation_0-rmse:7.47233\n",
      "[218]\tvalidation_0-rmse:7.47227\n",
      "[219]\tvalidation_0-rmse:7.47128\n",
      "[220]\tvalidation_0-rmse:7.47149\n",
      "[221]\tvalidation_0-rmse:7.47111\n",
      "[222]\tvalidation_0-rmse:7.47105\n",
      "[223]\tvalidation_0-rmse:7.47122\n",
      "[224]\tvalidation_0-rmse:7.47053\n",
      "[225]\tvalidation_0-rmse:7.47010\n",
      "[226]\tvalidation_0-rmse:7.46919\n",
      "[227]\tvalidation_0-rmse:7.46949\n",
      "[228]\tvalidation_0-rmse:7.47006\n",
      "[229]\tvalidation_0-rmse:7.47046\n",
      "[230]\tvalidation_0-rmse:7.47042\n",
      "[231]\tvalidation_0-rmse:7.47089\n",
      "[232]\tvalidation_0-rmse:7.47142\n",
      "[233]\tvalidation_0-rmse:7.47183\n",
      "[234]\tvalidation_0-rmse:7.47177\n",
      "[235]\tvalidation_0-rmse:7.47177\n",
      "[236]\tvalidation_0-rmse:7.47248\n",
      "[237]\tvalidation_0-rmse:7.47251\n",
      "[238]\tvalidation_0-rmse:7.47535\n",
      "[239]\tvalidation_0-rmse:7.47499\n",
      "[240]\tvalidation_0-rmse:7.47540\n",
      "[241]\tvalidation_0-rmse:7.47539\n",
      "[242]\tvalidation_0-rmse:7.47582\n",
      "[243]\tvalidation_0-rmse:7.47682\n",
      "[244]\tvalidation_0-rmse:7.47663\n",
      "[245]\tvalidation_0-rmse:7.47661\n",
      "[246]\tvalidation_0-rmse:7.47676\n",
      "[247]\tvalidation_0-rmse:7.47676\n",
      "[248]\tvalidation_0-rmse:7.47639\n",
      "[249]\tvalidation_0-rmse:7.47639\n",
      "[250]\tvalidation_0-rmse:7.47571\n",
      "[251]\tvalidation_0-rmse:7.47553\n",
      "[252]\tvalidation_0-rmse:7.47623\n",
      "[253]\tvalidation_0-rmse:7.47584\n",
      "[254]\tvalidation_0-rmse:7.47620\n",
      "[255]\tvalidation_0-rmse:7.47605\n",
      "[256]\tvalidation_0-rmse:7.47575\n"
     ]
    },
    {
     "name": "stdout",
     "output_type": "stream",
     "text": [
      "[257]\tvalidation_0-rmse:7.47559\n",
      "[258]\tvalidation_0-rmse:7.47599\n",
      "[259]\tvalidation_0-rmse:7.47602\n",
      "[260]\tvalidation_0-rmse:7.47604\n",
      "[261]\tvalidation_0-rmse:7.47605\n",
      "[262]\tvalidation_0-rmse:7.47552\n",
      "[263]\tvalidation_0-rmse:7.47476\n",
      "[264]\tvalidation_0-rmse:7.47472\n",
      "[265]\tvalidation_0-rmse:7.47463\n",
      "[266]\tvalidation_0-rmse:7.47465\n",
      "[267]\tvalidation_0-rmse:7.47475\n",
      "[268]\tvalidation_0-rmse:7.47461\n",
      "[269]\tvalidation_0-rmse:7.47467\n",
      "Stopping. Best iteration:\n",
      "[69]\tvalidation_0-rmse:7.40806\n",
      "\n"
     ]
    },
    {
     "data": {
      "text/plain": [
       "XGBRegressor(base_score=0.7, booster='gbtree', colsample_bylevel=1,\n",
       "       colsample_bynode=1, colsample_bytree=1, gamma=0, gpu_id=-1,\n",
       "       importance_type='gain', interaction_constraints=None,\n",
       "       learning_rate=0.1, max_delta_step=0, max_depth=10,\n",
       "       min_child_weight=1, missing=nan, monotone_constraints=None,\n",
       "       n_estimators=2000, n_jobs=0, num_parallel_tree=1,\n",
       "       objective='reg:tweedie', random_state=123, reg_alpha=0,\n",
       "       reg_lambda=0.03, scale_pos_weight=None, seed=123, subsample=0.8,\n",
       "       tree_method=None, validate_parameters=False, verbosity=None)"
      ]
     },
     "execution_count": 20,
     "metadata": {},
     "output_type": "execute_result"
    }
   ],
   "source": [
    "xg_reg = xgb.XGBRegressor(objective = 'reg:tweedie', n_estimators = 2000, seed = 123, max_depth = 10,\n",
    "                           learning_rate=0.1, booster = 'gbtree', base_score = 0.7, subsample = 0.8,\n",
    "                           reg_lambda = 0.03)\n",
    "\n",
    "eval_set = [(x_test, y_test)]\n",
    "xg_reg.fit(x_train, y_train, eval_metric=\"rmse\", eval_set=eval_set, verbose=True, early_stopping_rounds = 200)"
   ]
  },
  {
   "cell_type": "code",
   "execution_count": 21,
   "metadata": {},
   "outputs": [
    {
     "data": {
      "text/plain": [
       "6.743862986511016"
      ]
     },
     "execution_count": 21,
     "metadata": {},
     "output_type": "execute_result"
    }
   ],
   "source": [
    "rf_pred = x.predict(x_test)\n",
    "from sklearn.metrics import mean_squared_error, mean_absolute_error, r2_score\n",
    "mean_squared_error(rf_pred, y_test) ** 0.5"
   ]
  },
  {
   "cell_type": "code",
   "execution_count": null,
   "metadata": {},
   "outputs": [],
   "source": []
  }
 ],
 "metadata": {
  "kernelspec": {
   "display_name": "Python 3",
   "language": "python",
   "name": "python3"
  },
  "language_info": {
   "codemirror_mode": {
    "name": "ipython",
    "version": 3
   },
   "file_extension": ".py",
   "mimetype": "text/x-python",
   "name": "python",
   "nbconvert_exporter": "python",
   "pygments_lexer": "ipython3",
   "version": "3.7.0"
  }
 },
 "nbformat": 4,
 "nbformat_minor": 2
}
