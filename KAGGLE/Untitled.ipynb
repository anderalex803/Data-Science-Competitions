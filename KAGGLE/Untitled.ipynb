{
 "cells": [
  {
   "cell_type": "code",
   "execution_count": 63,
   "metadata": {},
   "outputs": [],
   "source": [
    "#importing the required libraries and packages\n",
    "\n",
    "import numpy as np\n",
    "import pandas as pd\n",
    "import matplotlib.pyplot as plt\n",
    "import numpy.random as nr\n",
    "import sklearn.model_selection as ms\n",
    "import seaborn as sns\n",
    "from sklearn.model_selection import cross_validate\n",
    "import sklearn.metrics as sklm\n",
    "from sklearn.metrics import confusion_matrix, accuracy_score\n",
    "from sklearn import linear_model\n",
    "from sklearn import preprocessing\n",
    "import math\n",
    "import scipy.stats as ss\n",
    "from sklearn import feature_selection as fs\n",
    "\n",
    "import tensorflow as tf\n",
    "import keras\n",
    "from keras import backend as k\n",
    "from keras.models import Sequential\n",
    "from keras.layers import Dense, Activation\n",
    "from keras.optimizers import Adam, SGD\n",
    "from keras.metrics import categorical_crossentropy\n",
    "\n",
    "%matplotlib inline"
   ]
  },
  {
   "cell_type": "code",
   "execution_count": 3,
   "metadata": {},
   "outputs": [
    {
     "name": "stdout",
     "output_type": "stream",
     "text": [
      "(16496, 18)\n",
      "(38312, 19)\n"
     ]
    }
   ],
   "source": [
    "#reading the train and test files in\n",
    "\n",
    "features = pd.read_csv(\"train.csv\")\n",
    "test = pd.read_csv('test.csv')\n",
    "print(test.shape)\n",
    "print(features.shape)"
   ]
  },
  {
   "cell_type": "code",
   "execution_count": 4,
   "metadata": {},
   "outputs": [],
   "source": [
    "#recreating new features/columns\n",
    "\n",
    "def new_name(data, cols):\n",
    "    for col in cols:\n",
    "        data[col + '_Str'] = data[col].astype(str)\n",
    "    \n",
    "cols = ['Year_of_birth', 'Year_of_recruitment']\n",
    "new_name(features, cols)\n",
    "new_name(test, cols)"
   ]
  },
  {
   "cell_type": "code",
   "execution_count": 5,
   "metadata": {},
   "outputs": [
    {
     "name": "stdout",
     "output_type": "stream",
     "text": [
      "(38312, 19)\n",
      "(16496, 18)\n"
     ]
    }
   ],
   "source": [
    "#dropping unwanted features/columns\n",
    "\n",
    "features = features.drop(['Year_of_recruitment', 'Year_of_birth'], axis = 1)\n",
    "test = test.drop(['Year_of_recruitment', 'Year_of_birth'], axis = 1)\n",
    "\n",
    "print(features.shape)\n",
    "print(test.shape)"
   ]
  },
  {
   "cell_type": "code",
   "execution_count": 6,
   "metadata": {},
   "outputs": [
    {
     "name": "stdout",
     "output_type": "stream",
     "text": [
      "1980-1989    16611\n",
      "1990-2001    15163\n",
      "1970-1979     4853\n",
      "1950-1969     1685\n",
      "Name: Year_of_birth_Str, dtype: int64\n",
      "1980-1989    7172\n",
      "1990-2001    6489\n",
      "1970-1979    2057\n",
      "1950-1969     778\n",
      "Name: Year_of_birth_Str, dtype: int64\n"
     ]
    }
   ],
   "source": [
    "#aggregating categorical variables\n",
    "#grouping the years into similar categories using a dictionary and list comprehension\n",
    "\n",
    "year_categories = {'1991': '1990-2001', '1990': '1990-2001', '1989': '1980-1989', '1992': '1990-2001',\n",
    "                   '1988': '1980-1989', '1987': '1980-1989', '1993': '1990-2001', '1994': '1990-2001',\n",
    "                  '1986': '1980-1989', '1985': '1980-1989', '1984': '1980-1989', '1995': '1990-2001', \n",
    "                  '1983': '1980-1989', '1982': '1980-1989', '1981': '1980-1989', '1980': '1980-1989',\n",
    "                  '1996': '1990-2001', '1979': '1970-1979', '1978': '1970-1979', '1977': '1970-1979',\n",
    "                   '1976': '1970-1979', '1975': '1970-1979', '1997': '1990-2001', '1973': '1970-1979',\n",
    "                   '1974': '1970-1979', '1971': '1970-1979', '1972': '1970-1979', '1970': '1970-1979',\n",
    "                   '1969': '1950-1969', '1968': '1950-1969', '1998': '1990-2001', '1966': '1950-1969',\n",
    "                   '1967': '1950-1969', '1965': '1950-1969', '1964': '1950-1969', '1963': '1950-1969',\n",
    "                   '1961': '1950-1969', '1962': '1950-1969', '1999': '1990-2001', '2001': '1990-2001',\n",
    "                   '2000': '1990-2001', '1957': '1950-1969', '1956': '1950-1969', '1955': '1950-1969',\n",
    "                   '1950': '1950-1969', '1952':'1950-1969', '1958': '1950-1969', '1959': '1950-1969',\n",
    "                   '1960': '1950-1969'}\n",
    "\n",
    "features['Year_of_birth_Str'] = [year_categories[x] for x in features['Year_of_birth_Str']]\n",
    "print(features['Year_of_birth_Str'].value_counts())\n",
    "\n",
    "test['Year_of_birth_Str'] = [year_categories[x] for x in test['Year_of_birth_Str']]\n",
    "print(test['Year_of_birth_Str'].value_counts())"
   ]
  },
  {
   "cell_type": "code",
   "execution_count": 7,
   "metadata": {},
   "outputs": [
    {
     "name": "stdout",
     "output_type": "stream",
     "text": [
      "2011-2015    18092\n",
      "2016-2018    12766\n",
      "2006-2010     5023\n",
      "2001-2005     1754\n",
      "1982-2000      677\n",
      "Name: Year_of_recruitment_Str, dtype: int64\n",
      "2011-2015    7744\n",
      "2016-2018    5498\n",
      "2006-2010    2196\n",
      "2001-2005     760\n",
      "1982-2000     298\n",
      "Name: Year_of_recruitment_Str, dtype: int64\n"
     ]
    }
   ],
   "source": [
    "year_categories1 = {'1982': '1982-2000', '1985': '1982-2000', '1986': '1982-2000', '1987': '1982-2000', '1988': '1982-2000', '1989': '1982-2000',\n",
    "                    '1990': '1982-2000', '1991': '1982-2000', '1992': '1982-2000', '1993': '1982-2000', \n",
    "                   '1994': '1982-2000', '1995': '1982-2000', '1996': '1982-2000', '1997': '1982-2000', \n",
    "                   '1998': '1982-2000', '1999': '1982-2000', '2000': '1982-2000', '2001': '2001-2005', \n",
    "                   '2002': '2001-2005', '2003': '2001-2005', '2004': '2001-2005', '2005': '2001-2005', \n",
    "                   '2006': '2006-2010', '2007': '2006-2010', '2008': '2006-2010', '2009': '2006-2010', \n",
    "                   '2010': '2006-2010', '2011': '2011-2015', '2012': '2011-2015', '2013': '2011-2015', \n",
    "                   '2014': '2011-2015', '2015': '2011-2015', '2016': '2016-2018', '2017': '2016-2018', \n",
    "                   '2018': '2016-2018'}\n",
    "\n",
    "features['Year_of_recruitment_Str'] = [year_categories1[x] for x in features['Year_of_recruitment_Str']]\n",
    "print(features['Year_of_recruitment_Str'].value_counts())\n",
    "\n",
    "test['Year_of_recruitment_Str'] = [year_categories1[x] for x in test['Year_of_recruitment_Str']]\n",
    "print(test['Year_of_recruitment_Str'].value_counts())"
   ]
  },
  {
   "cell_type": "code",
   "execution_count": 8,
   "metadata": {},
   "outputs": [
    {
     "name": "stdout",
     "output_type": "stream",
     "text": [
      "WEST     14297\n",
      "NORTH    13402\n",
      "EAST     10613\n",
      "Name: State_Of_Origin, dtype: int64\n",
      "WEST     6259\n",
      "NORTH    5684\n",
      "EAST     4553\n",
      "Name: State_Of_Origin, dtype: int64\n"
     ]
    }
   ],
   "source": [
    "#aggregating the states into similar states\n",
    "\n",
    "states = {'ABIA': 'EAST', 'ANAMBRA': 'EAST', 'DELTA': 'EAST', 'BAYELSA': 'EAST',\n",
    "         'ENUGU': 'EAST', 'EBONYI': 'EAST', 'RIVERS': 'EAST', 'CROSS RIVER': 'EAST',\n",
    "         'AKWA IBOM': 'EAST', 'IMO': 'EAST', 'KATSINA': 'NORTH', 'KANO': 'NORTH', 'NIGER': 'NORTH',\n",
    "         'SOKOTO': 'NORTH', 'KANO': 'NORTH', 'KADUNA': 'NORTH', 'BORNO': 'NORTH', 'TARABA':'NORTH',\n",
    "         'YOBE': 'NORTH', 'ADAMAWA': 'NORTH', 'KEBBI': 'NORTH', 'JIGAWA': 'NORTH', 'ZAMFARA': 'NORTH',\n",
    "         'KEBBI': 'NORTH', 'PLATEAU': 'NORTH', 'NASSARAWA': 'NORTH', 'FCT': 'NORTH', 'PLATEAU': 'NORTH',\n",
    "         'BENUE': 'NORTH', 'KOGI':'NORTH', 'BAUCHI': 'NORTH', 'GOMBE': 'NORTH', 'OYO': 'WEST', 'LAGOS': 'WEST', 'OGUN': 'WEST',\n",
    "         'OSUN': 'WEST', 'EKITI': 'WEST', 'ONDO': 'WEST', 'KWARA': 'WEST', 'EDO': 'WEST'}\n",
    "\n",
    "features['State_Of_Origin'] = [states[x] for x in features['State_Of_Origin']]\n",
    "print(features['State_Of_Origin'].value_counts())\n",
    "\n",
    "test['State_Of_Origin'] = [states[x] for x in test['State_Of_Origin']]\n",
    "print(test['State_Of_Origin'].value_counts())"
   ]
  },
  {
   "cell_type": "code",
   "execution_count": 9,
   "metadata": {},
   "outputs": [
    {
     "data": {
      "text/plain": [
       "0    35071\n",
       "1     3241\n",
       "Name: Promoted_or_Not, dtype: int64"
      ]
     },
     "execution_count": 9,
     "metadata": {},
     "output_type": "execute_result"
    }
   ],
   "source": [
    "#checking the label counts to check for class inbalance\n",
    "\n",
    "label_count = features['Promoted_or_Not'].value_counts()\n",
    "label_count"
   ]
  },
  {
   "cell_type": "code",
   "execution_count": 10,
   "metadata": {},
   "outputs": [],
   "source": [
    "#creating the label into an array matrix\n",
    "\n",
    "Labels = np.array(features['Promoted_or_Not'])"
   ]
  },
  {
   "cell_type": "code",
   "execution_count": 11,
   "metadata": {},
   "outputs": [
    {
     "name": "stdout",
     "output_type": "stream",
     "text": [
      "(38312, 35)\n",
      "(16496, 35)\n"
     ]
    }
   ],
   "source": [
    "#Encoding categorical variables\n",
    "\n",
    "def encode_string(data):\n",
    "    enc = preprocessing.LabelEncoder()\n",
    "    enc.fit(data)\n",
    "    enc_features = enc.transform(data)\n",
    "    ohe = preprocessing.OneHotEncoder()\n",
    "    encoded = ohe.fit(enc_features.reshape(-1,1))\n",
    "    return encoded.transform(enc_features.reshape(-1,1)).toarray()\n",
    "    \n",
    "categorical_columns = ['Gender', 'Channel_of_Recruitment', 'State_Of_Origin',\n",
    "                       'Foreign_schooled', 'Marital_Status', 'Past_Disciplinary_Action', 'Previous_IntraDepartmental_Movement',\n",
    "                       'Year_of_birth_Str', 'Year_of_recruitment_Str']\n",
    "Features_enc = encode_string(features['Division'])\n",
    "for col in categorical_columns:\n",
    "    temp = encode_string(features[col])\n",
    "    Features_enc = np.concatenate([Features_enc, temp], axis = 1)\n",
    "    \n",
    "print(Features_enc.shape)\n",
    "\n",
    "test_enc = encode_string(test['Division'])\n",
    "for col in categorical_columns:\n",
    "    temps = encode_string(test[col])\n",
    "    test_enc = np.concatenate([test_enc, temps], axis = 1)\n",
    "    \n",
    "print(test_enc.shape)"
   ]
  },
  {
   "cell_type": "code",
   "execution_count": 12,
   "metadata": {},
   "outputs": [
    {
     "name": "stdout",
     "output_type": "stream",
     "text": [
      "(38312, 40)\n",
      "(16496, 40)\n"
     ]
    }
   ],
   "source": [
    "#concatenating the numerical variables with the categorical variables\n",
    "\n",
    "Features_enc = np.concatenate([Features_enc, np.array(features[['Trainings_Attended', 'Last_performance_score',\n",
    "                                                              'Targets_met', 'Previous_Award', 'Training_score_average']])], axis = 1)\n",
    "\n",
    "print(Features_enc.shape)\n",
    "\n",
    "test_enc = np.concatenate([test_enc, np.array(test[['Trainings_Attended', 'Last_performance_score',\n",
    "                                                              'Targets_met', 'Previous_Award', 'Training_score_average']])], axis = 1)\n",
    "\n",
    "print(test_enc.shape)"
   ]
  },
  {
   "cell_type": "code",
   "execution_count": 13,
   "metadata": {},
   "outputs": [
    {
     "data": {
      "text/plain": [
       "array([[ 0.        ,  0.        ,  1.        , ...,  1.35384256,\n",
       "        -0.15395043, -1.07512768],\n",
       "       [ 0.        ,  0.        ,  1.        , ..., -0.73863832,\n",
       "        -0.15395043, -0.25193251],\n",
       "       [ 0.        ,  0.        ,  1.        , ..., -0.73863832,\n",
       "        -0.15395043, -1.00029176],\n",
       "       ...,\n",
       "       [ 0.        ,  0.        ,  0.        , ...,  1.35384256,\n",
       "        -0.15395043,  1.16995006],\n",
       "       [ 0.        ,  0.        ,  0.        , ..., -0.73863832,\n",
       "        -0.15395043, -1.37447138],\n",
       "       [ 0.        ,  0.        ,  1.        , ..., -0.73863832,\n",
       "        -0.15395043, -1.07512768]])"
      ]
     },
     "execution_count": 13,
     "metadata": {},
     "output_type": "execute_result"
    }
   ],
   "source": [
    "#using StandardScaler function to scale the numeric features \n",
    "\n",
    "scaler = preprocessing.StandardScaler().fit(Features_enc[:, 36:])\n",
    "Features_enc[:, 36:] = scaler.transform(Features_enc[:, 36:])\n",
    "Features_enc[:, 31:]"
   ]
  },
  {
   "cell_type": "code",
   "execution_count": 14,
   "metadata": {},
   "outputs": [
    {
     "data": {
      "text/plain": [
       "array([-0.05313941, -2.05629819, -0.05313941, ...,  1.28229978,\n",
       "       -1.3885786 , -0.05313941])"
      ]
     },
     "execution_count": 14,
     "metadata": {},
     "output_type": "execute_result"
    }
   ],
   "source": [
    "test_enc[:, 36:] = scaler.transform(test_enc[:, 36:])\n",
    "test_enc[:, 36]"
   ]
  },
  {
   "cell_type": "code",
   "execution_count": 15,
   "metadata": {},
   "outputs": [],
   "source": [
    "#encoding the year of birth category\n",
    "\n",
    "birth_encoded = encode_string(features['Year_of_birth_Str'])\n",
    "birth_encoded_test = encode_string(test['Year_of_birth_Str'])"
   ]
  },
  {
   "cell_type": "code",
   "execution_count": 16,
   "metadata": {},
   "outputs": [
    {
     "name": "stdout",
     "output_type": "stream",
     "text": [
      "(38312, 44)\n",
      "(16496, 44)\n"
     ]
    }
   ],
   "source": [
    "#concatenating the year of birth(encoded) to the rest of the features\n",
    "\n",
    "Features_enc = np.concatenate([Features_enc, birth_encoded], axis = 1)\n",
    "print(Features_enc.shape)\n",
    "\n",
    "test_enc = np.concatenate([test_enc, birth_encoded_test], axis = 1)\n",
    "print(test_enc.shape)"
   ]
  },
  {
   "cell_type": "code",
   "execution_count": 17,
   "metadata": {},
   "outputs": [
    {
     "name": "stdout",
     "output_type": "stream",
     "text": [
      "0-1               32139\n",
      "2-3                3505\n",
      "Greater than 3     2267\n",
      "Greater than 5      401\n",
      "Name: No_of_previous_employers, dtype: int64\n",
      "0-1               13931\n",
      "2-3                1469\n",
      "Greater than 3      940\n",
      "Greater than 5      156\n",
      "Name: No_of_previous_employers, dtype: int64\n"
     ]
    }
   ],
   "source": [
    "#aggregating the number of previous employers\n",
    "\n",
    "employers = {'0': '0-1', '1': '0-1', '2': '2-3', '3': '2-3',\n",
    "             '4': 'Greater than 3', '5': 'Greater than 3', 'More than 5': 'Greater than 5'}\n",
    "\n",
    "features['No_of_previous_employers'] = [employers[x] for x in features['No_of_previous_employers']]\n",
    "test['No_of_previous_employers'] = [employers[x] for x in test['No_of_previous_employers']]\n",
    "\n",
    "print(features['No_of_previous_employers'].value_counts())\n",
    "print(test['No_of_previous_employers'].value_counts())"
   ]
  },
  {
   "cell_type": "code",
   "execution_count": 18,
   "metadata": {},
   "outputs": [],
   "source": [
    "#encoding the number of previous employers(encoded) category\n",
    "\n",
    "employers_encodedd = encode_string(features['No_of_previous_employers'])\n",
    "employers_encoded_testt = encode_string(test['No_of_previous_employers'])"
   ]
  },
  {
   "cell_type": "code",
   "execution_count": 19,
   "metadata": {},
   "outputs": [
    {
     "name": "stdout",
     "output_type": "stream",
     "text": [
      "(38312, 48)\n",
      "(16496, 48)\n"
     ]
    }
   ],
   "source": [
    "Features_enc = np.concatenate([Features_enc, employers_encodedd], axis = 1)\n",
    "print(Features_enc.shape)\n",
    "\n",
    "test_enc = np.concatenate([test_enc, employers_encoded_testt], axis = 1)\n",
    "print(test_enc.shape)"
   ]
  },
  {
   "cell_type": "code",
   "execution_count": 20,
   "metadata": {},
   "outputs": [],
   "source": [
    "## Randomly sample cases to create independent training and test data\n",
    "nr.seed(9988)\n",
    "indx = range(Features_enc.shape[0])\n",
    "indx = ms.train_test_split(indx, test_size = 0.3)\n",
    "x_train = Features_enc[indx[0],:]\n",
    "y_train = np.ravel(Labels[indx[0]])\n",
    "x_test = Features_enc[indx[1],:]\n",
    "y_test = np.ravel(Labels[indx[1]])"
   ]
  },
  {
   "cell_type": "code",
   "execution_count": 21,
   "metadata": {},
   "outputs": [],
   "source": [
    "## Randomly sample cases to create independent training and test data\n",
    "np.random.seed(9988)\n",
    "indx1 = range(x_test.shape[0])\n",
    "indx1 = ms.train_test_split(indx1, test_size = 0.5)\n",
    "x_test1 = x_test[indx1[0],:]\n",
    "y_test1 = np.ravel(y_test[indx1[0]])\n",
    "x_test2 = x_test[indx1[1],:]\n",
    "y_test2 = np.ravel(y_test[indx1[1]])"
   ]
  },
  {
   "cell_type": "code",
   "execution_count": 22,
   "metadata": {},
   "outputs": [],
   "source": [
    "valid_set = (x_test1, y_test1)"
   ]
  },
  {
   "cell_type": "code",
   "execution_count": null,
   "metadata": {},
   "outputs": [],
   "source": [
    "model = Sequential([Dense(24, input_shape=(48,), activation='relu'),\n",
    "                    Dense(12, activation='relu'),\n",
    "                    Dense(6, activation='relu'),\n",
    "                    Dense(2, activation='sigmoid'),])\n",
    "\n",
    "callback = tf.keras.callbacks.EarlyStopping(monitor='val_loss', patience=3)\n",
    "\n",
    "model.compile(Adam(lr=0.0001), loss='sparse_categorical_crossentropy', metrics=['accuracy'])\n",
    "\n",
    "model1 = Sequential([Dense(5, input_shape=(48,), activation='relu'),\n",
    "                    Dense(2, activation='sigmoid'),])\n",
    "\n",
    "model1.compile(Adam(lr=0.0001), loss='BinaryCrossentropy', metrics=['accuracy'])"
   ]
  },
  {
   "cell_type": "code",
   "execution_count": 89,
   "metadata": {},
   "outputs": [
    {
     "name": "stdout",
     "output_type": "stream",
     "text": [
      "Epoch 1/30\n",
      "2682/2682 - 20s - loss: 0.3330 - accuracy: 0.8889 - val_loss: 0.2427 - val_accuracy: 0.9193\n",
      "Epoch 2/30\n",
      "2682/2682 - 17s - loss: 0.2442 - accuracy: 0.9158 - val_loss: 0.2336 - val_accuracy: 0.9210\n",
      "Epoch 3/30\n",
      "2682/2682 - 17s - loss: 0.2378 - accuracy: 0.9173 - val_loss: 0.2284 - val_accuracy: 0.9234\n",
      "Epoch 4/30\n",
      "2682/2682 - 22s - loss: 0.2333 - accuracy: 0.9192 - val_loss: 0.2239 - val_accuracy: 0.9250\n",
      "Epoch 5/30\n",
      "2682/2682 - 28s - loss: 0.2292 - accuracy: 0.9210 - val_loss: 0.2192 - val_accuracy: 0.9278\n",
      "Epoch 6/30\n",
      "2682/2682 - 17s - loss: 0.2249 - accuracy: 0.9231 - val_loss: 0.2147 - val_accuracy: 0.9287\n",
      "Epoch 7/30\n",
      "2682/2682 - 18s - loss: 0.2205 - accuracy: 0.9246 - val_loss: 0.2106 - val_accuracy: 0.9302\n",
      "Epoch 8/30\n",
      "2682/2682 - 21s - loss: 0.2162 - accuracy: 0.9262 - val_loss: 0.2061 - val_accuracy: 0.9311\n",
      "Epoch 9/30\n",
      "2682/2682 - 30s - loss: 0.2120 - accuracy: 0.9271 - val_loss: 0.2022 - val_accuracy: 0.9327\n",
      "Epoch 10/30\n",
      "2682/2682 - 40s - loss: 0.2083 - accuracy: 0.9278 - val_loss: 0.1988 - val_accuracy: 0.9328\n",
      "Epoch 11/30\n",
      "2682/2682 - 34s - loss: 0.2051 - accuracy: 0.9290 - val_loss: 0.1968 - val_accuracy: 0.9334\n",
      "Epoch 12/30\n",
      "2682/2682 - 39s - loss: 0.2022 - accuracy: 0.9291 - val_loss: 0.1926 - val_accuracy: 0.9346\n",
      "Epoch 13/30\n",
      "2682/2682 - 40s - loss: 0.1997 - accuracy: 0.9302 - val_loss: 0.1905 - val_accuracy: 0.9354\n",
      "Epoch 14/30\n",
      "2682/2682 - 38s - loss: 0.1972 - accuracy: 0.9308 - val_loss: 0.1881 - val_accuracy: 0.9354\n",
      "Epoch 15/30\n",
      "2682/2682 - 39s - loss: 0.1953 - accuracy: 0.9315 - val_loss: 0.1865 - val_accuracy: 0.9368\n",
      "Epoch 16/30\n",
      "2682/2682 - 37s - loss: 0.1935 - accuracy: 0.9328 - val_loss: 0.1849 - val_accuracy: 0.9370\n",
      "Epoch 17/30\n",
      "2682/2682 - 36s - loss: 0.1918 - accuracy: 0.9337 - val_loss: 0.1833 - val_accuracy: 0.9374\n",
      "Epoch 18/30\n",
      "2682/2682 - 27s - loss: 0.1905 - accuracy: 0.9341 - val_loss: 0.1819 - val_accuracy: 0.9379\n",
      "Epoch 19/30\n",
      "2682/2682 - 21s - loss: 0.1890 - accuracy: 0.9345 - val_loss: 0.1807 - val_accuracy: 0.9386\n",
      "Epoch 20/30\n",
      "2682/2682 - 22s - loss: 0.1878 - accuracy: 0.9356 - val_loss: 0.1797 - val_accuracy: 0.9391\n",
      "Epoch 21/30\n",
      "2682/2682 - 22s - loss: 0.1866 - accuracy: 0.9355 - val_loss: 0.1792 - val_accuracy: 0.9391\n",
      "Epoch 22/30\n",
      "2682/2682 - 22s - loss: 0.1857 - accuracy: 0.9365 - val_loss: 0.1780 - val_accuracy: 0.9393\n",
      "Epoch 23/30\n",
      "2682/2682 - 18s - loss: 0.1847 - accuracy: 0.9368 - val_loss: 0.1777 - val_accuracy: 0.9403\n",
      "Epoch 24/30\n",
      "2682/2682 - 20s - loss: 0.1841 - accuracy: 0.9371 - val_loss: 0.1763 - val_accuracy: 0.9407\n",
      "Epoch 25/30\n",
      "2682/2682 - 20s - loss: 0.1831 - accuracy: 0.9374 - val_loss: 0.1760 - val_accuracy: 0.9414\n",
      "Epoch 26/30\n",
      "2682/2682 - 18s - loss: 0.1825 - accuracy: 0.9380 - val_loss: 0.1759 - val_accuracy: 0.9408\n",
      "Epoch 27/30\n"
     ]
    },
    {
     "ename": "KeyboardInterrupt",
     "evalue": "",
     "output_type": "error",
     "traceback": [
      "\u001b[0;31m---------------------------------------------------------------------------\u001b[0m",
      "\u001b[0;31mKeyboardInterrupt\u001b[0m                         Traceback (most recent call last)",
      "\u001b[0;32m<ipython-input-89-2374716c4b0e>\u001b[0m in \u001b[0;36m<module>\u001b[0;34m\u001b[0m\n\u001b[0;32m----> 1\u001b[0;31m \u001b[0mmodel\u001b[0m\u001b[0;34m.\u001b[0m\u001b[0mfit\u001b[0m\u001b[0;34m(\u001b[0m\u001b[0mx_train\u001b[0m\u001b[0;34m,\u001b[0m \u001b[0my_train\u001b[0m\u001b[0;34m,\u001b[0m \u001b[0mbatch_size\u001b[0m\u001b[0;34m=\u001b[0m\u001b[0;36m10\u001b[0m\u001b[0;34m,\u001b[0m \u001b[0mvalidation_data\u001b[0m \u001b[0;34m=\u001b[0m \u001b[0mvalid_set\u001b[0m\u001b[0;34m,\u001b[0m \u001b[0mepochs\u001b[0m\u001b[0;34m=\u001b[0m\u001b[0;36m30\u001b[0m\u001b[0;34m,\u001b[0m \u001b[0mcallbacks\u001b[0m\u001b[0;34m=\u001b[0m\u001b[0;34m[\u001b[0m\u001b[0mcallback\u001b[0m\u001b[0;34m]\u001b[0m\u001b[0;34m,\u001b[0m \u001b[0mshuffle\u001b[0m\u001b[0;34m=\u001b[0m\u001b[0;32mTrue\u001b[0m\u001b[0;34m,\u001b[0m \u001b[0mverbose\u001b[0m\u001b[0;34m=\u001b[0m\u001b[0;36m2\u001b[0m\u001b[0;34m)\u001b[0m\u001b[0;34m\u001b[0m\u001b[0;34m\u001b[0m\u001b[0m\n\u001b[0m",
      "\u001b[0;32m~/anaconda3/lib/python3.7/site-packages/tensorflow/python/keras/engine/training.py\u001b[0m in \u001b[0;36m_method_wrapper\u001b[0;34m(self, *args, **kwargs)\u001b[0m\n\u001b[1;32m     64\u001b[0m   \u001b[0;32mdef\u001b[0m \u001b[0m_method_wrapper\u001b[0m\u001b[0;34m(\u001b[0m\u001b[0mself\u001b[0m\u001b[0;34m,\u001b[0m \u001b[0;34m*\u001b[0m\u001b[0margs\u001b[0m\u001b[0;34m,\u001b[0m \u001b[0;34m**\u001b[0m\u001b[0mkwargs\u001b[0m\u001b[0;34m)\u001b[0m\u001b[0;34m:\u001b[0m\u001b[0;34m\u001b[0m\u001b[0;34m\u001b[0m\u001b[0m\n\u001b[1;32m     65\u001b[0m     \u001b[0;32mif\u001b[0m \u001b[0;32mnot\u001b[0m \u001b[0mself\u001b[0m\u001b[0;34m.\u001b[0m\u001b[0m_in_multi_worker_mode\u001b[0m\u001b[0;34m(\u001b[0m\u001b[0;34m)\u001b[0m\u001b[0;34m:\u001b[0m  \u001b[0;31m# pylint: disable=protected-access\u001b[0m\u001b[0;34m\u001b[0m\u001b[0;34m\u001b[0m\u001b[0m\n\u001b[0;32m---> 66\u001b[0;31m       \u001b[0;32mreturn\u001b[0m \u001b[0mmethod\u001b[0m\u001b[0;34m(\u001b[0m\u001b[0mself\u001b[0m\u001b[0;34m,\u001b[0m \u001b[0;34m*\u001b[0m\u001b[0margs\u001b[0m\u001b[0;34m,\u001b[0m \u001b[0;34m**\u001b[0m\u001b[0mkwargs\u001b[0m\u001b[0;34m)\u001b[0m\u001b[0;34m\u001b[0m\u001b[0;34m\u001b[0m\u001b[0m\n\u001b[0m\u001b[1;32m     67\u001b[0m \u001b[0;34m\u001b[0m\u001b[0m\n\u001b[1;32m     68\u001b[0m     \u001b[0;31m# Running inside `run_distribute_coordinator` already.\u001b[0m\u001b[0;34m\u001b[0m\u001b[0;34m\u001b[0m\u001b[0;34m\u001b[0m\u001b[0m\n",
      "\u001b[0;32m~/anaconda3/lib/python3.7/site-packages/tensorflow/python/keras/engine/training.py\u001b[0m in \u001b[0;36mfit\u001b[0;34m(self, x, y, batch_size, epochs, verbose, callbacks, validation_split, validation_data, shuffle, class_weight, sample_weight, initial_epoch, steps_per_epoch, validation_steps, validation_batch_size, validation_freq, max_queue_size, workers, use_multiprocessing)\u001b[0m\n\u001b[1;32m    846\u001b[0m                 batch_size=batch_size):\n\u001b[1;32m    847\u001b[0m               \u001b[0mcallbacks\u001b[0m\u001b[0;34m.\u001b[0m\u001b[0mon_train_batch_begin\u001b[0m\u001b[0;34m(\u001b[0m\u001b[0mstep\u001b[0m\u001b[0;34m)\u001b[0m\u001b[0;34m\u001b[0m\u001b[0;34m\u001b[0m\u001b[0m\n\u001b[0;32m--> 848\u001b[0;31m               \u001b[0mtmp_logs\u001b[0m \u001b[0;34m=\u001b[0m \u001b[0mtrain_function\u001b[0m\u001b[0;34m(\u001b[0m\u001b[0miterator\u001b[0m\u001b[0;34m)\u001b[0m\u001b[0;34m\u001b[0m\u001b[0;34m\u001b[0m\u001b[0m\n\u001b[0m\u001b[1;32m    849\u001b[0m               \u001b[0;31m# Catch OutOfRangeError for Datasets of unknown size.\u001b[0m\u001b[0;34m\u001b[0m\u001b[0;34m\u001b[0m\u001b[0;34m\u001b[0m\u001b[0m\n\u001b[1;32m    850\u001b[0m               \u001b[0;31m# This blocks until the batch has finished executing.\u001b[0m\u001b[0;34m\u001b[0m\u001b[0;34m\u001b[0m\u001b[0;34m\u001b[0m\u001b[0m\n",
      "\u001b[0;32m~/anaconda3/lib/python3.7/site-packages/tensorflow/python/eager/def_function.py\u001b[0m in \u001b[0;36m__call__\u001b[0;34m(self, *args, **kwds)\u001b[0m\n\u001b[1;32m    578\u001b[0m         \u001b[0mxla_context\u001b[0m\u001b[0;34m.\u001b[0m\u001b[0mExit\u001b[0m\u001b[0;34m(\u001b[0m\u001b[0;34m)\u001b[0m\u001b[0;34m\u001b[0m\u001b[0;34m\u001b[0m\u001b[0m\n\u001b[1;32m    579\u001b[0m     \u001b[0;32melse\u001b[0m\u001b[0;34m:\u001b[0m\u001b[0;34m\u001b[0m\u001b[0;34m\u001b[0m\u001b[0m\n\u001b[0;32m--> 580\u001b[0;31m       \u001b[0mresult\u001b[0m \u001b[0;34m=\u001b[0m \u001b[0mself\u001b[0m\u001b[0;34m.\u001b[0m\u001b[0m_call\u001b[0m\u001b[0;34m(\u001b[0m\u001b[0;34m*\u001b[0m\u001b[0margs\u001b[0m\u001b[0;34m,\u001b[0m \u001b[0;34m**\u001b[0m\u001b[0mkwds\u001b[0m\u001b[0;34m)\u001b[0m\u001b[0;34m\u001b[0m\u001b[0;34m\u001b[0m\u001b[0m\n\u001b[0m\u001b[1;32m    581\u001b[0m \u001b[0;34m\u001b[0m\u001b[0m\n\u001b[1;32m    582\u001b[0m     \u001b[0;32mif\u001b[0m \u001b[0mtracing_count\u001b[0m \u001b[0;34m==\u001b[0m \u001b[0mself\u001b[0m\u001b[0;34m.\u001b[0m\u001b[0m_get_tracing_count\u001b[0m\u001b[0;34m(\u001b[0m\u001b[0;34m)\u001b[0m\u001b[0;34m:\u001b[0m\u001b[0;34m\u001b[0m\u001b[0;34m\u001b[0m\u001b[0m\n",
      "\u001b[0;32m~/anaconda3/lib/python3.7/site-packages/tensorflow/python/eager/def_function.py\u001b[0m in \u001b[0;36m_call\u001b[0;34m(self, *args, **kwds)\u001b[0m\n\u001b[1;32m    609\u001b[0m       \u001b[0;31m# In this case we have created variables on the first call, so we run the\u001b[0m\u001b[0;34m\u001b[0m\u001b[0;34m\u001b[0m\u001b[0;34m\u001b[0m\u001b[0m\n\u001b[1;32m    610\u001b[0m       \u001b[0;31m# defunned version which is guaranteed to never create variables.\u001b[0m\u001b[0;34m\u001b[0m\u001b[0;34m\u001b[0m\u001b[0;34m\u001b[0m\u001b[0m\n\u001b[0;32m--> 611\u001b[0;31m       \u001b[0;32mreturn\u001b[0m \u001b[0mself\u001b[0m\u001b[0;34m.\u001b[0m\u001b[0m_stateless_fn\u001b[0m\u001b[0;34m(\u001b[0m\u001b[0;34m*\u001b[0m\u001b[0margs\u001b[0m\u001b[0;34m,\u001b[0m \u001b[0;34m**\u001b[0m\u001b[0mkwds\u001b[0m\u001b[0;34m)\u001b[0m  \u001b[0;31m# pylint: disable=not-callable\u001b[0m\u001b[0;34m\u001b[0m\u001b[0;34m\u001b[0m\u001b[0m\n\u001b[0m\u001b[1;32m    612\u001b[0m     \u001b[0;32melif\u001b[0m \u001b[0mself\u001b[0m\u001b[0;34m.\u001b[0m\u001b[0m_stateful_fn\u001b[0m \u001b[0;32mis\u001b[0m \u001b[0;32mnot\u001b[0m \u001b[0;32mNone\u001b[0m\u001b[0;34m:\u001b[0m\u001b[0;34m\u001b[0m\u001b[0;34m\u001b[0m\u001b[0m\n\u001b[1;32m    613\u001b[0m       \u001b[0;31m# Release the lock early so that multiple threads can perform the call\u001b[0m\u001b[0;34m\u001b[0m\u001b[0;34m\u001b[0m\u001b[0;34m\u001b[0m\u001b[0m\n",
      "\u001b[0;32m~/anaconda3/lib/python3.7/site-packages/tensorflow/python/eager/function.py\u001b[0m in \u001b[0;36m__call__\u001b[0;34m(self, *args, **kwargs)\u001b[0m\n\u001b[1;32m   2418\u001b[0m     \u001b[0;32mwith\u001b[0m \u001b[0mself\u001b[0m\u001b[0;34m.\u001b[0m\u001b[0m_lock\u001b[0m\u001b[0;34m:\u001b[0m\u001b[0;34m\u001b[0m\u001b[0;34m\u001b[0m\u001b[0m\n\u001b[1;32m   2419\u001b[0m       \u001b[0mgraph_function\u001b[0m\u001b[0;34m,\u001b[0m \u001b[0margs\u001b[0m\u001b[0;34m,\u001b[0m \u001b[0mkwargs\u001b[0m \u001b[0;34m=\u001b[0m \u001b[0mself\u001b[0m\u001b[0;34m.\u001b[0m\u001b[0m_maybe_define_function\u001b[0m\u001b[0;34m(\u001b[0m\u001b[0margs\u001b[0m\u001b[0;34m,\u001b[0m \u001b[0mkwargs\u001b[0m\u001b[0;34m)\u001b[0m\u001b[0;34m\u001b[0m\u001b[0;34m\u001b[0m\u001b[0m\n\u001b[0;32m-> 2420\u001b[0;31m     \u001b[0;32mreturn\u001b[0m \u001b[0mgraph_function\u001b[0m\u001b[0;34m.\u001b[0m\u001b[0m_filtered_call\u001b[0m\u001b[0;34m(\u001b[0m\u001b[0margs\u001b[0m\u001b[0;34m,\u001b[0m \u001b[0mkwargs\u001b[0m\u001b[0;34m)\u001b[0m  \u001b[0;31m# pylint: disable=protected-access\u001b[0m\u001b[0;34m\u001b[0m\u001b[0;34m\u001b[0m\u001b[0m\n\u001b[0m\u001b[1;32m   2421\u001b[0m \u001b[0;34m\u001b[0m\u001b[0m\n\u001b[1;32m   2422\u001b[0m   \u001b[0;34m@\u001b[0m\u001b[0mproperty\u001b[0m\u001b[0;34m\u001b[0m\u001b[0;34m\u001b[0m\u001b[0m\n",
      "\u001b[0;32m~/anaconda3/lib/python3.7/site-packages/tensorflow/python/eager/function.py\u001b[0m in \u001b[0;36m_filtered_call\u001b[0;34m(self, args, kwargs)\u001b[0m\n\u001b[1;32m   1663\u001b[0m          if isinstance(t, (ops.Tensor,\n\u001b[1;32m   1664\u001b[0m                            resource_variable_ops.BaseResourceVariable))),\n\u001b[0;32m-> 1665\u001b[0;31m         self.captured_inputs)\n\u001b[0m\u001b[1;32m   1666\u001b[0m \u001b[0;34m\u001b[0m\u001b[0m\n\u001b[1;32m   1667\u001b[0m   \u001b[0;32mdef\u001b[0m \u001b[0m_call_flat\u001b[0m\u001b[0;34m(\u001b[0m\u001b[0mself\u001b[0m\u001b[0;34m,\u001b[0m \u001b[0margs\u001b[0m\u001b[0;34m,\u001b[0m \u001b[0mcaptured_inputs\u001b[0m\u001b[0;34m,\u001b[0m \u001b[0mcancellation_manager\u001b[0m\u001b[0;34m=\u001b[0m\u001b[0;32mNone\u001b[0m\u001b[0;34m)\u001b[0m\u001b[0;34m:\u001b[0m\u001b[0;34m\u001b[0m\u001b[0;34m\u001b[0m\u001b[0m\n",
      "\u001b[0;32m~/anaconda3/lib/python3.7/site-packages/tensorflow/python/eager/function.py\u001b[0m in \u001b[0;36m_call_flat\u001b[0;34m(self, args, captured_inputs, cancellation_manager)\u001b[0m\n\u001b[1;32m   1744\u001b[0m       \u001b[0;31m# No tape is watching; skip to running the function.\u001b[0m\u001b[0;34m\u001b[0m\u001b[0;34m\u001b[0m\u001b[0;34m\u001b[0m\u001b[0m\n\u001b[1;32m   1745\u001b[0m       return self._build_call_outputs(self._inference_function.call(\n\u001b[0;32m-> 1746\u001b[0;31m           ctx, args, cancellation_manager=cancellation_manager))\n\u001b[0m\u001b[1;32m   1747\u001b[0m     forward_backward = self._select_forward_and_backward_functions(\n\u001b[1;32m   1748\u001b[0m         \u001b[0margs\u001b[0m\u001b[0;34m,\u001b[0m\u001b[0;34m\u001b[0m\u001b[0;34m\u001b[0m\u001b[0m\n",
      "\u001b[0;32m~/anaconda3/lib/python3.7/site-packages/tensorflow/python/eager/function.py\u001b[0m in \u001b[0;36mcall\u001b[0;34m(self, ctx, args, cancellation_manager)\u001b[0m\n\u001b[1;32m    596\u001b[0m               \u001b[0minputs\u001b[0m\u001b[0;34m=\u001b[0m\u001b[0margs\u001b[0m\u001b[0;34m,\u001b[0m\u001b[0;34m\u001b[0m\u001b[0;34m\u001b[0m\u001b[0m\n\u001b[1;32m    597\u001b[0m               \u001b[0mattrs\u001b[0m\u001b[0;34m=\u001b[0m\u001b[0mattrs\u001b[0m\u001b[0;34m,\u001b[0m\u001b[0;34m\u001b[0m\u001b[0;34m\u001b[0m\u001b[0m\n\u001b[0;32m--> 598\u001b[0;31m               ctx=ctx)\n\u001b[0m\u001b[1;32m    599\u001b[0m         \u001b[0;32melse\u001b[0m\u001b[0;34m:\u001b[0m\u001b[0;34m\u001b[0m\u001b[0;34m\u001b[0m\u001b[0m\n\u001b[1;32m    600\u001b[0m           outputs = execute.execute_with_cancellation(\n",
      "\u001b[0;32m~/anaconda3/lib/python3.7/site-packages/tensorflow/python/eager/execute.py\u001b[0m in \u001b[0;36mquick_execute\u001b[0;34m(op_name, num_outputs, inputs, attrs, ctx, name)\u001b[0m\n\u001b[1;32m     58\u001b[0m     \u001b[0mctx\u001b[0m\u001b[0;34m.\u001b[0m\u001b[0mensure_initialized\u001b[0m\u001b[0;34m(\u001b[0m\u001b[0;34m)\u001b[0m\u001b[0;34m\u001b[0m\u001b[0;34m\u001b[0m\u001b[0m\n\u001b[1;32m     59\u001b[0m     tensors = pywrap_tfe.TFE_Py_Execute(ctx._handle, device_name, op_name,\n\u001b[0;32m---> 60\u001b[0;31m                                         inputs, attrs, num_outputs)\n\u001b[0m\u001b[1;32m     61\u001b[0m   \u001b[0;32mexcept\u001b[0m \u001b[0mcore\u001b[0m\u001b[0;34m.\u001b[0m\u001b[0m_NotOkStatusException\u001b[0m \u001b[0;32mas\u001b[0m \u001b[0me\u001b[0m\u001b[0;34m:\u001b[0m\u001b[0;34m\u001b[0m\u001b[0;34m\u001b[0m\u001b[0m\n\u001b[1;32m     62\u001b[0m     \u001b[0;32mif\u001b[0m \u001b[0mname\u001b[0m \u001b[0;32mis\u001b[0m \u001b[0;32mnot\u001b[0m \u001b[0;32mNone\u001b[0m\u001b[0;34m:\u001b[0m\u001b[0;34m\u001b[0m\u001b[0;34m\u001b[0m\u001b[0m\n",
      "\u001b[0;31mKeyboardInterrupt\u001b[0m: "
     ]
    }
   ],
   "source": [
    "model.fit(x_train, y_train, batch_size=10, validation_data = valid_set, epochs=30, callbacks=[callback], shuffle=True, verbose=2)"
   ]
  },
  {
   "cell_type": "code",
   "execution_count": 78,
   "metadata": {},
   "outputs": [
    {
     "data": {
      "text/plain": [
       "'sparse_categorical_crossentropy'"
      ]
     },
     "execution_count": 78,
     "metadata": {},
     "output_type": "execute_result"
    }
   ],
   "source": [
    "model.loss"
   ]
  },
  {
   "cell_type": "code",
   "execution_count": 79,
   "metadata": {},
   "outputs": [],
   "source": [
    "pred = model.predict_classes(x_test2)"
   ]
  },
  {
   "cell_type": "code",
   "execution_count": 80,
   "metadata": {},
   "outputs": [],
   "source": [
    "#Features_enc.reshape(38312, 48, 1).shape"
   ]
  },
  {
   "cell_type": "code",
   "execution_count": 81,
   "metadata": {},
   "outputs": [],
   "source": [
    "predictions = model.predict(test_enc, batch_size=10, verbose=0)"
   ]
  },
  {
   "cell_type": "code",
   "execution_count": 82,
   "metadata": {},
   "outputs": [
    {
     "data": {
      "text/plain": [
       "array([[5.5445683e-01, 8.7758899e-04],\n",
       "       [3.6999291e-01, 2.6103258e-03],\n",
       "       [5.5075854e-01, 1.1201799e-03],\n",
       "       [5.1290214e-01, 1.0842681e-03],\n",
       "       [1.6052684e-01, 2.2913039e-02],\n",
       "       [1.6448212e-01, 2.7233869e-02],\n",
       "       [1.6959473e-01, 2.9939324e-02],\n",
       "       [3.9273870e-01, 2.8153360e-03],\n",
       "       [1.8527496e-01, 5.4462880e-02],\n",
       "       [4.1220760e-01, 1.9690990e-03],\n",
       "       [5.3845000e-01, 1.0144413e-03],\n",
       "       [5.5897880e-01, 8.6322427e-04],\n",
       "       [1.5857083e-01, 3.7951171e-02],\n",
       "       [3.4828404e-01, 2.6604235e-03],\n",
       "       [2.1094906e-01, 3.4309506e-02],\n",
       "       [1.8961650e-01, 1.3693392e-02],\n",
       "       [4.2969659e-01, 2.4564862e-03],\n",
       "       [2.1924081e-01, 3.4502119e-02],\n",
       "       [4.5811903e-01, 1.7595589e-03],\n",
       "       [2.4947292e-01, 4.1102886e-02],\n",
       "       [1.9057283e-01, 1.9019961e-02],\n",
       "       [4.1576865e-01, 1.9321740e-03],\n",
       "       [2.2000879e-01, 2.4123728e-02],\n",
       "       [5.1817006e-01, 1.0443121e-01],\n",
       "       [1.7629999e-01, 5.7588309e-02],\n",
       "       [1.4461514e-01, 2.8062791e-02],\n",
       "       [1.1891076e-01, 1.8002748e-02],\n",
       "       [4.1809025e-01, 1.8373430e-03],\n",
       "       [5.6295091e-01, 1.0565817e-03],\n",
       "       [5.1666176e-01, 1.0217726e-03],\n",
       "       [3.6354867e-01, 5.0199032e-03],\n",
       "       [1.8738231e-01, 3.9502621e-02],\n",
       "       [1.4781892e-01, 4.4693172e-02],\n",
       "       [1.9956431e-01, 3.4098744e-02],\n",
       "       [1.3425112e-01, 4.9661934e-02],\n",
       "       [4.9517190e-01, 1.1779964e-03],\n",
       "       [3.0562282e-04, 9.8845297e-01],\n",
       "       [1.6356018e-01, 4.3221891e-02],\n",
       "       [1.8748844e-01, 2.3613960e-02],\n",
       "       [1.6878724e-01, 3.0396670e-02],\n",
       "       [5.2496421e-01, 1.0332465e-03],\n",
       "       [4.9459070e-01, 1.3535917e-03],\n",
       "       [5.3929633e-01, 8.8700652e-04],\n",
       "       [3.4755796e-02, 1.7297712e-01],\n",
       "       [3.1625754e-01, 3.3485293e-03],\n",
       "       [5.6835860e-01, 8.0808997e-04],\n",
       "       [2.1195626e-01, 4.2865753e-02],\n",
       "       [1.9828352e-01, 3.8692534e-02],\n",
       "       [4.8017830e-01, 1.3034046e-03],\n",
       "       [5.6405407e-01, 7.8755617e-04],\n",
       "       [4.0398675e-01, 2.2133887e-03],\n",
       "       [5.4986304e-01, 7.9306960e-04],\n",
       "       [4.0076923e-01, 2.0530522e-03],\n",
       "       [1.7004111e-01, 1.0222346e-02],\n",
       "       [3.6821902e-01, 3.3818185e-03],\n",
       "       [5.5945373e-01, 8.3318353e-04],\n",
       "       [3.7782764e-01, 2.1493733e-03],\n",
       "       [4.0897483e-01, 2.3030341e-03],\n",
       "       [4.4059303e-01, 2.5319755e-03],\n",
       "       [1.8231785e-01, 2.6035070e-02],\n",
       "       [3.0702621e-01, 9.8784864e-03],\n",
       "       [2.0273933e-01, 2.6326895e-02],\n",
       "       [1.5441260e-01, 2.0545095e-02],\n",
       "       [1.7537469e-01, 2.4857372e-02],\n",
       "       [4.8604441e-01, 1.2736753e-01],\n",
       "       [4.2531997e-01, 1.6901791e-03],\n",
       "       [1.7998344e-01, 1.2339264e-02],\n",
       "       [2.3828250e-01, 6.8249702e-03],\n",
       "       [1.9952536e-01, 2.8818548e-02],\n",
       "       [1.9424358e-01, 4.2400122e-02],\n",
       "       [1.4783391e-01, 4.7440171e-02],\n",
       "       [6.1130369e-01, 5.7554245e-04],\n",
       "       [5.9319031e-01, 6.5106153e-04],\n",
       "       [3.1435513e-01, 3.8041174e-03],\n",
       "       [4.5119175e-01, 1.7613173e-03],\n",
       "       [1.3798445e-01, 2.8109163e-02],\n",
       "       [4.1704097e-01, 1.6461313e-03],\n",
       "       [5.5838001e-01, 8.4748864e-04],\n",
       "       [5.7745528e-01, 7.8523159e-04],\n",
       "       [3.1817150e-01, 8.7556839e-03],\n",
       "       [5.2612025e-01, 1.2154579e-03],\n",
       "       [1.7748639e-01, 2.8196990e-02],\n",
       "       [4.3470055e-01, 2.1137893e-03],\n",
       "       [5.4258978e-01, 9.5999241e-04],\n",
       "       [5.2891374e-01, 1.0581017e-03],\n",
       "       [5.4778475e-01, 9.2324615e-04],\n",
       "       [5.4012215e-01, 1.0458529e-03],\n",
       "       [5.4007310e-01, 9.3430281e-04],\n",
       "       [3.2345206e-01, 3.5899282e-03],\n",
       "       [4.7121435e-01, 1.3886988e-03],\n",
       "       [1.7718077e-03, 7.8327608e-01],\n",
       "       [1.7699414e-01, 3.2653183e-02],\n",
       "       [1.1941931e-01, 2.9297352e-02],\n",
       "       [5.4778725e-01, 1.0041893e-03],\n",
       "       [5.0716817e-01, 1.1439919e-03],\n",
       "       [5.6015879e-01, 8.1542134e-04],\n",
       "       [1.7379269e-01, 3.9842129e-02],\n",
       "       [2.8969705e-01, 4.1748285e-03],\n",
       "       [1.8037233e-01, 3.4340262e-02],\n",
       "       [5.6888652e-01, 7.6344609e-04],\n",
       "       [5.1966107e-01, 1.0813177e-03],\n",
       "       [2.9989356e-01, 3.0792952e-03],\n",
       "       [5.4957926e-01, 9.4798207e-04],\n",
       "       [1.5662777e-01, 2.2100061e-02],\n",
       "       [4.8517311e-01, 1.6618669e-03],\n",
       "       [1.4906615e-01, 2.2901863e-02],\n",
       "       [4.6532226e-01, 1.5454292e-03],\n",
       "       [2.0087624e-01, 4.7173679e-02],\n",
       "       [5.2779651e-01, 9.7346306e-04],\n",
       "       [1.6260764e-01, 2.1980137e-02],\n",
       "       [1.0719797e-01, 8.0718040e-02],\n",
       "       [5.8106822e-01, 7.2798133e-04],\n",
       "       [5.7549846e-01, 8.1378222e-04],\n",
       "       [3.9881396e-01, 1.6968846e-03],\n",
       "       [5.0486076e-01, 1.1996925e-03],\n",
       "       [9.5918864e-02, 3.2269239e-02],\n",
       "       [5.2440095e-01, 1.0168552e-03],\n",
       "       [2.7451891e-01, 7.1866810e-03],\n",
       "       [5.3982919e-01, 8.8730454e-04],\n",
       "       [4.8465931e-01, 1.1983812e-03],\n",
       "       [1.2310347e-01, 2.9528290e-02],\n",
       "       [5.8744103e-01, 6.4304471e-04],\n",
       "       [1.5009427e-01, 2.4776846e-02],\n",
       "       [4.3997580e-01, 1.7122030e-03],\n",
       "       [4.7356802e-01, 1.3754964e-03],\n",
       "       [3.0610102e-01, 4.8454106e-03],\n",
       "       [1.6406184e-01, 1.6231060e-02],\n",
       "       [4.9872431e-01, 1.1925995e-03],\n",
       "       [2.2606966e-01, 1.3668984e-02],\n",
       "       [5.6551421e-01, 8.5005164e-04],\n",
       "       [5.4307944e-01, 9.6857548e-04],\n",
       "       [5.5951661e-01, 8.2775950e-04],\n",
       "       [4.0454355e-01, 1.1427367e-01],\n",
       "       [5.2877063e-01, 9.5710158e-04],\n",
       "       [5.3802699e-02, 4.4789672e-02],\n",
       "       [4.9371684e-01, 1.4132261e-03],\n",
       "       [1.6265717e-01, 2.9659480e-02],\n",
       "       [2.3313415e-01, 3.5548270e-02],\n",
       "       [2.7991384e-01, 3.7918687e-03],\n",
       "       [5.4830432e-01, 9.5725060e-04],\n",
       "       [1.5985909e-01, 1.0533303e-02],\n",
       "       [1.4682510e-01, 1.8518925e-02],\n",
       "       [2.3066816e-01, 4.1581601e-02],\n",
       "       [5.3649938e-01, 9.5045567e-04],\n",
       "       [2.0496613e-01, 3.3689260e-02],\n",
       "       [5.5844396e-01, 9.9119544e-04],\n",
       "       [5.1943862e-01, 1.2061298e-03],\n",
       "       [8.1604719e-04, 8.9305937e-01],\n",
       "       [1.5322450e-01, 3.7468046e-02],\n",
       "       [1.3575566e-01, 3.0968696e-02],\n",
       "       [5.6464761e-01, 8.5517764e-04],\n",
       "       [4.9051487e-01, 1.2929738e-03],\n",
       "       [1.6622296e-01, 1.4831156e-02],\n",
       "       [5.2515578e-01, 1.0808408e-03],\n",
       "       [4.0159407e-01, 1.8399060e-03],\n",
       "       [5.0571680e-01, 1.2203753e-03],\n",
       "       [2.6945227e-01, 5.2059293e-03],\n",
       "       [1.7532623e-01, 2.8722584e-02],\n",
       "       [2.0988822e-02, 2.2279221e-01],\n",
       "       [4.2723775e-01, 1.8350780e-03],\n",
       "       [1.5742806e-01, 4.3869317e-02],\n",
       "       [9.0995133e-03, 2.4433672e-01],\n",
       "       [2.2896153e-01, 3.4487545e-02],\n",
       "       [1.4554533e-01, 5.2213341e-02],\n",
       "       [1.4206767e-03, 9.7547621e-01],\n",
       "       [1.9207737e-01, 3.6198497e-02],\n",
       "       [1.7645326e-01, 3.0831128e-02],\n",
       "       [1.4184317e-01, 2.8523564e-02],\n",
       "       [4.3982112e-01, 1.6207695e-03],\n",
       "       [5.8457667e-01, 6.9367886e-04],\n",
       "       [5.5648959e-01, 1.0209382e-03],\n",
       "       [5.4587483e-01, 1.0762215e-03],\n",
       "       [3.2787424e-01, 2.2659302e-03],\n",
       "       [5.2028471e-01, 1.3602972e-03],\n",
       "       [5.2802920e-01, 1.1233687e-03],\n",
       "       [2.2245419e-01, 2.9909372e-02],\n",
       "       [8.2659721e-04, 9.3965101e-01],\n",
       "       [2.8210723e-01, 4.2897463e-03],\n",
       "       [5.8925676e-01, 7.4604154e-04],\n",
       "       [1.7409989e-01, 1.7341375e-02],\n",
       "       [4.7309831e-01, 9.8743886e-02],\n",
       "       [5.4474294e-01, 1.0048747e-03],\n",
       "       [4.8345789e-01, 1.3622642e-03],\n",
       "       [1.3712227e-01, 2.3350686e-02],\n",
       "       [3.5089865e-01, 3.1160116e-03],\n",
       "       [1.3526979e-01, 1.8343776e-02],\n",
       "       [2.0726782e-01, 3.6737204e-02],\n",
       "       [3.9628160e-01, 3.2816827e-03],\n",
       "       [1.8756455e-01, 2.7003437e-02],\n",
       "       [5.1260132e-01, 1.0516644e-03],\n",
       "       [1.6457704e-01, 3.6508292e-02],\n",
       "       [4.5400381e-01, 1.4562905e-03],\n",
       "       [4.8116010e-01, 1.2414455e-03],\n",
       "       [5.4830921e-01, 9.3689561e-04],\n",
       "       [5.7488471e-01, 7.2535872e-04],\n",
       "       [4.5600080e-01, 1.4222264e-03],\n",
       "       [2.0040601e-01, 2.8704733e-02],\n",
       "       [3.8409483e-01, 3.1204224e-03],\n",
       "       [4.9720553e-01, 8.3735228e-02],\n",
       "       [1.8489513e-01, 4.2502314e-02]], dtype=float32)"
      ]
     },
     "execution_count": 82,
     "metadata": {},
     "output_type": "execute_result"
    }
   ],
   "source": [
    "predictions[:200]"
   ]
  },
  {
   "cell_type": "code",
   "execution_count": 83,
   "metadata": {},
   "outputs": [],
   "source": [
    "preds = model.predict_classes(test_enc, batch_size=10, verbose=0)"
   ]
  },
  {
   "cell_type": "code",
   "execution_count": 84,
   "metadata": {},
   "outputs": [
    {
     "data": {
      "text/plain": [
       "array([0, 0, 0, 0, 0, 0, 0, 0, 0, 0, 0, 0, 0, 0, 0, 0, 0, 0, 0, 0, 0, 0,\n",
       "       0, 0, 0, 0, 0, 0, 0, 0, 0, 0, 0, 0, 0, 0, 1, 0, 0, 0, 0, 0, 0, 1,\n",
       "       0, 0, 0, 0, 0, 0, 0, 0, 0, 0, 0, 0, 0, 0, 0, 0, 0, 0, 0, 0, 0, 0,\n",
       "       0, 0, 0, 0, 0, 0, 0, 0, 0, 0, 0, 0, 0, 0, 0, 0, 0, 0, 0, 0, 0, 0,\n",
       "       0, 0, 1, 0, 0, 0, 0, 0, 0, 0, 0, 0, 0, 0, 0, 0, 0, 0, 0, 0, 0, 0,\n",
       "       0, 0, 0, 0, 0, 0, 0, 0, 0, 0, 0, 0, 0, 0, 0, 0, 0, 0, 0, 0, 0, 0,\n",
       "       0, 0, 0, 0, 0, 0, 0, 0, 0, 0, 0, 0, 0, 0, 0, 1, 0, 0, 0, 0, 0, 0,\n",
       "       0, 0, 0, 0, 1, 0, 0, 1, 0, 0, 1, 0, 0, 0, 0, 0, 0, 0, 0, 0, 0, 0,\n",
       "       1, 0, 0, 0, 0, 0, 0, 0, 0, 0, 0, 0, 0, 0, 0, 0, 0, 0, 0, 0, 0, 0,\n",
       "       0, 0])"
      ]
     },
     "execution_count": 84,
     "metadata": {},
     "output_type": "execute_result"
    }
   ],
   "source": [
    "preds[:200]"
   ]
  },
  {
   "cell_type": "code",
   "execution_count": 85,
   "metadata": {},
   "outputs": [
    {
     "data": {
      "text/plain": [
       "array([0, 1])"
      ]
     },
     "execution_count": 85,
     "metadata": {},
     "output_type": "execute_result"
    }
   ],
   "source": [
    "np.unique(preds)"
   ]
  },
  {
   "cell_type": "code",
   "execution_count": 86,
   "metadata": {},
   "outputs": [
    {
     "data": {
      "text/plain": [
       "array([[5224,  342],\n",
       "       [  15,  166]])"
      ]
     },
     "execution_count": 86,
     "metadata": {},
     "output_type": "execute_result"
    }
   ],
   "source": [
    "confusion_matrix(pred, y_test2)"
   ]
  },
  {
   "cell_type": "code",
   "execution_count": 87,
   "metadata": {},
   "outputs": [
    {
     "data": {
      "text/plain": [
       "0.9378806333739342"
      ]
     },
     "execution_count": 87,
     "metadata": {},
     "output_type": "execute_result"
    }
   ],
   "source": [
    "accuracy_score(pred, y_test2)"
   ]
  },
  {
   "cell_type": "code",
   "execution_count": null,
   "metadata": {},
   "outputs": [],
   "source": [
    "from keras.wrappers.scikit_learn import KerasRegressor"
   ]
  }
 ],
 "metadata": {
  "kernelspec": {
   "display_name": "Python 3",
   "language": "python",
   "name": "python3"
  },
  "language_info": {
   "codemirror_mode": {
    "name": "ipython",
    "version": 3
   },
   "file_extension": ".py",
   "mimetype": "text/x-python",
   "name": "python",
   "nbconvert_exporter": "python",
   "pygments_lexer": "ipython3",
   "version": "3.7.6"
  }
 },
 "nbformat": 4,
 "nbformat_minor": 4
}
